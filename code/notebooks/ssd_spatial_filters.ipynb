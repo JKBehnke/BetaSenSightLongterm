{
  "cells": [
    {
      "cell_type": "code",
      "execution_count": 1,
      "metadata": {
        "collapsed": false
      },
      "outputs": [],
      "source": [
        "%matplotlib inline"
      ]
    },
    {
      "cell_type": "markdown",
      "metadata": {},
      "source": [
        "\n",
        "\n",
        "# Compute Spectro-Spatial Decomposition (SSD) spatial filters\n",
        "\n",
        "In this example, we will compute spatial filters for retaining\n",
        "oscillatory brain activity and down-weighting 1/f background signals\n",
        "as proposed by :footcite:`NikulinEtAl2011`.\n",
        "The idea is to learn spatial filters that separate oscillatory dynamics\n",
        "from surrounding non-oscillatory noise based on the covariance in the\n",
        "frequency band of interest and the noise covariance based on surrounding\n",
        "frequencies.\n"
      ]
    },
    {
      "cell_type": "code",
      "execution_count": null,
      "metadata": {
        "collapsed": false
      },
      "outputs": [],
      "source": [
        "# Author: Denis A. Engemann <denis.engemann@gmail.com>\n",
        "#         Victoria Peterson <victoriapeterson09@gmail.com>\n",
        "# License: BSD-3-Clause"
      ]
    },
    {
      "cell_type": "code",
      "execution_count": 2,
      "metadata": {
        "collapsed": false
      },
      "outputs": [],
      "source": [
        "import matplotlib.pyplot as plt\n",
        "import mne\n",
        "from mne import Epochs\n",
        "from mne.datasets.fieldtrip_cmc import data_path\n",
        "from mne.decoding import SSD"
      ]
    },
    {
      "cell_type": "markdown",
      "metadata": {},
      "source": [
        "Define parameters\n",
        "\n"
      ]
    },
    {
      "cell_type": "code",
      "execution_count": null,
      "metadata": {
        "collapsed": false
      },
      "outputs": [],
      "source": [
        "fname = data_path() / 'SubjectCMC.ds'\n",
        "\n",
        "# Prepare data\n",
        "raw = mne.io.read_raw_ctf(fname)\n",
        "raw.crop(50., 110.).load_data()  # crop for memory purposes\n",
        "raw.resample(sfreq=250)\n",
        "\n",
        "raw.pick_types(meg=True, eeg=False, ref_meg=False)\n",
        "\n",
        "freqs_sig = 9, 12\n",
        "freqs_noise = 8, 13\n",
        "\n",
        "\n",
        "ssd = SSD(info=raw.info,\n",
        "          reg='oas',\n",
        "          sort_by_spectral_ratio=False,  # False for purpose of example.\n",
        "          filt_params_signal=dict(l_freq=freqs_sig[0], h_freq=freqs_sig[1],\n",
        "                                  l_trans_bandwidth=1, h_trans_bandwidth=1),\n",
        "          filt_params_noise=dict(l_freq=freqs_noise[0], h_freq=freqs_noise[1],\n",
        "                                 l_trans_bandwidth=1, h_trans_bandwidth=1))\n",
        "ssd.fit(X=raw.get_data())"
      ]
    },
    {
      "cell_type": "markdown",
      "metadata": {},
      "source": [
        "Let's investigate spatial filter with max power ratio.\n",
        "We will first inspect the topographies.\n",
        "According to Nikulin et al. 2011 this is done by either inverting the filters\n",
        "(W^{-1}) or by multiplying the noise cov with the filters Eq. (22) (C_n W)^t.\n",
        "We rely on the inversion approach here.\n",
        "\n"
      ]
    },
    {
      "cell_type": "code",
      "execution_count": null,
      "metadata": {
        "collapsed": false
      },
      "outputs": [],
      "source": [
        "pattern = mne.EvokedArray(data=ssd.patterns_[:4].T,\n",
        "                          info=ssd.info)\n",
        "pattern.plot_topomap(units=dict(mag='A.U.'), time_format='')\n",
        "\n",
        "# The topographies suggest that we picked up a parietal alpha generator.\n",
        "\n",
        "# Transform\n",
        "ssd_sources = ssd.transform(X=raw.get_data())\n",
        "\n",
        "# Get psd of SSD-filtered signals.\n",
        "psd, freqs = mne.time_frequency.psd_array_welch(\n",
        "    ssd_sources, sfreq=raw.info['sfreq'], n_fft=4096)\n",
        "\n",
        "# Get spec_ratio information (already sorted).\n",
        "# Note that this is not necessary if sort_by_spectral_ratio=True (default).\n",
        "spec_ratio, sorter = ssd.get_spectral_ratio(ssd_sources)\n",
        "\n",
        "# Plot spectral ratio (see Eq. 24 in Nikulin 2011).\n",
        "fig, ax = plt.subplots(1)\n",
        "ax.plot(spec_ratio, color='black')\n",
        "ax.plot(spec_ratio[sorter], color='orange', label='sorted eigenvalues')\n",
        "ax.set_xlabel(\"Eigenvalue Index\")\n",
        "ax.set_ylabel(r\"Spectral Ratio $\\frac{P_f}{P_{sf}}$\")\n",
        "ax.legend()\n",
        "ax.axhline(1, linestyle='--')\n",
        "\n",
        "# We can see that the initial sorting based on the eigenvalues\n",
        "# was already quite good. However, when using few components only\n",
        "# the sorting might make a difference."
      ]
    },
    {
      "cell_type": "markdown",
      "metadata": {},
      "source": [
        "Let's also look at the power spectrum of that source and compare it to\n",
        "to the power spectrum of the source with lowest SNR.\n",
        "\n"
      ]
    },
    {
      "cell_type": "code",
      "execution_count": null,
      "metadata": {
        "collapsed": false
      },
      "outputs": [],
      "source": [
        "below50 = freqs < 50\n",
        "# for highlighting the freq. band of interest\n",
        "bandfilt = (freqs_sig[0] <= freqs) & (freqs <= freqs_sig[1])\n",
        "fig, ax = plt.subplots(1)\n",
        "ax.loglog(freqs[below50], psd[0, below50], label='max SNR')\n",
        "ax.loglog(freqs[below50], psd[-1, below50], label='min SNR')\n",
        "ax.loglog(freqs[below50], psd[:, below50].mean(axis=0), label='mean')\n",
        "ax.fill_between(freqs[bandfilt], 0, 10000, color='green', alpha=0.15)\n",
        "ax.set_xlabel('log(frequency)')\n",
        "ax.set_ylabel('log(power)')\n",
        "ax.legend()\n",
        "\n",
        "# We can clearly see that the selected component enjoys an SNR that is\n",
        "# way above the average power spectrum."
      ]
    },
    {
      "cell_type": "markdown",
      "metadata": {},
      "source": [
        "## Epoched data\n",
        "Although we suggest to use this method before epoching, there might be some\n",
        "situations in which data can only be treated by chunks.\n",
        "\n"
      ]
    },
    {
      "cell_type": "code",
      "execution_count": null,
      "metadata": {
        "collapsed": false
      },
      "outputs": [],
      "source": [
        "# Build epochs as sliding windows over the continuous raw file.\n",
        "events = mne.make_fixed_length_events(raw, id=1, duration=5.0, overlap=0.0)\n",
        "\n",
        "# Epoch length is 5 seconds.\n",
        "epochs = Epochs(raw, events, tmin=0., tmax=5,\n",
        "                baseline=None, preload=True)\n",
        "\n",
        "ssd_epochs = SSD(info=epochs.info,\n",
        "                 reg='oas',\n",
        "                 filt_params_signal=dict(l_freq=freqs_sig[0],\n",
        "                                         h_freq=freqs_sig[1],\n",
        "                                         l_trans_bandwidth=1,\n",
        "                                         h_trans_bandwidth=1),\n",
        "                 filt_params_noise=dict(l_freq=freqs_noise[0],\n",
        "                                        h_freq=freqs_noise[1],\n",
        "                                        l_trans_bandwidth=1,\n",
        "                                        h_trans_bandwidth=1))\n",
        "ssd_epochs.fit(X=epochs.get_data())\n",
        "\n",
        "# Plot topographies.\n",
        "pattern_epochs = mne.EvokedArray(data=ssd_epochs.patterns_[:4].T,\n",
        "                                 info=ssd_epochs.info)\n",
        "pattern_epochs.plot_topomap(units=dict(mag='A.U.'), time_format='')"
      ]
    },
    {
      "cell_type": "markdown",
      "metadata": {},
      "source": [
        "## References\n",
        "\n",
        ".. footbibliography::\n",
        "\n"
      ]
    }
  ],
  "metadata": {
    "kernelspec": {
      "display_name": "Python 3",
      "language": "python",
      "name": "python3"
    },
    "language_info": {
      "codemirror_mode": {
        "name": "ipython",
        "version": 3
      },
      "file_extension": ".py",
      "mimetype": "text/x-python",
      "name": "python",
      "nbconvert_exporter": "python",
      "pygments_lexer": "ipython3",
      "version": "3.10.6"
    }
  },
  "nbformat": 4,
  "nbformat_minor": 0
}
