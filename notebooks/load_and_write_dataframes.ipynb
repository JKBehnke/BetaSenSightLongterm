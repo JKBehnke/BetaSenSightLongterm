{
 "cells": [
  {
   "attachments": {},
   "cell_type": "markdown",
   "metadata": {},
   "source": [
    "Import Packages"
   ]
  },
  {
   "cell_type": "code",
   "execution_count": null,
   "metadata": {},
   "outputs": [],
   "source": [
    "\n",
    "\n",
    "import os\n",
    "import sys\n",
    "import importlib\n",
    "from importlib import reload \n",
    "from dataclasses import dataclass, field, fields\n",
    "from itertools import compress\n",
    "import pandas as pd\n",
    "import numpy as np\n",
    "import matplotlib.pyplot as plt\n",
    "from cycler import cycler\n",
    "\n",
    "import scipy\n",
    "import scipy.io as sio\n",
    "from scipy import signal\n",
    "from scipy.signal import spectrogram, hann, butter, filtfilt, freqz\n",
    "from scipy import stats\n",
    "\n",
    "import seaborn as sns\n",
    "import pingouin as pg\n",
    "import itertools\n",
    "from itertools import combinations\n",
    "from statannotations.Annotator import Annotator\n",
    "import statsmodels.api as sm\n",
    "import statsmodels.formula.api as smf\n",
    "from patsy import dmatrices\n",
    "import plotly.express as px\n",
    "\n",
    "from sklearn.linear_model import LogisticRegression\n",
    "from sklearn.model_selection import train_test_split, RepeatedStratifiedKFold, GridSearchCV\n",
    "from sklearn.metrics import classification_report\n",
    "\n",
    "# import openpyxl\n",
    "# from openpyxl import Workbook, load_workbook\n",
    "# import xlrd\n",
    "import pickle\n",
    "import json\n",
    "import csv\n",
    "\n",
    "#mne\n",
    "import mne_bids\n",
    "import mne\n",
    "from mne.time_frequency import tfr_morlet \n",
    "from mne.stats import permutation_cluster_test\n",
    "\n",
    "\n",
    "# TODO: add README file: \n",
    "# pip install pingouin\n",
    "# pip install statannotations\n",
    "# pip install fooof"
   ]
  },
  {
   "cell_type": "code",
   "execution_count": null,
   "metadata": {},
   "outputs": [],
   "source": [
    "import py_perceive\n",
    "\n",
    "from py_perceive.PerceiveImport.classes import (\n",
    "    main_class, modality_class, metadata_class,\n",
    "    session_class, condition_class, task_class,\n",
    "    contact_class, run_class\n",
    ")\n",
    "import py_perceive.PerceiveImport.methods.load_rawfile as load_rawfile\n",
    "import py_perceive.PerceiveImport.methods.find_folders as find_folders\n",
    "import py_perceive.PerceiveImport.methods.metadata_helpers as metaHelpers\n",
    "\n",
    "\n",
    "importlib.reload(main_class)\n",
    "importlib.reload(session_class)\n",
    "importlib.reload(task_class)\n",
    "importlib.reload(condition_class)\n",
    "importlib.reload(contact_class)\n",
    "importlib.reload(metadata_class)\n",
    "importlib.reload(modality_class)\n",
    "importlib.reload(load_rawfile)\n",
    "importlib.reload(find_folders)\n",
    "importlib.reload(run_class)\n",
    "importlib.reload(metaHelpers)"
   ]
  },
  {
   "cell_type": "code",
   "execution_count": null,
   "metadata": {},
   "outputs": [],
   "source": [
    "#######################     USE THIS DIRECTORY FOR WORKING WITH FOLDERS INSIDE OF CODE FOLDER OF BETASENSIGHTLONGTERM REPO  #######################\n",
    "\n",
    "\n",
    "# create a path to the BetaSenSightLongterm folder \n",
    "# and a path to the code folder within the BetaSenSightLongterm Repo\n",
    "current_path = os.getcwd()\n",
    "while current_path[-8:] != 'Research':\n",
    "    current_path = os.path.dirname(current_path)\n",
    "\n",
    "# directory to code folder\n",
    "code_path = os.path.join(current_path, 'Longterm_beta_project','Code', 'meet')\n",
    "sys.path.append(code_path)\n",
    "\n",
    "# # change directory to code path within BetaSenSightLongterm Repo\n",
    "os.chdir(code_path)\n",
    "os.getcwd()\n",
    "\n",
    "import meet as meet\n",
    "#######################     USE THIS DIRECTORY FOR WORKING WITH FOLDERS INSIDE OF CODE FOLDER OF BETASENSIGHTLONGTERM REPO  #######################\n",
    "\n",
    "\n",
    "# create a path to the BetaSenSightLongterm folder \n",
    "# and a path to the code folder within the BetaSenSightLongterm Repo\n",
    "current_path = os.getcwd()\n",
    "while current_path[-8:] != 'Research':\n",
    "    current_path = os.path.dirname(current_path)\n",
    "\n",
    "# directory to code folder\n",
    "code_path = os.path.join(current_path, 'Longterm_beta_project','Code', 'BetaSenSightLongterm')\n",
    "sys.path.append(code_path)\n",
    "\n",
    "# # change directory to code path within BetaSenSightLongterm Repo\n",
    "os.chdir(code_path)\n",
    "os.getcwd()"
   ]
  },
  {
   "cell_type": "code",
   "execution_count": null,
   "metadata": {},
   "outputs": [],
   "source": [
    "\n",
    "# tfr, processing\n",
    "import src.bssu.tfr.BSSuPsd as BSSuPsd\n",
    "import src.bssu.tfr.FastFourierPSD as FFpsd\n",
    "\n",
    "# bipolar Channel Analysis\n",
    "import src.bssu.bipolar.power_spectra_plots as power_spectra_plots\n",
    "import src.bssu.bipolar.PeakFrequencies_PSD as PeakFrequency_psd\n",
    "import src.bssu.bipolar.BIP_channelGroups as BIP_channelGroups\n",
    "import src.bssu.bipolar.BIP_perChannelAnalysis as BIP_perChannel\n",
    "import src.bssu.bipolar.cluster_perm as cluster_perm\n",
    "\n",
    "\n",
    "# monopolar Referencing\n",
    "import src.bssu.monopolar.MonoRef_JLB as MonoRefJLB\n",
    "import src.bssu.monopolar.GroupMonopolarPSD as groupMonopol\n",
    "\n",
    "# Ranking Order\n",
    "import src.bssu.ranking.HighestRankedChannelPSD as highestRank\n",
    "import src.bssu.ranking.monopolPSDaverage_withinSubject as PSDaverageMonopol\n",
    "import src.bssu.ranking.BIPchannelGroups_ranks as BIP_ranks\n",
    "import src.bssu.ranking.Permutation_rankings as Permute_ranks\n",
    "\n",
    "\n",
    "# Clinical stimulation parameters\n",
    "import src.bssu.stimulation.activeStimulationContacts as activeStimContacts\n",
    "\n",
    "# utility functions\n",
    "import src.bssu.utils.loadResults as loadResults\n",
    "import src.bssu.utils.find_folders as find_folders\n",
    "import src.bssu.utils.writeGroupDataframes as writeGroupDF\n",
    "\n",
    "# import Classes\n",
    "from src.bssu.classes import (metadataAnalysis_class, mainAnalysis_class, sessionAnalysis_class, \n",
    "                              channelAnalysis_class, featureAnalysis_class, frequencyBand_class)\n",
    "\n",
    "# import mni coordinates\n",
    "import src.bssu.mni.load_rotated_coordinates as load_mni\n",
    "\n",
    "\n",
    "importlib.reload(BSSuPsd)\n",
    "importlib.reload(MonoRefJLB)\n",
    "importlib.reload(loadResults)\n",
    "importlib.reload(highestRank)\n",
    "importlib.reload(groupMonopol)\n",
    "importlib.reload(PSDaverageMonopol)\n",
    "importlib.reload(FFpsd)\n",
    "importlib.reload(find_folders)\n",
    "importlib.reload(metadataAnalysis_class)\n",
    "importlib.reload(mainAnalysis_class)\n",
    "importlib.reload(sessionAnalysis_class)\n",
    "importlib.reload(channelAnalysis_class)\n",
    "importlib.reload(featureAnalysis_class)\n",
    "importlib.reload(frequencyBand_class)\n",
    "importlib.reload(PeakFrequency_psd)\n",
    "importlib.reload(power_spectra_plots)\n",
    "importlib.reload(BIP_channelGroups)\n",
    "importlib.reload(BIP_ranks)\n",
    "importlib.reload(activeStimContacts)\n",
    "importlib.reload(Permute_ranks)\n",
    "importlib.reload(BIP_perChannel)\n",
    "importlib.reload(load_mni)\n",
    "importlib.reload(writeGroupDF)\n",
    "importlib.reload(cluster_perm)"
   ]
  },
  {
   "attachments": {},
   "cell_type": "markdown",
   "metadata": {},
   "source": [
    "## 1. Load with classes"
   ]
  },
  {
   "cell_type": "code",
   "execution_count": null,
   "metadata": {},
   "outputs": [],
   "source": [
    "incl_sub = [\"017\", \"019\", \"021\", \"024\", \"025\", \"026\", \"029\", \"030\", \"031\", \"032\", \"033\", \"037\", \"038\", \"040\", \"041\", \"045\"]\n",
    "hemispheres = [\"Right\", \"Left\"]\n",
    "\n",
    "psdAverage_dataframe = pd.DataFrame()\n",
    "\n",
    "for sub in incl_sub:\n",
    "\n",
    "    for hem in hemispheres:\n",
    "\n",
    "        # load data from classes\n",
    "        mainClass_data = mainAnalysis_class.MainClass(\n",
    "            sub=sub,\n",
    "            hemisphere=hem,\n",
    "            filter=\"band-pass\",\n",
    "            result=\"PSDaverageFrequencyBands\",\n",
    "            incl_session=[\"fu3m\"],\n",
    "            pickChannels=['03', '13', '02', '12', '01', '23', \n",
    "                            '1A1B', '1B1C', '1A1C', '2A2B', '2B2C', '2A2C', \n",
    "                            '1A2A', '1B2B', '1C2C'],\n",
    "            normalization=[\"rawPsd\"],\n",
    "            freqBands=[\"beta\", \"lowBeta\", \"highBeta\"],\n",
    "            feature=[\"averagedPSD\"]\n",
    "        )\n",
    "\n",
    "        # get the fu3m Dataframe\n",
    "        fu3m_DF = mainClass_data.fu3m.Result_DF\n",
    "        fu3m_DF_copy = fu3m_DF.copy()\n",
    "\n",
    "        # add columnn subject_hemisphere\n",
    "        fu3m_DF_copy[\"subject_hemisphere\"] = f\"{sub}_{hem}\"\n",
    "\n",
    "        # add column recording_montage\n",
    "        for index, row in fu3m_DF_copy.iterrows():\n",
    "            bipolarChannel = row[\"bipolarChannel\"].split(\"_\")\n",
    "            recording_montage = bipolarChannel[2] # just take 03, 02, etc from bipolarChannel column\n",
    "\n",
    "            fu3m_DF_copy.loc[index, \"recording_montage\"] = recording_montage\n",
    "        \n",
    "        # only get rows with rawPsd and beta \n",
    "        fu3m_DF_copy = fu3m_DF_copy[fu3m_DF_copy.absoluteOrRelativePSD == \"rawPsd\"]\n",
    "        fu3m_DF_copy = fu3m_DF_copy[fu3m_DF_copy.frequencyBand == \"beta\"]\n",
    "\n",
    "        # rename column averagedPSD to beta_psd\n",
    "        fu3m_DF_copy = fu3m_DF_copy.rename(columns={\"averagedPSD\": \"beta_psd\"})\n",
    "        \n",
    "        # drop columns bipolarChannel, \n",
    "        fu3m_DF_copy = fu3m_DF_copy.drop(columns=[\"bipolarChannel\", \"frequencyBand\", \"absoluteOrRelativePSD\"])\n",
    "\n",
    "        # concatenate all dataframes together\n",
    "        psdAverage_dataframe = pd.concat([psdAverage_dataframe, fu3m_DF_copy], ignore_index=True)\n",
    "                \n",
    "\n",
    "\n",
    "\n",
    "# write Dataframe to Excel\n",
    "# store each Dataframe in seperate sheets of an Excel file\n",
    "current_path = os.getcwd()\n",
    "while current_path[-8:] != 'Research':\n",
    "    current_path = os.path.dirname(current_path)\n",
    "\n",
    "Excel_path = os.path.join(current_path, 'Longterm_beta_project','data', 'imagingData', 'SenSight_fu3m_beta_psd.xlsx')\n",
    "\n",
    "# create an Excel writer, so that different sheets are written within the same excel file\n",
    "with pd.ExcelWriter(Excel_path) as writer:\n",
    "    \n",
    "    psdAverage_dataframe.to_excel(writer, sheet_name=\"beta_psd\")\n"
   ]
  },
  {
   "attachments": {},
   "cell_type": "markdown",
   "metadata": {},
   "source": [
    "## 2. Write Dataframes"
   ]
  },
  {
   "cell_type": "code",
   "execution_count": null,
   "metadata": {},
   "outputs": [],
   "source": [
    "write_DF_function = writeGroupDF.write_BIPChannelGroups_ALLpsd(\n",
    "    incl_sub=[\"017\", \"019\", \"021\", \"024\", \"025\", \"026\", \"028\", \"029\", \"030\", \"031\", \"032\", \"033\", \"038\"], \n",
    "    signalFilter=\"band-pass\",\n",
    "    normalization=\"rawPsd\",\n",
    "    freqBand=\"beta\"\n",
    ")"
   ]
  },
  {
   "cell_type": "code",
   "execution_count": null,
   "metadata": {},
   "outputs": [],
   "source": [
    "write_DF_function[\"psdAverage_dataframe\"].head()"
   ]
  },
  {
   "attachments": {},
   "cell_type": "markdown",
   "metadata": {},
   "source": [
    "write Dataframe for all subject hemispheres with ranks and relative PSD to rank 1"
   ]
  },
  {
   "cell_type": "code",
   "execution_count": null,
   "metadata": {},
   "outputs": [],
   "source": [
    "loaded_DF = writeGroupDF.write_BIPChannelGroups_psdRanks_relToRank1(\n",
    "    signalFilter=\"band-pass\",\n",
    "    normalization=\"rawPsd\",\n",
    "    freqBand=\"beta\"\n",
    ")"
   ]
  },
  {
   "cell_type": "code",
   "execution_count": null,
   "metadata": {},
   "outputs": [],
   "source": [
    "loaded_DF[\"psdRank_and_relative_dataframe\"].head()"
   ]
  },
  {
   "cell_type": "code",
   "execution_count": null,
   "metadata": {},
   "outputs": [],
   "source": [
    "loaded_DF = loadResults.load_BIPChannelGroups_ALL(\n",
    "    freqBand=\"beta\",\n",
    "    normalization=\"rawPsd\",\n",
    "    signalFilter=\"band-pass\"\n",
    ")"
   ]
  },
  {
   "cell_type": "code",
   "execution_count": null,
   "metadata": {},
   "outputs": [],
   "source": [
    "loaded_DF.head()"
   ]
  },
  {
   "cell_type": "code",
   "execution_count": null,
   "metadata": {},
   "outputs": [],
   "source": [
    "loadedDF = loadResults.load_BIPChannelGroups_psdRanks_relToRank1(\n",
    "    freqBand=\"beta\",\n",
    "    normalization=\"rawPsd\",\n",
    "    signalFilter=\"band-pass\"\n",
    ")"
   ]
  },
  {
   "cell_type": "code",
   "execution_count": null,
   "metadata": {},
   "outputs": [],
   "source": []
  },
  {
   "cell_type": "markdown",
   "metadata": {},
   "source": []
  },
  {
   "attachments": {},
   "cell_type": "markdown",
   "metadata": {},
   "source": [
    "## 3. Load MNI coordinates"
   ]
  },
  {
   "attachments": {},
   "cell_type": "markdown",
   "metadata": {},
   "source": [
    "import scipy.io as sio"
   ]
  },
  {
   "cell_type": "code",
   "execution_count": null,
   "metadata": {},
   "outputs": [],
   "source": [
    "mni_coord = load_mni.load_mni_coordinates(\n",
    "    incl_sub=[\"017\", \"021\", \"024\", \"025\", \"026\", \"029\", \"030\", \"031\", \"032\", \"033\", \"035\", \"037\", \"038\", \"040\"]\n",
    ")"
   ]
  },
  {
   "cell_type": "code",
   "execution_count": null,
   "metadata": {},
   "outputs": [],
   "source": [
    "dataframe = mni_coord[\"reco_native_concat\"]"
   ]
  },
  {
   "cell_type": "code",
   "execution_count": null,
   "metadata": {},
   "outputs": [],
   "source": [
    "current_path = os.getcwd()\n",
    "while current_path[-8:] != 'Research':\n",
    "    current_path = os.path.dirname(current_path)\n",
    "\n",
    "excel_path = os.path.join(current_path, 'Longterm_beta_project','data', 'imagingData', \"SenSightElectrode_coordinates.xlsx\")\n",
    "\n",
    "Excel = dataframe.to_excel(excel_path, sheet_name=\"reco_native\")"
   ]
  },
  {
   "cell_type": "code",
   "execution_count": null,
   "metadata": {},
   "outputs": [],
   "source": [
    "mni_file = sio.loadmat(filename)\n",
    "reco_native = mni_file[\"reco\"][0][0][1]\n",
    "reco_scrf = mni_file[\"reco\"][0][0][2]\n",
    "reco_mni = mni_file[\"reco\"][0][0][3]\n",
    "\n",
    "reco_native_left = reco_native[0][0][0][0][1]\n",
    "reco_native_right = reco_native[0][0][0][0][0]\n",
    "reco_native_right"
   ]
  },
  {
   "cell_type": "code",
   "execution_count": null,
   "metadata": {},
   "outputs": [],
   "source": [
    "reco_native_right_DF = pd.DataFrame(reco_native_right, columns=[\"reco_native_x\", \"reco_native_y\", \"reco_native_z\"])\n",
    "reco_native_right_DF.insert(0, \"subject_hemisphere\", \"017_right\")\n",
    "reco_native_right_DF"
   ]
  },
  {
   "cell_type": "code",
   "execution_count": null,
   "metadata": {},
   "outputs": [],
   "source": [
    "reco_scrf = mni_file[\"reco\"][0][0][2]\n",
    "reco_scrf_right = reco_scrf[0][0][0][0][0]\n",
    "reco_scrf_left = reco_scrf[0][0][0][0][1]\n",
    "reco_scrf_right"
   ]
  },
  {
   "cell_type": "code",
   "execution_count": null,
   "metadata": {},
   "outputs": [],
   "source": [
    "reco_mni = mni_file[\"reco\"][0][0][3]\n",
    "reco_mni_right = reco_mni[0][0][0][0][0]\n",
    "reco_mni_left =  reco_mni[0][0][0][0][1]"
   ]
  },
  {
   "cell_type": "code",
   "execution_count": null,
   "metadata": {},
   "outputs": [],
   "source": [
    "# coordinates=scrf and =mni, doesn´t work if sub019 or sub034 are included because coordinates don´t exists!!\n",
    "\n",
    "mni_mean_coord = load_mni.calculate_mean_coordinates_bipolarRecordings(\n",
    "    incl_sub=[\"017\", \"021\", \"024\", \"025\", \"026\", \"029\", \"030\", \"031\", \"032\", \"033\", \"037\", \"038\", \"040\"],\n",
    "    coordinates=\"mni\"\n",
    ")"
   ]
  },
  {
   "cell_type": "code",
   "execution_count": null,
   "metadata": {},
   "outputs": [],
   "source": [
    "mni_mean_coord[\"merged_Dataframe\"]"
   ]
  },
  {
   "cell_type": "code",
   "execution_count": null,
   "metadata": {},
   "outputs": [],
   "source": []
  },
  {
   "attachments": {},
   "cell_type": "markdown",
   "metadata": {},
   "source": [
    "Calculate MEAN xyz native coordinates of each recording montage per subject_hemisphere"
   ]
  },
  {
   "cell_type": "code",
   "execution_count": null,
   "metadata": {},
   "outputs": [],
   "source": [
    "subject_list = [\"017\", \"019\", \"021\", \"024\", \"025\", \"026\", \"029\", \"030\", \"031\", \"032\", \"033\", \"034\", \"035\", \"037\", \"038\", \"040\"]\n",
    "hemispheres = [\"Right\", \"Left\"]\n",
    "\n",
    "current_path = os.getcwd()\n",
    "while current_path[-8:] != 'Research':\n",
    "    current_path = os.path.dirname(current_path)\n",
    "\n",
    "reco_native_concat = pd.DataFrame()\n",
    "\n",
    "for sub in subject_list:\n",
    "    \n",
    "    # directory to data folder with mni coordinates\n",
    "    data_path = os.path.join(current_path, 'Longterm_beta_project','data', 'imagingData', f\"sub-{sub}\")\n",
    "    filename = os.path.join(data_path, \"ea_reconstruction.mat\")\n",
    "\n",
    "    # load .mat file\n",
    "    mni_file = sio.loadmat(filename)\n",
    "\n",
    "    print(sub)\n",
    "\n",
    "    reco_native = mni_file[\"reco\"][0][0][1]\n",
    "\n",
    "\n",
    "    for h, hem in enumerate(hemispheres):\n",
    "        \n",
    "        reco_native_hem = reco_native[0][0][0][0][h] # 0 = Right, 1 = Left\n",
    "        reco_native_DF = pd.DataFrame(reco_native_hem, columns=[\"reco_native_x\", \"reco_native_y\", \"reco_native_z\"])\n",
    "        reco_native_DF.insert(0, \"subject_hemisphere\", f\"{sub}_{hem}\") # insert column with subject_hemisphere on first position\n",
    "        reco_native_concat = pd.concat([reco_native_concat, reco_native_DF], ignore_index=True)"
   ]
  },
  {
   "cell_type": "code",
   "execution_count": null,
   "metadata": {},
   "outputs": [],
   "source": [
    "sub_list = list(reco_native_concat.subject_hemisphere.unique())\n",
    "len(sub_list)"
   ]
  },
  {
   "cell_type": "code",
   "execution_count": null,
   "metadata": {},
   "outputs": [],
   "source": [
    "reco_native_concat\n",
    "\n",
    "contact_list = [\"0\", \"1A\", \"1B\", \"1C\", \"2A\", \"2B\", \"2C\", \"3\"] * 32\n",
    "\n",
    "reco_native_concat[\"electrode_contact\"] = contact_list\n",
    "# reco_native_concat[\"electrode_contact\"] = reco_native_concat[[\"subject_hemisphere\", \"electrode_contact\"]].apply(\"_\".join, axis=1)\n",
    "reco_native_concat"
   ]
  },
  {
   "cell_type": "code",
   "execution_count": null,
   "metadata": {},
   "outputs": [],
   "source": [
    "sub_hem_unique = list(reco_native_concat.subject_hemisphere.unique())\n",
    "contact_list = [\"0\", \"1A\", \"1B\", \"1C\", \"2A\", \"2B\", \"2C\", \"3\"]\n",
    "recording_montage_list = [\"0_3\", \"1_3\", \"0_2\", \"1_2\", \"0_1\", \"2_3\", \"1A_1B\", \"1B_1C\", \"1A_1C\", \"2A_2B\", \"2B_2C\", \"2A_2C\", \"1A_2A\", \"1B_2B\", \"1C_2C\"]\n",
    "\n",
    "\n",
    "x_val = {}\n",
    "y_val = {}\n",
    "z_val = {}\n",
    "x_mean_coordinate = {}\n",
    "y_mean_coordinate = {}\n",
    "z_mean_coordinate = {}\n",
    "\n",
    "for sub_hem in sub_hem_unique:\n",
    "\n",
    "    # only take DF of one electrode\n",
    "    single_electrode = reco_native_concat[reco_native_concat.subject_hemisphere == sub_hem]\n",
    "\n",
    "\n",
    "    for c in contact_list:\n",
    "\n",
    "        single_contact = single_electrode[single_electrode.electrode_contact == c]\n",
    "\n",
    "        x_val[f\"{sub_hem}_{c}\"] = float(single_contact.reco_native_x.values)\n",
    "        y_val[f\"{sub_hem}_{c}\"] = float(single_contact.reco_native_y.values)\n",
    "        z_val[f\"{sub_hem}_{c}\"] = float(single_contact.reco_native_z.values)\n",
    "\n",
    "    # calculate mean x, y, z coordinates for 1 and 2\n",
    "    x_val[f\"{sub_hem}_1\"] = np.mean([x_val[f\"{sub_hem}_1A\"], x_val[f\"{sub_hem}_1B\"], x_val[f\"{sub_hem}_1C\"]])\n",
    "    y_val[f\"{sub_hem}_1\"] = np.mean([y_val[f\"{sub_hem}_1A\"], y_val[f\"{sub_hem}_1B\"], y_val[f\"{sub_hem}_1C\"]])\n",
    "    z_val[f\"{sub_hem}_1\"] = np.mean([z_val[f\"{sub_hem}_1A\"], z_val[f\"{sub_hem}_1B\"], z_val[f\"{sub_hem}_1C\"]])\n",
    "\n",
    "    x_val[f\"{sub_hem}_2\"] = np.mean([x_val[f\"{sub_hem}_2A\"], x_val[f\"{sub_hem}_2B\"], x_val[f\"{sub_hem}_2C\"]])\n",
    "    y_val[f\"{sub_hem}_2\"] = np.mean([y_val[f\"{sub_hem}_2A\"], y_val[f\"{sub_hem}_2B\"], y_val[f\"{sub_hem}_2C\"]])\n",
    "    z_val[f\"{sub_hem}_2\"] = np.mean([z_val[f\"{sub_hem}_2A\"], z_val[f\"{sub_hem}_2B\"], z_val[f\"{sub_hem}_2C\"]])\n",
    "\n",
    "\n",
    "for sub_hem in sub_hem_unique:\n",
    "    for recording in recording_montage_list:\n",
    "\n",
    "        rec = recording.split(\"_\") # rec[0] is first contact, rec[1] is second contact\n",
    "        \n",
    "        x_mean_coordinate[f\"{sub_hem}_{recording}\"] = np.mean([x_val[f\"{sub_hem}_{rec[0]}\"], x_val[f\"{sub_hem}_{rec[1]}\"]])\n",
    "        y_mean_coordinate[f\"{sub_hem}_{recording}\"] = np.mean([y_val[f\"{sub_hem}_{rec[0]}\"], y_val[f\"{sub_hem}_{rec[1]}\"]])\n",
    "        z_mean_coordinate[f\"{sub_hem}_{recording}\"] = np.mean([z_val[f\"{sub_hem}_{rec[0]}\"], z_val[f\"{sub_hem}_{rec[1]}\"]])\n",
    "\n",
    "        \n",
    "x_mean_df = pd.DataFrame.from_dict(x_mean_coordinate, orient=\"index\", columns=[\"native_mean_coord_x\"])\n",
    "y_mean_df = pd.DataFrame.from_dict(y_mean_coordinate, orient=\"index\", columns=[\"native_mean_coord_y\"])\n",
    "z_mean_df = pd.DataFrame.from_dict(z_mean_coordinate, orient=\"index\", columns=[\"native_mean_coord_z\"])\n",
    "\n",
    "mean_xyz_coord = pd.concat([x_mean_df, y_mean_df, z_mean_df], axis=1)\n",
    "mean_xyz_coord"
   ]
  },
  {
   "cell_type": "code",
   "execution_count": null,
   "metadata": {},
   "outputs": [],
   "source": [
    "sub_hem_rec = mean_xyz_coord.index.tolist()\n",
    "sub_hem_rec_tocolumn = []\n",
    "\n",
    "# extract from the index (017_Right_0_3) sub_hem and recording montage and store in seperate columns\n",
    "\n",
    "for i, string in enumerate(sub_hem_rec):\n",
    "\n",
    "    sub_hem_rec_split = string.split(\"_\")\n",
    "\n",
    "    sub_hem_str = '_'.join([sub_hem_rec_split[0], sub_hem_rec_split[1]])\n",
    "    rec_str = ''.join([sub_hem_rec_split[2], sub_hem_rec_split[3]])\n",
    "    sub_hem_rec_string = '_'.join([sub_hem_str, rec_str])\n",
    "    sub_hem_rec_tocolumn.append(sub_hem_rec_string)\n",
    "\n",
    "\n",
    "# add columns subject_hemisphere and recording montage to dataframe\n",
    "mean_xyz_coord[\"subject_hemisphere_recording\"] = sub_hem_rec_tocolumn\n",
    "mean_xyz_coord"
   ]
  },
  {
   "cell_type": "code",
   "execution_count": null,
   "metadata": {},
   "outputs": [],
   "source": [
    "psdAverage_dataframe[\"subject_hemisphere_recording\"] = psdAverage_dataframe[[\"subject_hemisphere\", \"recording_montage\"]].agg('_'.join, axis=1)\n",
    "psdAverage_dataframe.drop(columns=[\"subject_hemisphere\", \"recording_montage\"])"
   ]
  },
  {
   "cell_type": "code",
   "execution_count": null,
   "metadata": {},
   "outputs": [],
   "source": [
    "merged_DF_native = mean_xyz_coord.merge(psdAverage_dataframe, left_on=\"subject_hemisphere_recording\", right_on=\"subject_hemisphere_recording\")\n",
    "merged_DF_native.drop(columns=[\"subject_hemisphere_y\", \"recording_montage_x\"], inplace=True)\n",
    "merged_DF_native.rename(columns={\"subject_hemisphere_x\":\"subject_hemisphere\", \"recording_montage_y\":\"recording_montage\"}, inplace=True)\n",
    "merged_DF_native"
   ]
  },
  {
   "cell_type": "code",
   "execution_count": null,
   "metadata": {},
   "outputs": [],
   "source": [
    "# save as Excel file\n",
    "current_path = os.getcwd()\n",
    "while current_path[-8:] != 'Research':\n",
    "    current_path = os.path.dirname(current_path)\n",
    "\n",
    "Excel_path = os.path.join(current_path, 'Longterm_beta_project','data', 'imagingData', 'SenSightElectrode_MEANcoordinates_native.xlsx')\n",
    "\n",
    "# create an Excel writer, so that different sheets are written within the same excel file\n",
    "with pd.ExcelWriter(Excel_path) as writer:\n",
    "    \n",
    "    merged_DF_native.to_excel(writer, sheet_name=\"mean_reco_native\")"
   ]
  },
  {
   "cell_type": "code",
   "execution_count": null,
   "metadata": {},
   "outputs": [],
   "source": []
  },
  {
   "cell_type": "markdown",
   "metadata": {},
   "source": []
  },
  {
   "attachments": {},
   "cell_type": "markdown",
   "metadata": {},
   "source": [
    "## 4. Load PSD rel to rank 1 (=1.0) and rank 8 (=0) contacts"
   ]
  },
  {
   "cell_type": "code",
   "execution_count": null,
   "metadata": {},
   "outputs": [],
   "source": [
    "monopol_relPsd_0_to_8 = writeGroupDF.write_monopol_rel_psd_from0To8(\n",
    "    incl_sub=[\"017\", \"019\", \"021\", \"024\", \"025\", \"026\", \"028\", \"029\", \"030\", \"031\", \"032\", \"033\", \"038\"],\n",
    "    signalFilter=\"band-pass\",\n",
    "    normalization=\"rawPsd\",\n",
    "    freqBand=\"beta\"\n",
    ")"
   ]
  },
  {
   "cell_type": "code",
   "execution_count": null,
   "metadata": {},
   "outputs": [],
   "source": [
    "monopol_relPsd_0_to_8.head()"
   ]
  },
  {
   "cell_type": "code",
   "execution_count": null,
   "metadata": {},
   "outputs": [],
   "source": []
  },
  {
   "cell_type": "markdown",
   "metadata": {},
   "source": []
  }
 ],
 "metadata": {
  "language_info": {
   "name": "python"
  },
  "orig_nbformat": 4
 },
 "nbformat": 4,
 "nbformat_minor": 2
}
