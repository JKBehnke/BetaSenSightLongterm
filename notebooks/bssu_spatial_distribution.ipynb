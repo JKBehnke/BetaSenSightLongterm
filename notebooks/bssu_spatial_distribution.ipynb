{
 "cells": [
  {
   "attachments": {},
   "cell_type": "markdown",
   "metadata": {},
   "source": [
    "# Spatial distribution of oscillations recorded with BSSU"
   ]
  },
  {
   "attachments": {},
   "cell_type": "markdown",
   "metadata": {},
   "source": [
    "Import Packages"
   ]
  },
  {
   "cell_type": "code",
   "execution_count": 1,
   "metadata": {},
   "outputs": [],
   "source": [
    "\n",
    "import os\n",
    "import sys\n",
    "import importlib\n",
    "from importlib import reload \n",
    "from dataclasses import dataclass, field, fields\n",
    "from itertools import compress\n",
    "import pandas as pd\n",
    "import numpy as np\n",
    "import matplotlib.pyplot as plt\n",
    "from cycler import cycler\n",
    "\n",
    "import scipy\n",
    "import scipy.io as sio\n",
    "from scipy import signal\n",
    "from scipy.signal import spectrogram, hann, butter, filtfilt, freqz\n",
    "from scipy import stats\n",
    "\n",
    "import seaborn as sns\n",
    "import pingouin as pg\n",
    "import itertools\n",
    "from itertools import combinations\n",
    "from statannotations.Annotator import Annotator\n",
    "import statsmodels.api as sm\n",
    "import statsmodels.formula.api as smf\n",
    "from patsy import dmatrices\n",
    "import plotly.express as px\n",
    "\n",
    "from sklearn.linear_model import LogisticRegression\n",
    "from sklearn.model_selection import train_test_split, RepeatedStratifiedKFold, GridSearchCV\n",
    "from sklearn.metrics import classification_report\n",
    "\n",
    "# import openpyxl\n",
    "# from openpyxl import Workbook, load_workbook\n",
    "# import xlrd\n",
    "import pickle\n",
    "import json\n",
    "import csv\n",
    "\n",
    "#mne\n",
    "import mne_bids\n",
    "import mne\n",
    "from mne.time_frequency import tfr_morlet \n",
    "from mne.stats import permutation_cluster_test\n",
    "\n",
    "\n",
    "# TODO: add README file: \n",
    "# pip install pingouin\n",
    "# pip install statannotations\n",
    "# pip install fooof"
   ]
  },
  {
   "cell_type": "code",
   "execution_count": 2,
   "metadata": {},
   "outputs": [],
   "source": [
    "import py_perceive"
   ]
  },
  {
   "cell_type": "code",
   "execution_count": 3,
   "metadata": {},
   "outputs": [
    {
     "data": {
      "text/plain": [
       "<module 'py_perceive.PerceiveImport.methods.metadata_helpers' from 'C:\\\\Users\\\\jebe12\\\\Research\\\\PyPerceive_Project\\\\Code\\\\PyPerceive\\\\src\\\\py_perceive\\\\PerceiveImport\\\\methods\\\\metadata_helpers.py'>"
      ]
     },
     "execution_count": 3,
     "metadata": {},
     "output_type": "execute_result"
    }
   ],
   "source": [
    "from py_perceive.PerceiveImport.classes import (\n",
    "    main_class, modality_class, metadata_class,\n",
    "    session_class, condition_class, task_class,\n",
    "    contact_class, run_class\n",
    ")\n",
    "import py_perceive.PerceiveImport.methods.load_rawfile as load_rawfile\n",
    "import py_perceive.PerceiveImport.methods.find_folders as find_folders\n",
    "import py_perceive.PerceiveImport.methods.metadata_helpers as metaHelpers\n",
    "\n",
    "\n",
    "importlib.reload(main_class)\n",
    "importlib.reload(session_class)\n",
    "importlib.reload(task_class)\n",
    "importlib.reload(condition_class)\n",
    "importlib.reload(contact_class)\n",
    "importlib.reload(metadata_class)\n",
    "importlib.reload(modality_class)\n",
    "importlib.reload(load_rawfile)\n",
    "importlib.reload(find_folders)\n",
    "importlib.reload(run_class)\n",
    "importlib.reload(metaHelpers)"
   ]
  },
  {
   "cell_type": "code",
   "execution_count": 4,
   "metadata": {},
   "outputs": [
    {
     "data": {
      "text/plain": [
       "'c:\\\\Users\\\\jebe12\\\\Research\\\\Longterm_beta_project\\\\Code\\\\meet'"
      ]
     },
     "execution_count": 4,
     "metadata": {},
     "output_type": "execute_result"
    }
   ],
   "source": [
    "#######################     USE THIS DIRECTORY FOR WORKING WITH FOLDERS INSIDE OF CODE FOLDER OF BETASENSIGHTLONGTERM REPO  #######################\n",
    "\n",
    "\n",
    "# create a path to the BetaSenSightLongterm folder \n",
    "# and a path to the code folder within the BetaSenSightLongterm Repo\n",
    "current_path = os.getcwd()\n",
    "while current_path[-8:] != 'Research':\n",
    "    current_path = os.path.dirname(current_path)\n",
    "\n",
    "# directory to code folder\n",
    "code_path = os.path.join(current_path, 'Longterm_beta_project','Code', 'meet')\n",
    "sys.path.append(code_path)\n",
    "\n",
    "# # change directory to code path within BetaSenSightLongterm Repo\n",
    "os.chdir(code_path)\n",
    "os.getcwd()\n"
   ]
  },
  {
   "cell_type": "code",
   "execution_count": 5,
   "metadata": {},
   "outputs": [],
   "source": [
    "import meet as meet"
   ]
  },
  {
   "cell_type": "code",
   "execution_count": 6,
   "metadata": {},
   "outputs": [
    {
     "data": {
      "text/plain": [
       "'c:\\\\Users\\\\jebe12\\\\Research\\\\Longterm_beta_project\\\\Code\\\\BetaSenSightLongterm'"
      ]
     },
     "execution_count": 6,
     "metadata": {},
     "output_type": "execute_result"
    }
   ],
   "source": [
    "#######################     USE THIS DIRECTORY FOR WORKING WITH FOLDERS INSIDE OF CODE FOLDER OF BETASENSIGHTLONGTERM REPO  #######################\n",
    "\n",
    "\n",
    "# create a path to the BetaSenSightLongterm folder \n",
    "# and a path to the code folder within the BetaSenSightLongterm Repo\n",
    "current_path = os.getcwd()\n",
    "while current_path[-8:] != 'Research':\n",
    "    current_path = os.path.dirname(current_path)\n",
    "\n",
    "# directory to code folder\n",
    "code_path = os.path.join(current_path, 'Longterm_beta_project','Code', 'BetaSenSightLongterm')\n",
    "sys.path.append(code_path)\n",
    "\n",
    "# # change directory to code path within BetaSenSightLongterm Repo\n",
    "os.chdir(code_path)\n",
    "os.getcwd()"
   ]
  },
  {
   "cell_type": "code",
   "execution_count": 16,
   "metadata": {},
   "outputs": [
    {
     "data": {
      "text/plain": [
       "<module 'src.bssu.bipolar.cluster_perm' from 'c:\\\\Users\\\\jebe12\\\\Research\\\\Longterm_beta_project\\\\Code\\\\BetaSenSightLongterm\\\\src\\\\bssu\\\\bipolar\\\\cluster_perm.py'>"
      ]
     },
     "execution_count": 16,
     "metadata": {},
     "output_type": "execute_result"
    }
   ],
   "source": [
    "# tfr, processing\n",
    "import src.bssu.tfr.BSSuPsd as BSSuPsd\n",
    "import src.bssu.tfr.FastFourierPSD as FFpsd\n",
    "\n",
    "# bipolar Channel Analysis\n",
    "import src.bssu.bipolar.power_spectra_plots as power_spectra_plots\n",
    "import src.bssu.bipolar.PeakFrequencies_PSD as PeakFrequency_psd\n",
    "import src.bssu.bipolar.BIP_channelGroups as BIP_channelGroups\n",
    "import src.bssu.bipolar.BIP_perChannelAnalysis as BIP_perChannel\n",
    "import src.bssu.bipolar.cluster_perm as cluster_perm\n",
    "\n",
    "\n",
    "# monopolar Referencing\n",
    "import src.bssu.monopolar.MonoRef_JLB as MonoRefJLB\n",
    "import src.bssu.monopolar.GroupMonopolarPSD as groupMonopol\n",
    "\n",
    "# Ranking Order\n",
    "import src.bssu.ranking.HighestRankedChannelPSD as highestRank\n",
    "import src.bssu.ranking.monopolPSDaverage_withinSubject as PSDaverageMonopol\n",
    "import src.bssu.ranking.BIPchannelGroups_ranks as BIP_ranks\n",
    "import src.bssu.ranking.Permutation_rankings as Permute_ranks\n",
    "\n",
    "\n",
    "# Clinical stimulation parameters\n",
    "import src.bssu.stimulation.activeStimulationContacts as activeStimContacts\n",
    "\n",
    "# utility functions\n",
    "import src.bssu.utils.loadResults as loadResults\n",
    "import src.bssu.utils.find_folders as find_folders\n",
    "import src.bssu.utils.writeGroupDataframes as writeGroupDF\n",
    "\n",
    "# import Classes\n",
    "from src.bssu.classes import (metadataAnalysis_class, mainAnalysis_class, sessionAnalysis_class, \n",
    "                              channelAnalysis_class, featureAnalysis_class, frequencyBand_class)\n",
    "\n",
    "# import mni coordinates\n",
    "import src.bssu.mni.load_rotated_coordinates as load_mni\n",
    "\n",
    "\n",
    "importlib.reload(BSSuPsd)\n",
    "importlib.reload(MonoRefJLB)\n",
    "importlib.reload(loadResults)\n",
    "importlib.reload(highestRank)\n",
    "importlib.reload(groupMonopol)\n",
    "importlib.reload(PSDaverageMonopol)\n",
    "importlib.reload(FFpsd)\n",
    "importlib.reload(find_folders)\n",
    "importlib.reload(metadataAnalysis_class)\n",
    "importlib.reload(mainAnalysis_class)\n",
    "importlib.reload(sessionAnalysis_class)\n",
    "importlib.reload(channelAnalysis_class)\n",
    "importlib.reload(featureAnalysis_class)\n",
    "importlib.reload(frequencyBand_class)\n",
    "importlib.reload(PeakFrequency_psd)\n",
    "importlib.reload(power_spectra_plots)\n",
    "importlib.reload(BIP_channelGroups)\n",
    "importlib.reload(BIP_ranks)\n",
    "importlib.reload(activeStimContacts)\n",
    "importlib.reload(Permute_ranks)\n",
    "importlib.reload(BIP_perChannel)\n",
    "importlib.reload(load_mni)\n",
    "importlib.reload(writeGroupDF)\n",
    "importlib.reload(cluster_perm)"
   ]
  },
  {
   "attachments": {},
   "cell_type": "markdown",
   "metadata": {},
   "source": [
    "## 1. Permutation analysis of bipolar power ranks between different sessions within 3 channel groups"
   ]
  },
  {
   "cell_type": "code",
   "execution_count": 8,
   "metadata": {},
   "outputs": [
    {
     "name": "stdout",
     "output_type": "stream",
     "text": [
      "pickle file:  BIPpsdAverage_Ring_rawPsd_band-pass.pickle \n",
      "loaded from:  c:\\Users\\jebe12\\Research\\Longterm_beta_project\\results\n",
      "pickle file:  BIPpsdAverage_SegmInter_rawPsd_band-pass.pickle \n",
      "loaded from:  c:\\Users\\jebe12\\Research\\Longterm_beta_project\\results\n",
      "pickle file:  BIPpsdAverage_SegmIntra_rawPsd_band-pass.pickle \n",
      "loaded from:  c:\\Users\\jebe12\\Research\\Longterm_beta_project\\results\n",
      "new file:  BIPranksChannelGroup_session_dict_psdAverage_highBeta_rawPsd_band-pass.pickle \n",
      "in:  c:\\Users\\jebe12\\Research\\Longterm_beta_project\\results\n"
     ]
    }
   ],
   "source": [
    "# automatized Function to rank Psd averages \n",
    "### watch out!! for result=\"peak\" -> not every BIP channel has a value... don´t understand why\n",
    "### especially postop channels!!!\n",
    "\n",
    "rankDF = BIP_ranks.Rank_BIPRingSegmGroups(\n",
    "    result = \"psdAverage\",\n",
    "    filterSignal = \"band-pass\",\n",
    "    normalization = \"rawPsd\",\n",
    "    freqBand = \"highBeta\"\n",
    ")\n"
   ]
  },
  {
   "cell_type": "code",
   "execution_count": 10,
   "metadata": {},
   "outputs": [
    {
     "data": {
      "text/html": [
       "<div>\n",
       "<style scoped>\n",
       "    .dataframe tbody tr th:only-of-type {\n",
       "        vertical-align: middle;\n",
       "    }\n",
       "\n",
       "    .dataframe tbody tr th {\n",
       "        vertical-align: top;\n",
       "    }\n",
       "\n",
       "    .dataframe thead th {\n",
       "        text-align: right;\n",
       "    }\n",
       "</style>\n",
       "<table border=\"1\" class=\"dataframe\">\n",
       "  <thead>\n",
       "    <tr style=\"text-align: right;\">\n",
       "      <th></th>\n",
       "      <th>session</th>\n",
       "      <th>bipolarChannel</th>\n",
       "      <th>frequencyBand</th>\n",
       "      <th>absoluteOrRelativePSD</th>\n",
       "      <th>averagedPSD</th>\n",
       "      <th>rank</th>\n",
       "      <th>subject_hemisphere</th>\n",
       "    </tr>\n",
       "  </thead>\n",
       "  <tbody>\n",
       "    <tr>\n",
       "      <th>0</th>\n",
       "      <td>fu3m</td>\n",
       "      <td>LFP_R_12_STN_MT</td>\n",
       "      <td>highBeta</td>\n",
       "      <td>rawPsd</td>\n",
       "      <td>0.372421</td>\n",
       "      <td>1.0</td>\n",
       "      <td>017_Right</td>\n",
       "    </tr>\n",
       "    <tr>\n",
       "      <th>1</th>\n",
       "      <td>fu3m</td>\n",
       "      <td>LFP_R_01_STN_MT</td>\n",
       "      <td>highBeta</td>\n",
       "      <td>rawPsd</td>\n",
       "      <td>0.122228</td>\n",
       "      <td>3.0</td>\n",
       "      <td>017_Right</td>\n",
       "    </tr>\n",
       "    <tr>\n",
       "      <th>2</th>\n",
       "      <td>fu3m</td>\n",
       "      <td>LFP_R_23_STN_MT</td>\n",
       "      <td>highBeta</td>\n",
       "      <td>rawPsd</td>\n",
       "      <td>0.321456</td>\n",
       "      <td>2.0</td>\n",
       "      <td>017_Right</td>\n",
       "    </tr>\n",
       "    <tr>\n",
       "      <th>3</th>\n",
       "      <td>fu3m</td>\n",
       "      <td>LFP_L_12_STN_MT</td>\n",
       "      <td>highBeta</td>\n",
       "      <td>rawPsd</td>\n",
       "      <td>0.085488</td>\n",
       "      <td>3.0</td>\n",
       "      <td>017_Left</td>\n",
       "    </tr>\n",
       "    <tr>\n",
       "      <th>4</th>\n",
       "      <td>fu3m</td>\n",
       "      <td>LFP_L_01_STN_MT</td>\n",
       "      <td>highBeta</td>\n",
       "      <td>rawPsd</td>\n",
       "      <td>0.101783</td>\n",
       "      <td>2.0</td>\n",
       "      <td>017_Left</td>\n",
       "    </tr>\n",
       "    <tr>\n",
       "      <th>...</th>\n",
       "      <td>...</td>\n",
       "      <td>...</td>\n",
       "      <td>...</td>\n",
       "      <td>...</td>\n",
       "      <td>...</td>\n",
       "      <td>...</td>\n",
       "      <td>...</td>\n",
       "    </tr>\n",
       "    <tr>\n",
       "      <th>67</th>\n",
       "      <td>fu3m</td>\n",
       "      <td>LFP_R_01_STN_MT</td>\n",
       "      <td>highBeta</td>\n",
       "      <td>rawPsd</td>\n",
       "      <td>1.085730</td>\n",
       "      <td>3.0</td>\n",
       "      <td>038_Right</td>\n",
       "    </tr>\n",
       "    <tr>\n",
       "      <th>68</th>\n",
       "      <td>fu3m</td>\n",
       "      <td>LFP_R_23_STN_MT</td>\n",
       "      <td>highBeta</td>\n",
       "      <td>rawPsd</td>\n",
       "      <td>1.340245</td>\n",
       "      <td>2.0</td>\n",
       "      <td>038_Right</td>\n",
       "    </tr>\n",
       "    <tr>\n",
       "      <th>69</th>\n",
       "      <td>fu3m</td>\n",
       "      <td>LFP_L_12_STN_MT</td>\n",
       "      <td>highBeta</td>\n",
       "      <td>rawPsd</td>\n",
       "      <td>1.025313</td>\n",
       "      <td>2.0</td>\n",
       "      <td>038_Left</td>\n",
       "    </tr>\n",
       "    <tr>\n",
       "      <th>70</th>\n",
       "      <td>fu3m</td>\n",
       "      <td>LFP_L_01_STN_MT</td>\n",
       "      <td>highBeta</td>\n",
       "      <td>rawPsd</td>\n",
       "      <td>1.773379</td>\n",
       "      <td>1.0</td>\n",
       "      <td>038_Left</td>\n",
       "    </tr>\n",
       "    <tr>\n",
       "      <th>71</th>\n",
       "      <td>fu3m</td>\n",
       "      <td>LFP_L_23_STN_MT</td>\n",
       "      <td>highBeta</td>\n",
       "      <td>rawPsd</td>\n",
       "      <td>0.101616</td>\n",
       "      <td>3.0</td>\n",
       "      <td>038_Left</td>\n",
       "    </tr>\n",
       "  </tbody>\n",
       "</table>\n",
       "<p>72 rows × 7 columns</p>\n",
       "</div>"
      ],
      "text/plain": [
       "   session   bipolarChannel frequencyBand absoluteOrRelativePSD  averagedPSD  \\\n",
       "0     fu3m  LFP_R_12_STN_MT      highBeta                rawPsd     0.372421   \n",
       "1     fu3m  LFP_R_01_STN_MT      highBeta                rawPsd     0.122228   \n",
       "2     fu3m  LFP_R_23_STN_MT      highBeta                rawPsd     0.321456   \n",
       "3     fu3m  LFP_L_12_STN_MT      highBeta                rawPsd     0.085488   \n",
       "4     fu3m  LFP_L_01_STN_MT      highBeta                rawPsd     0.101783   \n",
       "..     ...              ...           ...                   ...          ...   \n",
       "67    fu3m  LFP_R_01_STN_MT      highBeta                rawPsd     1.085730   \n",
       "68    fu3m  LFP_R_23_STN_MT      highBeta                rawPsd     1.340245   \n",
       "69    fu3m  LFP_L_12_STN_MT      highBeta                rawPsd     1.025313   \n",
       "70    fu3m  LFP_L_01_STN_MT      highBeta                rawPsd     1.773379   \n",
       "71    fu3m  LFP_L_23_STN_MT      highBeta                rawPsd     0.101616   \n",
       "\n",
       "    rank subject_hemisphere  \n",
       "0    1.0          017_Right  \n",
       "1    3.0          017_Right  \n",
       "2    2.0          017_Right  \n",
       "3    3.0           017_Left  \n",
       "4    2.0           017_Left  \n",
       "..   ...                ...  \n",
       "67   3.0          038_Right  \n",
       "68   2.0          038_Right  \n",
       "69   2.0           038_Left  \n",
       "70   1.0           038_Left  \n",
       "71   3.0           038_Left  \n",
       "\n",
       "[72 rows x 7 columns]"
      ]
     },
     "execution_count": 10,
     "metadata": {},
     "output_type": "execute_result"
    }
   ],
   "source": [
    "rankDF[\"ranks_channelGroup_session_dictionary\"][\"Ring_fu3m\"]"
   ]
  },
  {
   "cell_type": "code",
   "execution_count": 11,
   "metadata": {},
   "outputs": [
    {
     "name": "stdout",
     "output_type": "stream",
     "text": [
      "pickle file loaded:  BIPranksChannelGroup_session_dict_psdAverage_lowBeta_rawPsd_band-pass.pickle \n",
      "loaded from:  c:\\Users\\jebe12\\Research\\Longterm_beta_project\\results\n",
      "files:  BIP_relativePsdToRank1_psdAverage_lowBeta_rawPsd_band-pass.pickle \n",
      "BIPpermutationDF_Postop_Fu3m_psdAverage_lowBeta_rawPsd_band-pass.pickle \n",
      "BIPpermutationDF_Postop_Fu12m_psdAverage_lowBeta_rawPsd_band-pass.pickle \n",
      "BIPpermutationDF_Postop_Fu18m_psdAverage_lowBeta_rawPsd_band-pass.pickle \n",
      "BIPpermutationDF_Fu3m_Fu12m_psdAverage_lowBeta_rawPsd_band-pass.pickle \n",
      "BIPpermutationDF_Fu3m_Fu18m_psdAverage_lowBeta_rawPsd_band-pass.pickle \n",
      "BIPpermutationDF_Fu12m_Fu18m_psdAverage_lowBeta_rawPsd_band-pass.pickle \n",
      "written in:  c:\\Users\\jebe12\\Research\\Longterm_beta_project\\results\n"
     ]
    }
   ],
   "source": [
    "# structure and write the files necessary for Permutation -> e.g. \"\\nBIPpermutationDF_Postop_Fu3m_{result}_{freqBand}_{normalization}_{filterSignal}.pickle\n",
    "Write_sessionComparison_Dataframes = BIP_ranks.Permutation_BIPranksRingSegmGroups(\n",
    "    result=\"psdAverage\",\n",
    "    difference=\"rank\",\n",
    "    filterSignal=\"band-pass\",\n",
    "    normalization=\"rawPsd\",\n",
    "    freqBand=\"lowBeta\",\n",
    ")"
   ]
  },
  {
   "cell_type": "code",
   "execution_count": 13,
   "metadata": {},
   "outputs": [
    {
     "name": "stdout",
     "output_type": "stream",
     "text": [
      "pickle file loaded:  BIPranksChannelGroup_session_dict_psdAverage_beta_rawPsd_band-pass.pickle \n",
      "loaded from:  c:\\Users\\jebe12\\Research\\Longterm_beta_project\\results\n"
     ]
    }
   ],
   "source": [
    "load_BIPchannelGroup_sessionPickle = loadResults.load_BIPchannelGroup_sessionPickle(\n",
    "    result=\"psdAverage\",\n",
    "    freqBand=\"beta\",\n",
    "    normalization=\"rawPsd\",\n",
    "    filterSignal=\"band-pass\"\n",
    ")"
   ]
  },
  {
   "cell_type": "code",
   "execution_count": 15,
   "metadata": {},
   "outputs": [],
   "source": [
    "#load_BIPchannelGroup_sessionPickle"
   ]
  },
  {
   "cell_type": "code",
   "execution_count": 16,
   "metadata": {},
   "outputs": [
    {
     "name": "stdout",
     "output_type": "stream",
     "text": [
      "pickle file:  BIPpsdAverage_Ring_rawPsd_band-pass.pickle \n",
      "loaded from:  c:\\Users\\jebe12\\Research\\Longterm_beta_project\\results\n",
      "pickle file:  BIPpsdAverage_SegmInter_rawPsd_band-pass.pickle \n",
      "loaded from:  c:\\Users\\jebe12\\Research\\Longterm_beta_project\\results\n",
      "pickle file:  BIPpsdAverage_SegmIntra_rawPsd_band-pass.pickle \n",
      "loaded from:  c:\\Users\\jebe12\\Research\\Longterm_beta_project\\results\n"
     ]
    }
   ],
   "source": [
    "data = loadResults.load_BIPchannelGroupsPickle(\n",
    "    result=\"psdAverage\",\n",
    "    channelGroup=[\"Ring\", \"SegmInter\", \"SegmIntra\"],\n",
    "    normalization=\"rawPsd\",\n",
    "    filterSignal=\"band-pass\"\n",
    "\n",
    ")"
   ]
  },
  {
   "attachments": {},
   "cell_type": "markdown",
   "metadata": {},
   "source": [
    "Perform Permutation of all session comparisons"
   ]
  },
  {
   "cell_type": "code",
   "execution_count": 18,
   "metadata": {},
   "outputs": [],
   "source": [
    "permute_BIP_ranks = Permute_ranks.PermutationTest_BIPchannelGroups(\n",
    "    data2permute=\"psdAverage\",\n",
    "    filterSignal=\"band-pass\",\n",
    "    normalization=\"rawPsd\",\n",
    "    freqBand=\"highBeta\"\n",
    ")"
   ]
  },
  {
   "cell_type": "code",
   "execution_count": null,
   "metadata": {},
   "outputs": [],
   "source": [
    "permute_BIP_ranks"
   ]
  },
  {
   "cell_type": "code",
   "execution_count": null,
   "metadata": {},
   "outputs": [],
   "source": [
    "# plot p values of permutation test\n",
    "\n",
    "Ring_comparisons = permute_BIP_ranks.loc[(permute_BIP_ranks.channelGroup==\"Ring\")]\n",
    "SegmInter_comparisons = permute_BIP_ranks.loc[(permute_BIP_ranks.channelGroup==\"SegmInter\")]\n",
    "SegmIntra_comparisons = permute_BIP_ranks.loc[(permute_BIP_ranks.channelGroup==\"SegmIntra\")]\n",
    "\n",
    "fig=plt.figure()\n",
    "plt.scatter(Ring_comparisons[\"comparison\"], Ring_comparisons[\"p-value\"])\n",
    "plt.ylabel(\"p-value\")\n",
    "plt.ylim(-0.05, 0.17)\n",
    "\n",
    "plt.show()\n"
   ]
  },
  {
   "cell_type": "code",
   "execution_count": null,
   "metadata": {},
   "outputs": [],
   "source": [
    "# use function Permutation_BIPranksRingSegmGroups to restructure the Dataframes with the rankings and create comparison Dataframes \n",
    "\n",
    "Permutation_dict = BIP_ranks.Permutation_BIPranksRingSegmGroups(\n",
    "    result=\"psdAverage\",\n",
    "    difference=\"rank\",\n",
    "    filterSignal=\"band-pass\",\n",
    "    normalization=\"rawPsd\",\n",
    "    freqBand=\"beta\"\n",
    ")"
   ]
  },
  {
   "cell_type": "code",
   "execution_count": null,
   "metadata": {},
   "outputs": [],
   "source": [
    "data = loadResults.load_BIPpermutationComparisonsPickle(\n",
    "    result=\"psdAverage\",\n",
    "    filterSignal=\"band-pass\",\n",
    "    normalization=\"rawPsd\",\n",
    "    freqBand=\"beta\"\n",
    ")"
   ]
  },
  {
   "attachments": {},
   "cell_type": "markdown",
   "metadata": {},
   "source": [
    "Plot the Heatmap of pvalues between the Permutation results of session comparisons"
   ]
  },
  {
   "cell_type": "code",
   "execution_count": 8,
   "metadata": {},
   "outputs": [],
   "source": [
    "result = loadResults.load_BIPpermutation_ranks_result(\n",
    "        data2permute=\"psdAverage\",\n",
    "        filterSignal=\"band-pass\",\n",
    "        normalization=\"rawPsd\",\n",
    "        freqBand=\"beta\"\n",
    "        )\n",
    "    "
   ]
  },
  {
   "cell_type": "code",
   "execution_count": 10,
   "metadata": {},
   "outputs": [
    {
     "data": {
      "text/html": [
       "<div>\n",
       "<style scoped>\n",
       "    .dataframe tbody tr th:only-of-type {\n",
       "        vertical-align: middle;\n",
       "    }\n",
       "\n",
       "    .dataframe tbody tr th {\n",
       "        vertical-align: top;\n",
       "    }\n",
       "\n",
       "    .dataframe thead th {\n",
       "        text-align: right;\n",
       "    }\n",
       "</style>\n",
       "<table border=\"1\" class=\"dataframe\">\n",
       "  <thead>\n",
       "    <tr style=\"text-align: right;\">\n",
       "      <th></th>\n",
       "      <th>comparison</th>\n",
       "      <th>channelGroup</th>\n",
       "      <th>MEAN_differenceOfRanks</th>\n",
       "      <th>distanceMEANreal_MEANrandom</th>\n",
       "      <th>p-value</th>\n",
       "    </tr>\n",
       "  </thead>\n",
       "  <tbody>\n",
       "    <tr>\n",
       "      <th>Postop_Postop_Ring</th>\n",
       "      <td>Postop_Postop</td>\n",
       "      <td>Ring</td>\n",
       "      <td>0.0</td>\n",
       "      <td>-5.560814</td>\n",
       "      <td>0.000000013425985</td>\n",
       "    </tr>\n",
       "    <tr>\n",
       "      <th>Postop_Postop_SegmInter</th>\n",
       "      <td>Postop_Postop</td>\n",
       "      <td>SegmInter</td>\n",
       "      <td>0.0</td>\n",
       "      <td>-5.698809</td>\n",
       "      <td>0.000000006032364</td>\n",
       "    </tr>\n",
       "    <tr>\n",
       "      <th>Postop_Postop_SegmIntra</th>\n",
       "      <td>Postop_Postop</td>\n",
       "      <td>SegmIntra</td>\n",
       "      <td>0.0</td>\n",
       "      <td>-9.935757</td>\n",
       "      <td>0.000000000000000</td>\n",
       "    </tr>\n",
       "    <tr>\n",
       "      <th>Postop_Fu3m_Ring</th>\n",
       "      <td>Postop_Fu3m</td>\n",
       "      <td>Ring</td>\n",
       "      <td>0.533333</td>\n",
       "      <td>-2.151105</td>\n",
       "      <td>0.015733955976777</td>\n",
       "    </tr>\n",
       "    <tr>\n",
       "      <th>Postop_Fu3m_SegmInter</th>\n",
       "      <td>Postop_Fu3m</td>\n",
       "      <td>SegmInter</td>\n",
       "      <td>0.4</td>\n",
       "      <td>-3.280348</td>\n",
       "      <td>0.000518396075470</td>\n",
       "    </tr>\n",
       "  </tbody>\n",
       "</table>\n",
       "</div>"
      ],
      "text/plain": [
       "                            comparison channelGroup MEAN_differenceOfRanks  \\\n",
       "Postop_Postop_Ring       Postop_Postop         Ring                    0.0   \n",
       "Postop_Postop_SegmInter  Postop_Postop    SegmInter                    0.0   \n",
       "Postop_Postop_SegmIntra  Postop_Postop    SegmIntra                    0.0   \n",
       "Postop_Fu3m_Ring           Postop_Fu3m         Ring               0.533333   \n",
       "Postop_Fu3m_SegmInter      Postop_Fu3m    SegmInter                    0.4   \n",
       "\n",
       "                        distanceMEANreal_MEANrandom            p-value  \n",
       "Postop_Postop_Ring                        -5.560814  0.000000013425985  \n",
       "Postop_Postop_SegmInter                   -5.698809  0.000000006032364  \n",
       "Postop_Postop_SegmIntra                   -9.935757  0.000000000000000  \n",
       "Postop_Fu3m_Ring                          -2.151105  0.015733955976777  \n",
       "Postop_Fu3m_SegmInter                     -3.280348  0.000518396075470  "
      ]
     },
     "execution_count": 10,
     "metadata": {},
     "output_type": "execute_result"
    }
   ],
   "source": [
    "result.head()"
   ]
  },
  {
   "cell_type": "code",
   "execution_count": 19,
   "metadata": {},
   "outputs": [
    {
     "data": {
      "application/vnd.plotly.v1+json": {
       "config": {
        "plotlyServerURL": "https://plot.ly"
       },
       "data": [
        {
         "coloraxis": "coloraxis",
         "hovertemplate": "session 1: %{x}<br>session 2: %{y}<br>p-value of difference real vs. random: %{z}<extra></extra>",
         "name": "0",
         "type": "heatmap",
         "x": [
          "postop",
          "fu3m",
          "fu12m",
          "fu18m"
         ],
         "xaxis": "x",
         "y": [
          "postop",
          "fu3m",
          "fu12m",
          "fu18m"
         ],
         "yaxis": "y",
         "z": [
          [
           1.2e-14,
           0.000013614208014,
           0.022257848107952,
           0.049224663111193
          ],
          [
           0.000015756950376,
           0,
           0.000013755900142,
           3.9443442e-8
          ],
          [
           0.031454114824219,
           0.000007932222641,
           2e-15,
           0.000005658451292
          ],
          [
           0.05759746081713,
           1.86002679e-7,
           0.00000871635818,
           7.432054e-9
          ]
         ]
        }
       ],
       "layout": {
        "coloraxis": {
         "colorbar": {
          "title": {
           "text": "p-value of difference real vs. random"
          }
         },
         "colorscale": [
          [
           0,
           "#0d0887"
          ],
          [
           0.1111111111111111,
           "#46039f"
          ],
          [
           0.2222222222222222,
           "#7201a8"
          ],
          [
           0.3333333333333333,
           "#9c179e"
          ],
          [
           0.4444444444444444,
           "#bd3786"
          ],
          [
           0.5555555555555556,
           "#d8576b"
          ],
          [
           0.6666666666666666,
           "#ed7953"
          ],
          [
           0.7777777777777778,
           "#fb9f3a"
          ],
          [
           0.8888888888888888,
           "#fdca26"
          ],
          [
           1,
           "#f0f921"
          ]
         ]
        },
        "template": {
         "data": {
          "bar": [
           {
            "error_x": {
             "color": "#2a3f5f"
            },
            "error_y": {
             "color": "#2a3f5f"
            },
            "marker": {
             "line": {
              "color": "#E5ECF6",
              "width": 0.5
             },
             "pattern": {
              "fillmode": "overlay",
              "size": 10,
              "solidity": 0.2
             }
            },
            "type": "bar"
           }
          ],
          "barpolar": [
           {
            "marker": {
             "line": {
              "color": "#E5ECF6",
              "width": 0.5
             },
             "pattern": {
              "fillmode": "overlay",
              "size": 10,
              "solidity": 0.2
             }
            },
            "type": "barpolar"
           }
          ],
          "carpet": [
           {
            "aaxis": {
             "endlinecolor": "#2a3f5f",
             "gridcolor": "white",
             "linecolor": "white",
             "minorgridcolor": "white",
             "startlinecolor": "#2a3f5f"
            },
            "baxis": {
             "endlinecolor": "#2a3f5f",
             "gridcolor": "white",
             "linecolor": "white",
             "minorgridcolor": "white",
             "startlinecolor": "#2a3f5f"
            },
            "type": "carpet"
           }
          ],
          "choropleth": [
           {
            "colorbar": {
             "outlinewidth": 0,
             "ticks": ""
            },
            "type": "choropleth"
           }
          ],
          "contour": [
           {
            "colorbar": {
             "outlinewidth": 0,
             "ticks": ""
            },
            "colorscale": [
             [
              0,
              "#0d0887"
             ],
             [
              0.1111111111111111,
              "#46039f"
             ],
             [
              0.2222222222222222,
              "#7201a8"
             ],
             [
              0.3333333333333333,
              "#9c179e"
             ],
             [
              0.4444444444444444,
              "#bd3786"
             ],
             [
              0.5555555555555556,
              "#d8576b"
             ],
             [
              0.6666666666666666,
              "#ed7953"
             ],
             [
              0.7777777777777778,
              "#fb9f3a"
             ],
             [
              0.8888888888888888,
              "#fdca26"
             ],
             [
              1,
              "#f0f921"
             ]
            ],
            "type": "contour"
           }
          ],
          "contourcarpet": [
           {
            "colorbar": {
             "outlinewidth": 0,
             "ticks": ""
            },
            "type": "contourcarpet"
           }
          ],
          "heatmap": [
           {
            "colorbar": {
             "outlinewidth": 0,
             "ticks": ""
            },
            "colorscale": [
             [
              0,
              "#0d0887"
             ],
             [
              0.1111111111111111,
              "#46039f"
             ],
             [
              0.2222222222222222,
              "#7201a8"
             ],
             [
              0.3333333333333333,
              "#9c179e"
             ],
             [
              0.4444444444444444,
              "#bd3786"
             ],
             [
              0.5555555555555556,
              "#d8576b"
             ],
             [
              0.6666666666666666,
              "#ed7953"
             ],
             [
              0.7777777777777778,
              "#fb9f3a"
             ],
             [
              0.8888888888888888,
              "#fdca26"
             ],
             [
              1,
              "#f0f921"
             ]
            ],
            "type": "heatmap"
           }
          ],
          "heatmapgl": [
           {
            "colorbar": {
             "outlinewidth": 0,
             "ticks": ""
            },
            "colorscale": [
             [
              0,
              "#0d0887"
             ],
             [
              0.1111111111111111,
              "#46039f"
             ],
             [
              0.2222222222222222,
              "#7201a8"
             ],
             [
              0.3333333333333333,
              "#9c179e"
             ],
             [
              0.4444444444444444,
              "#bd3786"
             ],
             [
              0.5555555555555556,
              "#d8576b"
             ],
             [
              0.6666666666666666,
              "#ed7953"
             ],
             [
              0.7777777777777778,
              "#fb9f3a"
             ],
             [
              0.8888888888888888,
              "#fdca26"
             ],
             [
              1,
              "#f0f921"
             ]
            ],
            "type": "heatmapgl"
           }
          ],
          "histogram": [
           {
            "marker": {
             "pattern": {
              "fillmode": "overlay",
              "size": 10,
              "solidity": 0.2
             }
            },
            "type": "histogram"
           }
          ],
          "histogram2d": [
           {
            "colorbar": {
             "outlinewidth": 0,
             "ticks": ""
            },
            "colorscale": [
             [
              0,
              "#0d0887"
             ],
             [
              0.1111111111111111,
              "#46039f"
             ],
             [
              0.2222222222222222,
              "#7201a8"
             ],
             [
              0.3333333333333333,
              "#9c179e"
             ],
             [
              0.4444444444444444,
              "#bd3786"
             ],
             [
              0.5555555555555556,
              "#d8576b"
             ],
             [
              0.6666666666666666,
              "#ed7953"
             ],
             [
              0.7777777777777778,
              "#fb9f3a"
             ],
             [
              0.8888888888888888,
              "#fdca26"
             ],
             [
              1,
              "#f0f921"
             ]
            ],
            "type": "histogram2d"
           }
          ],
          "histogram2dcontour": [
           {
            "colorbar": {
             "outlinewidth": 0,
             "ticks": ""
            },
            "colorscale": [
             [
              0,
              "#0d0887"
             ],
             [
              0.1111111111111111,
              "#46039f"
             ],
             [
              0.2222222222222222,
              "#7201a8"
             ],
             [
              0.3333333333333333,
              "#9c179e"
             ],
             [
              0.4444444444444444,
              "#bd3786"
             ],
             [
              0.5555555555555556,
              "#d8576b"
             ],
             [
              0.6666666666666666,
              "#ed7953"
             ],
             [
              0.7777777777777778,
              "#fb9f3a"
             ],
             [
              0.8888888888888888,
              "#fdca26"
             ],
             [
              1,
              "#f0f921"
             ]
            ],
            "type": "histogram2dcontour"
           }
          ],
          "mesh3d": [
           {
            "colorbar": {
             "outlinewidth": 0,
             "ticks": ""
            },
            "type": "mesh3d"
           }
          ],
          "parcoords": [
           {
            "line": {
             "colorbar": {
              "outlinewidth": 0,
              "ticks": ""
             }
            },
            "type": "parcoords"
           }
          ],
          "pie": [
           {
            "automargin": true,
            "type": "pie"
           }
          ],
          "scatter": [
           {
            "fillpattern": {
             "fillmode": "overlay",
             "size": 10,
             "solidity": 0.2
            },
            "type": "scatter"
           }
          ],
          "scatter3d": [
           {
            "line": {
             "colorbar": {
              "outlinewidth": 0,
              "ticks": ""
             }
            },
            "marker": {
             "colorbar": {
              "outlinewidth": 0,
              "ticks": ""
             }
            },
            "type": "scatter3d"
           }
          ],
          "scattercarpet": [
           {
            "marker": {
             "colorbar": {
              "outlinewidth": 0,
              "ticks": ""
             }
            },
            "type": "scattercarpet"
           }
          ],
          "scattergeo": [
           {
            "marker": {
             "colorbar": {
              "outlinewidth": 0,
              "ticks": ""
             }
            },
            "type": "scattergeo"
           }
          ],
          "scattergl": [
           {
            "marker": {
             "colorbar": {
              "outlinewidth": 0,
              "ticks": ""
             }
            },
            "type": "scattergl"
           }
          ],
          "scattermapbox": [
           {
            "marker": {
             "colorbar": {
              "outlinewidth": 0,
              "ticks": ""
             }
            },
            "type": "scattermapbox"
           }
          ],
          "scatterpolar": [
           {
            "marker": {
             "colorbar": {
              "outlinewidth": 0,
              "ticks": ""
             }
            },
            "type": "scatterpolar"
           }
          ],
          "scatterpolargl": [
           {
            "marker": {
             "colorbar": {
              "outlinewidth": 0,
              "ticks": ""
             }
            },
            "type": "scatterpolargl"
           }
          ],
          "scatterternary": [
           {
            "marker": {
             "colorbar": {
              "outlinewidth": 0,
              "ticks": ""
             }
            },
            "type": "scatterternary"
           }
          ],
          "surface": [
           {
            "colorbar": {
             "outlinewidth": 0,
             "ticks": ""
            },
            "colorscale": [
             [
              0,
              "#0d0887"
             ],
             [
              0.1111111111111111,
              "#46039f"
             ],
             [
              0.2222222222222222,
              "#7201a8"
             ],
             [
              0.3333333333333333,
              "#9c179e"
             ],
             [
              0.4444444444444444,
              "#bd3786"
             ],
             [
              0.5555555555555556,
              "#d8576b"
             ],
             [
              0.6666666666666666,
              "#ed7953"
             ],
             [
              0.7777777777777778,
              "#fb9f3a"
             ],
             [
              0.8888888888888888,
              "#fdca26"
             ],
             [
              1,
              "#f0f921"
             ]
            ],
            "type": "surface"
           }
          ],
          "table": [
           {
            "cells": {
             "fill": {
              "color": "#EBF0F8"
             },
             "line": {
              "color": "white"
             }
            },
            "header": {
             "fill": {
              "color": "#C8D4E3"
             },
             "line": {
              "color": "white"
             }
            },
            "type": "table"
           }
          ]
         },
         "layout": {
          "annotationdefaults": {
           "arrowcolor": "#2a3f5f",
           "arrowhead": 0,
           "arrowwidth": 1
          },
          "autotypenumbers": "strict",
          "coloraxis": {
           "colorbar": {
            "outlinewidth": 0,
            "ticks": ""
           }
          },
          "colorscale": {
           "diverging": [
            [
             0,
             "#8e0152"
            ],
            [
             0.1,
             "#c51b7d"
            ],
            [
             0.2,
             "#de77ae"
            ],
            [
             0.3,
             "#f1b6da"
            ],
            [
             0.4,
             "#fde0ef"
            ],
            [
             0.5,
             "#f7f7f7"
            ],
            [
             0.6,
             "#e6f5d0"
            ],
            [
             0.7,
             "#b8e186"
            ],
            [
             0.8,
             "#7fbc41"
            ],
            [
             0.9,
             "#4d9221"
            ],
            [
             1,
             "#276419"
            ]
           ],
           "sequential": [
            [
             0,
             "#0d0887"
            ],
            [
             0.1111111111111111,
             "#46039f"
            ],
            [
             0.2222222222222222,
             "#7201a8"
            ],
            [
             0.3333333333333333,
             "#9c179e"
            ],
            [
             0.4444444444444444,
             "#bd3786"
            ],
            [
             0.5555555555555556,
             "#d8576b"
            ],
            [
             0.6666666666666666,
             "#ed7953"
            ],
            [
             0.7777777777777778,
             "#fb9f3a"
            ],
            [
             0.8888888888888888,
             "#fdca26"
            ],
            [
             1,
             "#f0f921"
            ]
           ],
           "sequentialminus": [
            [
             0,
             "#0d0887"
            ],
            [
             0.1111111111111111,
             "#46039f"
            ],
            [
             0.2222222222222222,
             "#7201a8"
            ],
            [
             0.3333333333333333,
             "#9c179e"
            ],
            [
             0.4444444444444444,
             "#bd3786"
            ],
            [
             0.5555555555555556,
             "#d8576b"
            ],
            [
             0.6666666666666666,
             "#ed7953"
            ],
            [
             0.7777777777777778,
             "#fb9f3a"
            ],
            [
             0.8888888888888888,
             "#fdca26"
            ],
            [
             1,
             "#f0f921"
            ]
           ]
          },
          "colorway": [
           "#636efa",
           "#EF553B",
           "#00cc96",
           "#ab63fa",
           "#FFA15A",
           "#19d3f3",
           "#FF6692",
           "#B6E880",
           "#FF97FF",
           "#FECB52"
          ],
          "font": {
           "color": "#2a3f5f"
          },
          "geo": {
           "bgcolor": "white",
           "lakecolor": "white",
           "landcolor": "#E5ECF6",
           "showlakes": true,
           "showland": true,
           "subunitcolor": "white"
          },
          "hoverlabel": {
           "align": "left"
          },
          "hovermode": "closest",
          "mapbox": {
           "style": "light"
          },
          "paper_bgcolor": "white",
          "plot_bgcolor": "#E5ECF6",
          "polar": {
           "angularaxis": {
            "gridcolor": "white",
            "linecolor": "white",
            "ticks": ""
           },
           "bgcolor": "#E5ECF6",
           "radialaxis": {
            "gridcolor": "white",
            "linecolor": "white",
            "ticks": ""
           }
          },
          "scene": {
           "xaxis": {
            "backgroundcolor": "#E5ECF6",
            "gridcolor": "white",
            "gridwidth": 2,
            "linecolor": "white",
            "showbackground": true,
            "ticks": "",
            "zerolinecolor": "white"
           },
           "yaxis": {
            "backgroundcolor": "#E5ECF6",
            "gridcolor": "white",
            "gridwidth": 2,
            "linecolor": "white",
            "showbackground": true,
            "ticks": "",
            "zerolinecolor": "white"
           },
           "zaxis": {
            "backgroundcolor": "#E5ECF6",
            "gridcolor": "white",
            "gridwidth": 2,
            "linecolor": "white",
            "showbackground": true,
            "ticks": "",
            "zerolinecolor": "white"
           }
          },
          "shapedefaults": {
           "line": {
            "color": "#2a3f5f"
           }
          },
          "ternary": {
           "aaxis": {
            "gridcolor": "white",
            "linecolor": "white",
            "ticks": ""
           },
           "baxis": {
            "gridcolor": "white",
            "linecolor": "white",
            "ticks": ""
           },
           "bgcolor": "#E5ECF6",
           "caxis": {
            "gridcolor": "white",
            "linecolor": "white",
            "ticks": ""
           }
          },
          "title": {
           "x": 0.05
          },
          "xaxis": {
           "automargin": true,
           "gridcolor": "white",
           "linecolor": "white",
           "ticks": "",
           "title": {
            "standoff": 15
           },
           "zerolinecolor": "white",
           "zerolinewidth": 2
          },
          "yaxis": {
           "automargin": true,
           "gridcolor": "white",
           "linecolor": "white",
           "ticks": "",
           "title": {
            "standoff": 15
           },
           "zerolinecolor": "white",
           "zerolinewidth": 2
          }
         }
        },
        "title": {
         "text": "Ring channel group, p-values highBeta power ranks",
         "x": 0.5,
         "xanchor": "center",
         "y": 0.98,
         "yanchor": "top"
        },
        "xaxis": {
         "anchor": "y",
         "constrain": "domain",
         "domain": [
          0,
          1
         ],
         "scaleanchor": "y",
         "side": "top",
         "title": {
          "text": "session 1"
         }
        },
        "yaxis": {
         "anchor": "x",
         "autorange": "reversed",
         "constrain": "domain",
         "domain": [
          0,
          1
         ],
         "title": {
          "text": "session 2"
         }
        }
       }
      }
     },
     "metadata": {},
     "output_type": "display_data"
    },
    {
     "data": {
      "application/vnd.plotly.v1+json": {
       "config": {
        "plotlyServerURL": "https://plot.ly"
       },
       "data": [
        {
         "coloraxis": "coloraxis",
         "hovertemplate": "session 1: %{x}<br>session 2: %{y}<br>p-value of difference real vs. random: %{z}<extra></extra>",
         "name": "0",
         "type": "heatmap",
         "x": [
          "postop",
          "fu3m",
          "fu12m",
          "fu18m"
         ],
         "xaxis": "x",
         "y": [
          "postop",
          "fu3m",
          "fu12m",
          "fu18m"
         ],
         "yaxis": "y",
         "z": [
          [
           5e-15,
           0.000032672441473,
           0.000013149501053,
           0.178365272216677
          ],
          [
           0.000017123745422,
           0,
           2.7704067e-8,
           0.000268038751697
          ],
          [
           0.000011073685307,
           3.6825593e-8,
           0,
           0.000122484012023
          ],
          [
           0.193852733003529,
           0.000255063492383,
           0.000190888619101,
           4.832255e-9
          ]
         ]
        }
       ],
       "layout": {
        "coloraxis": {
         "colorbar": {
          "title": {
           "text": "p-value of difference real vs. random"
          }
         },
         "colorscale": [
          [
           0,
           "#0d0887"
          ],
          [
           0.1111111111111111,
           "#46039f"
          ],
          [
           0.2222222222222222,
           "#7201a8"
          ],
          [
           0.3333333333333333,
           "#9c179e"
          ],
          [
           0.4444444444444444,
           "#bd3786"
          ],
          [
           0.5555555555555556,
           "#d8576b"
          ],
          [
           0.6666666666666666,
           "#ed7953"
          ],
          [
           0.7777777777777778,
           "#fb9f3a"
          ],
          [
           0.8888888888888888,
           "#fdca26"
          ],
          [
           1,
           "#f0f921"
          ]
         ]
        },
        "template": {
         "data": {
          "bar": [
           {
            "error_x": {
             "color": "#2a3f5f"
            },
            "error_y": {
             "color": "#2a3f5f"
            },
            "marker": {
             "line": {
              "color": "#E5ECF6",
              "width": 0.5
             },
             "pattern": {
              "fillmode": "overlay",
              "size": 10,
              "solidity": 0.2
             }
            },
            "type": "bar"
           }
          ],
          "barpolar": [
           {
            "marker": {
             "line": {
              "color": "#E5ECF6",
              "width": 0.5
             },
             "pattern": {
              "fillmode": "overlay",
              "size": 10,
              "solidity": 0.2
             }
            },
            "type": "barpolar"
           }
          ],
          "carpet": [
           {
            "aaxis": {
             "endlinecolor": "#2a3f5f",
             "gridcolor": "white",
             "linecolor": "white",
             "minorgridcolor": "white",
             "startlinecolor": "#2a3f5f"
            },
            "baxis": {
             "endlinecolor": "#2a3f5f",
             "gridcolor": "white",
             "linecolor": "white",
             "minorgridcolor": "white",
             "startlinecolor": "#2a3f5f"
            },
            "type": "carpet"
           }
          ],
          "choropleth": [
           {
            "colorbar": {
             "outlinewidth": 0,
             "ticks": ""
            },
            "type": "choropleth"
           }
          ],
          "contour": [
           {
            "colorbar": {
             "outlinewidth": 0,
             "ticks": ""
            },
            "colorscale": [
             [
              0,
              "#0d0887"
             ],
             [
              0.1111111111111111,
              "#46039f"
             ],
             [
              0.2222222222222222,
              "#7201a8"
             ],
             [
              0.3333333333333333,
              "#9c179e"
             ],
             [
              0.4444444444444444,
              "#bd3786"
             ],
             [
              0.5555555555555556,
              "#d8576b"
             ],
             [
              0.6666666666666666,
              "#ed7953"
             ],
             [
              0.7777777777777778,
              "#fb9f3a"
             ],
             [
              0.8888888888888888,
              "#fdca26"
             ],
             [
              1,
              "#f0f921"
             ]
            ],
            "type": "contour"
           }
          ],
          "contourcarpet": [
           {
            "colorbar": {
             "outlinewidth": 0,
             "ticks": ""
            },
            "type": "contourcarpet"
           }
          ],
          "heatmap": [
           {
            "colorbar": {
             "outlinewidth": 0,
             "ticks": ""
            },
            "colorscale": [
             [
              0,
              "#0d0887"
             ],
             [
              0.1111111111111111,
              "#46039f"
             ],
             [
              0.2222222222222222,
              "#7201a8"
             ],
             [
              0.3333333333333333,
              "#9c179e"
             ],
             [
              0.4444444444444444,
              "#bd3786"
             ],
             [
              0.5555555555555556,
              "#d8576b"
             ],
             [
              0.6666666666666666,
              "#ed7953"
             ],
             [
              0.7777777777777778,
              "#fb9f3a"
             ],
             [
              0.8888888888888888,
              "#fdca26"
             ],
             [
              1,
              "#f0f921"
             ]
            ],
            "type": "heatmap"
           }
          ],
          "heatmapgl": [
           {
            "colorbar": {
             "outlinewidth": 0,
             "ticks": ""
            },
            "colorscale": [
             [
              0,
              "#0d0887"
             ],
             [
              0.1111111111111111,
              "#46039f"
             ],
             [
              0.2222222222222222,
              "#7201a8"
             ],
             [
              0.3333333333333333,
              "#9c179e"
             ],
             [
              0.4444444444444444,
              "#bd3786"
             ],
             [
              0.5555555555555556,
              "#d8576b"
             ],
             [
              0.6666666666666666,
              "#ed7953"
             ],
             [
              0.7777777777777778,
              "#fb9f3a"
             ],
             [
              0.8888888888888888,
              "#fdca26"
             ],
             [
              1,
              "#f0f921"
             ]
            ],
            "type": "heatmapgl"
           }
          ],
          "histogram": [
           {
            "marker": {
             "pattern": {
              "fillmode": "overlay",
              "size": 10,
              "solidity": 0.2
             }
            },
            "type": "histogram"
           }
          ],
          "histogram2d": [
           {
            "colorbar": {
             "outlinewidth": 0,
             "ticks": ""
            },
            "colorscale": [
             [
              0,
              "#0d0887"
             ],
             [
              0.1111111111111111,
              "#46039f"
             ],
             [
              0.2222222222222222,
              "#7201a8"
             ],
             [
              0.3333333333333333,
              "#9c179e"
             ],
             [
              0.4444444444444444,
              "#bd3786"
             ],
             [
              0.5555555555555556,
              "#d8576b"
             ],
             [
              0.6666666666666666,
              "#ed7953"
             ],
             [
              0.7777777777777778,
              "#fb9f3a"
             ],
             [
              0.8888888888888888,
              "#fdca26"
             ],
             [
              1,
              "#f0f921"
             ]
            ],
            "type": "histogram2d"
           }
          ],
          "histogram2dcontour": [
           {
            "colorbar": {
             "outlinewidth": 0,
             "ticks": ""
            },
            "colorscale": [
             [
              0,
              "#0d0887"
             ],
             [
              0.1111111111111111,
              "#46039f"
             ],
             [
              0.2222222222222222,
              "#7201a8"
             ],
             [
              0.3333333333333333,
              "#9c179e"
             ],
             [
              0.4444444444444444,
              "#bd3786"
             ],
             [
              0.5555555555555556,
              "#d8576b"
             ],
             [
              0.6666666666666666,
              "#ed7953"
             ],
             [
              0.7777777777777778,
              "#fb9f3a"
             ],
             [
              0.8888888888888888,
              "#fdca26"
             ],
             [
              1,
              "#f0f921"
             ]
            ],
            "type": "histogram2dcontour"
           }
          ],
          "mesh3d": [
           {
            "colorbar": {
             "outlinewidth": 0,
             "ticks": ""
            },
            "type": "mesh3d"
           }
          ],
          "parcoords": [
           {
            "line": {
             "colorbar": {
              "outlinewidth": 0,
              "ticks": ""
             }
            },
            "type": "parcoords"
           }
          ],
          "pie": [
           {
            "automargin": true,
            "type": "pie"
           }
          ],
          "scatter": [
           {
            "fillpattern": {
             "fillmode": "overlay",
             "size": 10,
             "solidity": 0.2
            },
            "type": "scatter"
           }
          ],
          "scatter3d": [
           {
            "line": {
             "colorbar": {
              "outlinewidth": 0,
              "ticks": ""
             }
            },
            "marker": {
             "colorbar": {
              "outlinewidth": 0,
              "ticks": ""
             }
            },
            "type": "scatter3d"
           }
          ],
          "scattercarpet": [
           {
            "marker": {
             "colorbar": {
              "outlinewidth": 0,
              "ticks": ""
             }
            },
            "type": "scattercarpet"
           }
          ],
          "scattergeo": [
           {
            "marker": {
             "colorbar": {
              "outlinewidth": 0,
              "ticks": ""
             }
            },
            "type": "scattergeo"
           }
          ],
          "scattergl": [
           {
            "marker": {
             "colorbar": {
              "outlinewidth": 0,
              "ticks": ""
             }
            },
            "type": "scattergl"
           }
          ],
          "scattermapbox": [
           {
            "marker": {
             "colorbar": {
              "outlinewidth": 0,
              "ticks": ""
             }
            },
            "type": "scattermapbox"
           }
          ],
          "scatterpolar": [
           {
            "marker": {
             "colorbar": {
              "outlinewidth": 0,
              "ticks": ""
             }
            },
            "type": "scatterpolar"
           }
          ],
          "scatterpolargl": [
           {
            "marker": {
             "colorbar": {
              "outlinewidth": 0,
              "ticks": ""
             }
            },
            "type": "scatterpolargl"
           }
          ],
          "scatterternary": [
           {
            "marker": {
             "colorbar": {
              "outlinewidth": 0,
              "ticks": ""
             }
            },
            "type": "scatterternary"
           }
          ],
          "surface": [
           {
            "colorbar": {
             "outlinewidth": 0,
             "ticks": ""
            },
            "colorscale": [
             [
              0,
              "#0d0887"
             ],
             [
              0.1111111111111111,
              "#46039f"
             ],
             [
              0.2222222222222222,
              "#7201a8"
             ],
             [
              0.3333333333333333,
              "#9c179e"
             ],
             [
              0.4444444444444444,
              "#bd3786"
             ],
             [
              0.5555555555555556,
              "#d8576b"
             ],
             [
              0.6666666666666666,
              "#ed7953"
             ],
             [
              0.7777777777777778,
              "#fb9f3a"
             ],
             [
              0.8888888888888888,
              "#fdca26"
             ],
             [
              1,
              "#f0f921"
             ]
            ],
            "type": "surface"
           }
          ],
          "table": [
           {
            "cells": {
             "fill": {
              "color": "#EBF0F8"
             },
             "line": {
              "color": "white"
             }
            },
            "header": {
             "fill": {
              "color": "#C8D4E3"
             },
             "line": {
              "color": "white"
             }
            },
            "type": "table"
           }
          ]
         },
         "layout": {
          "annotationdefaults": {
           "arrowcolor": "#2a3f5f",
           "arrowhead": 0,
           "arrowwidth": 1
          },
          "autotypenumbers": "strict",
          "coloraxis": {
           "colorbar": {
            "outlinewidth": 0,
            "ticks": ""
           }
          },
          "colorscale": {
           "diverging": [
            [
             0,
             "#8e0152"
            ],
            [
             0.1,
             "#c51b7d"
            ],
            [
             0.2,
             "#de77ae"
            ],
            [
             0.3,
             "#f1b6da"
            ],
            [
             0.4,
             "#fde0ef"
            ],
            [
             0.5,
             "#f7f7f7"
            ],
            [
             0.6,
             "#e6f5d0"
            ],
            [
             0.7,
             "#b8e186"
            ],
            [
             0.8,
             "#7fbc41"
            ],
            [
             0.9,
             "#4d9221"
            ],
            [
             1,
             "#276419"
            ]
           ],
           "sequential": [
            [
             0,
             "#0d0887"
            ],
            [
             0.1111111111111111,
             "#46039f"
            ],
            [
             0.2222222222222222,
             "#7201a8"
            ],
            [
             0.3333333333333333,
             "#9c179e"
            ],
            [
             0.4444444444444444,
             "#bd3786"
            ],
            [
             0.5555555555555556,
             "#d8576b"
            ],
            [
             0.6666666666666666,
             "#ed7953"
            ],
            [
             0.7777777777777778,
             "#fb9f3a"
            ],
            [
             0.8888888888888888,
             "#fdca26"
            ],
            [
             1,
             "#f0f921"
            ]
           ],
           "sequentialminus": [
            [
             0,
             "#0d0887"
            ],
            [
             0.1111111111111111,
             "#46039f"
            ],
            [
             0.2222222222222222,
             "#7201a8"
            ],
            [
             0.3333333333333333,
             "#9c179e"
            ],
            [
             0.4444444444444444,
             "#bd3786"
            ],
            [
             0.5555555555555556,
             "#d8576b"
            ],
            [
             0.6666666666666666,
             "#ed7953"
            ],
            [
             0.7777777777777778,
             "#fb9f3a"
            ],
            [
             0.8888888888888888,
             "#fdca26"
            ],
            [
             1,
             "#f0f921"
            ]
           ]
          },
          "colorway": [
           "#636efa",
           "#EF553B",
           "#00cc96",
           "#ab63fa",
           "#FFA15A",
           "#19d3f3",
           "#FF6692",
           "#B6E880",
           "#FF97FF",
           "#FECB52"
          ],
          "font": {
           "color": "#2a3f5f"
          },
          "geo": {
           "bgcolor": "white",
           "lakecolor": "white",
           "landcolor": "#E5ECF6",
           "showlakes": true,
           "showland": true,
           "subunitcolor": "white"
          },
          "hoverlabel": {
           "align": "left"
          },
          "hovermode": "closest",
          "mapbox": {
           "style": "light"
          },
          "paper_bgcolor": "white",
          "plot_bgcolor": "#E5ECF6",
          "polar": {
           "angularaxis": {
            "gridcolor": "white",
            "linecolor": "white",
            "ticks": ""
           },
           "bgcolor": "#E5ECF6",
           "radialaxis": {
            "gridcolor": "white",
            "linecolor": "white",
            "ticks": ""
           }
          },
          "scene": {
           "xaxis": {
            "backgroundcolor": "#E5ECF6",
            "gridcolor": "white",
            "gridwidth": 2,
            "linecolor": "white",
            "showbackground": true,
            "ticks": "",
            "zerolinecolor": "white"
           },
           "yaxis": {
            "backgroundcolor": "#E5ECF6",
            "gridcolor": "white",
            "gridwidth": 2,
            "linecolor": "white",
            "showbackground": true,
            "ticks": "",
            "zerolinecolor": "white"
           },
           "zaxis": {
            "backgroundcolor": "#E5ECF6",
            "gridcolor": "white",
            "gridwidth": 2,
            "linecolor": "white",
            "showbackground": true,
            "ticks": "",
            "zerolinecolor": "white"
           }
          },
          "shapedefaults": {
           "line": {
            "color": "#2a3f5f"
           }
          },
          "ternary": {
           "aaxis": {
            "gridcolor": "white",
            "linecolor": "white",
            "ticks": ""
           },
           "baxis": {
            "gridcolor": "white",
            "linecolor": "white",
            "ticks": ""
           },
           "bgcolor": "#E5ECF6",
           "caxis": {
            "gridcolor": "white",
            "linecolor": "white",
            "ticks": ""
           }
          },
          "title": {
           "x": 0.05
          },
          "xaxis": {
           "automargin": true,
           "gridcolor": "white",
           "linecolor": "white",
           "ticks": "",
           "title": {
            "standoff": 15
           },
           "zerolinecolor": "white",
           "zerolinewidth": 2
          },
          "yaxis": {
           "automargin": true,
           "gridcolor": "white",
           "linecolor": "white",
           "ticks": "",
           "title": {
            "standoff": 15
           },
           "zerolinecolor": "white",
           "zerolinewidth": 2
          }
         }
        },
        "title": {
         "text": "SegmInter channel group, p-values highBeta power ranks",
         "x": 0.5,
         "xanchor": "center",
         "y": 0.98,
         "yanchor": "top"
        },
        "xaxis": {
         "anchor": "y",
         "constrain": "domain",
         "domain": [
          0,
          1
         ],
         "scaleanchor": "y",
         "side": "top",
         "title": {
          "text": "session 1"
         }
        },
        "yaxis": {
         "anchor": "x",
         "autorange": "reversed",
         "constrain": "domain",
         "domain": [
          0,
          1
         ],
         "title": {
          "text": "session 2"
         }
        }
       }
      }
     },
     "metadata": {},
     "output_type": "display_data"
    },
    {
     "data": {
      "application/vnd.plotly.v1+json": {
       "config": {
        "plotlyServerURL": "https://plot.ly"
       },
       "data": [
        {
         "coloraxis": "coloraxis",
         "hovertemplate": "session 1: %{x}<br>session 2: %{y}<br>p-value of difference real vs. random: %{z}<extra></extra>",
         "name": "0",
         "type": "heatmap",
         "x": [
          "postop",
          "fu3m",
          "fu12m",
          "fu18m"
         ],
         "xaxis": "x",
         "y": [
          "postop",
          "fu3m",
          "fu12m",
          "fu18m"
         ],
         "yaxis": "y",
         "z": [
          [
           0,
           0.00359025134945,
           0.010668781973094,
           0.450660822958449
          ],
          [
           0.004502218247056,
           0,
           2.108e-12,
           5.08041796e-7
          ],
          [
           0.006866317618692,
           2.63e-13,
           0,
           3.8e-14
          ],
          [
           0.454786444316319,
           4.41727382e-7,
           2e-14,
           0
          ]
         ]
        }
       ],
       "layout": {
        "coloraxis": {
         "colorbar": {
          "title": {
           "text": "p-value of difference real vs. random"
          }
         },
         "colorscale": [
          [
           0,
           "#0d0887"
          ],
          [
           0.1111111111111111,
           "#46039f"
          ],
          [
           0.2222222222222222,
           "#7201a8"
          ],
          [
           0.3333333333333333,
           "#9c179e"
          ],
          [
           0.4444444444444444,
           "#bd3786"
          ],
          [
           0.5555555555555556,
           "#d8576b"
          ],
          [
           0.6666666666666666,
           "#ed7953"
          ],
          [
           0.7777777777777778,
           "#fb9f3a"
          ],
          [
           0.8888888888888888,
           "#fdca26"
          ],
          [
           1,
           "#f0f921"
          ]
         ]
        },
        "template": {
         "data": {
          "bar": [
           {
            "error_x": {
             "color": "#2a3f5f"
            },
            "error_y": {
             "color": "#2a3f5f"
            },
            "marker": {
             "line": {
              "color": "#E5ECF6",
              "width": 0.5
             },
             "pattern": {
              "fillmode": "overlay",
              "size": 10,
              "solidity": 0.2
             }
            },
            "type": "bar"
           }
          ],
          "barpolar": [
           {
            "marker": {
             "line": {
              "color": "#E5ECF6",
              "width": 0.5
             },
             "pattern": {
              "fillmode": "overlay",
              "size": 10,
              "solidity": 0.2
             }
            },
            "type": "barpolar"
           }
          ],
          "carpet": [
           {
            "aaxis": {
             "endlinecolor": "#2a3f5f",
             "gridcolor": "white",
             "linecolor": "white",
             "minorgridcolor": "white",
             "startlinecolor": "#2a3f5f"
            },
            "baxis": {
             "endlinecolor": "#2a3f5f",
             "gridcolor": "white",
             "linecolor": "white",
             "minorgridcolor": "white",
             "startlinecolor": "#2a3f5f"
            },
            "type": "carpet"
           }
          ],
          "choropleth": [
           {
            "colorbar": {
             "outlinewidth": 0,
             "ticks": ""
            },
            "type": "choropleth"
           }
          ],
          "contour": [
           {
            "colorbar": {
             "outlinewidth": 0,
             "ticks": ""
            },
            "colorscale": [
             [
              0,
              "#0d0887"
             ],
             [
              0.1111111111111111,
              "#46039f"
             ],
             [
              0.2222222222222222,
              "#7201a8"
             ],
             [
              0.3333333333333333,
              "#9c179e"
             ],
             [
              0.4444444444444444,
              "#bd3786"
             ],
             [
              0.5555555555555556,
              "#d8576b"
             ],
             [
              0.6666666666666666,
              "#ed7953"
             ],
             [
              0.7777777777777778,
              "#fb9f3a"
             ],
             [
              0.8888888888888888,
              "#fdca26"
             ],
             [
              1,
              "#f0f921"
             ]
            ],
            "type": "contour"
           }
          ],
          "contourcarpet": [
           {
            "colorbar": {
             "outlinewidth": 0,
             "ticks": ""
            },
            "type": "contourcarpet"
           }
          ],
          "heatmap": [
           {
            "colorbar": {
             "outlinewidth": 0,
             "ticks": ""
            },
            "colorscale": [
             [
              0,
              "#0d0887"
             ],
             [
              0.1111111111111111,
              "#46039f"
             ],
             [
              0.2222222222222222,
              "#7201a8"
             ],
             [
              0.3333333333333333,
              "#9c179e"
             ],
             [
              0.4444444444444444,
              "#bd3786"
             ],
             [
              0.5555555555555556,
              "#d8576b"
             ],
             [
              0.6666666666666666,
              "#ed7953"
             ],
             [
              0.7777777777777778,
              "#fb9f3a"
             ],
             [
              0.8888888888888888,
              "#fdca26"
             ],
             [
              1,
              "#f0f921"
             ]
            ],
            "type": "heatmap"
           }
          ],
          "heatmapgl": [
           {
            "colorbar": {
             "outlinewidth": 0,
             "ticks": ""
            },
            "colorscale": [
             [
              0,
              "#0d0887"
             ],
             [
              0.1111111111111111,
              "#46039f"
             ],
             [
              0.2222222222222222,
              "#7201a8"
             ],
             [
              0.3333333333333333,
              "#9c179e"
             ],
             [
              0.4444444444444444,
              "#bd3786"
             ],
             [
              0.5555555555555556,
              "#d8576b"
             ],
             [
              0.6666666666666666,
              "#ed7953"
             ],
             [
              0.7777777777777778,
              "#fb9f3a"
             ],
             [
              0.8888888888888888,
              "#fdca26"
             ],
             [
              1,
              "#f0f921"
             ]
            ],
            "type": "heatmapgl"
           }
          ],
          "histogram": [
           {
            "marker": {
             "pattern": {
              "fillmode": "overlay",
              "size": 10,
              "solidity": 0.2
             }
            },
            "type": "histogram"
           }
          ],
          "histogram2d": [
           {
            "colorbar": {
             "outlinewidth": 0,
             "ticks": ""
            },
            "colorscale": [
             [
              0,
              "#0d0887"
             ],
             [
              0.1111111111111111,
              "#46039f"
             ],
             [
              0.2222222222222222,
              "#7201a8"
             ],
             [
              0.3333333333333333,
              "#9c179e"
             ],
             [
              0.4444444444444444,
              "#bd3786"
             ],
             [
              0.5555555555555556,
              "#d8576b"
             ],
             [
              0.6666666666666666,
              "#ed7953"
             ],
             [
              0.7777777777777778,
              "#fb9f3a"
             ],
             [
              0.8888888888888888,
              "#fdca26"
             ],
             [
              1,
              "#f0f921"
             ]
            ],
            "type": "histogram2d"
           }
          ],
          "histogram2dcontour": [
           {
            "colorbar": {
             "outlinewidth": 0,
             "ticks": ""
            },
            "colorscale": [
             [
              0,
              "#0d0887"
             ],
             [
              0.1111111111111111,
              "#46039f"
             ],
             [
              0.2222222222222222,
              "#7201a8"
             ],
             [
              0.3333333333333333,
              "#9c179e"
             ],
             [
              0.4444444444444444,
              "#bd3786"
             ],
             [
              0.5555555555555556,
              "#d8576b"
             ],
             [
              0.6666666666666666,
              "#ed7953"
             ],
             [
              0.7777777777777778,
              "#fb9f3a"
             ],
             [
              0.8888888888888888,
              "#fdca26"
             ],
             [
              1,
              "#f0f921"
             ]
            ],
            "type": "histogram2dcontour"
           }
          ],
          "mesh3d": [
           {
            "colorbar": {
             "outlinewidth": 0,
             "ticks": ""
            },
            "type": "mesh3d"
           }
          ],
          "parcoords": [
           {
            "line": {
             "colorbar": {
              "outlinewidth": 0,
              "ticks": ""
             }
            },
            "type": "parcoords"
           }
          ],
          "pie": [
           {
            "automargin": true,
            "type": "pie"
           }
          ],
          "scatter": [
           {
            "fillpattern": {
             "fillmode": "overlay",
             "size": 10,
             "solidity": 0.2
            },
            "type": "scatter"
           }
          ],
          "scatter3d": [
           {
            "line": {
             "colorbar": {
              "outlinewidth": 0,
              "ticks": ""
             }
            },
            "marker": {
             "colorbar": {
              "outlinewidth": 0,
              "ticks": ""
             }
            },
            "type": "scatter3d"
           }
          ],
          "scattercarpet": [
           {
            "marker": {
             "colorbar": {
              "outlinewidth": 0,
              "ticks": ""
             }
            },
            "type": "scattercarpet"
           }
          ],
          "scattergeo": [
           {
            "marker": {
             "colorbar": {
              "outlinewidth": 0,
              "ticks": ""
             }
            },
            "type": "scattergeo"
           }
          ],
          "scattergl": [
           {
            "marker": {
             "colorbar": {
              "outlinewidth": 0,
              "ticks": ""
             }
            },
            "type": "scattergl"
           }
          ],
          "scattermapbox": [
           {
            "marker": {
             "colorbar": {
              "outlinewidth": 0,
              "ticks": ""
             }
            },
            "type": "scattermapbox"
           }
          ],
          "scatterpolar": [
           {
            "marker": {
             "colorbar": {
              "outlinewidth": 0,
              "ticks": ""
             }
            },
            "type": "scatterpolar"
           }
          ],
          "scatterpolargl": [
           {
            "marker": {
             "colorbar": {
              "outlinewidth": 0,
              "ticks": ""
             }
            },
            "type": "scatterpolargl"
           }
          ],
          "scatterternary": [
           {
            "marker": {
             "colorbar": {
              "outlinewidth": 0,
              "ticks": ""
             }
            },
            "type": "scatterternary"
           }
          ],
          "surface": [
           {
            "colorbar": {
             "outlinewidth": 0,
             "ticks": ""
            },
            "colorscale": [
             [
              0,
              "#0d0887"
             ],
             [
              0.1111111111111111,
              "#46039f"
             ],
             [
              0.2222222222222222,
              "#7201a8"
             ],
             [
              0.3333333333333333,
              "#9c179e"
             ],
             [
              0.4444444444444444,
              "#bd3786"
             ],
             [
              0.5555555555555556,
              "#d8576b"
             ],
             [
              0.6666666666666666,
              "#ed7953"
             ],
             [
              0.7777777777777778,
              "#fb9f3a"
             ],
             [
              0.8888888888888888,
              "#fdca26"
             ],
             [
              1,
              "#f0f921"
             ]
            ],
            "type": "surface"
           }
          ],
          "table": [
           {
            "cells": {
             "fill": {
              "color": "#EBF0F8"
             },
             "line": {
              "color": "white"
             }
            },
            "header": {
             "fill": {
              "color": "#C8D4E3"
             },
             "line": {
              "color": "white"
             }
            },
            "type": "table"
           }
          ]
         },
         "layout": {
          "annotationdefaults": {
           "arrowcolor": "#2a3f5f",
           "arrowhead": 0,
           "arrowwidth": 1
          },
          "autotypenumbers": "strict",
          "coloraxis": {
           "colorbar": {
            "outlinewidth": 0,
            "ticks": ""
           }
          },
          "colorscale": {
           "diverging": [
            [
             0,
             "#8e0152"
            ],
            [
             0.1,
             "#c51b7d"
            ],
            [
             0.2,
             "#de77ae"
            ],
            [
             0.3,
             "#f1b6da"
            ],
            [
             0.4,
             "#fde0ef"
            ],
            [
             0.5,
             "#f7f7f7"
            ],
            [
             0.6,
             "#e6f5d0"
            ],
            [
             0.7,
             "#b8e186"
            ],
            [
             0.8,
             "#7fbc41"
            ],
            [
             0.9,
             "#4d9221"
            ],
            [
             1,
             "#276419"
            ]
           ],
           "sequential": [
            [
             0,
             "#0d0887"
            ],
            [
             0.1111111111111111,
             "#46039f"
            ],
            [
             0.2222222222222222,
             "#7201a8"
            ],
            [
             0.3333333333333333,
             "#9c179e"
            ],
            [
             0.4444444444444444,
             "#bd3786"
            ],
            [
             0.5555555555555556,
             "#d8576b"
            ],
            [
             0.6666666666666666,
             "#ed7953"
            ],
            [
             0.7777777777777778,
             "#fb9f3a"
            ],
            [
             0.8888888888888888,
             "#fdca26"
            ],
            [
             1,
             "#f0f921"
            ]
           ],
           "sequentialminus": [
            [
             0,
             "#0d0887"
            ],
            [
             0.1111111111111111,
             "#46039f"
            ],
            [
             0.2222222222222222,
             "#7201a8"
            ],
            [
             0.3333333333333333,
             "#9c179e"
            ],
            [
             0.4444444444444444,
             "#bd3786"
            ],
            [
             0.5555555555555556,
             "#d8576b"
            ],
            [
             0.6666666666666666,
             "#ed7953"
            ],
            [
             0.7777777777777778,
             "#fb9f3a"
            ],
            [
             0.8888888888888888,
             "#fdca26"
            ],
            [
             1,
             "#f0f921"
            ]
           ]
          },
          "colorway": [
           "#636efa",
           "#EF553B",
           "#00cc96",
           "#ab63fa",
           "#FFA15A",
           "#19d3f3",
           "#FF6692",
           "#B6E880",
           "#FF97FF",
           "#FECB52"
          ],
          "font": {
           "color": "#2a3f5f"
          },
          "geo": {
           "bgcolor": "white",
           "lakecolor": "white",
           "landcolor": "#E5ECF6",
           "showlakes": true,
           "showland": true,
           "subunitcolor": "white"
          },
          "hoverlabel": {
           "align": "left"
          },
          "hovermode": "closest",
          "mapbox": {
           "style": "light"
          },
          "paper_bgcolor": "white",
          "plot_bgcolor": "#E5ECF6",
          "polar": {
           "angularaxis": {
            "gridcolor": "white",
            "linecolor": "white",
            "ticks": ""
           },
           "bgcolor": "#E5ECF6",
           "radialaxis": {
            "gridcolor": "white",
            "linecolor": "white",
            "ticks": ""
           }
          },
          "scene": {
           "xaxis": {
            "backgroundcolor": "#E5ECF6",
            "gridcolor": "white",
            "gridwidth": 2,
            "linecolor": "white",
            "showbackground": true,
            "ticks": "",
            "zerolinecolor": "white"
           },
           "yaxis": {
            "backgroundcolor": "#E5ECF6",
            "gridcolor": "white",
            "gridwidth": 2,
            "linecolor": "white",
            "showbackground": true,
            "ticks": "",
            "zerolinecolor": "white"
           },
           "zaxis": {
            "backgroundcolor": "#E5ECF6",
            "gridcolor": "white",
            "gridwidth": 2,
            "linecolor": "white",
            "showbackground": true,
            "ticks": "",
            "zerolinecolor": "white"
           }
          },
          "shapedefaults": {
           "line": {
            "color": "#2a3f5f"
           }
          },
          "ternary": {
           "aaxis": {
            "gridcolor": "white",
            "linecolor": "white",
            "ticks": ""
           },
           "baxis": {
            "gridcolor": "white",
            "linecolor": "white",
            "ticks": ""
           },
           "bgcolor": "#E5ECF6",
           "caxis": {
            "gridcolor": "white",
            "linecolor": "white",
            "ticks": ""
           }
          },
          "title": {
           "x": 0.05
          },
          "xaxis": {
           "automargin": true,
           "gridcolor": "white",
           "linecolor": "white",
           "ticks": "",
           "title": {
            "standoff": 15
           },
           "zerolinecolor": "white",
           "zerolinewidth": 2
          },
          "yaxis": {
           "automargin": true,
           "gridcolor": "white",
           "linecolor": "white",
           "ticks": "",
           "title": {
            "standoff": 15
           },
           "zerolinecolor": "white",
           "zerolinewidth": 2
          }
         }
        },
        "title": {
         "text": "SegmIntra channel group, p-values highBeta power ranks",
         "x": 0.5,
         "xanchor": "center",
         "y": 0.98,
         "yanchor": "top"
        },
        "xaxis": {
         "anchor": "y",
         "constrain": "domain",
         "domain": [
          0,
          1
         ],
         "scaleanchor": "y",
         "side": "top",
         "title": {
          "text": "session 1"
         }
        },
        "yaxis": {
         "anchor": "x",
         "autorange": "reversed",
         "constrain": "domain",
         "domain": [
          0,
          1
         ],
         "title": {
          "text": "session 2"
         }
        }
       }
      }
     },
     "metadata": {},
     "output_type": "display_data"
    }
   ],
   "source": [
    "heatmap_permutation_distances = Permute_ranks.heatmap_distances_to_permutated_mean(\n",
    "    data2permute=\"psdAverage\",\n",
    "    filterSignal=\"band-pass\",\n",
    "    normalization=\"rawPsd\",\n",
    "    freqBand=\"highBeta\"\n",
    ")"
   ]
  },
  {
   "cell_type": "code",
   "execution_count": 20,
   "metadata": {},
   "outputs": [],
   "source": [
    "permutation_results = loadResults.load_BIPpermutation_ranks_result(\n",
    "    data2permute=\"psdAverage\",\n",
    "    filterSignal=\"band-pass\",\n",
    "    normalization=\"rawPsd\",\n",
    "    freqBand=\"beta\"\n",
    ")"
   ]
  },
  {
   "cell_type": "code",
   "execution_count": 21,
   "metadata": {},
   "outputs": [
    {
     "data": {
      "text/html": [
       "<div>\n",
       "<style scoped>\n",
       "    .dataframe tbody tr th:only-of-type {\n",
       "        vertical-align: middle;\n",
       "    }\n",
       "\n",
       "    .dataframe tbody tr th {\n",
       "        vertical-align: top;\n",
       "    }\n",
       "\n",
       "    .dataframe thead th {\n",
       "        text-align: right;\n",
       "    }\n",
       "</style>\n",
       "<table border=\"1\" class=\"dataframe\">\n",
       "  <thead>\n",
       "    <tr style=\"text-align: right;\">\n",
       "      <th></th>\n",
       "      <th>comparison</th>\n",
       "      <th>channelGroup</th>\n",
       "      <th>MEAN_differenceOfRanks</th>\n",
       "      <th>distanceMEANreal_MEANrandom</th>\n",
       "      <th>p-value</th>\n",
       "    </tr>\n",
       "  </thead>\n",
       "  <tbody>\n",
       "    <tr>\n",
       "      <th>Postop_Postop_Ring</th>\n",
       "      <td>Postop_Postop</td>\n",
       "      <td>Ring</td>\n",
       "      <td>0.0</td>\n",
       "      <td>-5.560814</td>\n",
       "      <td>0.000000013425985</td>\n",
       "    </tr>\n",
       "    <tr>\n",
       "      <th>Postop_Postop_SegmInter</th>\n",
       "      <td>Postop_Postop</td>\n",
       "      <td>SegmInter</td>\n",
       "      <td>0.0</td>\n",
       "      <td>-5.698809</td>\n",
       "      <td>0.000000006032364</td>\n",
       "    </tr>\n",
       "    <tr>\n",
       "      <th>Postop_Postop_SegmIntra</th>\n",
       "      <td>Postop_Postop</td>\n",
       "      <td>SegmIntra</td>\n",
       "      <td>0.0</td>\n",
       "      <td>-9.935757</td>\n",
       "      <td>0.000000000000000</td>\n",
       "    </tr>\n",
       "    <tr>\n",
       "      <th>Postop_Fu3m_Ring</th>\n",
       "      <td>Postop_Fu3m</td>\n",
       "      <td>Ring</td>\n",
       "      <td>0.533333</td>\n",
       "      <td>-2.151105</td>\n",
       "      <td>0.015733955976777</td>\n",
       "    </tr>\n",
       "    <tr>\n",
       "      <th>Postop_Fu3m_SegmInter</th>\n",
       "      <td>Postop_Fu3m</td>\n",
       "      <td>SegmInter</td>\n",
       "      <td>0.4</td>\n",
       "      <td>-3.280348</td>\n",
       "      <td>0.000518396075470</td>\n",
       "    </tr>\n",
       "    <tr>\n",
       "      <th>Postop_Fu3m_SegmIntra</th>\n",
       "      <td>Postop_Fu3m</td>\n",
       "      <td>SegmIntra</td>\n",
       "      <td>1.566667</td>\n",
       "      <td>-2.082225</td>\n",
       "      <td>0.018660957367470</td>\n",
       "    </tr>\n",
       "    <tr>\n",
       "      <th>Postop_Fu12m_Ring</th>\n",
       "      <td>Postop_Fu12m</td>\n",
       "      <td>Ring</td>\n",
       "      <td>0.733333</td>\n",
       "      <td>-0.962442</td>\n",
       "      <td>0.167913805683052</td>\n",
       "    </tr>\n",
       "    <tr>\n",
       "      <th>Postop_Fu12m_SegmInter</th>\n",
       "      <td>Postop_Fu12m</td>\n",
       "      <td>SegmInter</td>\n",
       "      <td>0.266667</td>\n",
       "      <td>-4.103181</td>\n",
       "      <td>0.000020375403819</td>\n",
       "    </tr>\n",
       "    <tr>\n",
       "      <th>Postop_Fu12m_SegmIntra</th>\n",
       "      <td>Postop_Fu12m</td>\n",
       "      <td>SegmIntra</td>\n",
       "      <td>1.633333</td>\n",
       "      <td>-1.717616</td>\n",
       "      <td>0.042933320921330</td>\n",
       "    </tr>\n",
       "    <tr>\n",
       "      <th>Postop_Fu18m_Ring</th>\n",
       "      <td>Postop_Fu18m</td>\n",
       "      <td>Ring</td>\n",
       "      <td>0.666667</td>\n",
       "      <td>-0.885872</td>\n",
       "      <td>0.187843123108600</td>\n",
       "    </tr>\n",
       "    <tr>\n",
       "      <th>Postop_Fu18m_SegmInter</th>\n",
       "      <td>Postop_Fu18m</td>\n",
       "      <td>SegmInter</td>\n",
       "      <td>0.5</td>\n",
       "      <td>-1.587865</td>\n",
       "      <td>0.056158474127934</td>\n",
       "    </tr>\n",
       "    <tr>\n",
       "      <th>Postop_Fu18m_SegmIntra</th>\n",
       "      <td>Postop_Fu18m</td>\n",
       "      <td>SegmIntra</td>\n",
       "      <td>1.666667</td>\n",
       "      <td>-0.932465</td>\n",
       "      <td>0.175548246157532</td>\n",
       "    </tr>\n",
       "    <tr>\n",
       "      <th>Fu3m_Postop_Ring</th>\n",
       "      <td>Fu3m_Postop</td>\n",
       "      <td>Ring</td>\n",
       "      <td>0.533333</td>\n",
       "      <td>-2.249092</td>\n",
       "      <td>0.012253337410862</td>\n",
       "    </tr>\n",
       "    <tr>\n",
       "      <th>Fu3m_Postop_SegmInter</th>\n",
       "      <td>Fu3m_Postop</td>\n",
       "      <td>SegmInter</td>\n",
       "      <td>0.4</td>\n",
       "      <td>-3.050062</td>\n",
       "      <td>0.001143970329758</td>\n",
       "    </tr>\n",
       "    <tr>\n",
       "      <th>Fu3m_Postop_SegmIntra</th>\n",
       "      <td>Fu3m_Postop</td>\n",
       "      <td>SegmIntra</td>\n",
       "      <td>1.566667</td>\n",
       "      <td>-2.012214</td>\n",
       "      <td>0.022098717529222</td>\n",
       "    </tr>\n",
       "    <tr>\n",
       "      <th>Fu3m_Fu3m_Ring</th>\n",
       "      <td>Fu3m_Fu3m</td>\n",
       "      <td>Ring</td>\n",
       "      <td>0.0</td>\n",
       "      <td>-7.757401</td>\n",
       "      <td>0.000000000000004</td>\n",
       "    </tr>\n",
       "    <tr>\n",
       "      <th>Fu3m_Fu3m_SegmInter</th>\n",
       "      <td>Fu3m_Fu3m</td>\n",
       "      <td>SegmInter</td>\n",
       "      <td>0.0</td>\n",
       "      <td>-7.418881</td>\n",
       "      <td>0.000000000000059</td>\n",
       "    </tr>\n",
       "    <tr>\n",
       "      <th>Fu3m_Fu3m_SegmIntra</th>\n",
       "      <td>Fu3m_Fu3m</td>\n",
       "      <td>SegmIntra</td>\n",
       "      <td>0.0</td>\n",
       "      <td>-14.186956</td>\n",
       "      <td>0.000000000000000</td>\n",
       "    </tr>\n",
       "    <tr>\n",
       "      <th>Fu3m_Fu12m_Ring</th>\n",
       "      <td>Fu3m_Fu12m</td>\n",
       "      <td>Ring</td>\n",
       "      <td>0.333333</td>\n",
       "      <td>-4.84638</td>\n",
       "      <td>0.000000628672037</td>\n",
       "    </tr>\n",
       "    <tr>\n",
       "      <th>Fu3m_Fu12m_SegmInter</th>\n",
       "      <td>Fu3m_Fu12m</td>\n",
       "      <td>SegmInter</td>\n",
       "      <td>0.222222</td>\n",
       "      <td>-5.638226</td>\n",
       "      <td>0.000000008590525</td>\n",
       "    </tr>\n",
       "    <tr>\n",
       "      <th>Fu3m_Fu12m_SegmIntra</th>\n",
       "      <td>Fu3m_Fu12m</td>\n",
       "      <td>SegmIntra</td>\n",
       "      <td>1.111111</td>\n",
       "      <td>-6.054736</td>\n",
       "      <td>0.000000000703239</td>\n",
       "    </tr>\n",
       "    <tr>\n",
       "      <th>Fu3m_Fu18m_Ring</th>\n",
       "      <td>Fu3m_Fu18m</td>\n",
       "      <td>Ring</td>\n",
       "      <td>0.2</td>\n",
       "      <td>-4.290937</td>\n",
       "      <td>0.000008896042248</td>\n",
       "    </tr>\n",
       "    <tr>\n",
       "      <th>Fu3m_Fu18m_SegmInter</th>\n",
       "      <td>Fu3m_Fu18m</td>\n",
       "      <td>SegmInter</td>\n",
       "      <td>0.2</td>\n",
       "      <td>-4.409129</td>\n",
       "      <td>0.000005189358934</td>\n",
       "    </tr>\n",
       "    <tr>\n",
       "      <th>Fu3m_Fu18m_SegmIntra</th>\n",
       "      <td>Fu3m_Fu18m</td>\n",
       "      <td>SegmIntra</td>\n",
       "      <td>1.266667</td>\n",
       "      <td>-3.704755</td>\n",
       "      <td>0.000105797636393</td>\n",
       "    </tr>\n",
       "    <tr>\n",
       "      <th>Fu12m_Postop_Ring</th>\n",
       "      <td>Fu12m_Postop</td>\n",
       "      <td>Ring</td>\n",
       "      <td>0.733333</td>\n",
       "      <td>-0.981638</td>\n",
       "      <td>0.163139217649000</td>\n",
       "    </tr>\n",
       "    <tr>\n",
       "      <th>Fu12m_Postop_SegmInter</th>\n",
       "      <td>Fu12m_Postop</td>\n",
       "      <td>SegmInter</td>\n",
       "      <td>0.266667</td>\n",
       "      <td>-4.093781</td>\n",
       "      <td>0.000021219745924</td>\n",
       "    </tr>\n",
       "    <tr>\n",
       "      <th>Fu12m_Postop_SegmIntra</th>\n",
       "      <td>Fu12m_Postop</td>\n",
       "      <td>SegmIntra</td>\n",
       "      <td>1.633333</td>\n",
       "      <td>-1.642248</td>\n",
       "      <td>0.050269271619798</td>\n",
       "    </tr>\n",
       "    <tr>\n",
       "      <th>Fu12m_Fu3m_Ring</th>\n",
       "      <td>Fu12m_Fu3m</td>\n",
       "      <td>Ring</td>\n",
       "      <td>0.333333</td>\n",
       "      <td>-4.820307</td>\n",
       "      <td>0.000000716688777</td>\n",
       "    </tr>\n",
       "    <tr>\n",
       "      <th>Fu12m_Fu3m_SegmInter</th>\n",
       "      <td>Fu12m_Fu3m</td>\n",
       "      <td>SegmInter</td>\n",
       "      <td>0.222222</td>\n",
       "      <td>-5.602156</td>\n",
       "      <td>0.000000010585086</td>\n",
       "    </tr>\n",
       "    <tr>\n",
       "      <th>Fu12m_Fu3m_SegmIntra</th>\n",
       "      <td>Fu12m_Fu3m</td>\n",
       "      <td>SegmIntra</td>\n",
       "      <td>1.111111</td>\n",
       "      <td>-6.112121</td>\n",
       "      <td>0.000000000491577</td>\n",
       "    </tr>\n",
       "    <tr>\n",
       "      <th>Fu12m_Fu12m_Ring</th>\n",
       "      <td>Fu12m_Fu12m</td>\n",
       "      <td>Ring</td>\n",
       "      <td>0.0</td>\n",
       "      <td>-7.613044</td>\n",
       "      <td>0.000000000000013</td>\n",
       "    </tr>\n",
       "    <tr>\n",
       "      <th>Fu12m_Fu12m_SegmInter</th>\n",
       "      <td>Fu12m_Fu12m</td>\n",
       "      <td>SegmInter</td>\n",
       "      <td>0.0</td>\n",
       "      <td>-7.331147</td>\n",
       "      <td>0.000000000000114</td>\n",
       "    </tr>\n",
       "    <tr>\n",
       "      <th>Fu12m_Fu12m_SegmIntra</th>\n",
       "      <td>Fu12m_Fu12m</td>\n",
       "      <td>SegmIntra</td>\n",
       "      <td>0.0</td>\n",
       "      <td>-14.563285</td>\n",
       "      <td>0.000000000000000</td>\n",
       "    </tr>\n",
       "    <tr>\n",
       "      <th>Fu12m_Fu18m_Ring</th>\n",
       "      <td>Fu12m_Fu18m</td>\n",
       "      <td>Ring</td>\n",
       "      <td>0.2</td>\n",
       "      <td>-4.386856</td>\n",
       "      <td>0.000005750032675</td>\n",
       "    </tr>\n",
       "    <tr>\n",
       "      <th>Fu12m_Fu18m_SegmInter</th>\n",
       "      <td>Fu12m_Fu18m</td>\n",
       "      <td>SegmInter</td>\n",
       "      <td>0.266667</td>\n",
       "      <td>-3.902671</td>\n",
       "      <td>0.000047568573134</td>\n",
       "    </tr>\n",
       "    <tr>\n",
       "      <th>Fu12m_Fu18m_SegmIntra</th>\n",
       "      <td>Fu12m_Fu18m</td>\n",
       "      <td>SegmIntra</td>\n",
       "      <td>0.9</td>\n",
       "      <td>-5.499538</td>\n",
       "      <td>0.000000019039379</td>\n",
       "    </tr>\n",
       "    <tr>\n",
       "      <th>Fu18m_Postop_Ring</th>\n",
       "      <td>Fu18m_Postop</td>\n",
       "      <td>Ring</td>\n",
       "      <td>0.666667</td>\n",
       "      <td>-0.914324</td>\n",
       "      <td>0.180273277868547</td>\n",
       "    </tr>\n",
       "    <tr>\n",
       "      <th>Fu18m_Postop_SegmInter</th>\n",
       "      <td>Fu18m_Postop</td>\n",
       "      <td>SegmInter</td>\n",
       "      <td>0.5</td>\n",
       "      <td>-1.45252</td>\n",
       "      <td>0.073178526824360</td>\n",
       "    </tr>\n",
       "    <tr>\n",
       "      <th>Fu18m_Postop_SegmIntra</th>\n",
       "      <td>Fu18m_Postop</td>\n",
       "      <td>SegmIntra</td>\n",
       "      <td>1.666667</td>\n",
       "      <td>-0.898399</td>\n",
       "      <td>0.184486409660498</td>\n",
       "    </tr>\n",
       "    <tr>\n",
       "      <th>Fu18m_Fu3m_Ring</th>\n",
       "      <td>Fu18m_Fu3m</td>\n",
       "      <td>Ring</td>\n",
       "      <td>0.2</td>\n",
       "      <td>-4.50298</td>\n",
       "      <td>0.000003350363270</td>\n",
       "    </tr>\n",
       "    <tr>\n",
       "      <th>Fu18m_Fu3m_SegmInter</th>\n",
       "      <td>Fu18m_Fu3m</td>\n",
       "      <td>SegmInter</td>\n",
       "      <td>0.2</td>\n",
       "      <td>-4.327392</td>\n",
       "      <td>0.000007544275783</td>\n",
       "    </tr>\n",
       "    <tr>\n",
       "      <th>Fu18m_Fu3m_SegmIntra</th>\n",
       "      <td>Fu18m_Fu3m</td>\n",
       "      <td>SegmIntra</td>\n",
       "      <td>1.266667</td>\n",
       "      <td>-3.767962</td>\n",
       "      <td>0.000082292746825</td>\n",
       "    </tr>\n",
       "    <tr>\n",
       "      <th>Fu18m_Fu12m_Ring</th>\n",
       "      <td>Fu18m_Fu12m</td>\n",
       "      <td>Ring</td>\n",
       "      <td>0.2</td>\n",
       "      <td>-4.383981</td>\n",
       "      <td>0.000005826495561</td>\n",
       "    </tr>\n",
       "    <tr>\n",
       "      <th>Fu18m_Fu12m_SegmInter</th>\n",
       "      <td>Fu18m_Fu12m</td>\n",
       "      <td>SegmInter</td>\n",
       "      <td>0.266667</td>\n",
       "      <td>-4.171207</td>\n",
       "      <td>0.000015149490833</td>\n",
       "    </tr>\n",
       "    <tr>\n",
       "      <th>Fu18m_Fu12m_SegmIntra</th>\n",
       "      <td>Fu18m_Fu12m</td>\n",
       "      <td>SegmIntra</td>\n",
       "      <td>0.9</td>\n",
       "      <td>-5.705277</td>\n",
       "      <td>0.000000005807685</td>\n",
       "    </tr>\n",
       "    <tr>\n",
       "      <th>Fu18m_Fu18m_Ring</th>\n",
       "      <td>Fu18m_Fu18m</td>\n",
       "      <td>Ring</td>\n",
       "      <td>0.0</td>\n",
       "      <td>-5.660443</td>\n",
       "      <td>0.000000007549122</td>\n",
       "    </tr>\n",
       "    <tr>\n",
       "      <th>Fu18m_Fu18m_SegmInter</th>\n",
       "      <td>Fu18m_Fu18m</td>\n",
       "      <td>SegmInter</td>\n",
       "      <td>0.0</td>\n",
       "      <td>-5.47732</td>\n",
       "      <td>0.000000021590827</td>\n",
       "    </tr>\n",
       "    <tr>\n",
       "      <th>Fu18m_Fu18m_SegmIntra</th>\n",
       "      <td>Fu18m_Fu18m</td>\n",
       "      <td>SegmIntra</td>\n",
       "      <td>0.0</td>\n",
       "      <td>-10.637355</td>\n",
       "      <td>0.000000000000000</td>\n",
       "    </tr>\n",
       "  </tbody>\n",
       "</table>\n",
       "</div>"
      ],
      "text/plain": [
       "                            comparison channelGroup MEAN_differenceOfRanks  \\\n",
       "Postop_Postop_Ring       Postop_Postop         Ring                    0.0   \n",
       "Postop_Postop_SegmInter  Postop_Postop    SegmInter                    0.0   \n",
       "Postop_Postop_SegmIntra  Postop_Postop    SegmIntra                    0.0   \n",
       "Postop_Fu3m_Ring           Postop_Fu3m         Ring               0.533333   \n",
       "Postop_Fu3m_SegmInter      Postop_Fu3m    SegmInter                    0.4   \n",
       "Postop_Fu3m_SegmIntra      Postop_Fu3m    SegmIntra               1.566667   \n",
       "Postop_Fu12m_Ring         Postop_Fu12m         Ring               0.733333   \n",
       "Postop_Fu12m_SegmInter    Postop_Fu12m    SegmInter               0.266667   \n",
       "Postop_Fu12m_SegmIntra    Postop_Fu12m    SegmIntra               1.633333   \n",
       "Postop_Fu18m_Ring         Postop_Fu18m         Ring               0.666667   \n",
       "Postop_Fu18m_SegmInter    Postop_Fu18m    SegmInter                    0.5   \n",
       "Postop_Fu18m_SegmIntra    Postop_Fu18m    SegmIntra               1.666667   \n",
       "Fu3m_Postop_Ring           Fu3m_Postop         Ring               0.533333   \n",
       "Fu3m_Postop_SegmInter      Fu3m_Postop    SegmInter                    0.4   \n",
       "Fu3m_Postop_SegmIntra      Fu3m_Postop    SegmIntra               1.566667   \n",
       "Fu3m_Fu3m_Ring               Fu3m_Fu3m         Ring                    0.0   \n",
       "Fu3m_Fu3m_SegmInter          Fu3m_Fu3m    SegmInter                    0.0   \n",
       "Fu3m_Fu3m_SegmIntra          Fu3m_Fu3m    SegmIntra                    0.0   \n",
       "Fu3m_Fu12m_Ring             Fu3m_Fu12m         Ring               0.333333   \n",
       "Fu3m_Fu12m_SegmInter        Fu3m_Fu12m    SegmInter               0.222222   \n",
       "Fu3m_Fu12m_SegmIntra        Fu3m_Fu12m    SegmIntra               1.111111   \n",
       "Fu3m_Fu18m_Ring             Fu3m_Fu18m         Ring                    0.2   \n",
       "Fu3m_Fu18m_SegmInter        Fu3m_Fu18m    SegmInter                    0.2   \n",
       "Fu3m_Fu18m_SegmIntra        Fu3m_Fu18m    SegmIntra               1.266667   \n",
       "Fu12m_Postop_Ring         Fu12m_Postop         Ring               0.733333   \n",
       "Fu12m_Postop_SegmInter    Fu12m_Postop    SegmInter               0.266667   \n",
       "Fu12m_Postop_SegmIntra    Fu12m_Postop    SegmIntra               1.633333   \n",
       "Fu12m_Fu3m_Ring             Fu12m_Fu3m         Ring               0.333333   \n",
       "Fu12m_Fu3m_SegmInter        Fu12m_Fu3m    SegmInter               0.222222   \n",
       "Fu12m_Fu3m_SegmIntra        Fu12m_Fu3m    SegmIntra               1.111111   \n",
       "Fu12m_Fu12m_Ring           Fu12m_Fu12m         Ring                    0.0   \n",
       "Fu12m_Fu12m_SegmInter      Fu12m_Fu12m    SegmInter                    0.0   \n",
       "Fu12m_Fu12m_SegmIntra      Fu12m_Fu12m    SegmIntra                    0.0   \n",
       "Fu12m_Fu18m_Ring           Fu12m_Fu18m         Ring                    0.2   \n",
       "Fu12m_Fu18m_SegmInter      Fu12m_Fu18m    SegmInter               0.266667   \n",
       "Fu12m_Fu18m_SegmIntra      Fu12m_Fu18m    SegmIntra                    0.9   \n",
       "Fu18m_Postop_Ring         Fu18m_Postop         Ring               0.666667   \n",
       "Fu18m_Postop_SegmInter    Fu18m_Postop    SegmInter                    0.5   \n",
       "Fu18m_Postop_SegmIntra    Fu18m_Postop    SegmIntra               1.666667   \n",
       "Fu18m_Fu3m_Ring             Fu18m_Fu3m         Ring                    0.2   \n",
       "Fu18m_Fu3m_SegmInter        Fu18m_Fu3m    SegmInter                    0.2   \n",
       "Fu18m_Fu3m_SegmIntra        Fu18m_Fu3m    SegmIntra               1.266667   \n",
       "Fu18m_Fu12m_Ring           Fu18m_Fu12m         Ring                    0.2   \n",
       "Fu18m_Fu12m_SegmInter      Fu18m_Fu12m    SegmInter               0.266667   \n",
       "Fu18m_Fu12m_SegmIntra      Fu18m_Fu12m    SegmIntra                    0.9   \n",
       "Fu18m_Fu18m_Ring           Fu18m_Fu18m         Ring                    0.0   \n",
       "Fu18m_Fu18m_SegmInter      Fu18m_Fu18m    SegmInter                    0.0   \n",
       "Fu18m_Fu18m_SegmIntra      Fu18m_Fu18m    SegmIntra                    0.0   \n",
       "\n",
       "                        distanceMEANreal_MEANrandom            p-value  \n",
       "Postop_Postop_Ring                        -5.560814  0.000000013425985  \n",
       "Postop_Postop_SegmInter                   -5.698809  0.000000006032364  \n",
       "Postop_Postop_SegmIntra                   -9.935757  0.000000000000000  \n",
       "Postop_Fu3m_Ring                          -2.151105  0.015733955976777  \n",
       "Postop_Fu3m_SegmInter                     -3.280348  0.000518396075470  \n",
       "Postop_Fu3m_SegmIntra                     -2.082225  0.018660957367470  \n",
       "Postop_Fu12m_Ring                         -0.962442  0.167913805683052  \n",
       "Postop_Fu12m_SegmInter                    -4.103181  0.000020375403819  \n",
       "Postop_Fu12m_SegmIntra                    -1.717616  0.042933320921330  \n",
       "Postop_Fu18m_Ring                         -0.885872  0.187843123108600  \n",
       "Postop_Fu18m_SegmInter                    -1.587865  0.056158474127934  \n",
       "Postop_Fu18m_SegmIntra                    -0.932465  0.175548246157532  \n",
       "Fu3m_Postop_Ring                          -2.249092  0.012253337410862  \n",
       "Fu3m_Postop_SegmInter                     -3.050062  0.001143970329758  \n",
       "Fu3m_Postop_SegmIntra                     -2.012214  0.022098717529222  \n",
       "Fu3m_Fu3m_Ring                            -7.757401  0.000000000000004  \n",
       "Fu3m_Fu3m_SegmInter                       -7.418881  0.000000000000059  \n",
       "Fu3m_Fu3m_SegmIntra                      -14.186956  0.000000000000000  \n",
       "Fu3m_Fu12m_Ring                            -4.84638  0.000000628672037  \n",
       "Fu3m_Fu12m_SegmInter                      -5.638226  0.000000008590525  \n",
       "Fu3m_Fu12m_SegmIntra                      -6.054736  0.000000000703239  \n",
       "Fu3m_Fu18m_Ring                           -4.290937  0.000008896042248  \n",
       "Fu3m_Fu18m_SegmInter                      -4.409129  0.000005189358934  \n",
       "Fu3m_Fu18m_SegmIntra                      -3.704755  0.000105797636393  \n",
       "Fu12m_Postop_Ring                         -0.981638  0.163139217649000  \n",
       "Fu12m_Postop_SegmInter                    -4.093781  0.000021219745924  \n",
       "Fu12m_Postop_SegmIntra                    -1.642248  0.050269271619798  \n",
       "Fu12m_Fu3m_Ring                           -4.820307  0.000000716688777  \n",
       "Fu12m_Fu3m_SegmInter                      -5.602156  0.000000010585086  \n",
       "Fu12m_Fu3m_SegmIntra                      -6.112121  0.000000000491577  \n",
       "Fu12m_Fu12m_Ring                          -7.613044  0.000000000000013  \n",
       "Fu12m_Fu12m_SegmInter                     -7.331147  0.000000000000114  \n",
       "Fu12m_Fu12m_SegmIntra                    -14.563285  0.000000000000000  \n",
       "Fu12m_Fu18m_Ring                          -4.386856  0.000005750032675  \n",
       "Fu12m_Fu18m_SegmInter                     -3.902671  0.000047568573134  \n",
       "Fu12m_Fu18m_SegmIntra                     -5.499538  0.000000019039379  \n",
       "Fu18m_Postop_Ring                         -0.914324  0.180273277868547  \n",
       "Fu18m_Postop_SegmInter                     -1.45252  0.073178526824360  \n",
       "Fu18m_Postop_SegmIntra                    -0.898399  0.184486409660498  \n",
       "Fu18m_Fu3m_Ring                            -4.50298  0.000003350363270  \n",
       "Fu18m_Fu3m_SegmInter                      -4.327392  0.000007544275783  \n",
       "Fu18m_Fu3m_SegmIntra                      -3.767962  0.000082292746825  \n",
       "Fu18m_Fu12m_Ring                          -4.383981  0.000005826495561  \n",
       "Fu18m_Fu12m_SegmInter                     -4.171207  0.000015149490833  \n",
       "Fu18m_Fu12m_SegmIntra                     -5.705277  0.000000005807685  \n",
       "Fu18m_Fu18m_Ring                          -5.660443  0.000000007549122  \n",
       "Fu18m_Fu18m_SegmInter                      -5.47732  0.000000021590827  \n",
       "Fu18m_Fu18m_SegmIntra                    -10.637355  0.000000000000000  "
      ]
     },
     "execution_count": 21,
     "metadata": {},
     "output_type": "execute_result"
    }
   ],
   "source": [
    "permutation_results"
   ]
  },
  {
   "attachments": {},
   "cell_type": "markdown",
   "metadata": {},
   "source": [
    "## 2. Spearman correlation of monopolar beta power ranks along electrodes"
   ]
  },
  {
   "cell_type": "code",
   "execution_count": null,
   "metadata": {},
   "outputs": [],
   "source": [
    "# automatized method to plot heatmap of spearman correlation between sessions\n",
    "monopol_spearman_correl = groupMonopol.monopol_psd_correlations_sessions(\n",
    "    freqBand=\"beta\",\n",
    "    ranks_or_relPsd=\"relPsd\",\n",
    "    mean_or_median=\"median\"\n",
    ")\n"
   ]
  },
  {
   "cell_type": "markdown",
   "metadata": {},
   "source": []
  }
 ],
 "metadata": {
  "kernelspec": {
   "display_name": "bssu",
   "language": "python",
   "name": "python3"
  },
  "language_info": {
   "codemirror_mode": {
    "name": "ipython",
    "version": 3
   },
   "file_extension": ".py",
   "mimetype": "text/x-python",
   "name": "python",
   "nbconvert_exporter": "python",
   "pygments_lexer": "ipython3",
   "version": "3.10.10"
  },
  "orig_nbformat": 4
 },
 "nbformat": 4,
 "nbformat_minor": 2
}
