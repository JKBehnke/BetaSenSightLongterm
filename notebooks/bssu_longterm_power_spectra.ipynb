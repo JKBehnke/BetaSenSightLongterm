{
 "cells": [
  {
   "attachments": {},
   "cell_type": "markdown",
   "metadata": {},
   "source": [
    "# Analysis and Plots of Power Spectra"
   ]
  },
  {
   "cell_type": "markdown",
   "metadata": {},
   "source": [
    "Import Packages"
   ]
  },
  {
   "cell_type": "code",
   "execution_count": 1,
   "metadata": {},
   "outputs": [],
   "source": [
    "\n",
    "\n",
    "import os\n",
    "import sys\n",
    "import importlib\n",
    "from importlib import reload \n",
    "from dataclasses import dataclass, field, fields\n",
    "from itertools import compress\n",
    "import pandas as pd\n",
    "import numpy as np\n",
    "import matplotlib.pyplot as plt\n",
    "from cycler import cycler\n",
    "\n",
    "import scipy\n",
    "import scipy.io as sio\n",
    "from scipy import signal\n",
    "from scipy.signal import spectrogram, hann, butter, filtfilt, freqz\n",
    "from scipy import stats\n",
    "\n",
    "import seaborn as sns\n",
    "import pingouin as pg\n",
    "import itertools\n",
    "from itertools import combinations\n",
    "from statannotations.Annotator import Annotator\n",
    "import statsmodels.api as sm\n",
    "import statsmodels.formula.api as smf\n",
    "from patsy import dmatrices\n",
    "import plotly.express as px\n",
    "\n",
    "from sklearn.linear_model import LogisticRegression\n",
    "from sklearn.model_selection import train_test_split, RepeatedStratifiedKFold, GridSearchCV\n",
    "from sklearn.metrics import classification_report\n",
    "\n",
    "# import openpyxl\n",
    "# from openpyxl import Workbook, load_workbook\n",
    "# import xlrd\n",
    "import pickle\n",
    "import json\n",
    "import csv\n",
    "\n",
    "#mne\n",
    "import mne_bids\n",
    "import mne\n",
    "from mne.time_frequency import tfr_morlet \n",
    "from mne.stats import permutation_cluster_test\n",
    "\n",
    "\n",
    "# TODO: add README file: \n",
    "# pip install pingouin\n",
    "# pip install statannotations\n",
    "# pip install fooof"
   ]
  },
  {
   "cell_type": "code",
   "execution_count": 12,
   "metadata": {},
   "outputs": [
    {
     "data": {
      "text/plain": [
       "'c:\\\\Users\\\\jebe12\\\\Research\\\\PyPerceive_Project\\\\Code\\\\PyPerceive\\\\code'"
      ]
     },
     "execution_count": 12,
     "metadata": {},
     "output_type": "execute_result"
    }
   ],
   "source": [
    "#######################     USE THIS DIRECTORY FOR IMPORTING PYPERCEIVE REPO  #######################\n",
    "\n",
    "# create a path to the BetaSenSightLongterm folder \n",
    "# and a path to the code folder within the BetaSenSightLongterm Repo\n",
    "BetaSenSightLongterm_path = os.getcwd()\n",
    "while BetaSenSightLongterm_path[-8:] != 'Research':\n",
    "    BetaSenSightLongterm_path = os.path.dirname(BetaSenSightLongterm_path)\n",
    "\n",
    "# directory to PyPerceive code folder\n",
    "PyPerceive_path = os.path.join(BetaSenSightLongterm_path,'PyPerceive_Project', 'Code', 'PyPerceive', 'code')\n",
    "sys.path.append(PyPerceive_path)\n",
    "\n",
    "# # change directory to PyPerceive code path within BetaSenSightLongterm Repo\n",
    "os.chdir(PyPerceive_path)\n",
    "os.getcwd()"
   ]
  },
  {
   "cell_type": "code",
   "execution_count": 13,
   "metadata": {},
   "outputs": [],
   "source": [
    "from PerceiveImport.classes import (\n",
    "    main_class, modality_class, metadata_class,\n",
    "    session_class, condition_class, task_class,\n",
    "    contact_class, run_class\n",
    ")\n",
    "import PerceiveImport.methods.load_rawfile as load_rawfile\n",
    "import PerceiveImport.methods.find_folders as find_folders\n",
    "import PerceiveImport.methods.metadata_helpers as metaHelpers"
   ]
  },
  {
   "cell_type": "code",
   "execution_count": 14,
   "metadata": {},
   "outputs": [],
   "source": [
    "import py_perceive"
   ]
  },
  {
   "cell_type": "code",
   "execution_count": 15,
   "metadata": {},
   "outputs": [
    {
     "data": {
      "text/plain": [
       "<module 'py_perceive.PerceiveImport.methods.metadata_helpers' from 'C:\\\\Users\\\\jebe12\\\\Research\\\\PyPerceive_Project\\\\Code\\\\PyPerceive\\\\src\\\\py_perceive\\\\PerceiveImport\\\\methods\\\\metadata_helpers.py'>"
      ]
     },
     "execution_count": 15,
     "metadata": {},
     "output_type": "execute_result"
    }
   ],
   "source": [
    "\n",
    "from py_perceive.PerceiveImport.classes import (\n",
    "    main_class, modality_class, metadata_class,\n",
    "    session_class, condition_class, task_class,\n",
    "    contact_class, run_class\n",
    ")\n",
    "import py_perceive.PerceiveImport.methods.load_rawfile as load_rawfile\n",
    "import py_perceive.PerceiveImport.methods.find_folders as find_folders\n",
    "import py_perceive.PerceiveImport.methods.metadata_helpers as metaHelpers\n",
    "\n",
    "\n",
    "importlib.reload(main_class)\n",
    "importlib.reload(session_class)\n",
    "importlib.reload(task_class)\n",
    "importlib.reload(condition_class)\n",
    "importlib.reload(contact_class)\n",
    "importlib.reload(metadata_class)\n",
    "importlib.reload(modality_class)\n",
    "importlib.reload(load_rawfile)\n",
    "importlib.reload(find_folders)\n",
    "importlib.reload(run_class)\n",
    "importlib.reload(metaHelpers)"
   ]
  },
  {
   "cell_type": "code",
   "execution_count": 16,
   "metadata": {},
   "outputs": [
    {
     "data": {
      "text/plain": [
       "'c:\\\\Users\\\\jebe12\\\\Research\\\\Longterm_beta_project\\\\Code\\\\BetaSenSightLongterm'"
      ]
     },
     "execution_count": 16,
     "metadata": {},
     "output_type": "execute_result"
    }
   ],
   "source": [
    "#######################     USE THIS DIRECTORY FOR WORKING WITH FOLDERS INSIDE OF CODE FOLDER OF BETASENSIGHTLONGTERM REPO  #######################\n",
    "\n",
    "\n",
    "# create a path to the BetaSenSightLongterm folder \n",
    "# and a path to the code folder within the BetaSenSightLongterm Repo\n",
    "current_path = os.getcwd()\n",
    "while current_path[-8:] != 'Research':\n",
    "    current_path = os.path.dirname(current_path)\n",
    "\n",
    "# directory to code folder\n",
    "code_path = os.path.join(current_path, 'Longterm_beta_project','Code', 'meet')\n",
    "sys.path.append(code_path)\n",
    "\n",
    "# # change directory to code path within BetaSenSightLongterm Repo\n",
    "os.chdir(code_path)\n",
    "os.getcwd()\n",
    "\n",
    "import meet as meet\n",
    "#######################     USE THIS DIRECTORY FOR WORKING WITH FOLDERS INSIDE OF CODE FOLDER OF BETASENSIGHTLONGTERM REPO  #######################\n",
    "\n",
    "\n",
    "# create a path to the BetaSenSightLongterm folder \n",
    "# and a path to the code folder within the BetaSenSightLongterm Repo\n",
    "current_path = os.getcwd()\n",
    "while current_path[-8:] != 'Research':\n",
    "    current_path = os.path.dirname(current_path)\n",
    "\n",
    "# directory to code folder\n",
    "code_path = os.path.join(current_path, 'Longterm_beta_project','Code', 'BetaSenSightLongterm')\n",
    "sys.path.append(code_path)\n",
    "\n",
    "# # change directory to code path within BetaSenSightLongterm Repo\n",
    "os.chdir(code_path)\n",
    "os.getcwd()"
   ]
  },
  {
   "cell_type": "code",
   "execution_count": 63,
   "metadata": {},
   "outputs": [
    {
     "data": {
      "text/plain": [
       "<module 'src.bssu.bipolar.cluster_perm' from 'c:\\\\Users\\\\jebe12\\\\Research\\\\Longterm_beta_project\\\\Code\\\\BetaSenSightLongterm\\\\src\\\\bssu\\\\bipolar\\\\cluster_perm.py'>"
      ]
     },
     "execution_count": 63,
     "metadata": {},
     "output_type": "execute_result"
    }
   ],
   "source": [
    "\n",
    "# tfr, processing\n",
    "import src.bssu.tfr.BSSuPsd as BSSuPsd\n",
    "import src.bssu.tfr.FastFourierPSD as FFpsd\n",
    "\n",
    "# bipolar Channel Analysis\n",
    "import src.bssu.bipolar.power_spectra_plots as power_spectra_plots\n",
    "import src.bssu.bipolar.PeakFrequencies_PSD as PeakFrequency_psd\n",
    "import src.bssu.bipolar.BIP_channelGroups as BIP_channelGroups\n",
    "import src.bssu.bipolar.BIP_perChannelAnalysis as BIP_perChannel\n",
    "import src.bssu.bipolar.cluster_perm as cluster_perm\n",
    "\n",
    "\n",
    "# monopolar Referencing\n",
    "import src.bssu.monopolar.MonoRef_JLB as MonoRefJLB\n",
    "import src.bssu.monopolar.GroupMonopolarPSD as groupMonopol\n",
    "\n",
    "# Ranking Order\n",
    "import src.bssu.ranking.HighestRankedChannelPSD as highestRank\n",
    "import src.bssu.ranking.monopolPSDaverage_withinSubject as PSDaverageMonopol\n",
    "import src.bssu.ranking.BIPchannelGroups_ranks as BIP_ranks\n",
    "import src.bssu.ranking.Permutation_rankings as Permute_ranks\n",
    "\n",
    "\n",
    "# Clinical stimulation parameters\n",
    "import src.bssu.stimulation.activeStimulationContacts as activeStimContacts\n",
    "\n",
    "# utility functions\n",
    "import src.bssu.utils.loadResults as loadResults\n",
    "import src.bssu.utils.find_folders as find_folders\n",
    "import src.bssu.utils.writeGroupDataframes as writeGroupDF\n",
    "\n",
    "# import Classes\n",
    "from src.bssu.classes import (metadataAnalysis_class, mainAnalysis_class, sessionAnalysis_class, \n",
    "                              channelAnalysis_class, featureAnalysis_class, frequencyBand_class)\n",
    "\n",
    "# import mni coordinates\n",
    "import src.bssu.mni.load_rotated_coordinates as load_mni\n",
    "\n",
    "\n",
    "importlib.reload(BSSuPsd)\n",
    "importlib.reload(MonoRefJLB)\n",
    "importlib.reload(loadResults)\n",
    "importlib.reload(highestRank)\n",
    "importlib.reload(groupMonopol)\n",
    "importlib.reload(PSDaverageMonopol)\n",
    "importlib.reload(FFpsd)\n",
    "importlib.reload(find_folders)\n",
    "importlib.reload(metadataAnalysis_class)\n",
    "importlib.reload(mainAnalysis_class)\n",
    "importlib.reload(sessionAnalysis_class)\n",
    "importlib.reload(channelAnalysis_class)\n",
    "importlib.reload(featureAnalysis_class)\n",
    "importlib.reload(frequencyBand_class)\n",
    "importlib.reload(PeakFrequency_psd)\n",
    "importlib.reload(power_spectra_plots)\n",
    "importlib.reload(BIP_channelGroups)\n",
    "importlib.reload(BIP_ranks)\n",
    "importlib.reload(activeStimContacts)\n",
    "importlib.reload(Permute_ranks)\n",
    "importlib.reload(BIP_perChannel)\n",
    "importlib.reload(load_mni)\n",
    "importlib.reload(writeGroupDF)\n",
    "importlib.reload(cluster_perm)"
   ]
  },
  {
   "attachments": {},
   "cell_type": "markdown",
   "metadata": {},
   "source": [
    "## 1. Cluster Permutation across channel group recordings: in what frequency clusters are differences detected between sessions?\n"
   ]
  },
  {
   "cell_type": "code",
   "execution_count": 50,
   "metadata": {},
   "outputs": [
    {
     "name": "stdout",
     "output_type": "stream",
     "text": [
      "file:  power_spectra_unfiltered_SegmIntra_normPsdToTotalSum_session_comparisons.pickle \n",
      "written in:  c:\\Users\\jebe12\\Research\\Longterm_beta_project\\results\n"
     ]
    }
   ],
   "source": [
    "comp_sessions = writeGroupDF.write_ses_comparison_power_spectra(\n",
    "    incl_sub=[\"017\", \"019\", \"021\", \"024\", \"025\", \"026\", \"028\", \"029\", \"030\", \"031\", \"032\", \"033\", \"038\", \"041\", \"060\"],\n",
    "    incl_channels=\"SegmIntra\",\n",
    "    signalFilter=\"unfiltered\",\n",
    "    normalization=\"normPsdToTotalSum\"\n",
    ")"
   ]
  },
  {
   "cell_type": "code",
   "execution_count": 51,
   "metadata": {},
   "outputs": [],
   "source": [
    "loaded_session_comparisons = loadResults.load_power_spectra_session_comparison(\n",
    "    incl_channels=\"SegmIntra\",\n",
    "    signalFilter=\"band-pass\",\n",
    "    normalization=\"normPsdToSum1_100Hz\"\n",
    ")"
   ]
  },
  {
   "cell_type": "code",
   "execution_count": 52,
   "metadata": {},
   "outputs": [
    {
     "data": {
      "text/html": [
       "<div>\n",
       "<style scoped>\n",
       "    .dataframe tbody tr th:only-of-type {\n",
       "        vertical-align: middle;\n",
       "    }\n",
       "\n",
       "    .dataframe tbody tr th {\n",
       "        vertical-align: top;\n",
       "    }\n",
       "\n",
       "    .dataframe thead th {\n",
       "        text-align: right;\n",
       "    }\n",
       "</style>\n",
       "<table border=\"1\" class=\"dataframe\">\n",
       "  <thead>\n",
       "    <tr style=\"text-align: right;\">\n",
       "      <th></th>\n",
       "      <th>session</th>\n",
       "      <th>bipolar_channel</th>\n",
       "      <th>power_spectrum</th>\n",
       "      <th>frequencies</th>\n",
       "      <th>normalization</th>\n",
       "      <th>stn</th>\n",
       "    </tr>\n",
       "  </thead>\n",
       "  <tbody>\n",
       "    <tr>\n",
       "      <th>024_Left_postop_1A1B</th>\n",
       "      <td>postop</td>\n",
       "      <td>1A1B</td>\n",
       "      <td>[0.0107356217, 0.0051743324, 7.61776e-05, 0.00...</td>\n",
       "      <td>[0.0, 1.0, 2.0, 3.0, 4.0, 5.0, 6.0, 7.0, 8.0, ...</td>\n",
       "      <td>normPsdToSum1_100Hz</td>\n",
       "      <td>024_Left</td>\n",
       "    </tr>\n",
       "    <tr>\n",
       "      <th>024_Left_postop_1B1C</th>\n",
       "      <td>postop</td>\n",
       "      <td>1B1C</td>\n",
       "      <td>[0.0307181514, 0.0143023764, 7.46348e-05, 0.00...</td>\n",
       "      <td>[0.0, 1.0, 2.0, 3.0, 4.0, 5.0, 6.0, 7.0, 8.0, ...</td>\n",
       "      <td>normPsdToSum1_100Hz</td>\n",
       "      <td>024_Left</td>\n",
       "    </tr>\n",
       "    <tr>\n",
       "      <th>024_Left_postop_1A1C</th>\n",
       "      <td>postop</td>\n",
       "      <td>1A1C</td>\n",
       "      <td>[0.0218111251, 0.0101910798, 8.84867e-05, 0.00...</td>\n",
       "      <td>[0.0, 1.0, 2.0, 3.0, 4.0, 5.0, 6.0, 7.0, 8.0, ...</td>\n",
       "      <td>normPsdToSum1_100Hz</td>\n",
       "      <td>024_Left</td>\n",
       "    </tr>\n",
       "    <tr>\n",
       "      <th>024_Left_postop_2A2B</th>\n",
       "      <td>postop</td>\n",
       "      <td>2A2B</td>\n",
       "      <td>[0.023798906, 0.0104506928, 0.0003711855, 0.02...</td>\n",
       "      <td>[0.0, 1.0, 2.0, 3.0, 4.0, 5.0, 6.0, 7.0, 8.0, ...</td>\n",
       "      <td>normPsdToSum1_100Hz</td>\n",
       "      <td>024_Left</td>\n",
       "    </tr>\n",
       "    <tr>\n",
       "      <th>024_Left_postop_2B2C</th>\n",
       "      <td>postop</td>\n",
       "      <td>2B2C</td>\n",
       "      <td>[0.0180024854, 0.0081607155, 0.0001631203, 0.0...</td>\n",
       "      <td>[0.0, 1.0, 2.0, 3.0, 4.0, 5.0, 6.0, 7.0, 8.0, ...</td>\n",
       "      <td>normPsdToSum1_100Hz</td>\n",
       "      <td>024_Left</td>\n",
       "    </tr>\n",
       "  </tbody>\n",
       "</table>\n",
       "</div>"
      ],
      "text/plain": [
       "                     session bipolar_channel  \\\n",
       "024_Left_postop_1A1B  postop            1A1B   \n",
       "024_Left_postop_1B1C  postop            1B1C   \n",
       "024_Left_postop_1A1C  postop            1A1C   \n",
       "024_Left_postop_2A2B  postop            2A2B   \n",
       "024_Left_postop_2B2C  postop            2B2C   \n",
       "\n",
       "                                                         power_spectrum  \\\n",
       "024_Left_postop_1A1B  [0.0107356217, 0.0051743324, 7.61776e-05, 0.00...   \n",
       "024_Left_postop_1B1C  [0.0307181514, 0.0143023764, 7.46348e-05, 0.00...   \n",
       "024_Left_postop_1A1C  [0.0218111251, 0.0101910798, 8.84867e-05, 0.00...   \n",
       "024_Left_postop_2A2B  [0.023798906, 0.0104506928, 0.0003711855, 0.02...   \n",
       "024_Left_postop_2B2C  [0.0180024854, 0.0081607155, 0.0001631203, 0.0...   \n",
       "\n",
       "                                                            frequencies  \\\n",
       "024_Left_postop_1A1B  [0.0, 1.0, 2.0, 3.0, 4.0, 5.0, 6.0, 7.0, 8.0, ...   \n",
       "024_Left_postop_1B1C  [0.0, 1.0, 2.0, 3.0, 4.0, 5.0, 6.0, 7.0, 8.0, ...   \n",
       "024_Left_postop_1A1C  [0.0, 1.0, 2.0, 3.0, 4.0, 5.0, 6.0, 7.0, 8.0, ...   \n",
       "024_Left_postop_2A2B  [0.0, 1.0, 2.0, 3.0, 4.0, 5.0, 6.0, 7.0, 8.0, ...   \n",
       "024_Left_postop_2B2C  [0.0, 1.0, 2.0, 3.0, 4.0, 5.0, 6.0, 7.0, 8.0, ...   \n",
       "\n",
       "                            normalization       stn  \n",
       "024_Left_postop_1A1B  normPsdToSum1_100Hz  024_Left  \n",
       "024_Left_postop_1B1C  normPsdToSum1_100Hz  024_Left  \n",
       "024_Left_postop_1A1C  normPsdToSum1_100Hz  024_Left  \n",
       "024_Left_postop_2A2B  normPsdToSum1_100Hz  024_Left  \n",
       "024_Left_postop_2B2C  normPsdToSum1_100Hz  024_Left  "
      ]
     },
     "execution_count": 52,
     "metadata": {},
     "output_type": "execute_result"
    }
   ],
   "source": [
    "loaded_session_comparisons[\"postop_fu3m_df\"].head()"
   ]
  },
  {
   "attachments": {},
   "cell_type": "markdown",
   "metadata": {},
   "source": [
    "Perform Cluster Permutation"
   ]
  },
  {
   "cell_type": "code",
   "execution_count": 69,
   "metadata": {},
   "outputs": [
    {
     "name": "stdout",
     "output_type": "stream",
     "text": [
      "Using a threshold of 3.885280\n",
      "stat_fun(H1): min=0.102900 max=56.070449\n",
      "Running initial clustering …\n",
      "Found 4 clusters\n"
     ]
    },
    {
     "name": "stderr",
     "output_type": "stream",
     "text": [
      "c:\\Users\\jebe12\\Research\\Longterm_beta_project\\Code\\BetaSenSightLongterm\\src\\bssu\\bipolar\\cluster_perm.py:97: RuntimeWarning: Ignoring argument \"tail\", performing 1-tailed F-test\n",
      "  F_obs, clusters, cluster_pv, H0 = permutation_cluster_test(list_for_cluster_permutation, n_permutations=1000)\n"
     ]
    },
    {
     "data": {
      "application/vnd.jupyter.widget-view+json": {
       "model_id": "c70c156781ab474d8cae3a3f4a00cb6e",
       "version_major": 2,
       "version_minor": 0
      },
      "text/plain": [
       "  0%|          | Permuting : 0/999 [00:00<?,       ?it/s]"
      ]
     },
     "metadata": {},
     "output_type": "display_data"
    },
    {
     "name": "stdout",
     "output_type": "stream",
     "text": [
      "Using a threshold of 3.907782\n",
      "stat_fun(H1): min=0.014523 max=83.320853\n",
      "Running initial clustering …\n",
      "Found 5 clusters\n"
     ]
    },
    {
     "name": "stderr",
     "output_type": "stream",
     "text": [
      "c:\\Users\\jebe12\\Research\\Longterm_beta_project\\Code\\BetaSenSightLongterm\\src\\bssu\\bipolar\\cluster_perm.py:97: RuntimeWarning: Ignoring argument \"tail\", performing 1-tailed F-test\n",
      "  F_obs, clusters, cluster_pv, H0 = permutation_cluster_test(list_for_cluster_permutation, n_permutations=1000)\n"
     ]
    },
    {
     "data": {
      "application/vnd.jupyter.widget-view+json": {
       "model_id": "aae78719eaad41759c3ae2abf1797413",
       "version_major": 2,
       "version_minor": 0
      },
      "text/plain": [
       "  0%|          | Permuting : 0/999 [00:00<?,       ?it/s]"
      ]
     },
     "metadata": {},
     "output_type": "display_data"
    },
    {
     "name": "stdout",
     "output_type": "stream",
     "text": [
      "Using a threshold of 4.051749\n",
      "stat_fun(H1): min=0.002562 max=48.735526\n",
      "Running initial clustering …\n",
      "Found 5 clusters\n"
     ]
    },
    {
     "name": "stderr",
     "output_type": "stream",
     "text": [
      "c:\\Users\\jebe12\\Research\\Longterm_beta_project\\Code\\BetaSenSightLongterm\\src\\bssu\\bipolar\\cluster_perm.py:97: RuntimeWarning: Ignoring argument \"tail\", performing 1-tailed F-test\n",
      "  F_obs, clusters, cluster_pv, H0 = permutation_cluster_test(list_for_cluster_permutation, n_permutations=1000)\n"
     ]
    },
    {
     "data": {
      "application/vnd.jupyter.widget-view+json": {
       "model_id": "fd974fc7631a4a83a2ad851c70fcacf5",
       "version_major": 2,
       "version_minor": 0
      },
      "text/plain": [
       "  0%|          | Permuting : 0/999 [00:00<?,       ?it/s]"
      ]
     },
     "metadata": {},
     "output_type": "display_data"
    },
    {
     "name": "stdout",
     "output_type": "stream",
     "text": [
      "Using a threshold of 3.880827\n",
      "stat_fun(H1): min=0.000035 max=21.634525\n",
      "Running initial clustering …\n",
      "Found 4 clusters\n"
     ]
    },
    {
     "name": "stderr",
     "output_type": "stream",
     "text": [
      "c:\\Users\\jebe12\\Research\\Longterm_beta_project\\Code\\BetaSenSightLongterm\\src\\bssu\\bipolar\\cluster_perm.py:97: RuntimeWarning: Ignoring argument \"tail\", performing 1-tailed F-test\n",
      "  F_obs, clusters, cluster_pv, H0 = permutation_cluster_test(list_for_cluster_permutation, n_permutations=1000)\n"
     ]
    },
    {
     "data": {
      "application/vnd.jupyter.widget-view+json": {
       "model_id": "fdc59bb0e4dd426c83ea352da9a988b1",
       "version_major": 2,
       "version_minor": 0
      },
      "text/plain": [
       "  0%|          | Permuting : 0/999 [00:00<?,       ?it/s]"
      ]
     },
     "metadata": {},
     "output_type": "display_data"
    },
    {
     "name": "stdout",
     "output_type": "stream",
     "text": [
      "Using a threshold of 3.921478\n",
      "stat_fun(H1): min=0.002627 max=22.125920\n",
      "Running initial clustering …\n",
      "Found 7 clusters\n"
     ]
    },
    {
     "name": "stderr",
     "output_type": "stream",
     "text": [
      "c:\\Users\\jebe12\\Research\\Longterm_beta_project\\Code\\BetaSenSightLongterm\\src\\bssu\\bipolar\\cluster_perm.py:97: RuntimeWarning: Ignoring argument \"tail\", performing 1-tailed F-test\n",
      "  F_obs, clusters, cluster_pv, H0 = permutation_cluster_test(list_for_cluster_permutation, n_permutations=1000)\n"
     ]
    },
    {
     "data": {
      "application/vnd.jupyter.widget-view+json": {
       "model_id": "8431ed0f7cfd4b7a8004b136afe92cd1",
       "version_major": 2,
       "version_minor": 0
      },
      "text/plain": [
       "  0%|          | Permuting : 0/999 [00:00<?,       ?it/s]"
      ]
     },
     "metadata": {},
     "output_type": "display_data"
    },
    {
     "name": "stdout",
     "output_type": "stream",
     "text": [
      "Using a threshold of 3.921478\n",
      "stat_fun(H1): min=0.000000 max=3.441303\n",
      "Running initial clustering …\n",
      "Found 0 clusters\n",
      "file:  cluster_permutation_session_comparisons_SegmIntra_band-pass_normPsdToSum40_90Hz.pickle \n",
      "written in:  c:\\Users\\jebe12\\Research\\Longterm_beta_project\\results\n"
     ]
    },
    {
     "name": "stderr",
     "output_type": "stream",
     "text": [
      "c:\\Users\\jebe12\\Research\\Longterm_beta_project\\Code\\BetaSenSightLongterm\\src\\bssu\\bipolar\\cluster_perm.py:97: RuntimeWarning: Ignoring argument \"tail\", performing 1-tailed F-test\n",
      "  F_obs, clusters, cluster_pv, H0 = permutation_cluster_test(list_for_cluster_permutation, n_permutations=1000)\n",
      "c:\\Users\\jebe12\\Research\\Longterm_beta_project\\Code\\BetaSenSightLongterm\\src\\bssu\\bipolar\\cluster_perm.py:97: RuntimeWarning: No clusters found, returning empty H0, clusters, and cluster_pv\n",
      "  F_obs, clusters, cluster_pv, H0 = permutation_cluster_test(list_for_cluster_permutation, n_permutations=1000)\n"
     ]
    }
   ],
   "source": [
    "cluster_permutation = cluster_perm.cluster_permutation_power_spectra_betw_sessions(\n",
    "    incl_channels=\"SegmIntra\",\n",
    "    signalFilter=\"band-pass\",\n",
    "    normalization=\"normPsdToSum40_90Hz\"\n",
    ")"
   ]
  },
  {
   "attachments": {},
   "cell_type": "markdown",
   "metadata": {},
   "source": [
    "Load Cluster Permutation results"
   ]
  },
  {
   "cell_type": "code",
   "execution_count": 174,
   "metadata": {},
   "outputs": [],
   "source": [
    "# raw PSD was used\n",
    "\n",
    "incl_channels = \"SegmIntra\"\n",
    "signalFilter = \"band-pass\"\n",
    "normalization = \"normPsdToSum40_90Hz\"\n",
    "\n",
    "# find the path to the results folder\n",
    "results_path = find_folders.get_local_path(folder=\"GroupResults\")\n",
    "\n",
    "# create filename\n",
    "filename = f\"cluster_permutation_session_comparisons_{incl_channels}_{signalFilter}_{normalization}.pickle\"\n",
    "\n",
    "filepath = os.path.join(results_path, filename)\n",
    "\n",
    "# load the pickle file\n",
    "with open(filepath, \"rb\") as file:\n",
    "    data = pickle.load(file)\n",
    "\n",
    "\n",
    "postop_fu3m = data[\"clusters\"][0]\n",
    "postop_fu12m = data[\"clusters\"][1]\n",
    "postop_fu18m = data[\"clusters\"][2]\n",
    "fu3m_fu12m = data[\"clusters\"][3]\n",
    "fu3m_fu18m = data[\"clusters\"][4]\n",
    "fu12m_fu18m = data[\"clusters\"][5]"
   ]
  },
  {
   "cell_type": "code",
   "execution_count": 175,
   "metadata": {},
   "outputs": [
    {
     "data": {
      "text/html": [
       "<div>\n",
       "<style scoped>\n",
       "    .dataframe tbody tr th:only-of-type {\n",
       "        vertical-align: middle;\n",
       "    }\n",
       "\n",
       "    .dataframe tbody tr th {\n",
       "        vertical-align: top;\n",
       "    }\n",
       "\n",
       "    .dataframe thead th {\n",
       "        text-align: right;\n",
       "    }\n",
       "</style>\n",
       "<table border=\"1\" class=\"dataframe\">\n",
       "  <thead>\n",
       "    <tr style=\"text-align: right;\">\n",
       "      <th></th>\n",
       "      <th>session_comparison</th>\n",
       "      <th>F_obs</th>\n",
       "      <th>clusters</th>\n",
       "      <th>cluster_pv</th>\n",
       "      <th>H0</th>\n",
       "      <th>sample_size</th>\n",
       "    </tr>\n",
       "  </thead>\n",
       "  <tbody>\n",
       "    <tr>\n",
       "      <th>postop_fu3m</th>\n",
       "      <td>postop_fu3m</td>\n",
       "      <td>[27.612835156760152, 29.395069039667472, 0.102...</td>\n",
       "      <td>[([0, 1],), ([6, 7, 8, 9, 10, 11, 12, 13, 14, ...</td>\n",
       "      <td>[0.03, 0.001, 0.148, 0.001]</td>\n",
       "      <td>[1071.6349981024637, 10.168960433127808, 4.600...</td>\n",
       "      <td>108</td>\n",
       "    </tr>\n",
       "    <tr>\n",
       "      <th>postop_fu12m</th>\n",
       "      <td>postop_fu12m</td>\n",
       "      <td>[30.390267386906366, 29.548319524320554, 15.07...</td>\n",
       "      <td>[([0, 1, 2],), ([4, 5, 6, 7, 8, 9, 10, 11, 12,...</td>\n",
       "      <td>[0.013, 0.001, 0.312, 0.013, 0.001]</td>\n",
       "      <td>[1483.454656506749, 8.887768616002976, 17.5213...</td>\n",
       "      <td>72</td>\n",
       "    </tr>\n",
       "    <tr>\n",
       "      <th>postop_fu18m</th>\n",
       "      <td>postop_fu18m</td>\n",
       "      <td>[22.310160236884048, 23.925658383438208, 7.935...</td>\n",
       "      <td>[([0, 1, 2, 3, 4, 5, 6, 7, 8, 9, 10, 11, 12, 1...</td>\n",
       "      <td>[0.001, 0.59, 0.523, 0.051, 0.001]</td>\n",
       "      <td>[860.5658774623553, 10.931992019704984, 26.578...</td>\n",
       "      <td>24</td>\n",
       "    </tr>\n",
       "    <tr>\n",
       "      <th>fu3m_fu12m</th>\n",
       "      <td>fu3m_fu12m</td>\n",
       "      <td>[13.23878705225701, 12.0717739080107, 21.63452...</td>\n",
       "      <td>[([0, 1, 2, 3, 4, 5, 6, 7, 8, 9, 10, 11, 12, 1...</td>\n",
       "      <td>[0.001, 0.054, 0.65, 0.525]</td>\n",
       "      <td>[166.1699343194617, 18.435453743360725, 4.3145...</td>\n",
       "      <td>120</td>\n",
       "    </tr>\n",
       "    <tr>\n",
       "      <th>fu3m_fu18m</th>\n",
       "      <td>fu3m_fu18m</td>\n",
       "      <td>[21.760740884109236, 22.125920247691024, 8.548...</td>\n",
       "      <td>[([0, 1, 2, 3, 4, 5, 6, 7, 8, 9, 10, 11],), ([...</td>\n",
       "      <td>[0.001, 0.077, 0.429, 0.386, 0.739, 0.415, 0.258]</td>\n",
       "      <td>[147.53521395972075, 25.404090379471924, 11.12...</td>\n",
       "      <td>60</td>\n",
       "    </tr>\n",
       "    <tr>\n",
       "      <th>fu12m_fu18m</th>\n",
       "      <td>fu12m_fu18m</td>\n",
       "      <td>[0.15717005386185062, 0.08256009691978687, 1.2...</td>\n",
       "      <td>[]</td>\n",
       "      <td>[]</td>\n",
       "      <td>[]</td>\n",
       "      <td>60</td>\n",
       "    </tr>\n",
       "  </tbody>\n",
       "</table>\n",
       "</div>"
      ],
      "text/plain": [
       "             session_comparison  \\\n",
       "postop_fu3m         postop_fu3m   \n",
       "postop_fu12m       postop_fu12m   \n",
       "postop_fu18m       postop_fu18m   \n",
       "fu3m_fu12m           fu3m_fu12m   \n",
       "fu3m_fu18m           fu3m_fu18m   \n",
       "fu12m_fu18m         fu12m_fu18m   \n",
       "\n",
       "                                                          F_obs  \\\n",
       "postop_fu3m   [27.612835156760152, 29.395069039667472, 0.102...   \n",
       "postop_fu12m  [30.390267386906366, 29.548319524320554, 15.07...   \n",
       "postop_fu18m  [22.310160236884048, 23.925658383438208, 7.935...   \n",
       "fu3m_fu12m    [13.23878705225701, 12.0717739080107, 21.63452...   \n",
       "fu3m_fu18m    [21.760740884109236, 22.125920247691024, 8.548...   \n",
       "fu12m_fu18m   [0.15717005386185062, 0.08256009691978687, 1.2...   \n",
       "\n",
       "                                                       clusters  \\\n",
       "postop_fu3m   [([0, 1],), ([6, 7, 8, 9, 10, 11, 12, 13, 14, ...   \n",
       "postop_fu12m  [([0, 1, 2],), ([4, 5, 6, 7, 8, 9, 10, 11, 12,...   \n",
       "postop_fu18m  [([0, 1, 2, 3, 4, 5, 6, 7, 8, 9, 10, 11, 12, 1...   \n",
       "fu3m_fu12m    [([0, 1, 2, 3, 4, 5, 6, 7, 8, 9, 10, 11, 12, 1...   \n",
       "fu3m_fu18m    [([0, 1, 2, 3, 4, 5, 6, 7, 8, 9, 10, 11],), ([...   \n",
       "fu12m_fu18m                                                  []   \n",
       "\n",
       "                                                     cluster_pv  \\\n",
       "postop_fu3m                         [0.03, 0.001, 0.148, 0.001]   \n",
       "postop_fu12m                [0.013, 0.001, 0.312, 0.013, 0.001]   \n",
       "postop_fu18m                 [0.001, 0.59, 0.523, 0.051, 0.001]   \n",
       "fu3m_fu12m                          [0.001, 0.054, 0.65, 0.525]   \n",
       "fu3m_fu18m    [0.001, 0.077, 0.429, 0.386, 0.739, 0.415, 0.258]   \n",
       "fu12m_fu18m                                                  []   \n",
       "\n",
       "                                                             H0 sample_size  \n",
       "postop_fu3m   [1071.6349981024637, 10.168960433127808, 4.600...         108  \n",
       "postop_fu12m  [1483.454656506749, 8.887768616002976, 17.5213...          72  \n",
       "postop_fu18m  [860.5658774623553, 10.931992019704984, 26.578...          24  \n",
       "fu3m_fu12m    [166.1699343194617, 18.435453743360725, 4.3145...         120  \n",
       "fu3m_fu18m    [147.53521395972075, 25.404090379471924, 11.12...          60  \n",
       "fu12m_fu18m                                                  []          60  "
      ]
     },
     "execution_count": 175,
     "metadata": {},
     "output_type": "execute_result"
    }
   ],
   "source": [
    "data"
   ]
  },
  {
   "cell_type": "code",
   "execution_count": 176,
   "metadata": {},
   "outputs": [
    {
     "data": {
      "text/plain": [
       "[(array([0, 1]),),\n",
       " (array([ 6,  7,  8,  9, 10, 11, 12, 13, 14, 15, 16, 17, 18, 19, 20, 21, 22,\n",
       "         23, 24, 25, 26, 27, 28, 29, 30, 31, 32, 33, 34, 35, 36, 37, 38, 39,\n",
       "         40, 41, 42, 43, 44, 45, 46, 47, 48, 49]),),\n",
       " (array([55, 56]),),\n",
       " (array([59, 60, 61, 62, 63, 64, 65, 66, 67, 68, 69, 70, 71, 72, 73, 74, 75,\n",
       "         76, 77, 78, 79, 80, 81, 82, 83, 84, 85, 86, 87, 88, 89]),)]"
      ]
     },
     "execution_count": 176,
     "metadata": {},
     "output_type": "execute_result"
    }
   ],
   "source": [
    "postop_fu3m"
   ]
  },
  {
   "cell_type": "code",
   "execution_count": 177,
   "metadata": {},
   "outputs": [
    {
     "data": {
      "text/plain": [
       "[(array([0, 1, 2]),),\n",
       " (array([ 4,  5,  6,  7,  8,  9, 10, 11, 12, 13, 14, 15, 16, 17, 18, 19, 20,\n",
       "         21, 22, 23, 24, 25, 26, 27, 28, 29, 30, 31, 32, 33, 34, 35, 36, 37,\n",
       "         38, 39, 40, 41, 42, 43, 44, 45, 46, 47, 48]),),\n",
       " (array([50, 51]),),\n",
       " (array([62, 63, 64, 65]),),\n",
       " (array([67, 68, 69, 70, 71, 72, 73, 74, 75, 76, 77, 78, 79, 80, 81, 82, 83,\n",
       "         84, 85, 86, 87, 88, 89]),)]"
      ]
     },
     "execution_count": 177,
     "metadata": {},
     "output_type": "execute_result"
    }
   ],
   "source": [
    "postop_fu12m"
   ]
  },
  {
   "cell_type": "code",
   "execution_count": 178,
   "metadata": {},
   "outputs": [
    {
     "data": {
      "text/plain": [
       "[(array([ 0,  1,  2,  3,  4,  5,  6,  7,  8,  9, 10, 11, 12, 13, 14, 15, 16,\n",
       "         17, 18, 19, 20, 21, 22, 23, 24, 25, 26, 27, 28, 29, 30, 31, 32, 33,\n",
       "         34, 35, 36, 37, 38, 39, 40, 41, 42, 43, 44, 45, 46, 47, 48, 49, 50,\n",
       "         51, 52]),),\n",
       " (array([56]),),\n",
       " (array([61]),),\n",
       " (array([63, 64, 65]),),\n",
       " (array([68, 69, 70, 71, 72, 73, 74, 75, 76, 77, 78, 79, 80, 81, 82, 83, 84,\n",
       "         85, 86, 87, 88, 89]),)]"
      ]
     },
     "execution_count": 178,
     "metadata": {},
     "output_type": "execute_result"
    }
   ],
   "source": [
    "postop_fu18m"
   ]
  },
  {
   "cell_type": "code",
   "execution_count": 179,
   "metadata": {},
   "outputs": [
    {
     "data": {
      "text/plain": [
       "[(array([ 0,  1,  2,  3,  4,  5,  6,  7,  8,  9, 10, 11, 12, 13, 14]),),\n",
       " (array([34, 35, 36, 37]),),\n",
       " (array([47]),),\n",
       " (array([49]),)]"
      ]
     },
     "execution_count": 179,
     "metadata": {},
     "output_type": "execute_result"
    }
   ],
   "source": [
    "fu3m_fu12m"
   ]
  },
  {
   "cell_type": "code",
   "execution_count": 180,
   "metadata": {},
   "outputs": [
    {
     "data": {
      "text/plain": [
       "[(array([ 0,  1,  2,  3,  4,  5,  6,  7,  8,  9, 10, 11]),),\n",
       " (array([27, 28, 29, 30]),),\n",
       " (array([47, 48]),),\n",
       " (array([51, 52]),),\n",
       " (array([58]),),\n",
       " (array([65]),),\n",
       " (array([78, 79]),)]"
      ]
     },
     "execution_count": 180,
     "metadata": {},
     "output_type": "execute_result"
    }
   ],
   "source": [
    "fu3m_fu18m"
   ]
  },
  {
   "cell_type": "code",
   "execution_count": 181,
   "metadata": {},
   "outputs": [
    {
     "data": {
      "text/plain": [
       "array([], dtype=float64)"
      ]
     },
     "execution_count": 181,
     "metadata": {},
     "output_type": "execute_result"
    }
   ],
   "source": [
    "fu12m_fu18m"
   ]
  },
  {
   "cell_type": "code",
   "execution_count": null,
   "metadata": {},
   "outputs": [],
   "source": [
    "session_1 = \"postop\"\n",
    "session_2 = \"fu3m\"\n",
    "\n",
    "results_path = find_folders.get_local_path(folder=\"GroupResults\")\n",
    "filenames = [f'cluster_permutation_{session_1}_to_{session_2}.json', f'cluster_permutation_{session_2}_to_{session_1}.json', ]\n",
    "\n",
    "max_freq = 90\n",
    "\n",
    "results = []\n",
    "for filename in filenames:\n",
    "    with open(os.path.join(results_path, filename)) as file:\n",
    "        json_data = json.load(file)\n",
    "    \n",
    "    result_df = pd.DataFrame(json_data)    \n",
    "    results.append(np.vstack(result_df['power_spectrum_average_segm_inter'].values)[:,:max_freq])\n",
    "\n",
    "    \n",
    "F_obs, clusters, cluster_pv, H0 = permutation_cluster_test(results)"
   ]
  },
  {
   "cell_type": "code",
   "execution_count": null,
   "metadata": {},
   "outputs": [],
   "source": [
    "result_df['power_spectrum_average_segm_inter'].values"
   ]
  },
  {
   "cell_type": "code",
   "execution_count": null,
   "metadata": {},
   "outputs": [],
   "source": [
    "list1 = [0,1,2]\n",
    "list2 = [3,4,5]\n",
    "list3 = [6,7,8]\n",
    "multiple_lists = np.array([list1, list2, list3])\n",
    "\n",
    "np.vstack(multiple_lists)[:,:2]"
   ]
  },
  {
   "cell_type": "code",
   "execution_count": null,
   "metadata": {},
   "outputs": [],
   "source": [
    "np.vstack(result_df['power_spectrum_average_segm_inter'].values)[:,:max_freq]"
   ]
  },
  {
   "attachments": {},
   "cell_type": "markdown",
   "metadata": {},
   "source": [
    "get Power spectra from all STNs, sorted in columns with different sessions"
   ]
  },
  {
   "cell_type": "code",
   "execution_count": null,
   "metadata": {},
   "outputs": [],
   "source": [
    "stn_power_spectra = mainAnalysis_class.MainClass(\n",
    "                sub=\"017\",\n",
    "                hemisphere=\"Right\",\n",
    "                filter=\"unfiltered\",\n",
    "                result=\"PowerSpectrum\",\n",
    "                incl_session=[\"postop\", \"fu3m\", \"fu12m\", \"fu18m\"],\n",
    "                pickChannels=['1A1B', '1B1C', '1A1C', '2A2B', '2B2C', '2A2C'],\n",
    "                normalization=[\"rawPsd\"],\n",
    "                feature=[\"frequency\", \"time_sectors\", \"rawPsd\", \"SEM_rawPsd\"]\n",
    "            )"
   ]
  },
  {
   "cell_type": "code",
   "execution_count": null,
   "metadata": {},
   "outputs": [],
   "source": [
    "incl_sub = [\"017\", \"019\", \"021\", \"024\", \"025\", \"026\", \"028\", \"029\", \"030\", \"031\", \"032\", \"033\", \"038\"]\n",
    "sessions = [\"postop\", \"fu3m\", \"fu12m\", \"fu18m\"]\n",
    "hemispheres = [\"Right\", \"Left\"]\n",
    "segm_inter_channels = ['1A1B', '1B1C', '1A1C', '2A2B', '2B2C', '2A2C']\n",
    "\n",
    "single_segm_inter_dict = {}\n",
    "# averaged_across_stn_df = pd.DataFrame()\n",
    "\n",
    "for sub in incl_sub:\n",
    "\n",
    "    for hem in hemispheres:\n",
    "\n",
    "        # load all sessions and segmented channel data per STN\n",
    "        stn_power_spectra = mainAnalysis_class.MainClass(\n",
    "                sub=sub,\n",
    "                hemisphere=hem,\n",
    "                filter=\"band-pass\",\n",
    "                result=\"PowerSpectrum\",\n",
    "                incl_session=[\"postop\", \"fu3m\", \"fu12m\", \"fu18m\"],\n",
    "                pickChannels=segm_inter_channels,\n",
    "                normalization=[\"rawPsd\"],\n",
    "                feature=[\"frequency\", \"time_sectors\", \"rawPsd\", \"SEM_rawPsd\"]\n",
    "            )\n",
    "        \n",
    "        for ses in sessions:\n",
    "            \n",
    "            # check which sessions exist\n",
    "            try:\n",
    "                getattr(stn_power_spectra, ses)\n",
    "\n",
    "            except AttributeError:\n",
    "                continue\n",
    "\n",
    "            for chan in segm_inter_channels: \n",
    "                    \n",
    "                # get the power spectra and frequencies from each channel\n",
    "                chan_data = getattr(stn_power_spectra, ses)\n",
    "                chan_data = getattr(chan_data, f\"BIP_{chan}\")\n",
    "                \n",
    "                power_spectrum = np.array(chan_data.rawPsd.data)\n",
    "                freqs = np.array(chan_data.frequency.data)\n",
    "\n",
    "                # save all segmented inter channels of an STN in a dict\n",
    "                single_segm_inter_dict[f\"{sub}_{hem}_{ses}_{chan}\"] = [sub, hem, ses, chan, power_spectrum, freqs]\n",
    "\n",
    "\n",
    "single_segm_inter_df = pd.DataFrame(single_segm_inter_dict)\n",
    "single_segm_inter_df.rename(index={\n",
    "    0: \"subject\",\n",
    "    1: \"hemisphere\",\n",
    "    2: \"session\",\n",
    "    3: \"segmented_inter_chan\",\n",
    "    4: \"power_spectrum\",\n",
    "    5: \"freqencies\"\n",
    "}, inplace=True)\n",
    "single_segm_inter_df = single_segm_inter_df.transpose()\n",
    "\n",
    "single_segm_inter_df.head()"
   ]
  },
  {
   "cell_type": "code",
   "execution_count": null,
   "metadata": {},
   "outputs": [],
   "source": [
    "# join sub, hem, ses columns together\n",
    "\n",
    "single_segm_inter_df[\"stn\"] = single_segm_inter_df[['subject', 'hemisphere']].agg('_'.join, axis=1)\n",
    "single_segm_inter_df.drop(columns=['subject', 'hemisphere'], inplace=True)\n",
    "single_segm_inter_df.head()"
   ]
  },
  {
   "cell_type": "code",
   "execution_count": null,
   "metadata": {},
   "outputs": [],
   "source": [
    "# take the average over all power spectra of each stn_session\n",
    "averaged_across_stn_dict = {}\n",
    "\n",
    "stn_unique = list(single_segm_inter_df.stn.unique())\n",
    "\n",
    "for stn in stn_unique:\n",
    "\n",
    "    # filter the df and only get rows with stn\n",
    "    stn_df = single_segm_inter_df.loc[(single_segm_inter_df[\"stn\"]==stn)]\n",
    "\n",
    "    for ses in sessions:\n",
    "\n",
    "        # check if session exists \n",
    "        if ses not in stn_df.session.values:\n",
    "            continue\n",
    "\n",
    "        stn_session_df = stn_df.loc[(stn_df[\"session\"]==ses)]\n",
    "\n",
    "        # save one vector with frequencies (all the same)\n",
    "        freqs = stn_session_df.freqencies.values[0]\n",
    "\n",
    "        # calculate the grand average of all segmented inter channels of one STN\n",
    "        segm_inter_average = np.mean(stn_session_df.power_spectrum.values)\n",
    "\n",
    "        # save in average dict\n",
    "        averaged_across_stn_dict[f\"{stn}_{ses}_averaged\"] = [stn, ses, segm_inter_average, freqs]\n",
    "\n",
    "\n",
    "averaged_across_stn_df = pd.DataFrame(averaged_across_stn_dict)\n",
    "averaged_across_stn_df.rename(index={\n",
    "    0: \"stn\",\n",
    "    1: \"session\",\n",
    "    2: \"power_spectrum_average_segm_inter\",\n",
    "    3: \"frequencies\"\n",
    "}, inplace=True)\n",
    "\n",
    "averaged_across_stn_df = averaged_across_stn_df.transpose()"
   ]
  },
  {
   "cell_type": "code",
   "execution_count": null,
   "metadata": {},
   "outputs": [],
   "source": [
    "averaged_across_stn_df.head()"
   ]
  },
  {
   "cell_type": "code",
   "execution_count": null,
   "metadata": {},
   "outputs": [],
   "source": [
    "postop_df = averaged_across_stn_df.loc[(averaged_across_stn_df[\"session\"]==\"postop\")]\n",
    "fu3m_df = averaged_across_stn_df.loc[(averaged_across_stn_df[\"session\"]==\"fu3m\")]\n",
    "fu12m_df = averaged_across_stn_df.loc[(averaged_across_stn_df[\"session\"]==\"fu12m\")]\n",
    "fu18m_df = averaged_across_stn_df.loc[(averaged_across_stn_df[\"session\"]==\"fu18m\")]"
   ]
  },
  {
   "cell_type": "code",
   "execution_count": null,
   "metadata": {},
   "outputs": [],
   "source": [
    "stn_postop = list(postop_df.stn.unique())\n",
    "stn_fu3m = list(fu3m_df.stn.unique())\n",
    "stn_fu12m = list(fu12m_df.stn.unique())\n",
    "\n",
    "postop_fu3m_comparison = list(set(stn_postop) & set(stn_fu3m))\n",
    "fu3m_fu12m_comparison = list(set(stn_fu3m) & set(stn_fu12m))"
   ]
  },
  {
   "cell_type": "code",
   "execution_count": null,
   "metadata": {},
   "outputs": [],
   "source": [
    "fu3m_fu12m_comparison.sort()"
   ]
  },
  {
   "cell_type": "code",
   "execution_count": null,
   "metadata": {},
   "outputs": [],
   "source": [
    "data_fu3m = pd.DataFrame()\n",
    "data_fu12m = pd.DataFrame()\n",
    "\n",
    "\n",
    "for stn in fu3m_fu12m_comparison:\n",
    "\n",
    "    fu3m_comparison_to_fu12m = fu3m_df.loc[(fu3m_df[\"stn\"]==stn)]\n",
    "    fu12m_comparison_to_fu3m = fu12m_df.loc[(fu12m_df[\"stn\"]==stn)]\n",
    "\n",
    "    data_fu3m = pd.concat([data_fu3m, fu3m_comparison_to_fu12m])\n",
    "    data_fu12m = pd.concat([data_fu12m, fu12m_comparison_to_fu3m])"
   ]
  },
  {
   "cell_type": "code",
   "execution_count": null,
   "metadata": {},
   "outputs": [],
   "source": [
    "# compute permutation test between sessions fu3m and fu12m\n",
    "\n",
    "compare_df = [data_fu3m, data_fu3m]\n",
    "results = []\n",
    "max_freq = 90\n",
    "\n",
    "for df in compare_df:\n",
    "\n",
    "    results.append(np.vstack(df['power_spectrum_average_segm_inter'].values)[:,:max_freq])"
   ]
  },
  {
   "cell_type": "code",
   "execution_count": null,
   "metadata": {},
   "outputs": [],
   "source": [
    "results"
   ]
  },
  {
   "cell_type": "code",
   "execution_count": null,
   "metadata": {},
   "outputs": [],
   "source": [
    "data_postop = pd.DataFrame()\n",
    "data_fu3m = pd.DataFrame()\n",
    "\n",
    "\n",
    "for stn in postop_fu3m_comparison:\n",
    "\n",
    "    postop_comparison_to_fu3m = postop_df.loc[(postop_df[\"stn\"]==stn)]\n",
    "    fu3m_comparison_to_postop = fu3m_df.loc[(fu3m_df[\"stn\"]==stn)]\n",
    "\n",
    "    data_postop = pd.concat([data_postop, postop_comparison_to_fu3m])\n",
    "    data_fu3m = pd.concat([data_fu3m, fu3m_comparison_to_postop])"
   ]
  },
  {
   "cell_type": "code",
   "execution_count": null,
   "metadata": {},
   "outputs": [],
   "source": []
  },
  {
   "cell_type": "markdown",
   "metadata": {},
   "source": []
  },
  {
   "attachments": {},
   "cell_type": "markdown",
   "metadata": {},
   "source": [
    "## 2. Plot grand average across STNs of a channel group (Ring, SegmInter, SegmIntra) "
   ]
  },
  {
   "cell_type": "code",
   "execution_count": 16,
   "metadata": {},
   "outputs": [
    {
     "name": "stdout",
     "output_type": "stream",
     "text": [
      "figure:  grand_average_power_spectra_SegmInter_rawPsd_unfiltered.png \n",
      "written in:  c:\\Users\\jebe12\\Research\\Longterm_beta_project\\figures\n"
     ]
    },
    {
     "data": {
      "image/png": "[encoded data removed]",
      "text/plain": [
       "<Figure size 640x480 with 1 Axes>"
      ]
     },
     "metadata": {},
     "output_type": "display_data"
    }
   ],
   "source": [
    "grand_average_power_spectra = power_spectra_plots.power_spectra_grand_average_per_session(\n",
    "    incl_sub=[\"017\", \"019\", \"021\", \"024\", \"025\", \"026\", \"028\", \"029\", \"030\", \"031\", \"032\", \"033\", \"038\"],\n",
    "    channel_group=\"SegmInter\",\n",
    "    signalFilter=\"unfiltered\",\n",
    "    absolute_or_relative_psd=\"rawPsd\"\n",
    "\n",
    ")"
   ]
  },
  {
   "cell_type": "code",
   "execution_count": null,
   "metadata": {},
   "outputs": [],
   "source": [
    "grand_average_power_spectra"
   ]
  },
  {
   "cell_type": "code",
   "execution_count": null,
   "metadata": {},
   "outputs": [],
   "source": [
    "incl_sub=[\"017\", \"019\", \"021\", \"024\", \"025\", \"026\", \"028\", \"029\", \"030\", \"031\", \"032\", \"033\", \"038\"]\n",
    "\n",
    "sessions = [\"postop\", \"fu3m\", \"fu12m\", \"fu18m\"]\n",
    "hemispheres = [\"Right\", \"Left\"]\n",
    "channels = ['1A1B', '1B1C', '1A1C', '2A2B', '2B2C', '2A2C']\n",
    "signalFilter = \"band-pass\"\n",
    "\n",
    "single_channels_dict = {}\n",
    "\n",
    "for sub in incl_sub:\n",
    "\n",
    "    for hem in hemispheres:\n",
    "\n",
    "        # load all sessions and selected channel data per STN\n",
    "        stn_power_spectra = mainAnalysis_class.MainClass(\n",
    "                sub=sub,\n",
    "                hemisphere=hem,\n",
    "                filter=signalFilter,\n",
    "                result=\"PowerSpectrum\",\n",
    "                incl_session=[\"postop\", \"fu3m\", \"fu12m\", \"fu18m\"],\n",
    "                pickChannels=channels,\n",
    "                normalization=[\"rawPsd\"],\n",
    "                feature=[\"frequency\", \"time_sectors\", \n",
    "                         \"rawPsd\", \"SEM_rawPsd\",\n",
    "                         \"normPsdToSum40to90Hz\", \"SEM_normPsdToSum40to90Hz\"]\n",
    "            )\n",
    "        \n",
    "        for ses in sessions:\n",
    "            \n",
    "            # check which sessions exist\n",
    "            try:\n",
    "                getattr(stn_power_spectra, ses)\n",
    "\n",
    "            except AttributeError:\n",
    "                continue\n",
    "\n",
    "            for chan in channels: \n",
    "                    \n",
    "                # get the power spectra and frequencies from each channel\n",
    "                chan_data = getattr(stn_power_spectra, ses)\n",
    "                chan_data = getattr(chan_data, f\"BIP_{chan}\")\n",
    "                \n",
    "                power_spectrum = np.array(chan_data.normPsdToSum40to90Hz.data)\n",
    "                freqs = np.array(chan_data.frequency.data)\n",
    "\n",
    "                # save all channels of an STN in a dict\n",
    "                single_channels_dict[f\"{sub}_{hem}_{ses}_{chan}\"] = [sub, hem, ses, chan, power_spectrum, freqs]\n",
    "\n",
    "# Dataframe with all single channels and their power_spectra + frequencies\n",
    "single_channels_df = pd.DataFrame(single_channels_dict)\n",
    "single_channels_df.rename(index={\n",
    "    0: \"subject\",\n",
    "    1: \"hemisphere\",\n",
    "    2: \"session\",\n",
    "    3: \"bipolar_channel\",\n",
    "    4: \"power_spectrum\",\n",
    "    5: \"frequencies\"\n",
    "}, inplace=True)\n",
    "single_channels_df = single_channels_df.transpose()\n",
    "\n",
    "# join sub, hem columns together -> stn\n",
    "single_channels_df[\"stn\"] = single_channels_df[['subject', 'hemisphere']].agg('_'.join, axis=1)\n",
    "single_channels_df.drop(columns=['subject', 'hemisphere'], inplace=True)"
   ]
  },
  {
   "cell_type": "code",
   "execution_count": null,
   "metadata": {},
   "outputs": [],
   "source": [
    "single_channels_df.head()"
   ]
  },
  {
   "cell_type": "code",
   "execution_count": null,
   "metadata": {},
   "outputs": [],
   "source": [
    "#session_df.power_spectrum.values\n",
    "\n",
    "session_df.power_spectrum.count()"
   ]
  },
  {
   "cell_type": "code",
   "execution_count": null,
   "metadata": {},
   "outputs": [],
   "source": [
    "# Plot all power spectra in one figure, one color for each session\n",
    "\n",
    "# 4 colors used for the cycle of matplotlib \n",
    "cycler_colors = cycler(\"color\", [\"turquoise\", \"sandybrown\", \"plum\", \"cornflowerblue\"])\n",
    "plt.rc('axes', prop_cycle=cycler_colors)\n",
    "\n",
    "fig = plt.figure(layout=\"tight\")\n",
    "\n",
    "average_spectra = {}\n",
    "sample_size = {}\n",
    "\n",
    "for idx, ses in enumerate(sessions):\n",
    "\n",
    "    session_df = single_channels_df.loc[single_channels_df.session==ses]\n",
    "\n",
    "    frequencies = session_df.frequencies.values[0]\n",
    "\n",
    "    power_spectrum_session_grand_average = np.mean(session_df.power_spectrum.values)\n",
    "    standard_deviation_session = np.std(session_df.power_spectrum.values)\n",
    "\n",
    "    average_spectra[f\"{ses}\"] = [frequencies, power_spectrum_session_grand_average, standard_deviation_session]\n",
    "    sample_size[f\"{ses}\"] = len(session_df.power_spectrum.values)\n",
    "\n",
    "\n",
    "    plt.plot(frequencies, power_spectrum_session_grand_average, label=ses, linewidth=3)\n",
    "\n",
    "    plt.fill_between(frequencies, \n",
    "                 power_spectrum_session_grand_average-standard_deviation_session,\n",
    "                 power_spectrum_session_grand_average+standard_deviation_session,\n",
    "                 color=\"gainsboro\", alpha=0.5)\n",
    "\n",
    "\n",
    "plt.title(\"Grand average power spectra across segmented-intra channels\", fontdict={\"size\": 18})\n",
    "plt.legend(loc= 'upper right', fontsize=14)\n",
    "\n",
    "# add lines for freq Bands\n",
    "plt.axvline(x=8, color='dimgrey', linestyle='--')\n",
    "plt.axvline(x=13, color='dimgrey', linestyle='--')\n",
    "plt.axvline(x=20, color='dimgrey', linestyle='--')\n",
    "plt.axvline(x=35, color='dimgrey', linestyle='--')\n",
    "\n",
    "plt.xlabel(\"Frequency [Hz]\", fontdict={\"size\": 14})\n",
    "plt.xlim(1, 60)\n",
    "plt.ylabel(\"average PSD rel. to sum 40-90 Hz [%]\", fontdict={\"size\": 14})\n",
    "plt.ylim(-2, 80)"
   ]
  },
  {
   "cell_type": "code",
   "execution_count": null,
   "metadata": {},
   "outputs": [],
   "source": [
    "# Plot all power spectra in one figure, one color for each session\n",
    "\n",
    "# 4 colors used for the cycle of matplotlib \n",
    "cycler_colors = cycler(\"color\", [\"turquoise\", \"sandybrown\", \"plum\", \"cornflowerblue\"])\n",
    "plt.rc('axes', prop_cycle=cycler_colors)\n",
    "\n",
    "fig = plt.figure(layout=\"tight\")\n",
    "\n",
    "average_spectra = {}\n",
    "\n",
    "for idx, ses in enumerate(sessions):\n",
    "\n",
    "    session_df = single_channels_df.loc[single_channels_df.session==ses]\n",
    "\n",
    "    frequencies = session_df.frequencies.values[0]\n",
    "\n",
    "    # plot each single channel power spectrum in light grey\n",
    "    for s, spectrum in enumerate(list(session_df.power_spectrum.values)):\n",
    "\n",
    "        plt.plot(frequencies, spectrum, color=\"lightgray\")\n",
    "\n",
    "    power_spectrum_session_grand_average = np.mean(session_df.power_spectrum.values)\n",
    "    standard_deviation_session = np.std(session_df.power_spectrum.values)\n",
    "\n",
    "    average_spectra[f\"{ses}\"] = [frequencies, power_spectrum_session_grand_average, standard_deviation_session]\n",
    "\n",
    "# plot the grand average in color on top of the grey single channels\n",
    "for session in sessions:\n",
    "        \n",
    "    plt.plot(average_spectra[f\"{session}\"][0], \n",
    "             average_spectra[f\"{session}\"][1], label=session, )\n",
    "    #plt.fill_between(frequencies, \n",
    "                #  power_spectrum_session_grand_average-standard_deviation_session,\n",
    "                #  power_spectrum_session_grand_average+standard_deviation_session,\n",
    "                #  color=\"lightgray\", alpha=0.5)\n",
    "\n",
    "\n",
    "        \n",
    "   \n",
    "\n",
    "\n",
    "plt.title(\"Grand average Power spectrum across segmented intra channels\", fontdict={\"size\": 18})\n",
    "plt.legend(loc= 'upper right', edgecolor=\"black\", fontsize=14)\n",
    "\n",
    "# add lines for freq Bands\n",
    "plt.axvline(x=8, color='black', linestyle='--')\n",
    "plt.axvline(x=13, color='black', linestyle='--')\n",
    "plt.axvline(x=20, color='black', linestyle='--')\n",
    "plt.axvline(x=35, color='black', linestyle='--')\n",
    "\n",
    "plt.xlabel(\"Frequency [Hz]\", fontdict={\"size\": 14})\n",
    "plt.xlim(1, 95)\n",
    "plt.ylabel(\"grand average PSD to sum 40-90 Hz[%]\", fontdict={\"size\": 14})"
   ]
  },
  {
   "cell_type": "markdown",
   "metadata": {},
   "source": []
  },
  {
   "attachments": {},
   "cell_type": "markdown",
   "metadata": {},
   "source": [
    "## 3. Calculate PSD averages of beta, high beta and low beta + plot Power Spectra from single STNs"
   ]
  },
  {
   "cell_type": "code",
   "execution_count": null,
   "metadata": {},
   "outputs": [],
   "source": [
    "# plot Spectrograms if only one session is available\n",
    "FF_psd = FFpsd.spectrogram_Psd_onlyONEsession(\n",
    "    incl_sub = \"037\", \n",
    "    incl_session = [\"fu3m\"],\n",
    "    incl_condition = [\"m0s0\"],\n",
    "    pickChannels=['03', '13', '02', '12', '01', '23',\n",
    "                  '1A1B', '1B1C', '1A1C', '2A2B', '2B2C', '2A2C',\n",
    "                  '1A2A', '1B2B', '1C2C'],\n",
    "    hemisphere=\"Left\",\n",
    "    filter = \"band-pass\"\n",
    ")"
   ]
  },
  {
   "attachments": {},
   "cell_type": "markdown",
   "metadata": {},
   "source": [
    "## 4. Plot channels seperately per STN - longitudinal plot of single channels"
   ]
  },
  {
   "cell_type": "code",
   "execution_count": null,
   "metadata": {},
   "outputs": [],
   "source": [
    "PowerSpectra_perChannels = power_spectra_plots.PowerSpectra_perChannel(\n",
    "    sub=\"031\",\n",
    "    hemisphere=\"Left\",\n",
    "    incl_session=[\"postop\", \"fu3m\"],\n",
    "    signalFilter=\"band-pass\",\n",
    "    normalization=[\"rawPsd\", \"normPsdToTotalSum\", \"normPsdToSum1_100Hz\", \"normPsdToSum40_90Hz\"]\n",
    "\n",
    ")"
   ]
  },
  {
   "cell_type": "code",
   "execution_count": null,
   "metadata": {},
   "outputs": [],
   "source": [
    "data = mainAnalysis_class.MainClass(\n",
    "    sub=\"029\",\n",
    "    hemisphere = \"Left\",\n",
    "    filter = \"band-pass\",\n",
    "    result = \"PowerSpectrum\",\n",
    "    incl_session = [\"postop\", \"fu3m\", \"fu12m\", \"fu18m\"],\n",
    "    pickChannels = ['03', '13', '02', '12', '01', '23', \n",
    "                    '1A1B', '1B1C', '1A1C', '2A2B', '2B2C', '2A2C', \n",
    "                    '1A2A', '1B2B', '1C2C'],\n",
    "    normalization = [\"rawPsd\", \"normPsdToTotalSum\", \"normPsdToSum40_90Hz\"],\n",
    "    freqBands= None,\n",
    "    feature = [\"frequency\", \"rawPsd\", \"SEM_rawPsd\", \"normPsdToTotalSum\", \"SEM_normPsdToTotalSum\",\n",
    "               \"normPsdToSum40to90Hz\", \"SEM_normPsdToSum40to90Hz\"],\n",
    "    \n",
    ")"
   ]
  },
  {
   "attachments": {},
   "cell_type": "markdown",
   "metadata": {},
   "source": [
    "Create three groups: Ring, SegmInter, SegmIntra\n",
    "\n",
    "for each group plot the PSD average of each channel over time (x=session, y=PSD average), average PSD over channels within a group (+- standard deviation)\n",
    "each group is a column, plot one channel per Row, within one subplot: Power spectrum of one channel at different timepoints"
   ]
  },
  {
   "cell_type": "code",
   "execution_count": null,
   "metadata": {},
   "outputs": [],
   "source": [
    "data.postop.BIP_02.Result_DF"
   ]
  },
  {
   "attachments": {},
   "cell_type": "markdown",
   "metadata": {},
   "source": [
    "Plot each channel in a seperate subplot with all timepoints\n",
    "\n",
    "visually compare the development over time of each single channel"
   ]
  },
  {
   "cell_type": "code",
   "execution_count": null,
   "metadata": {},
   "outputs": [],
   "source": [
    "timepoints = [\"postop\", \"fu3m\", \"fu12m\", \"fu18m\"]\n",
    "\n",
    "Ring = ['BIP_03', 'BIP_13', 'BIP_02', 'BIP_12', 'BIP_01', 'BIP_23']\n",
    "SegmIntra = ['BIP_1A1B', 'BIP_1B1C', 'BIP_1A1C', 'BIP_2A2B', 'BIP_2B2C', 'BIP_2A2C']\n",
    "SegmInter = ['BIP_1A2A', 'BIP_1B2B', 'BIP_1C2C']\n",
    "\n",
    "groupChannels = [\"Ring\", \"SegmIntra\", \"SegmInter\"]\n",
    "\n",
    "plt.style.use('seaborn-whitegrid')\n",
    "fig = plt.figure(figsize= (50, 20), layout=\"tight\")\n",
    "\n",
    "# Create a list of 15 colors and add it to the cycle of matplotlib \n",
    "cycler_colors = cycler(\"color\", [\"black\", \"blue\", \"lime\", \"darkred\"])\n",
    "plt.rc('axes', prop_cycle=cycler_colors)\n",
    "\n",
    "\n",
    "for g, group in enumerate(groupChannels):\n",
    "\n",
    "    # loop through Ring, SegmIntra, SegmInter each will create a row (rows n=3)\n",
    "    # eval(group) gives takes from the string \"Ring\" the variable Ring, so we can loop through the list Ring \n",
    "    for c, chan in enumerate(eval(group)):\n",
    "\n",
    "        # subplot layout: one row for each group, max. 6 columns, if 6 BIP channels, index from left to right 1-16\n",
    "        if group == \"Ring\":\n",
    "\n",
    "            plt.subplot(3, 6, c+1, label=chan)\n",
    "        \n",
    "        elif group == \"SegmIntra\":\n",
    "            plt.subplot(3, 6, c+7, label=chan,)\n",
    "        \n",
    "        elif group == \"SegmInter\":\n",
    "            plt.subplot(3, 6, c+13, label=chan)\n",
    "\n",
    "        else: \n",
    "            print(\"group must be Ring, SegmIntra or SegmInter\")\n",
    "\n",
    "\n",
    "        for tp in timepoints:\n",
    "            PowerSpectrum = getattr(data, tp)\n",
    "            PowerSpectrum = getattr(PowerSpectrum, chan)\n",
    "\n",
    "            f = PowerSpectrum.frequency.data\n",
    "            psd = np.array(PowerSpectrum.normPsdToTotalSum.data)\n",
    "            sem = np.array(PowerSpectrum.SEM_normPsdToTotalSum.data)\n",
    "\n",
    "            plt.title(f\"{chan}\", fontdict={\"size\": 50})\n",
    "            plt.plot(f, psd, label = f\"{tp}\")\n",
    "            plt.fill_between(f, psd-sem, psd+sem, color=\"lightgray\", alpha=0.5)\n",
    "\n",
    "            # add lines for freq Bands\n",
    "            plt.axvline(x=8, color='black', linestyle='--')\n",
    "            plt.axvline(x=13, color='black', linestyle='--')\n",
    "            plt.axvline(x=20, color='black', linestyle='--')\n",
    "            plt.axvline(x=35, color='black', linestyle='--')\n",
    "\n",
    "            plt.xlabel(\"Frequency [Hz]\", fontdict={\"size\": 30})\n",
    "            # plt.ylim(0, 20) # for rel PSD to sum 1-100Hz\n",
    "            # plt.ylim(0, 4) # for absolute PSD\n",
    "            # plt.ylim(0, 150) # for rel PSD to sum 40-90Hz\n",
    "            plt.ylim(0, 17) # for rel PSD to sum 40-90Hz\n",
    "            plt.xlim(2, 50)\n",
    "            plt.ylabel(\"PSD to sum 40-90 Hz[%]+-SEM\", fontdict={\"size\": 30})\n",
    "            plt.xticks(fontsize= 20), plt.yticks(fontsize= 20)\n",
    "            plt.legend(loc= 'upper right', edgecolor=\"black\", fontsize=20)\n",
    "\n",
    "fig.suptitle(\"Power Spectra sub-029, Right hemisphere, band-pass filtered, relative Psd to sum 40-90Hz\", fontsize=55, y=1.02)\n",
    "fig.subplots_adjust(wspace=40, hspace=60)\n",
    "\n",
    "#plt.tight_layout(pad=10, w_pad=10, h_pad=10)\n",
    "\n",
    "plt.show()"
   ]
  },
  {
   "cell_type": "markdown",
   "metadata": {},
   "source": []
  },
  {
   "attachments": {},
   "cell_type": "markdown",
   "metadata": {},
   "source": [
    "## 5. Plot channels per group (Ring, SegmInter, SegmIntra) of single STNs"
   ]
  },
  {
   "cell_type": "code",
   "execution_count": null,
   "metadata": {},
   "outputs": [],
   "source": [
    "PowerSpectra = power_spectra_plots.PowerSpectra_perChannelGroup(\n",
    "    sub=\"029\",\n",
    "    hemisphere=\"Left\",\n",
    "    incl_session=[\"postop\", \"fu3m\", \"fu12m\", \"fu18m\"],\n",
    "    signalFilter=\"band-pass\",\n",
    "    normalization=[\"rawPsd\", \"normPsdToTotalSum\", \"normPsdToSum1_100Hz\", \"normPsdToSum40_90Hz\"]\n",
    ")"
   ]
  },
  {
   "cell_type": "code",
   "execution_count": null,
   "metadata": {},
   "outputs": [],
   "source": [
    "sessions = [\"postop\", \"fu3m\", \"fu12m\", \"fu18m\"]\n",
    "groupChannels = [\"Ring\", \"SegmIntra\", \"SegmInter\"]\n",
    "\n",
    "Ring = ['BIP_03', 'BIP_13', 'BIP_02', 'BIP_12', 'BIP_01', 'BIP_23']\n",
    "SegmIntra = ['BIP_1A1B', 'BIP_1B1C', 'BIP_1A1C', 'BIP_2A2B', 'BIP_2B2C', 'BIP_2A2C']\n",
    "SegmInter = ['BIP_1A2A', 'BIP_1B2B', 'BIP_1C2C']\n",
    "\n",
    "fig = plt.figure(figsize= (30, 30), layout=\"tight\")\n",
    "\n",
    "for g, group in enumerate(groupChannels): # 0,1,2\n",
    "      \n",
    "    for s, ses in enumerate(sessions): # 0,1,2,3\n",
    "    #for g, group in enumerate(groupChannels):\n",
    "\n",
    "        if ses == \"postop\":\n",
    "            plt.subplot(4,3,s+g+1, label=f\"{group}_{ses}\") # e.g. 0+0+1, 0+1+1, 0+2+1 = row1\n",
    "        \n",
    "        if ses == \"fu3m\":\n",
    "            plt.subplot(4,3,s+g+3, label=f\"{group}_{ses}\") # e.g. 1+0+3, 1+1+3, 1+2+3 = row1\n",
    "        \n",
    "        if ses == \"fu12m\":\n",
    "            plt.subplot(4,3,s+g+5, label=f\"{group}_{ses}\") # e.g. 2+0+5, 2+1+5, 2+2+5 = row1\n",
    "        \n",
    "        if ses == \"fu18m\":\n",
    "            plt.subplot(4,3,s+g+7, label=f\"{group}_{ses}\") # e.g. 3+0+7, 3+1+7, 3+2+7 = row1\n",
    "\n",
    "        # for each group, get all channels\n",
    "        for c, chan in enumerate(eval(group)):\n",
    "            # get f, psd and sem from data\n",
    "            PowerSpectrum = getattr(data, ses)\n",
    "            PowerSpectrum = getattr(PowerSpectrum, chan)\n",
    "\n",
    "            f = PowerSpectrum.frequency.data\n",
    "            psd = np.array(PowerSpectrum.rawPsd.data)\n",
    "            sem = np.array(PowerSpectrum.SEM_rawPsd.data)\n",
    "\n",
    "            # plot each Power spectrum for each channel in the same group_ses subplot\n",
    "            plt.title(f\"{group}_{ses}\", fontdict={\"size\": 40})\n",
    "            plt.plot(f, psd, label = f\"{chan}\")\n",
    "            plt.fill_between(f, psd-sem, psd+sem, color=\"lightgray\", alpha=0.5)\n",
    "\n",
    "            # add lines for freq Bands\n",
    "            plt.axvline(x=8, color='black', linestyle='--')\n",
    "            plt.axvline(x=13, color='black', linestyle='--')\n",
    "            plt.axvline(x=20, color='black', linestyle='--')\n",
    "            plt.axvline(x=35, color='black', linestyle='--')\n",
    "\n",
    "            plt.xlabel(\"Frequency [Hz]\", fontdict={\"size\": 30})\n",
    "            plt.xlim(2, 50)\n",
    "            plt.ylabel(\"absolute PSD [uV^2/Hz+-SEM]\", fontdict={\"size\": 30})\n",
    "            plt.xticks(fontsize= 20), plt.yticks(fontsize= 20)\n",
    "            plt.legend(loc= 'upper right', edgecolor=\"black\", fontsize=20)\n",
    "\n",
    "\n",
    "# Title of each plot per normalization variant\n",
    "fig.suptitle(f\"Power Spectra\", fontsize=55, y=1.02)\n",
    "\n",
    "# adjust Layout\n",
    "fig.subplots_adjust(wspace=40, hspace=60)\n",
    "# plt.tight_layout(pad=10, w_pad=10, h_pad=10)\n",
    "\n",
    "plt.show()"
   ]
  },
  {
   "attachments": {},
   "cell_type": "markdown",
   "metadata": {},
   "source": [
    "## 6. Normalized recordings to Postop or 3MFU "
   ]
  },
  {
   "attachments": {},
   "cell_type": "markdown",
   "metadata": {},
   "source": [
    "Use automatized method for plotting normalized PSD to Postop and 3MFU\n",
    "\n",
    "TODO: statistical analysis -> Friedman or ANOVA test of paired groups?"
   ]
  },
  {
   "cell_type": "code",
   "execution_count": 18,
   "metadata": {},
   "outputs": [
    {
     "name": "stdout",
     "output_type": "stream",
     "text": [
      "new files:  normalizedToPostop_rawPsd_beta.pickle \n",
      "and: normalizedToFu3m_rawPsd_beta.pickle \n",
      "written in:  c:\\Users\\jebe12\\Research\\Longterm_beta_project\\results \n",
      "new figure: relativeTo_Fu3m_rawPsd_beta_barplot_plotPerBipolarChannel.png \n",
      "written in:  c:\\Users\\jebe12\\Research\\Longterm_beta_project\\figures\n"
     ]
    },
    {
     "data": {
      "image/png": "[encoded data removed]",
      "text/plain": [
       "<Figure size 640x480 with 1 Axes>"
      ]
     },
     "metadata": {},
     "output_type": "display_data"
    },
    {
     "data": {
      "image/png": "[encoded data removed]",
      "text/plain": [
       "<Figure size 640x480 with 1 Axes>"
      ]
     },
     "metadata": {},
     "output_type": "display_data"
    }
   ],
   "source": [
    "plotNormalizedPSD_perChannel = BIP_perChannel.BIP_channelNormalizedToSession(\n",
    "    incl_sub=[\"017\", \"019\", \"024\", \"025\", \"026\", \"029\", \"030\"],\n",
    "    normalization=\"rawPsd\",\n",
    "    freqBand=\"beta\",\n",
    "    plot=\"plotPerBipolarChannel\"\n",
    ")"
   ]
  },
  {
   "cell_type": "code",
   "execution_count": null,
   "metadata": {},
   "outputs": [],
   "source": [
    "incl_sub =  [\"017\", \"019\", \"024\", \"025\", \"026\", \"029\", \"030\"]\n",
    "hemispheres = [\"Right\", \"Left\"]\n",
    "normalization = \"rawPsd\"\n",
    "freqBand = \"beta\"\n",
    "sessions = [\"fu3m\", \"fu12m\", \"fu18m\"]\n",
    "BIP_channels = ['BIP_03', 'BIP_13', 'BIP_02', 'BIP_12', 'BIP_01', 'BIP_23', \n",
    "                'BIP_1A1B', 'BIP_1B1C', 'BIP_1A1C', 'BIP_2A2B', 'BIP_2B2C', 'BIP_2A2C',\n",
    "                'BIP_1A2A', 'BIP_1B2B', 'BIP_1C2C']\n",
    "\n",
    "\n",
    "normalized_psd_Dict = {}\n",
    "\n",
    "for sub in incl_sub:\n",
    "    for hem in hemispheres:\n",
    "\n",
    "        sub_hem_data = mainAnalysis_class.MainClass(\n",
    "            sub=sub,\n",
    "            hemisphere=hem,\n",
    "            filter=\"band-pass\",\n",
    "            result=\"PSDaverageFrequencyBands\",\n",
    "            incl_session=[\"postop\", \"fu3m\", \"fu12m\", \"fu18m\"],\n",
    "            pickChannels=['03', '13', '02', '12', '01', '23', \n",
    "                            '1A1B', '1B1C', '1A1C', '2A2B', '2B2C', '2A2C', \n",
    "                            '1A2A', '1B2B', '1C2C'],\n",
    "            normalization=[normalization],\n",
    "            freqBands=[\"beta\", \"lowBeta\", \"highBeta\"],\n",
    "            feature=[\"averagedPSD\"]\n",
    "        )\n",
    "\n",
    "        # for every channel get PSD for each session and normalize to postop\n",
    "        for c, chan in enumerate(BIP_channels):\n",
    "\n",
    "            # check if postop exists \n",
    "            try:\n",
    "                getattr(sub_hem_data, \"postop\")\n",
    "            \n",
    "            except AttributeError:\n",
    "                continue\n",
    "\n",
    "            # first get postop PSD\n",
    "            postop_PSD = getattr(sub_hem_data.postop, chan)\n",
    "            postop_PSD = getattr(postop_PSD, normalization)\n",
    "            postop_PSD = getattr(postop_PSD, freqBand)\n",
    "            postop_PSD = postop_PSD.averagedPSD.data\n",
    "\n",
    "            normalized_postop = postop_PSD/postop_PSD\n",
    "\n",
    "            # store in dictionary\n",
    "            normalized_psd_Dict[f\"{sub}_{hem}_{chan}_postop\"] = [sub, hem, \"postop\", chan, normalized_postop]\n",
    "\n",
    "            # normalize all other session PSD values to postop PSD\n",
    "            for ses in sessions:\n",
    "\n",
    "                # check if session exists\n",
    "                try: \n",
    "                    getattr(sub_hem_data, ses)\n",
    "                \n",
    "                except AttributeError:\n",
    "                    continue\n",
    "\n",
    "                session_PSD = getattr(sub_hem_data, ses)\n",
    "                session_PSD = getattr(session_PSD, chan)\n",
    "                session_PSD = getattr(session_PSD, normalization)\n",
    "                session_PSD = getattr(session_PSD, freqBand)\n",
    "                session_PSD = session_PSD.averagedPSD.data\n",
    "\n",
    "                normalized_session_PSD = session_PSD/postop_PSD\n",
    "                \n",
    "                # store in dictionary\n",
    "                normalized_psd_Dict[f\"{sub}_{hem}_{chan}_{ses}\"] = [sub, hem, ses, chan, normalized_session_PSD]"
   ]
  },
  {
   "cell_type": "code",
   "execution_count": null,
   "metadata": {},
   "outputs": [],
   "source": [
    "normalized_psd_Dataframe = pd.DataFrame(normalized_psd_Dict)\n",
    "normalized_psd_Dataframe.rename(index={0: \"subject\", 1: \"hemisphere\", 2: \"session\", 3: \"bipolarChannel\", 4: \"beta_Psd_normalized_to_postop\"}, inplace=True)\n",
    "normalized_psd_Dataframe = normalized_psd_Dataframe.transpose()\n",
    "normalized_psd_Dataframe[\"subject_hemisphere\"] = normalized_psd_Dataframe[[\"subject\", \"hemisphere\"]].agg('_'.join, axis=1)\n",
    "normalized_psd_Dataframe[\"subject_hemisphere_BIPchannel\"] = normalized_psd_Dataframe[[\"subject\", \"hemisphere\", \"bipolarChannel\"]].agg('_'.join, axis=1)\n",
    "normalized_psd_Dataframe.drop([\"subject\", \"hemisphere\", \"bipolarChannel\"], axis=1, inplace=True)\n",
    "normalized_psd_Dataframe"
   ]
  },
  {
   "cell_type": "code",
   "execution_count": null,
   "metadata": {},
   "outputs": [],
   "source": [
    "fig = plt.figure()\n",
    "\n",
    "ax = sns.lineplot(data=normalized_psd_Dataframe, x=\"session\", y=\"beta_Psd_normalized_to_postop\")\n",
    "plt.title(\"Beta PSD relative to postop per bipolar channel across STNs\")\n",
    "plt.ylabel(\"Beta PSD rel. to postop per bipolar channel\")"
   ]
  },
  {
   "cell_type": "code",
   "execution_count": null,
   "metadata": {},
   "outputs": [],
   "source": [
    "fig = plt.figure()\n",
    "\n",
    "ax = sns.barplot(data=normalized_psd_Dataframe, x=\"session\", y=\"beta_Psd_normalized_to_postop\", palette=\"Set2\")\n",
    "plt.title(\"Relative PSD to postop per bipolar channel across STNs\")\n",
    "plt.ylabel(\"relative PSD to postop per bipolar channel\")\n",
    "plt.ylim(0, 60)\n",
    "\n",
    "figures_path = find_folders.get_local_path(folder=\"GroupFigures\")\n",
    "fig.savefig(figures_path + f\"\\\\relativeTo_Postop_rawPSD_beta_barplot.png\", bbox_inches=\"tight\")"
   ]
  },
  {
   "cell_type": "code",
   "execution_count": null,
   "metadata": {},
   "outputs": [],
   "source": [
    "fig = plt.figure()\n",
    "\n",
    "ax = sns.barplot(data=normalized_psd_Dataframe, x=\"session\", y=\"beta_Psd_normalized_to_postop\", hue=\"subject_hemisphere\", palette=\"viridis\")\n",
    "plt.legend(loc=\"upper right\", bbox_to_anchor=(1.3, 0.8))\n",
    "plt.title(\"Relative PSD to postop per bipolar channel across STNs\")\n",
    "plt.ylabel(\"relative PSD to postop per bipolar channel\")\n",
    "plt.ylim(0, 60)\n",
    "\n",
    "figures_path = find_folders.get_local_path(folder=\"GroupFigures\")\n",
    "fig.savefig(figures_path + f\"\\\\relativeTo_Postop_rawPSD_beta_barplot_perSTN.png\", bbox_inches=\"tight\")"
   ]
  },
  {
   "cell_type": "code",
   "execution_count": null,
   "metadata": {},
   "outputs": [],
   "source": [
    "fig = plt.figure()\n",
    "\n",
    "ax = sns.barplot(data=normalized_psd_Dataframe, x=\"session\", y=\"beta_Psd_normalized_to_postop\", hue=\"subject_hemisphere_BIPchannel\", palette=\"rocket\")\n",
    "# plt.legend(loc=\"upper right\", bbox_to_anchor=(1.3, 0.8))\n",
    "ax.get_legend().remove()\n",
    "plt.title(\"Relative PSD to postop per bipolar channel across STNs\")\n",
    "plt.ylabel(\"relative PSD to postop per bipolar channel\")\n",
    "plt.ylim(0, 60)\n",
    "\n",
    "figures_path = find_folders.get_local_path(folder=\"GroupFigures\")\n",
    "fig.savefig(figures_path + f\"\\\\relativeTo_Postop_rawPSD_beta_barplot_perSTN_BIPchannel.png\", bbox_inches=\"tight\")"
   ]
  },
  {
   "attachments": {},
   "cell_type": "markdown",
   "metadata": {},
   "source": [
    "normalized to 3MFU"
   ]
  },
  {
   "cell_type": "code",
   "execution_count": null,
   "metadata": {},
   "outputs": [],
   "source": [
    "incl_sub =  [\"017\", \"019\", \"024\", \"025\", \"026\", \"029\", \"030\"]\n",
    "hemispheres = [\"Right\", \"Left\"]\n",
    "normalization = \"rawPsd\"\n",
    "freqBand = \"beta\"\n",
    "sessions = [\"fu12m\", \"fu18m\"]\n",
    "BIP_channels = ['BIP_03', 'BIP_13', 'BIP_02', 'BIP_12', 'BIP_01', 'BIP_23', \n",
    "                'BIP_1A1B', 'BIP_1B1C', 'BIP_1A1C', 'BIP_2A2B', 'BIP_2B2C', 'BIP_2A2C',\n",
    "                'BIP_1A2A', 'BIP_1B2B', 'BIP_1C2C']\n",
    "\n",
    "\n",
    "normalizedToFu3m_psd_Dict = {}\n",
    "\n",
    "for sub in incl_sub:\n",
    "    for hem in hemispheres:\n",
    "\n",
    "        sub_hem_data = mainAnalysis_class.MainClass(\n",
    "            sub=sub,\n",
    "            hemisphere=hem,\n",
    "            filter=\"band-pass\",\n",
    "            result=\"PSDaverageFrequencyBands\",\n",
    "            incl_session=[\"fu3m\", \"fu12m\", \"fu18m\"],\n",
    "            pickChannels=['03', '13', '02', '12', '01', '23', \n",
    "                            '1A1B', '1B1C', '1A1C', '2A2B', '2B2C', '2A2C', \n",
    "                            '1A2A', '1B2B', '1C2C'],\n",
    "            normalization=[normalization],\n",
    "            freqBands=[\"beta\", \"lowBeta\", \"highBeta\"],\n",
    "            feature=[\"averagedPSD\"]\n",
    "        )\n",
    "\n",
    "        # for every channel get PSD for each session and normalize to postop\n",
    "        for c, chan in enumerate(BIP_channels):\n",
    "\n",
    "            # check if postop exists \n",
    "            try:\n",
    "                getattr(sub_hem_data, \"fu3m\")\n",
    "            \n",
    "            except AttributeError:\n",
    "                continue\n",
    "\n",
    "            # first get postop PSD\n",
    "            fu3m_PSD = getattr(sub_hem_data.fu3m, chan)\n",
    "            fu3m_PSD = getattr(fu3m_PSD, normalization)\n",
    "            fu3m_PSD = getattr(fu3m_PSD, freqBand)\n",
    "            fu3m_PSD = fu3m_PSD.averagedPSD.data\n",
    "\n",
    "            normalized_fu3m = fu3m_PSD/fu3m_PSD\n",
    "\n",
    "            # store in dictionary\n",
    "            normalizedToFu3m_psd_Dict[f\"{sub}_{hem}_{chan}_fu3m\"] = [sub, hem, \"fu3m\", chan, normalized_postop]\n",
    "\n",
    "            # normalize all other session PSD values to postop PSD\n",
    "            for ses in sessions:\n",
    "\n",
    "                # check if session exists\n",
    "                try: \n",
    "                    getattr(sub_hem_data, ses)\n",
    "                \n",
    "                except AttributeError:\n",
    "                    continue\n",
    "\n",
    "                session_PSD = getattr(sub_hem_data, ses)\n",
    "                session_PSD = getattr(session_PSD, chan)\n",
    "                session_PSD = getattr(session_PSD, normalization)\n",
    "                session_PSD = getattr(session_PSD, freqBand)\n",
    "                session_PSD = session_PSD.averagedPSD.data\n",
    "\n",
    "                normalized_session_PSD = session_PSD/fu3m_PSD\n",
    "                \n",
    "                # store in dictionary\n",
    "                normalizedToFu3m_psd_Dict[f\"{sub}_{hem}_{chan}_{ses}\"] = [sub, hem, ses, chan, normalized_session_PSD]"
   ]
  },
  {
   "cell_type": "code",
   "execution_count": null,
   "metadata": {},
   "outputs": [],
   "source": [
    "normalizedToFu3m_psd_Dataframe = pd.DataFrame(normalizedToFu3m_psd_Dict)\n",
    "normalizedToFu3m_psd_Dataframe.rename(index={0: \"subject\", 1: \"hemisphere\", 2: \"session\", 3: \"bipolarChannel\", 4: \"beta_Psd_normalized_to_fu3m\"}, inplace=True)\n",
    "normalizedToFu3m_psd_Dataframe = normalizedToFu3m_psd_Dataframe.transpose()\n",
    "normalizedToFu3m_psd_Dataframe[\"subject_hemisphere\"] = normalizedToFu3m_psd_Dataframe[[\"subject\", \"hemisphere\"]].agg('_'.join, axis=1)\n",
    "normalizedToFu3m_psd_Dataframe[\"subject_hemisphere_BIPchannel\"] = normalizedToFu3m_psd_Dataframe[[\"subject\", \"hemisphere\", \"bipolarChannel\"]].agg('_'.join, axis=1)\n",
    "normalizedToFu3m_psd_Dataframe.drop([\"subject\", \"hemisphere\", \"bipolarChannel\"], axis=1, inplace=True)\n",
    "normalizedToFu3m_psd_Dataframe"
   ]
  },
  {
   "cell_type": "code",
   "execution_count": null,
   "metadata": {},
   "outputs": [],
   "source": [
    "fig = plt.figure()\n",
    "\n",
    "ax = sns.lineplot(data=normalizedToFu3m_psd_Dataframe, x=\"session\", y=\"beta_Psd_normalized_to_fu3m\")"
   ]
  },
  {
   "cell_type": "code",
   "execution_count": null,
   "metadata": {},
   "outputs": [],
   "source": [
    "fig = plt.figure()\n",
    "\n",
    "ax = sns.barplot(data=normalizedToFu3m_psd_Dataframe, x=\"session\", y=\"beta_Psd_normalized_to_fu3m\", palette=\"Set2\")\n",
    "plt.title(\"Relative PSD to 3MFU per bipolar channel across STNs\")\n",
    "plt.ylabel(\"relative PSD to 3MFU per bipolar channel\")\n",
    "plt.ylim(0, 7)\n",
    "\n",
    "figures_path = find_folders.get_local_path(folder=\"GroupFigures\")\n",
    "fig.savefig(figures_path + f\"\\\\relativeTo_Fu3m_rawPSD_beta_barplot.png\", bbox_inches=\"tight\")"
   ]
  },
  {
   "cell_type": "code",
   "execution_count": null,
   "metadata": {},
   "outputs": [],
   "source": [
    "fig = plt.figure()\n",
    "\n",
    "ax = sns.barplot(data=normalizedToFu3m_psd_Dataframe, x=\"session\", y=\"beta_Psd_normalized_to_fu3m\", hue=\"subject_hemisphere\", palette=\"viridis\")\n",
    "plt.legend(loc=\"upper right\", bbox_to_anchor=(1.3, 0.8))\n",
    "plt.title(\"Relative PSD to 3MFU per bipolar channel across STNs\")\n",
    "plt.ylabel(\"relative PSD to 3MFU per bipolar channel\")\n",
    "plt.ylim(0, 7)\n",
    "\n",
    "figures_path = find_folders.get_local_path(folder=\"GroupFigures\")\n",
    "fig.savefig(figures_path + f\"\\\\relativeTo_Fu3m_rawPSD_beta_barplot_perSTN.png\", bbox_inches=\"tight\")"
   ]
  },
  {
   "cell_type": "code",
   "execution_count": null,
   "metadata": {},
   "outputs": [],
   "source": [
    "fig = plt.figure()\n",
    "\n",
    "ax = sns.barplot(data=normalizedToFu3m_psd_Dataframe, x=\"session\", y=\"beta_Psd_normalized_to_fu3m\", hue=\"subject_hemisphere_BIPchannel\", palette=\"rocket\")\n",
    "# plt.legend(loc=\"upper right\", bbox_to_anchor=(1.3, 0.8))\n",
    "ax.get_legend().remove()\n",
    "\n",
    "plt.title(\"Relative PSD to 3MFU per bipolar channel across STNs\")\n",
    "plt.ylabel(\"relative PSD to 3MFU per bipolar channel\")\n",
    "plt.ylim(0, 7)\n",
    "\n",
    "figures_path = find_folders.get_local_path(folder=\"GroupFigures\")\n",
    "fig.savefig(figures_path + f\"\\\\relativeTo_Fu3m_rawPSD_beta_barplot_perSTN_BIPchannel.png\", bbox_inches=\"tight\")"
   ]
  },
  {
   "cell_type": "markdown",
   "metadata": {},
   "source": []
  },
  {
   "attachments": {},
   "cell_type": "markdown",
   "metadata": {},
   "source": [
    "## 7. Plot the PSD average within beta/high beta/low beta"
   ]
  },
  {
   "attachments": {},
   "cell_type": "markdown",
   "metadata": {},
   "source": [
    "- plot seperately in 3 groups: Ring (6 channels), SegmIntra (6 channels), SegmInter (3 channels)\n",
    "- get the average of all subject hemisphere per timepoint\n",
    "- plot mean of all subject_hemispheres +- standard deviation (distribution)"
   ]
  },
  {
   "cell_type": "code",
   "execution_count": 20,
   "metadata": {},
   "outputs": [
    {
     "data": {
      "text/html": [
       "<svg  width=\"1375\" height=\"55\"><rect x=\"0\" y=\"0\" width=\"55\" height=\"55\" style=\"fill:#470e61;stroke-width:2;stroke:rgb(255,255,255)\"/><rect x=\"55\" y=\"0\" width=\"55\" height=\"55\" style=\"fill:#481c6e;stroke-width:2;stroke:rgb(255,255,255)\"/><rect x=\"110\" y=\"0\" width=\"55\" height=\"55\" style=\"fill:#482979;stroke-width:2;stroke:rgb(255,255,255)\"/><rect x=\"165\" y=\"0\" width=\"55\" height=\"55\" style=\"fill:#453581;stroke-width:2;stroke:rgb(255,255,255)\"/><rect x=\"220\" y=\"0\" width=\"55\" height=\"55\" style=\"fill:#424186;stroke-width:2;stroke:rgb(255,255,255)\"/><rect x=\"275\" y=\"0\" width=\"55\" height=\"55\" style=\"fill:#3d4d8a;stroke-width:2;stroke:rgb(255,255,255)\"/><rect x=\"330\" y=\"0\" width=\"55\" height=\"55\" style=\"fill:#39568c;stroke-width:2;stroke:rgb(255,255,255)\"/><rect x=\"385\" y=\"0\" width=\"55\" height=\"55\" style=\"fill:#34618d;stroke-width:2;stroke:rgb(255,255,255)\"/><rect x=\"440\" y=\"0\" width=\"55\" height=\"55\" style=\"fill:#2f6b8e;stroke-width:2;stroke:rgb(255,255,255)\"/><rect x=\"495\" y=\"0\" width=\"55\" height=\"55\" style=\"fill:#2b748e;stroke-width:2;stroke:rgb(255,255,255)\"/><rect x=\"550\" y=\"0\" width=\"55\" height=\"55\" style=\"fill:#277e8e;stroke-width:2;stroke:rgb(255,255,255)\"/><rect x=\"605\" y=\"0\" width=\"55\" height=\"55\" style=\"fill:#24878e;stroke-width:2;stroke:rgb(255,255,255)\"/><rect x=\"660\" y=\"0\" width=\"55\" height=\"55\" style=\"fill:#21918c;stroke-width:2;stroke:rgb(255,255,255)\"/><rect x=\"715\" y=\"0\" width=\"55\" height=\"55\" style=\"fill:#1f998a;stroke-width:2;stroke:rgb(255,255,255)\"/><rect x=\"770\" y=\"0\" width=\"55\" height=\"55\" style=\"fill:#1fa287;stroke-width:2;stroke:rgb(255,255,255)\"/><rect x=\"825\" y=\"0\" width=\"55\" height=\"55\" style=\"fill:#25ac82;stroke-width:2;stroke:rgb(255,255,255)\"/><rect x=\"880\" y=\"0\" width=\"55\" height=\"55\" style=\"fill:#31b57b;stroke-width:2;stroke:rgb(255,255,255)\"/><rect x=\"935\" y=\"0\" width=\"55\" height=\"55\" style=\"fill:#40bd72;stroke-width:2;stroke:rgb(255,255,255)\"/><rect x=\"990\" y=\"0\" width=\"55\" height=\"55\" style=\"fill:#54c568;stroke-width:2;stroke:rgb(255,255,255)\"/><rect x=\"1045\" y=\"0\" width=\"55\" height=\"55\" style=\"fill:#67cc5c;stroke-width:2;stroke:rgb(255,255,255)\"/><rect x=\"1100\" y=\"0\" width=\"55\" height=\"55\" style=\"fill:#7fd34e;stroke-width:2;stroke:rgb(255,255,255)\"/><rect x=\"1155\" y=\"0\" width=\"55\" height=\"55\" style=\"fill:#98d83e;stroke-width:2;stroke:rgb(255,255,255)\"/><rect x=\"1210\" y=\"0\" width=\"55\" height=\"55\" style=\"fill:#b2dd2d;stroke-width:2;stroke:rgb(255,255,255)\"/><rect x=\"1265\" y=\"0\" width=\"55\" height=\"55\" style=\"fill:#cde11d;stroke-width:2;stroke:rgb(255,255,255)\"/><rect x=\"1320\" y=\"0\" width=\"55\" height=\"55\" style=\"fill:#e7e419;stroke-width:2;stroke:rgb(255,255,255)\"/></svg>"
      ],
      "text/plain": [
       "[(0.277941, 0.056324, 0.381191),\n",
       " (0.283091, 0.110553, 0.431554),\n",
       " (0.280868, 0.160771, 0.472899),\n",
       " (0.271828, 0.209303, 0.504434),\n",
       " (0.257322, 0.25613, 0.526563),\n",
       " (0.239346, 0.300855, 0.540844),\n",
       " (0.221989, 0.339161, 0.548752),\n",
       " (0.203063, 0.379716, 0.553925),\n",
       " (0.185556, 0.41857, 0.556753),\n",
       " (0.169646, 0.456262, 0.55803),\n",
       " (0.154815, 0.493313, 0.55784),\n",
       " (0.140536, 0.530132, 0.555659),\n",
       " (0.127568, 0.566949, 0.550556),\n",
       " (0.120092, 0.600104, 0.54253),\n",
       " (0.123444, 0.636809, 0.528763),\n",
       " (0.146616, 0.67305, 0.508936),\n",
       " (0.19109, 0.708366, 0.482284),\n",
       " (0.252899, 0.742211, 0.448284),\n",
       " (0.327796, 0.77398, 0.40664),\n",
       " (0.404001, 0.800275, 0.362552),\n",
       " (0.496615, 0.826376, 0.306377),\n",
       " (0.595839, 0.848717, 0.243329),\n",
       " (0.699415, 0.867117, 0.175971),\n",
       " (0.804182, 0.882046, 0.114965),\n",
       " (0.906311, 0.894855, 0.098125)]"
      ]
     },
     "execution_count": 20,
     "metadata": {},
     "output_type": "execute_result"
    }
   ],
   "source": [
    "sns.color_palette(\"viridis\", n_colors=25)"
   ]
  },
  {
   "cell_type": "code",
   "execution_count": null,
   "metadata": {},
   "outputs": [],
   "source": [
    "# use the functions\n",
    "# PsdAverage_RingSegmGroups includes ALL RING CHANNELS\n",
    "# PsdAverage_specificRingSegmGroups only includes SPECIFIC RING CHANNELS 01,12,13\n",
    "\n",
    "BIP_function = BIP_channelGroups.PsdAverage_RingSegmGroups(\n",
    "    incl_sub=[\"017\", \"019\", \"021\",\"024\", \"025\", \"026\", \"028\", \"029\", \"030\", \"031\", \"032\", \"033\", \"038\"] ,\n",
    "    signalFilter=\"band-pass\",\n",
    "    normalization=\"normPsdToSum40_90Hz\",\n",
    "    freqBands=[\"alpha\", \"beta\", \"highBeta\", \"lowBeta\"]\n",
    ")\n",
    "\n",
    "# plot as lineplot\n",
    "\n",
    "# BIP_function = BIP_channelGroups.PsdAverage_specificRingSegmGroups_lineplot(\n",
    "#     incl_sub=[\"024\", \"025\", \"026\", \"029\", \"030\", \"033\"] ,\n",
    "#     signalFilter=\"band-pass\",\n",
    "#     normalization=\"normPsdToSum40_90Hz\",\n",
    "#     freqBands=[\"alpha\", \"beta\", \"highBeta\", \"lowBeta\"]\n",
    "# )\n"
   ]
  },
  {
   "cell_type": "code",
   "execution_count": null,
   "metadata": {},
   "outputs": [],
   "source": [
    "BIP_function[\"Ring_DF\"]['017_Right_fu3m_alpha']"
   ]
  },
  {
   "cell_type": "code",
   "execution_count": null,
   "metadata": {},
   "outputs": [],
   "source": [
    "# load the data of one subject\n",
    "\n",
    "data = mainAnalysis_class.MainClass(\n",
    "    sub=\"017\",\n",
    "    hemisphere = \"Right\",\n",
    "    filter = \"band-pass\",\n",
    "    result = \"PeakParameters\",\n",
    "    incl_session = [\"postop\", \"fu3m\", \"fu12m\", \"fu18m\"],\n",
    "    pickChannels = ['03', '13', '02', '12', '01', '23', \n",
    "                    '1A1B', '1B1C', '1A1C', '2A2B', '2B2C', '2A2C', \n",
    "                    '1A2A', '1B2B', '1C2C'],\n",
    "    normalization = [\"rawPsd\"],\n",
    "    freqBands = [\"beta\", \"highBeta\", \"lowBeta\"],\n",
    "    feature= [\"PEAK_frequency\", \"PEAK_amplitude\", \"PEAK_5HzAverage\"]\n",
    ")\n",
    "    "
   ]
  },
  {
   "cell_type": "code",
   "execution_count": null,
   "metadata": {},
   "outputs": [],
   "source": [
    "# loop through the data of all subjects\n",
    "\n",
    "subjects = [\"017\", \"019\", \"024\", \"025\", \"026\", \"029\", \"030\"]\n",
    "hemispheres = [\"Right\", \"Left\"]\n",
    "sessions = [\"postop\", \"fu3m\", \"fu12m\", \"fu18m\"]\n",
    "\n",
    "data = {}\n",
    "Ring_DF = {}\n",
    "SegmIntra_DF = {}\n",
    "SegmInter_DF = {}\n",
    "\n",
    "for sub in subjects:\n",
    "    for hem in hemispheres:\n",
    "\n",
    "        # load the data from each subject hemisphere\n",
    "        data[f\"{sub}_{hem}\"] = mainAnalysis_class.MainClass(\n",
    "            sub=sub,\n",
    "            hemisphere = hem,\n",
    "            filter = \"band-pass\",\n",
    "            result = \"PeakParameters\",\n",
    "            incl_session = [\"postop\", \"fu3m\", \"fu12m\", \"fu18m\"],\n",
    "            pickChannels = ['03', '13', '02', '12', '01', '23', \n",
    "                            '1A1B', '1B1C', '1A1C', '2A2B', '2B2C', '2A2C', \n",
    "                            '1A2A', '1B2B', '1C2C'],\n",
    "            normalization = [\"rawPsd\"],\n",
    "            freqBands = [\"beta\", \"highBeta\", \"lowBeta\"],\n",
    "            feature= [\"PEAK_frequency\", \"PEAK_amplitude\", \"PEAK_5HzAverage\"]\n",
    "        )\n",
    "        \n",
    "        # for each timepoint seperately, get the Dataframes of the correct normalization and frequency band\n",
    "        for ses in sessions:\n",
    "\n",
    "            # get the Dataframe\n",
    "            if ses == \"postop\":\n",
    "                # Error check: check if session exists as an attribute of one subject_hemisphere object\n",
    "                try: \n",
    "                    data[f\"{sub}_{hem}\"].postop\n",
    "                \n",
    "                except AttributeError:\n",
    "                    continue\n",
    "                    \n",
    "                session_DF = data[f\"{sub}_{hem}\"].postop.Result_DF # select for session\n",
    "                norm_session_DF = session_DF[session_DF.absoluteOrRelativePSD == \"rawPsd\"] # select for absolute PSD instead of relative\n",
    "                freqBand_norm_session_DF = norm_session_DF[norm_session_DF.frequencyBand == \"beta\"] # select  for beta frequency band\n",
    "            \n",
    "            # get the Dataframe\n",
    "            if ses == \"fu3m\":\n",
    "                # Error check: check if session exists as an attribute of one subject_hemisphere object\n",
    "                try: \n",
    "                    data[f\"{sub}_{hem}\"].fu3m\n",
    "                \n",
    "                except AttributeError:\n",
    "                    continue\n",
    "                    \n",
    "                session_DF = data[f\"{sub}_{hem}\"].fu3m.Result_DF # select for session\n",
    "                norm_session_DF = session_DF[session_DF.absoluteOrRelativePSD == \"rawPsd\"] # select for absolute PSD instead of relative\n",
    "                freqBand_norm_session_DF = norm_session_DF[norm_session_DF.frequencyBand == \"beta\"] # select  for beta frequency band\n",
    "            \n",
    "            # get the Dataframe\n",
    "            if ses == \"fu12m\":\n",
    "                # Error check: check if session exists as an attribute of one subject_hemisphere object\n",
    "                try: \n",
    "                    data[f\"{sub}_{hem}\"].fu12m\n",
    "                \n",
    "                except AttributeError:\n",
    "                    continue\n",
    "                    \n",
    "                session_DF = data[f\"{sub}_{hem}\"].fu12m.Result_DF # select for session\n",
    "                norm_session_DF = session_DF[session_DF.absoluteOrRelativePSD == \"rawPsd\"] # select for absolute PSD instead of relative\n",
    "                freqBand_norm_session_DF = norm_session_DF[norm_session_DF.frequencyBand == \"beta\"] # select  for beta frequency band\n",
    "            \n",
    "            # get the Dataframe\n",
    "            if ses == \"fu18m\":\n",
    "                # Error check: check if session exists as an attribute of one subject_hemisphere object\n",
    "                try: \n",
    "                    data[f\"{sub}_{hem}\"].fu18m\n",
    "                \n",
    "                except AttributeError:\n",
    "                    continue\n",
    "                    \n",
    "                session_DF = data[f\"{sub}_{hem}\"].fu18m.Result_DF # select for session\n",
    "                norm_session_DF = session_DF[session_DF.absoluteOrRelativePSD == \"rawPsd\"] # select for absolute PSD instead of relative\n",
    "                freqBand_norm_session_DF = norm_session_DF[norm_session_DF.frequencyBand == \"beta\"] # select  for beta frequency band\n",
    "\n",
    "\n",
    "            # divide the Dataframe in 3 groups: Ring, SegmIntra, SegmInter\n",
    "            Ring = ['03', '13', '02', '12', '01', '23']\n",
    "            SegmIntra = ['1A1B', '1B1C', '1A1C', '2A2B', '2B2C', '2A2C'] \n",
    "            SegmInter = ['1A2A', '1B2B', '1C2C']\n",
    "\n",
    "            # Dataframe with all Ring Channels\n",
    "            Ring_DF[f\"{sub}_{hem}_{ses}\"] = pd.DataFrame()\n",
    "            for chan in Ring:\n",
    "                channel_DF = freqBand_norm_session_DF[freqBand_norm_session_DF.bipolarChannel.str.contains(chan)]\n",
    "                Ring_DF[f\"{sub}_{hem}_{ses}\"] = pd.concat([Ring_DF[f\"{sub}_{hem}_{ses}\"], channel_DF] )\n",
    "\n",
    "            # Dataframe with all SegmIntra Channels\n",
    "            SegmIntra_DF[f\"{sub}_{hem}_{ses}\"] = pd.DataFrame()\n",
    "            for chan in SegmIntra:\n",
    "                channel_DF = freqBand_norm_session_DF[freqBand_norm_session_DF.bipolarChannel.str.contains(chan)]\n",
    "                SegmIntra_DF[f\"{sub}_{hem}_{ses}\"] = pd.concat([SegmIntra_DF[f\"{sub}_{hem}_{ses}\"], channel_DF])\n",
    "\n",
    "            # Dataframe with all SegmInter Channels\n",
    "            SegmInter_DF[f\"{sub}_{hem}_{ses}\"] = pd.DataFrame()\n",
    "            for chan in SegmInter:\n",
    "                channel_DF = freqBand_norm_session_DF[freqBand_norm_session_DF.bipolarChannel.str.contains(chan)]\n",
    "                SegmInter_DF[f\"{sub}_{hem}_{ses}\"] = pd.concat([SegmInter_DF[f\"{sub}_{hem}_{ses}\"], channel_DF])\n",
    "            \n",
    "\n",
    "            "
   ]
  },
  {
   "cell_type": "code",
   "execution_count": null,
   "metadata": {},
   "outputs": [],
   "source": [
    "Ring_DF[\"024_Right_postop\"]"
   ]
  },
  {
   "cell_type": "code",
   "execution_count": null,
   "metadata": {},
   "outputs": [],
   "source": [
    "# get the average of all channels of one sub_hem_session_channel group \n",
    "# e.g. average of all Ring channels (n=6) of sub-24, Right, postop\n",
    "\n",
    "meanPSD_RingChannels = {}\n",
    "meanPSD_SegmIntraChannels = {}\n",
    "meanPSD_SegmInterChannels = {}\n",
    "\n",
    "# list of all existing combinations, e.g. [\"024_Right_postop\", \"024_Right_fu3m\"]\n",
    "sub_hem_ses_combinations = list(Ring_DF.keys())\n",
    "\n",
    "# get the mean from column averagedPSD of each combination for Ring, SegmIntra, SegmInter\n",
    "# also get Standard deviation for each sub_hem_ses ???\n",
    "for combination in sub_hem_ses_combinations:\n",
    "\n",
    "    # split the sub_hem_ses combinations into sub_hem (will be label of plot) and ses (will be x axis)\n",
    "    combination_split = combination.split(\"_\")\n",
    "    subject_hemisphere = \"\".join([combination_split[0], \"_\", combination_split[1]])\n",
    "    sess = combination_split[2]\n",
    "    \n",
    "    # for each group, calculate the mean over the averagedPSD column, add to dictionary together with subject_hemisphere and session \n",
    "    meanPSD_RingChannels[combination] = [Ring_DF[combination].PEAK_frequency.mean(), subject_hemisphere, sess]\n",
    "    meanPSD_SegmIntraChannels[combination] = [SegmIntra_DF[combination].PEAK_frequency.mean(), subject_hemisphere, sess]\n",
    "    meanPSD_SegmInterChannels[combination] = [SegmInter_DF[combination].PEAK_frequency.mean(), subject_hemisphere, sess]"
   ]
  },
  {
   "cell_type": "code",
   "execution_count": null,
   "metadata": {},
   "outputs": [],
   "source": [
    "meanPSD_RingChannels[\"017_Left_fu12m\"]"
   ]
  },
  {
   "cell_type": "code",
   "execution_count": null,
   "metadata": {},
   "outputs": [],
   "source": [
    "# new Dataframes per group Ring, SegmIntra, SegmInter\n",
    "Ring_DF_meanChannels = pd.DataFrame.from_dict(meanPSD_RingChannels, orient=\"index\", columns=[\"PEAKfrequency_beta_ChannelsPerHemisphere\", \"subject_hemisphere\", \"session\"]) # keys of the dictionary will be indeces\n",
    "Ring_DF_meanChannels.session.replace(\"postop\", \"fu0m\", inplace=True)\n",
    "\n",
    "SegmIntra_DF_meanChannels = pd.DataFrame.from_dict(meanPSD_SegmIntraChannels, orient=\"index\", columns=[\"PEAKfrequency_beta_ChannelsPerHemisphere\", \"subject_hemisphere\", \"session\"]) # keys of the dictionary will be indeces\n",
    "SegmIntra_DF_meanChannels.session.replace(\"postop\", \"fu0m\", inplace=True)\n",
    "\n",
    "SegmInter_DF_meanChannels = pd.DataFrame.from_dict(meanPSD_SegmInterChannels, orient=\"index\", columns=[\"PEAKfrequency_beta_ChannelsPerHemisphere\", \"subject_hemisphere\", \"session\"]) # keys of the dictionary will be indeces\n",
    "SegmInter_DF_meanChannels.session.replace(\"postop\", \"fu0m\", inplace=True)"
   ]
  },
  {
   "cell_type": "code",
   "execution_count": null,
   "metadata": {},
   "outputs": [],
   "source": [
    "plt.figure()\n",
    "\n",
    "ax = sns.boxplot(data=Ring_DF_meanChannels, x='session', y='PEAKfrequency_beta_ChannelsPerHemisphere', order=sessions, palette=\"Blues\", width=0.8)\n",
    "ax = sns.stripplot(x = \"session\",\n",
    "    y = 'PEAKfrequency_beta_ChannelsPerHemisphere',\n",
    "    hue = \"subject_hemisphere\",\n",
    "    order=sessions,\n",
    "    size=10,\n",
    "    data = Ring_DF_meanChannels,\n",
    "    )\n",
    "\n",
    "pairs = list(combinations(sessions,2)) # list of pairs of combinations, e.g. \"postop\" vs \"fu3m\"\n",
    "\n",
    "# to do a paired statistical test, number of values within each group must be equal!!! take out sub017, sub019, and session fu18m\n",
    "# annotator = Annotator(ax, pairs, data=Ring_DF_meanChannels, x='session', y='PSDaverage_beta_ChannelsPerHemisphere')\n",
    "# annotator.configure(test='t-test_paired', text_format='star')\n",
    "# annotator.apply_and_annotate()\n",
    "\n",
    "plt.title(\"Ring Channels\")\n",
    "plt.legend(loc= \"upper right\", bbox_to_anchor=(1.4, 1))\n",
    "plt.tight_layout()\n",
    "\n",
    "#plt.savefig(results_sub_folder + f\"\\\\compareMonopolarPSDaverage_{freq_band}_{sub_hemisphere}_Wilcoxon.png\")"
   ]
  },
  {
   "cell_type": "code",
   "execution_count": null,
   "metadata": {},
   "outputs": [],
   "source": [
    "sessions = [\"fu0m\", \"fu3m\", \"fu12m\", \"fu18m\"]\n",
    "\n",
    "# Create a list of 15 colors and add it to the cycle of matplotlib \n",
    "cycler_colors = cycler(\"color\", [\"blue\", \"navy\", \"deepskyblue\", \"purple\", \"green\", \"darkolivegreen\", \"magenta\", \"orange\", \"red\", \"darkred\", \"chocolate\", \"gold\", \"cyan\",  \"yellow\", \"lime\"])\n",
    "plt.rc('axes', prop_cycle=cycler_colors)\n",
    "plt.figure(figsize=(5, 10), layout=\"tight\")\n",
    "\n",
    "channelGroup = [\"Ring\", \"SegmIntra\", \"SegmInter\"]\n",
    "data_DF = {}\n",
    "\n",
    "for g, group in enumerate(channelGroup):\n",
    "    if group == \"Ring\":\n",
    "        data_DF[group] = Ring_DF_meanChannels\n",
    "        \n",
    "    elif group == \"SegmIntra\":\n",
    "        data_DF[group] = SegmIntra_DF_meanChannels\n",
    "        \n",
    "\n",
    "    elif group == \"SegmInter\":\n",
    "        data_DF[group] = SegmInter_DF_meanChannels\n",
    "\n",
    "    plt.subplot(3,1,g+1)\n",
    "    #sns.lineplot(data=data_DF[group], x='session', y='PSDaverage_beta_ChannelsPerHemisphere', size_order=sessions)\n",
    "    \n",
    "    sns.boxplot(data=data_DF[group], \n",
    "                x='session', \n",
    "                y='PEAKfrequency_beta_ChannelsPerHemisphere', \n",
    "                order=sessions, \n",
    "                palette=\"Blues\", \n",
    "                width=0.8,\n",
    "                )\n",
    "    # whis = whiskers are makers to define outliers\n",
    "    sns.stripplot(x = \"session\",\n",
    "        y = 'PEAKfrequency_beta_ChannelsPerHemisphere',\n",
    "        hue = \"subject_hemisphere\",\n",
    "        order=sessions,\n",
    "        size=5,\n",
    "        jitter=True,\n",
    "        data = data_DF[group],\n",
    "        )\n",
    "\n",
    "    #pairs = list(combinations(sessions,2)) # list of pairs of combinations, e.g. \"postop\" vs \"fu3m\"\n",
    "\n",
    "    # to do a paired statistical test, number of values within each group must be equal!!! take out sub017, sub019, and session fu18m\n",
    "    # annotator = Annotator(ax, pairs, data=Ring_DF_meanChannels, x='session', y='PSDaverage_beta_ChannelsPerHemisphere')\n",
    "    # annotator.configure(test='t-test_paired', text_format='star')\n",
    "    # annotator.apply_and_annotate()\n",
    "\n",
    "    plt.title(f\"{group} Channels: PSD average in beta band\")\n",
    "    plt.ylabel(\"Peak Frequency\")\n",
    "\n",
    "    plt.legend(loc= \"upper right\", bbox_to_anchor=(1.4, 1))\n",
    "    \n",
    "    if group == \"SegmIntra\":\n",
    "        plt.legend().remove()\n",
    "    \n",
    "    elif group == \"SegmInter\":\n",
    "        plt.legend().remove()\n",
    "        \n",
    "        \n",
    "    plt.tight_layout()"
   ]
  },
  {
   "cell_type": "code",
   "execution_count": null,
   "metadata": {},
   "outputs": [],
   "source": [
    "# make 3 subplots with titles Ring, SegmIntra, SegmInter\n",
    "\n",
    "# per subplot, get mean +- SD of meanPSD of all sub_hem_ses combinations\n",
    "# plot e.g. Ring channels, PSD average of beta band averaged per hemisphere and session\n",
    "# x axis = sessions (postop, fu3m, fu12m, fu18m)\n",
    "# y axis = PSD average in beta band\n",
    "# label = sub_hem combination\n",
    "\n",
    "sessions = [\"fu0m\", \"fu3m\", \"fu12m\", \"fu18m\"]\n",
    "\n",
    "# fig, (ax1, ax2, ax3) = plt.subplots(nrows=3, ncols=1, sharex=True, figsize= (10, 15))\n",
    "fig = plt.figure(figsize=(20, 30), layout=\"tight\")\n",
    "\n",
    "# Create a list of 15 colors and add it to the cycle of matplotlib \n",
    "cycler_colors = cycler(\"color\", [\"blue\", \"navy\", \"deepskyblue\", \"purple\", \"green\", \"darkolivegreen\", \"magenta\", \"orange\", \"red\", \"darkred\", \"chocolate\", \"gold\", \"cyan\",  \"yellow\", \"lime\"])\n",
    "plt.rc('axes', prop_cycle=cycler_colors)\n",
    "\n",
    "channelGroup = [\"Ring\", \"SegmIntra\", \"SegmInter\"]\n",
    "data_DF = {}\n",
    "\n",
    "for g, group in enumerate(channelGroup):\n",
    "    \n",
    "    if group == \"Ring\":\n",
    "        plt.subplot(3,1,1)\n",
    "        data_DF[group] = Ring_DF_meanChannels\n",
    "        \n",
    "\n",
    "    elif group == \"SegmIntra\":\n",
    "        plt.subplot(3,1,2)\n",
    "        data_DF[group] = SegmIntra_DF_meanChannels\n",
    "        \n",
    "\n",
    "    elif group == \"SegmInter\":\n",
    "        plt.subplot(3,1,3)\n",
    "        data_DF[group] = SegmInter_DF_meanChannels\n",
    "    \n",
    "    else:\n",
    "        print(\"something went wrong\")\n",
    "        \n",
    "    # plot mean +- SD??\n",
    "    ax = sns.boxplot(data=data_DF[group], \n",
    "                x='session', \n",
    "                y='PSDaverage_beta_ChannelsPerHemisphere', \n",
    "                order=sessions, \n",
    "                palette=\"Blues\", \n",
    "                width=0.6)\n",
    "    \n",
    "    # plot each dot per subject_hemisphere\n",
    "    ax = sns.stripplot(x = \"session\",\n",
    "        y = 'PSDaverage_beta_ChannelsPerHemisphere',\n",
    "        hue = \"subject_hemisphere\",\n",
    "        order=sessions,\n",
    "        size=10,\n",
    "        data = data_DF[group],\n",
    "        )\n",
    "\n",
    "    #pairs = list(combinations(sessions,2)) # list of pairs of combinations, e.g. \"postop\" vs \"fu3m\"\n",
    "\n",
    "    # to do a paired statistical test, number of values within each group must be equal!!! take out sub017, sub019, and session fu18m\n",
    "    # annotator = Annotator(ax, pairs, data=Ring_DF_meanChannels, x='session', y='PSDaverage_beta_ChannelsPerHemisphere')\n",
    "    # annotator.configure(test='t-test_paired', text_format='star')\n",
    "    # annotator.apply_and_annotate()\n",
    "\n",
    "    plt.title(f\"{group} Channels\")\n",
    "    \n",
    "    # ###### LEGEND ######\n",
    "    # legend = ax1.legend(loc= 'upper right', edgecolor=\"black\", bbox_to_anchor=(1.5, -0.1)) # only show the first subplot´s legend \n",
    "    # # frame the legend with black edges amd white background color \n",
    "    # legend.get_frame().set_alpha(None)\n",
    "    # legend.get_frame().set_facecolor(\"white\")\n",
    "\n",
    "\n",
    "fig.tight_layout()\n",
    "plt.show"
   ]
  },
  {
   "cell_type": "markdown",
   "metadata": {},
   "source": []
  },
  {
   "attachments": {},
   "cell_type": "markdown",
   "metadata": {},
   "source": [
    "## 8. Plot the Peak parameters (maximum per frequency band extracted)"
   ]
  },
  {
   "attachments": {},
   "cell_type": "markdown",
   "metadata": {},
   "source": [
    "- plot seperately in 3 groups: Ring (3 channels), SegmIntra (6 channels), SegmInter (3 channels)\n",
    "- get the average of all subject hemisphere per timepoint\n",
    "- plot mean of all subject_hemispheres +- standard deviation (distribution)"
   ]
  },
  {
   "cell_type": "code",
   "execution_count": null,
   "metadata": {},
   "outputs": [],
   "source": [
    "BIP_function = BIP_channelGroups.PeakPowerOrFrequency_specificRingSegmGroups(\n",
    "    incl_sub=[\"017\", \"019\", \"021\",\"024\", \"025\", \"026\", \"029\", \"030\", \"033\"] ,\n",
    "    signalFilter=\"band-pass\",\n",
    "    normalization=\"rawPsd\",\n",
    "    freqBands=[\"alpha\", \"beta\", \"highBeta\", \"lowBeta\"],\n",
    "    feature=\"PEAK_frequency\"\n",
    ")"
   ]
  },
  {
   "cell_type": "code",
   "execution_count": null,
   "metadata": {},
   "outputs": [],
   "source": []
  },
  {
   "attachments": {},
   "cell_type": "markdown",
   "metadata": {},
   "source": [
    "## 9. Plot Peak values normalized to Mean postop to start with y=1"
   ]
  },
  {
   "cell_type": "code",
   "execution_count": null,
   "metadata": {},
   "outputs": [],
   "source": [
    "PlotPeakValues = BIP_channelGroups.PeakPowerOrFrequencyNormalizedLinePlot_specificRingSegmGroups(\n",
    "    incl_sub=[\"017\", \"019\", \"021\",\"024\", \"025\", \"026\", \"029\", \"030\", \"033\"] ,\n",
    "    signalFilter=\"band-pass\",\n",
    "    normalization=\"rawPsd\",\n",
    "    freqBands=[\"alpha\", \"beta\", \"highBeta\", \"lowBeta\"],\n",
    "    feature=\"PEAK_frequency\"\n",
    ")"
   ]
  },
  {
   "cell_type": "code",
   "execution_count": null,
   "metadata": {},
   "outputs": [],
   "source": [
    "PlotPeakValues[\"channelGroup_DF\"][\"SegmInter\"]"
   ]
  }
 ],
 "metadata": {
  "kernelspec": {
   "display_name": "bssu",
   "language": "python",
   "name": "python3"
  },
  "language_info": {
   "codemirror_mode": {
    "name": "ipython",
    "version": 3
   },
   "file_extension": ".py",
   "mimetype": "text/x-python",
   "name": "python",
   "nbconvert_exporter": "python",
   "pygments_lexer": "ipython3",
   "version": "3.10.10"
  },
  "orig_nbformat": 4
 },
 "nbformat": 4,
 "nbformat_minor": 2
}
