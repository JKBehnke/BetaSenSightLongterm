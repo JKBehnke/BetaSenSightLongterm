{
 "cells": [
  {
   "attachments": {},
   "cell_type": "markdown",
   "metadata": {},
   "source": [
    "# Spatial distribution of oscillations recorded with BSSU"
   ]
  },
  {
   "attachments": {},
   "cell_type": "markdown",
   "metadata": {},
   "source": [
    "Import Packages"
   ]
  },
  {
   "cell_type": "code",
   "execution_count": 1,
   "metadata": {},
   "outputs": [],
   "source": [
    "\n",
    "import os\n",
    "import sys\n",
    "import importlib\n",
    "from importlib import reload \n",
    "from dataclasses import dataclass, field, fields\n",
    "from itertools import compress\n",
    "import pandas as pd\n",
    "import numpy as np\n",
    "import matplotlib.pyplot as plt\n",
    "from cycler import cycler\n",
    "\n",
    "import scipy\n",
    "import scipy.io as sio\n",
    "from scipy import signal\n",
    "from scipy.signal import spectrogram, hann, butter, filtfilt, freqz\n",
    "from scipy import stats\n",
    "\n",
    "import seaborn as sns\n",
    "import pingouin as pg\n",
    "import itertools\n",
    "from itertools import combinations\n",
    "from statannotations.Annotator import Annotator\n",
    "import statsmodels.api as sm\n",
    "import statsmodels.formula.api as smf\n",
    "from patsy import dmatrices\n",
    "import plotly.express as px\n",
    "\n",
    "from sklearn.linear_model import LogisticRegression\n",
    "from sklearn.model_selection import train_test_split, RepeatedStratifiedKFold, GridSearchCV\n",
    "from sklearn.metrics import classification_report\n",
    "\n",
    "# import openpyxl\n",
    "# from openpyxl import Workbook, load_workbook\n",
    "# import xlrd\n",
    "import pickle\n",
    "import json\n",
    "import csv\n",
    "\n",
    "#mne\n",
    "import mne_bids\n",
    "import mne\n",
    "from mne.time_frequency import tfr_morlet \n",
    "from mne.stats import permutation_cluster_test\n",
    "\n",
    "\n",
    "# TODO: add README file: \n",
    "# pip install pingouin\n",
    "# pip install statannotations\n",
    "# pip install fooof"
   ]
  },
  {
   "cell_type": "code",
   "execution_count": 2,
   "metadata": {},
   "outputs": [],
   "source": [
    "import py_perceive"
   ]
  },
  {
   "cell_type": "code",
   "execution_count": 3,
   "metadata": {},
   "outputs": [
    {
     "data": {
      "text/plain": [
       "<module 'py_perceive.PerceiveImport.methods.metadata_helpers' from 'C:\\\\Users\\\\jebe12\\\\Research\\\\PyPerceive_Project\\\\Code\\\\PyPerceive\\\\src\\\\py_perceive\\\\PerceiveImport\\\\methods\\\\metadata_helpers.py'>"
      ]
     },
     "execution_count": 3,
     "metadata": {},
     "output_type": "execute_result"
    }
   ],
   "source": [
    "from py_perceive.PerceiveImport.classes import (\n",
    "    main_class, modality_class, metadata_class,\n",
    "    session_class, condition_class, task_class,\n",
    "    contact_class, run_class\n",
    ")\n",
    "import py_perceive.PerceiveImport.methods.load_rawfile as load_rawfile\n",
    "import py_perceive.PerceiveImport.methods.find_folders as find_folders\n",
    "import py_perceive.PerceiveImport.methods.metadata_helpers as metaHelpers\n",
    "\n",
    "\n",
    "importlib.reload(main_class)\n",
    "importlib.reload(session_class)\n",
    "importlib.reload(task_class)\n",
    "importlib.reload(condition_class)\n",
    "importlib.reload(contact_class)\n",
    "importlib.reload(metadata_class)\n",
    "importlib.reload(modality_class)\n",
    "importlib.reload(load_rawfile)\n",
    "importlib.reload(find_folders)\n",
    "importlib.reload(run_class)\n",
    "importlib.reload(metaHelpers)"
   ]
  },
  {
   "cell_type": "code",
   "execution_count": 4,
   "metadata": {},
   "outputs": [
    {
     "data": {
      "text/plain": [
       "'c:\\\\Users\\\\jebe12\\\\Research\\\\Longterm_beta_project\\\\Code\\\\meet'"
      ]
     },
     "execution_count": 4,
     "metadata": {},
     "output_type": "execute_result"
    }
   ],
   "source": [
    "#######################     USE THIS DIRECTORY FOR WORKING WITH FOLDERS INSIDE OF CODE FOLDER OF BETASENSIGHTLONGTERM REPO  #######################\n",
    "\n",
    "\n",
    "# create a path to the BetaSenSightLongterm folder \n",
    "# and a path to the code folder within the BetaSenSightLongterm Repo\n",
    "current_path = os.getcwd()\n",
    "while current_path[-8:] != 'Research':\n",
    "    current_path = os.path.dirname(current_path)\n",
    "\n",
    "# directory to code folder\n",
    "code_path = os.path.join(current_path, 'Longterm_beta_project','Code', 'meet')\n",
    "sys.path.append(code_path)\n",
    "\n",
    "# # change directory to code path within BetaSenSightLongterm Repo\n",
    "os.chdir(code_path)\n",
    "os.getcwd()\n"
   ]
  },
  {
   "cell_type": "code",
   "execution_count": 5,
   "metadata": {},
   "outputs": [],
   "source": [
    "import meet as meet"
   ]
  },
  {
   "cell_type": "code",
   "execution_count": 6,
   "metadata": {},
   "outputs": [
    {
     "data": {
      "text/plain": [
       "'c:\\\\Users\\\\jebe12\\\\Research\\\\Longterm_beta_project\\\\Code\\\\BetaSenSightLongterm'"
      ]
     },
     "execution_count": 6,
     "metadata": {},
     "output_type": "execute_result"
    }
   ],
   "source": [
    "#######################     USE THIS DIRECTORY FOR WORKING WITH FOLDERS INSIDE OF CODE FOLDER OF BETASENSIGHTLONGTERM REPO  #######################\n",
    "\n",
    "\n",
    "# create a path to the BetaSenSightLongterm folder \n",
    "# and a path to the code folder within the BetaSenSightLongterm Repo\n",
    "current_path = os.getcwd()\n",
    "while current_path[-8:] != 'Research':\n",
    "    current_path = os.path.dirname(current_path)\n",
    "\n",
    "# directory to code folder\n",
    "code_path = os.path.join(current_path, 'Longterm_beta_project','Code', 'BetaSenSightLongterm')\n",
    "sys.path.append(code_path)\n",
    "\n",
    "# # change directory to code path within BetaSenSightLongterm Repo\n",
    "os.chdir(code_path)\n",
    "os.getcwd()"
   ]
  },
  {
   "cell_type": "code",
   "execution_count": 7,
   "metadata": {},
   "outputs": [
    {
     "data": {
      "text/plain": [
       "<module 'src.bssu.bipolar.cluster_perm' from 'c:\\\\Users\\\\jebe12\\\\Research\\\\Longterm_beta_project\\\\Code\\\\BetaSenSightLongterm\\\\src\\\\bssu\\\\bipolar\\\\cluster_perm.py'>"
      ]
     },
     "execution_count": 7,
     "metadata": {},
     "output_type": "execute_result"
    }
   ],
   "source": [
    "# tfr, processing\n",
    "import src.bssu.tfr.BSSuPsd as BSSuPsd\n",
    "import src.bssu.tfr.FastFourierPSD as FFpsd\n",
    "\n",
    "# bipolar Channel Analysis\n",
    "import src.bssu.bipolar.power_spectra_plots as power_spectra_plots\n",
    "import src.bssu.bipolar.PeakFrequencies_PSD as PeakFrequency_psd\n",
    "import src.bssu.bipolar.BIP_channelGroups as BIP_channelGroups\n",
    "import src.bssu.bipolar.BIP_perChannelAnalysis as BIP_perChannel\n",
    "import src.bssu.bipolar.cluster_perm as cluster_perm\n",
    "\n",
    "\n",
    "# monopolar Referencing\n",
    "import src.bssu.monopolar.MonoRef_JLB as MonoRefJLB\n",
    "import src.bssu.monopolar.GroupMonopolarPSD as groupMonopol\n",
    "\n",
    "# Ranking Order\n",
    "import src.bssu.ranking.HighestRankedChannelPSD as highestRank\n",
    "import src.bssu.ranking.monopolPSDaverage_withinSubject as PSDaverageMonopol\n",
    "import src.bssu.ranking.BIPchannelGroups_ranks as BIP_ranks\n",
    "import src.bssu.ranking.Permutation_rankings as Permute_ranks\n",
    "\n",
    "\n",
    "# Clinical stimulation parameters\n",
    "import src.bssu.stimulation.activeStimulationContacts as activeStimContacts\n",
    "\n",
    "# utility functions\n",
    "import src.bssu.utils.loadResults as loadResults\n",
    "import src.bssu.utils.find_folders as find_folders\n",
    "import src.bssu.utils.writeGroupDataframes as writeGroupDF\n",
    "\n",
    "# import Classes\n",
    "from src.bssu.classes import (metadataAnalysis_class, mainAnalysis_class, sessionAnalysis_class, \n",
    "                              channelAnalysis_class, featureAnalysis_class, frequencyBand_class)\n",
    "\n",
    "# import mni coordinates\n",
    "import src.bssu.mni.load_rotated_coordinates as load_mni\n",
    "\n",
    "\n",
    "importlib.reload(BSSuPsd)\n",
    "importlib.reload(MonoRefJLB)\n",
    "importlib.reload(loadResults)\n",
    "importlib.reload(highestRank)\n",
    "importlib.reload(groupMonopol)\n",
    "importlib.reload(PSDaverageMonopol)\n",
    "importlib.reload(FFpsd)\n",
    "importlib.reload(find_folders)\n",
    "importlib.reload(metadataAnalysis_class)\n",
    "importlib.reload(mainAnalysis_class)\n",
    "importlib.reload(sessionAnalysis_class)\n",
    "importlib.reload(channelAnalysis_class)\n",
    "importlib.reload(featureAnalysis_class)\n",
    "importlib.reload(frequencyBand_class)\n",
    "importlib.reload(PeakFrequency_psd)\n",
    "importlib.reload(power_spectra_plots)\n",
    "importlib.reload(BIP_channelGroups)\n",
    "importlib.reload(BIP_ranks)\n",
    "importlib.reload(activeStimContacts)\n",
    "importlib.reload(Permute_ranks)\n",
    "importlib.reload(BIP_perChannel)\n",
    "importlib.reload(load_mni)\n",
    "importlib.reload(writeGroupDF)\n",
    "importlib.reload(cluster_perm)"
   ]
  },
  {
   "cell_type": "code",
   "execution_count": 8,
   "metadata": {},
   "outputs": [],
   "source": [
    "# load if you want to see complete Dataframes\n",
    "pd.set_option(\"display.max_rows\", None)"
   ]
  },
  {
   "attachments": {},
   "cell_type": "markdown",
   "metadata": {},
   "source": [
    "## Loading with classes"
   ]
  },
  {
   "cell_type": "code",
   "execution_count": null,
   "metadata": {},
   "outputs": [],
   "source": [
    "incl_sub = [\"017\", \"019\", \"021\", \"024\", \"025\", \"026\", \"029\", \"030\", \"031\", \"032\", \"033\", \"037\", \"038\", \"040\", \"041\", \"045\"]\n",
    "hemispheres = [\"Right\", \"Left\"]\n",
    "\n",
    "psdAverage_dataframe = pd.DataFrame()\n",
    "\n",
    "for sub in incl_sub:\n",
    "\n",
    "    for hem in hemispheres:\n",
    "\n",
    "        # load data from classes\n",
    "        mainClass_data = mainAnalysis_class.MainClass(\n",
    "            sub=sub,\n",
    "            hemisphere=hem,\n",
    "            filter=\"band-pass\",\n",
    "            result=\"PSDaverageFrequencyBands\",\n",
    "            incl_session=[\"fu3m\"],\n",
    "            pickChannels=['03', '13', '02', '12', '01', '23', \n",
    "                            '1A1B', '1B1C', '1A1C', '2A2B', '2B2C', '2A2C', \n",
    "                            '1A2A', '1B2B', '1C2C'],\n",
    "            normalization=[\"rawPsd\"],\n",
    "            freqBands=[\"beta\", \"lowBeta\", \"highBeta\"],\n",
    "            feature=[\"averagedPSD\"]\n",
    "        )\n",
    "\n",
    "        # get the fu3m Dataframe\n",
    "        fu3m_DF = mainClass_data.fu3m.Result_DF\n",
    "        fu3m_DF_copy = fu3m_DF.copy()\n",
    "\n",
    "        # add columnn subject_hemisphere\n",
    "        fu3m_DF_copy[\"subject_hemisphere\"] = f\"{sub}_{hem}\"\n",
    "\n",
    "        # add column recording_montage\n",
    "        for index, row in fu3m_DF_copy.iterrows():\n",
    "            bipolarChannel = row[\"bipolarChannel\"].split(\"_\")\n",
    "            recording_montage = bipolarChannel[2] # just take 03, 02, etc from bipolarChannel column\n",
    "\n",
    "            fu3m_DF_copy.loc[index, \"recording_montage\"] = recording_montage\n",
    "        \n",
    "        # only get rows with rawPsd and beta \n",
    "        fu3m_DF_copy = fu3m_DF_copy[fu3m_DF_copy.absoluteOrRelativePSD == \"rawPsd\"]\n",
    "        fu3m_DF_copy = fu3m_DF_copy[fu3m_DF_copy.frequencyBand == \"beta\"]\n",
    "\n",
    "        # rename column averagedPSD to beta_psd\n",
    "        fu3m_DF_copy = fu3m_DF_copy.rename(columns={\"averagedPSD\": \"beta_psd\"})\n",
    "        \n",
    "        # drop columns bipolarChannel, \n",
    "        fu3m_DF_copy = fu3m_DF_copy.drop(columns=[\"bipolarChannel\", \"frequencyBand\", \"absoluteOrRelativePSD\"])\n",
    "\n",
    "        # concatenate all dataframes together\n",
    "        psdAverage_dataframe = pd.concat([psdAverage_dataframe, fu3m_DF_copy], ignore_index=True)\n",
    "                \n",
    "\n",
    "\n",
    "\n",
    "# write Dataframe to Excel\n",
    "# store each Dataframe in seperate sheets of an Excel file\n",
    "current_path = os.getcwd()\n",
    "while current_path[-8:] != 'Research':\n",
    "    current_path = os.path.dirname(current_path)\n",
    "\n",
    "Excel_path = os.path.join(current_path, 'Longterm_beta_project','data', 'imagingData', 'SenSight_fu3m_beta_psd.xlsx')\n",
    "\n",
    "# create an Excel writer, so that different sheets are written within the same excel file\n",
    "with pd.ExcelWriter(Excel_path) as writer:\n",
    "    \n",
    "    psdAverage_dataframe.to_excel(writer, sheet_name=\"beta_psd\")"
   ]
  },
  {
   "attachments": {},
   "cell_type": "markdown",
   "metadata": {},
   "source": [
    "## 1. Plot the differences between ranks of beta psd in different channel groups"
   ]
  },
  {
   "cell_type": "code",
   "execution_count": null,
   "metadata": {},
   "outputs": [],
   "source": [
    "data = BIP_ranks.BIPranks_plotDifferenceBetweenSessions(\n",
    "     data2plot=\"psdAverage_ranks\",\n",
    "     filterSignal=\"band-pass\",\n",
    "     normalization=\"rawPsd\",\n",
    "     freqBand=\"beta\",\n",
    ")"
   ]
  },
  {
   "attachments": {},
   "cell_type": "markdown",
   "metadata": {},
   "source": [
    "## 2. Permutation analysis of bipolar power ranks between different sessions within 3 channel groups"
   ]
  },
  {
   "cell_type": "code",
   "execution_count": 8,
   "metadata": {},
   "outputs": [
    {
     "name": "stdout",
     "output_type": "stream",
     "text": [
      "pickle file:  BIPpsdAverage_Ring_rawPsd_band-pass.pickle \n",
      "loaded from:  c:\\Users\\jebe12\\Research\\Longterm_beta_project\\results\n",
      "pickle file:  BIPpsdAverage_SegmInter_rawPsd_band-pass.pickle \n",
      "loaded from:  c:\\Users\\jebe12\\Research\\Longterm_beta_project\\results\n",
      "pickle file:  BIPpsdAverage_SegmIntra_rawPsd_band-pass.pickle \n",
      "loaded from:  c:\\Users\\jebe12\\Research\\Longterm_beta_project\\results\n",
      "new file:  BIPranksChannelGroup_session_dict_psdAverage_highBeta_rawPsd_band-pass.pickle \n",
      "in:  c:\\Users\\jebe12\\Research\\Longterm_beta_project\\results\n"
     ]
    }
   ],
   "source": [
    "# automatized Function to rank Psd averages \n",
    "### watch out!! for result=\"peak\" -> not every BIP channel has a value... don´t understand why\n",
    "### especially postop channels!!!\n",
    "\n",
    "rankDF = BIP_ranks.Rank_BIPRingSegmGroups(\n",
    "    result = \"psdAverage\",\n",
    "    filterSignal = \"band-pass\",\n",
    "    normalization = \"rawPsd\",\n",
    "    freqBand = \"highBeta\"\n",
    ")\n"
   ]
  },
  {
   "cell_type": "code",
   "execution_count": 10,
   "metadata": {},
   "outputs": [
    {
     "data": {
      "text/html": [
       "<div>\n",
       "<style scoped>\n",
       "    .dataframe tbody tr th:only-of-type {\n",
       "        vertical-align: middle;\n",
       "    }\n",
       "\n",
       "    .dataframe tbody tr th {\n",
       "        vertical-align: top;\n",
       "    }\n",
       "\n",
       "    .dataframe thead th {\n",
       "        text-align: right;\n",
       "    }\n",
       "</style>\n",
       "<table border=\"1\" class=\"dataframe\">\n",
       "  <thead>\n",
       "    <tr style=\"text-align: right;\">\n",
       "      <th></th>\n",
       "      <th>session</th>\n",
       "      <th>bipolarChannel</th>\n",
       "      <th>frequencyBand</th>\n",
       "      <th>absoluteOrRelativePSD</th>\n",
       "      <th>averagedPSD</th>\n",
       "      <th>rank</th>\n",
       "      <th>subject_hemisphere</th>\n",
       "    </tr>\n",
       "  </thead>\n",
       "  <tbody>\n",
       "    <tr>\n",
       "      <th>0</th>\n",
       "      <td>fu3m</td>\n",
       "      <td>LFP_R_12_STN_MT</td>\n",
       "      <td>highBeta</td>\n",
       "      <td>rawPsd</td>\n",
       "      <td>0.372421</td>\n",
       "      <td>1.0</td>\n",
       "      <td>017_Right</td>\n",
       "    </tr>\n",
       "    <tr>\n",
       "      <th>1</th>\n",
       "      <td>fu3m</td>\n",
       "      <td>LFP_R_01_STN_MT</td>\n",
       "      <td>highBeta</td>\n",
       "      <td>rawPsd</td>\n",
       "      <td>0.122228</td>\n",
       "      <td>3.0</td>\n",
       "      <td>017_Right</td>\n",
       "    </tr>\n",
       "    <tr>\n",
       "      <th>2</th>\n",
       "      <td>fu3m</td>\n",
       "      <td>LFP_R_23_STN_MT</td>\n",
       "      <td>highBeta</td>\n",
       "      <td>rawPsd</td>\n",
       "      <td>0.321456</td>\n",
       "      <td>2.0</td>\n",
       "      <td>017_Right</td>\n",
       "    </tr>\n",
       "    <tr>\n",
       "      <th>3</th>\n",
       "      <td>fu3m</td>\n",
       "      <td>LFP_L_12_STN_MT</td>\n",
       "      <td>highBeta</td>\n",
       "      <td>rawPsd</td>\n",
       "      <td>0.085488</td>\n",
       "      <td>3.0</td>\n",
       "      <td>017_Left</td>\n",
       "    </tr>\n",
       "    <tr>\n",
       "      <th>4</th>\n",
       "      <td>fu3m</td>\n",
       "      <td>LFP_L_01_STN_MT</td>\n",
       "      <td>highBeta</td>\n",
       "      <td>rawPsd</td>\n",
       "      <td>0.101783</td>\n",
       "      <td>2.0</td>\n",
       "      <td>017_Left</td>\n",
       "    </tr>\n",
       "    <tr>\n",
       "      <th>...</th>\n",
       "      <td>...</td>\n",
       "      <td>...</td>\n",
       "      <td>...</td>\n",
       "      <td>...</td>\n",
       "      <td>...</td>\n",
       "      <td>...</td>\n",
       "      <td>...</td>\n",
       "    </tr>\n",
       "    <tr>\n",
       "      <th>67</th>\n",
       "      <td>fu3m</td>\n",
       "      <td>LFP_R_01_STN_MT</td>\n",
       "      <td>highBeta</td>\n",
       "      <td>rawPsd</td>\n",
       "      <td>1.085730</td>\n",
       "      <td>3.0</td>\n",
       "      <td>038_Right</td>\n",
       "    </tr>\n",
       "    <tr>\n",
       "      <th>68</th>\n",
       "      <td>fu3m</td>\n",
       "      <td>LFP_R_23_STN_MT</td>\n",
       "      <td>highBeta</td>\n",
       "      <td>rawPsd</td>\n",
       "      <td>1.340245</td>\n",
       "      <td>2.0</td>\n",
       "      <td>038_Right</td>\n",
       "    </tr>\n",
       "    <tr>\n",
       "      <th>69</th>\n",
       "      <td>fu3m</td>\n",
       "      <td>LFP_L_12_STN_MT</td>\n",
       "      <td>highBeta</td>\n",
       "      <td>rawPsd</td>\n",
       "      <td>1.025313</td>\n",
       "      <td>2.0</td>\n",
       "      <td>038_Left</td>\n",
       "    </tr>\n",
       "    <tr>\n",
       "      <th>70</th>\n",
       "      <td>fu3m</td>\n",
       "      <td>LFP_L_01_STN_MT</td>\n",
       "      <td>highBeta</td>\n",
       "      <td>rawPsd</td>\n",
       "      <td>1.773379</td>\n",
       "      <td>1.0</td>\n",
       "      <td>038_Left</td>\n",
       "    </tr>\n",
       "    <tr>\n",
       "      <th>71</th>\n",
       "      <td>fu3m</td>\n",
       "      <td>LFP_L_23_STN_MT</td>\n",
       "      <td>highBeta</td>\n",
       "      <td>rawPsd</td>\n",
       "      <td>0.101616</td>\n",
       "      <td>3.0</td>\n",
       "      <td>038_Left</td>\n",
       "    </tr>\n",
       "  </tbody>\n",
       "</table>\n",
       "<p>72 rows × 7 columns</p>\n",
       "</div>"
      ],
      "text/plain": [
       "   session   bipolarChannel frequencyBand absoluteOrRelativePSD  averagedPSD  \\\n",
       "0     fu3m  LFP_R_12_STN_MT      highBeta                rawPsd     0.372421   \n",
       "1     fu3m  LFP_R_01_STN_MT      highBeta                rawPsd     0.122228   \n",
       "2     fu3m  LFP_R_23_STN_MT      highBeta                rawPsd     0.321456   \n",
       "3     fu3m  LFP_L_12_STN_MT      highBeta                rawPsd     0.085488   \n",
       "4     fu3m  LFP_L_01_STN_MT      highBeta                rawPsd     0.101783   \n",
       "..     ...              ...           ...                   ...          ...   \n",
       "67    fu3m  LFP_R_01_STN_MT      highBeta                rawPsd     1.085730   \n",
       "68    fu3m  LFP_R_23_STN_MT      highBeta                rawPsd     1.340245   \n",
       "69    fu3m  LFP_L_12_STN_MT      highBeta                rawPsd     1.025313   \n",
       "70    fu3m  LFP_L_01_STN_MT      highBeta                rawPsd     1.773379   \n",
       "71    fu3m  LFP_L_23_STN_MT      highBeta                rawPsd     0.101616   \n",
       "\n",
       "    rank subject_hemisphere  \n",
       "0    1.0          017_Right  \n",
       "1    3.0          017_Right  \n",
       "2    2.0          017_Right  \n",
       "3    3.0           017_Left  \n",
       "4    2.0           017_Left  \n",
       "..   ...                ...  \n",
       "67   3.0          038_Right  \n",
       "68   2.0          038_Right  \n",
       "69   2.0           038_Left  \n",
       "70   1.0           038_Left  \n",
       "71   3.0           038_Left  \n",
       "\n",
       "[72 rows x 7 columns]"
      ]
     },
     "execution_count": 10,
     "metadata": {},
     "output_type": "execute_result"
    }
   ],
   "source": [
    "rankDF[\"ranks_channelGroup_session_dictionary\"][\"Ring_fu3m\"]"
   ]
  },
  {
   "cell_type": "code",
   "execution_count": 11,
   "metadata": {},
   "outputs": [
    {
     "name": "stdout",
     "output_type": "stream",
     "text": [
      "pickle file loaded:  BIPranksChannelGroup_session_dict_psdAverage_lowBeta_rawPsd_band-pass.pickle \n",
      "loaded from:  c:\\Users\\jebe12\\Research\\Longterm_beta_project\\results\n",
      "files:  BIP_relativePsdToRank1_psdAverage_lowBeta_rawPsd_band-pass.pickle \n",
      "BIPpermutationDF_Postop_Fu3m_psdAverage_lowBeta_rawPsd_band-pass.pickle \n",
      "BIPpermutationDF_Postop_Fu12m_psdAverage_lowBeta_rawPsd_band-pass.pickle \n",
      "BIPpermutationDF_Postop_Fu18m_psdAverage_lowBeta_rawPsd_band-pass.pickle \n",
      "BIPpermutationDF_Fu3m_Fu12m_psdAverage_lowBeta_rawPsd_band-pass.pickle \n",
      "BIPpermutationDF_Fu3m_Fu18m_psdAverage_lowBeta_rawPsd_band-pass.pickle \n",
      "BIPpermutationDF_Fu12m_Fu18m_psdAverage_lowBeta_rawPsd_band-pass.pickle \n",
      "written in:  c:\\Users\\jebe12\\Research\\Longterm_beta_project\\results\n"
     ]
    }
   ],
   "source": [
    "# structure and write the files necessary for Permutation -> e.g. \"\\nBIPpermutationDF_Postop_Fu3m_{result}_{freqBand}_{normalization}_{filterSignal}.pickle\n",
    "Write_sessionComparison_Dataframes = BIP_ranks.Permutation_BIPranksRingSegmGroups(\n",
    "    result=\"psdAverage\",\n",
    "    difference=\"rank\",\n",
    "    filterSignal=\"band-pass\",\n",
    "    normalization=\"rawPsd\",\n",
    "    freqBand=\"lowBeta\",\n",
    ")"
   ]
  },
  {
   "cell_type": "code",
   "execution_count": 14,
   "metadata": {},
   "outputs": [
    {
     "name": "stdout",
     "output_type": "stream",
     "text": [
      "pickle file loaded:  BIPranksChannelGroup_session_dict_psdAverage_beta_rawPsd_band-pass.pickle \n",
      "loaded from:  c:\\Users\\jebe12\\Research\\Longterm_beta_project\\results\n"
     ]
    }
   ],
   "source": [
    "load_BIPchannelGroup_sessionPickle = loadResults.load_BIPchannelGroup_sessionPickle(\n",
    "    result=\"psdAverage\",\n",
    "    freqBand=\"beta\",\n",
    "    normalization=\"rawPsd\",\n",
    "    filterSignal=\"band-pass\"\n",
    ")"
   ]
  },
  {
   "cell_type": "code",
   "execution_count": 16,
   "metadata": {},
   "outputs": [
    {
     "data": {
      "text/html": [
       "<div>\n",
       "<style scoped>\n",
       "    .dataframe tbody tr th:only-of-type {\n",
       "        vertical-align: middle;\n",
       "    }\n",
       "\n",
       "    .dataframe tbody tr th {\n",
       "        vertical-align: top;\n",
       "    }\n",
       "\n",
       "    .dataframe thead th {\n",
       "        text-align: right;\n",
       "    }\n",
       "</style>\n",
       "<table border=\"1\" class=\"dataframe\">\n",
       "  <thead>\n",
       "    <tr style=\"text-align: right;\">\n",
       "      <th></th>\n",
       "      <th>session</th>\n",
       "      <th>bipolarChannel</th>\n",
       "      <th>frequencyBand</th>\n",
       "      <th>absoluteOrRelativePSD</th>\n",
       "      <th>averagedPSD</th>\n",
       "      <th>rank</th>\n",
       "      <th>subject_hemisphere</th>\n",
       "    </tr>\n",
       "  </thead>\n",
       "  <tbody>\n",
       "    <tr>\n",
       "      <th>0</th>\n",
       "      <td>fu3m</td>\n",
       "      <td>LFP_R_12_STN_MT</td>\n",
       "      <td>beta</td>\n",
       "      <td>rawPsd</td>\n",
       "      <td>0.298595</td>\n",
       "      <td>2.0</td>\n",
       "      <td>017_Right</td>\n",
       "    </tr>\n",
       "    <tr>\n",
       "      <th>1</th>\n",
       "      <td>fu3m</td>\n",
       "      <td>LFP_R_01_STN_MT</td>\n",
       "      <td>beta</td>\n",
       "      <td>rawPsd</td>\n",
       "      <td>0.131716</td>\n",
       "      <td>3.0</td>\n",
       "      <td>017_Right</td>\n",
       "    </tr>\n",
       "    <tr>\n",
       "      <th>2</th>\n",
       "      <td>fu3m</td>\n",
       "      <td>LFP_R_23_STN_MT</td>\n",
       "      <td>beta</td>\n",
       "      <td>rawPsd</td>\n",
       "      <td>0.299057</td>\n",
       "      <td>1.0</td>\n",
       "      <td>017_Right</td>\n",
       "    </tr>\n",
       "    <tr>\n",
       "      <th>3</th>\n",
       "      <td>fu3m</td>\n",
       "      <td>LFP_L_12_STN_MT</td>\n",
       "      <td>beta</td>\n",
       "      <td>rawPsd</td>\n",
       "      <td>0.095521</td>\n",
       "      <td>3.0</td>\n",
       "      <td>017_Left</td>\n",
       "    </tr>\n",
       "    <tr>\n",
       "      <th>4</th>\n",
       "      <td>fu3m</td>\n",
       "      <td>LFP_L_01_STN_MT</td>\n",
       "      <td>beta</td>\n",
       "      <td>rawPsd</td>\n",
       "      <td>0.114322</td>\n",
       "      <td>2.0</td>\n",
       "      <td>017_Left</td>\n",
       "    </tr>\n",
       "  </tbody>\n",
       "</table>\n",
       "</div>"
      ],
      "text/plain": [
       "  session   bipolarChannel frequencyBand absoluteOrRelativePSD  averagedPSD  \\\n",
       "0    fu3m  LFP_R_12_STN_MT          beta                rawPsd     0.298595   \n",
       "1    fu3m  LFP_R_01_STN_MT          beta                rawPsd     0.131716   \n",
       "2    fu3m  LFP_R_23_STN_MT          beta                rawPsd     0.299057   \n",
       "3    fu3m  LFP_L_12_STN_MT          beta                rawPsd     0.095521   \n",
       "4    fu3m  LFP_L_01_STN_MT          beta                rawPsd     0.114322   \n",
       "\n",
       "   rank subject_hemisphere  \n",
       "0   2.0          017_Right  \n",
       "1   3.0          017_Right  \n",
       "2   1.0          017_Right  \n",
       "3   3.0           017_Left  \n",
       "4   2.0           017_Left  "
      ]
     },
     "execution_count": 16,
     "metadata": {},
     "output_type": "execute_result"
    }
   ],
   "source": [
    "load_BIPchannelGroup_sessionPickle[\"Ring_fu3m\"].head()"
   ]
  },
  {
   "cell_type": "code",
   "execution_count": 9,
   "metadata": {},
   "outputs": [
    {
     "name": "stdout",
     "output_type": "stream",
     "text": [
      "pickle file:  BIPpsdAverage_Ring_rawPsd_band-pass.pickle \n",
      "loaded from:  c:\\Users\\jebe12\\Research\\Longterm_beta_project\\results\n",
      "pickle file:  BIPpsdAverage_SegmInter_rawPsd_band-pass.pickle \n",
      "loaded from:  c:\\Users\\jebe12\\Research\\Longterm_beta_project\\results\n",
      "pickle file:  BIPpsdAverage_SegmIntra_rawPsd_band-pass.pickle \n",
      "loaded from:  c:\\Users\\jebe12\\Research\\Longterm_beta_project\\results\n"
     ]
    }
   ],
   "source": [
    "data = loadResults.load_BIPchannelGroupsPickle(\n",
    "    result=\"psdAverage\",\n",
    "    channelGroup=[\"Ring\", \"SegmInter\", \"SegmIntra\"],\n",
    "    normalization=\"rawPsd\",\n",
    "    filterSignal=\"band-pass\"\n",
    "\n",
    ")"
   ]
  },
  {
   "cell_type": "code",
   "execution_count": 10,
   "metadata": {},
   "outputs": [
    {
     "data": {
      "text/html": [
       "<div>\n",
       "<style scoped>\n",
       "    .dataframe tbody tr th:only-of-type {\n",
       "        vertical-align: middle;\n",
       "    }\n",
       "\n",
       "    .dataframe tbody tr th {\n",
       "        vertical-align: top;\n",
       "    }\n",
       "\n",
       "    .dataframe thead th {\n",
       "        text-align: right;\n",
       "    }\n",
       "</style>\n",
       "<table border=\"1\" class=\"dataframe\">\n",
       "  <thead>\n",
       "    <tr style=\"text-align: right;\">\n",
       "      <th></th>\n",
       "      <th>session</th>\n",
       "      <th>bipolarChannel</th>\n",
       "      <th>frequencyBand</th>\n",
       "      <th>absoluteOrRelativePSD</th>\n",
       "      <th>averagedPSD</th>\n",
       "    </tr>\n",
       "  </thead>\n",
       "  <tbody>\n",
       "    <tr>\n",
       "      <th>fu3m_LFP_R_03_STN_MT_psdAverage_rawPsd_alpha</th>\n",
       "      <td>fu3m</td>\n",
       "      <td>LFP_R_03_STN_MT</td>\n",
       "      <td>alpha</td>\n",
       "      <td>rawPsd</td>\n",
       "      <td>0.645340</td>\n",
       "    </tr>\n",
       "    <tr>\n",
       "      <th>fu3m_LFP_R_13_STN_MT_psdAverage_rawPsd_alpha</th>\n",
       "      <td>fu3m</td>\n",
       "      <td>LFP_R_13_STN_MT</td>\n",
       "      <td>alpha</td>\n",
       "      <td>rawPsd</td>\n",
       "      <td>0.437049</td>\n",
       "    </tr>\n",
       "    <tr>\n",
       "      <th>fu3m_LFP_R_02_STN_MT_psdAverage_rawPsd_alpha</th>\n",
       "      <td>fu3m</td>\n",
       "      <td>LFP_R_02_STN_MT</td>\n",
       "      <td>alpha</td>\n",
       "      <td>rawPsd</td>\n",
       "      <td>0.661888</td>\n",
       "    </tr>\n",
       "    <tr>\n",
       "      <th>fu3m_LFP_R_12_STN_MT_psdAverage_rawPsd_alpha</th>\n",
       "      <td>fu3m</td>\n",
       "      <td>LFP_R_12_STN_MT</td>\n",
       "      <td>alpha</td>\n",
       "      <td>rawPsd</td>\n",
       "      <td>0.268085</td>\n",
       "    </tr>\n",
       "    <tr>\n",
       "      <th>fu3m_LFP_R_01_STN_MT_psdAverage_rawPsd_alpha</th>\n",
       "      <td>fu3m</td>\n",
       "      <td>LFP_R_01_STN_MT</td>\n",
       "      <td>alpha</td>\n",
       "      <td>rawPsd</td>\n",
       "      <td>0.441523</td>\n",
       "    </tr>\n",
       "    <tr>\n",
       "      <th>fu3m_LFP_R_23_STN_MT_psdAverage_rawPsd_alpha</th>\n",
       "      <td>fu3m</td>\n",
       "      <td>LFP_R_23_STN_MT</td>\n",
       "      <td>alpha</td>\n",
       "      <td>rawPsd</td>\n",
       "      <td>0.283438</td>\n",
       "    </tr>\n",
       "  </tbody>\n",
       "</table>\n",
       "</div>"
      ],
      "text/plain": [
       "                                             session   bipolarChannel  \\\n",
       "fu3m_LFP_R_03_STN_MT_psdAverage_rawPsd_alpha    fu3m  LFP_R_03_STN_MT   \n",
       "fu3m_LFP_R_13_STN_MT_psdAverage_rawPsd_alpha    fu3m  LFP_R_13_STN_MT   \n",
       "fu3m_LFP_R_02_STN_MT_psdAverage_rawPsd_alpha    fu3m  LFP_R_02_STN_MT   \n",
       "fu3m_LFP_R_12_STN_MT_psdAverage_rawPsd_alpha    fu3m  LFP_R_12_STN_MT   \n",
       "fu3m_LFP_R_01_STN_MT_psdAverage_rawPsd_alpha    fu3m  LFP_R_01_STN_MT   \n",
       "fu3m_LFP_R_23_STN_MT_psdAverage_rawPsd_alpha    fu3m  LFP_R_23_STN_MT   \n",
       "\n",
       "                                             frequencyBand  \\\n",
       "fu3m_LFP_R_03_STN_MT_psdAverage_rawPsd_alpha         alpha   \n",
       "fu3m_LFP_R_13_STN_MT_psdAverage_rawPsd_alpha         alpha   \n",
       "fu3m_LFP_R_02_STN_MT_psdAverage_rawPsd_alpha         alpha   \n",
       "fu3m_LFP_R_12_STN_MT_psdAverage_rawPsd_alpha         alpha   \n",
       "fu3m_LFP_R_01_STN_MT_psdAverage_rawPsd_alpha         alpha   \n",
       "fu3m_LFP_R_23_STN_MT_psdAverage_rawPsd_alpha         alpha   \n",
       "\n",
       "                                             absoluteOrRelativePSD  \\\n",
       "fu3m_LFP_R_03_STN_MT_psdAverage_rawPsd_alpha                rawPsd   \n",
       "fu3m_LFP_R_13_STN_MT_psdAverage_rawPsd_alpha                rawPsd   \n",
       "fu3m_LFP_R_02_STN_MT_psdAverage_rawPsd_alpha                rawPsd   \n",
       "fu3m_LFP_R_12_STN_MT_psdAverage_rawPsd_alpha                rawPsd   \n",
       "fu3m_LFP_R_01_STN_MT_psdAverage_rawPsd_alpha                rawPsd   \n",
       "fu3m_LFP_R_23_STN_MT_psdAverage_rawPsd_alpha                rawPsd   \n",
       "\n",
       "                                              averagedPSD  \n",
       "fu3m_LFP_R_03_STN_MT_psdAverage_rawPsd_alpha     0.645340  \n",
       "fu3m_LFP_R_13_STN_MT_psdAverage_rawPsd_alpha     0.437049  \n",
       "fu3m_LFP_R_02_STN_MT_psdAverage_rawPsd_alpha     0.661888  \n",
       "fu3m_LFP_R_12_STN_MT_psdAverage_rawPsd_alpha     0.268085  \n",
       "fu3m_LFP_R_01_STN_MT_psdAverage_rawPsd_alpha     0.441523  \n",
       "fu3m_LFP_R_23_STN_MT_psdAverage_rawPsd_alpha     0.283438  "
      ]
     },
     "execution_count": 10,
     "metadata": {},
     "output_type": "execute_result"
    }
   ],
   "source": [
    "data[\"Ring\"][\"017_Right_fu3m_alpha\"]"
   ]
  },
  {
   "cell_type": "code",
   "execution_count": null,
   "metadata": {},
   "outputs": [],
   "source": []
  },
  {
   "attachments": {},
   "cell_type": "markdown",
   "metadata": {},
   "source": [
    "### 2.1 Perform Permutation of all session comparisons"
   ]
  },
  {
   "cell_type": "code",
   "execution_count": 18,
   "metadata": {},
   "outputs": [],
   "source": [
    "permute_BIP_ranks = Permute_ranks.PermutationTest_BIPchannelGroups(\n",
    "    data2permute=\"psdAverage\",\n",
    "    filterSignal=\"band-pass\",\n",
    "    normalization=\"rawPsd\",\n",
    "    freqBand=\"highBeta\"\n",
    ")"
   ]
  },
  {
   "cell_type": "code",
   "execution_count": null,
   "metadata": {},
   "outputs": [],
   "source": [
    "permute_BIP_ranks"
   ]
  },
  {
   "cell_type": "code",
   "execution_count": null,
   "metadata": {},
   "outputs": [],
   "source": [
    "# plot p values of permutation test\n",
    "\n",
    "Ring_comparisons = permute_BIP_ranks.loc[(permute_BIP_ranks.channelGroup==\"Ring\")]\n",
    "SegmInter_comparisons = permute_BIP_ranks.loc[(permute_BIP_ranks.channelGroup==\"SegmInter\")]\n",
    "SegmIntra_comparisons = permute_BIP_ranks.loc[(permute_BIP_ranks.channelGroup==\"SegmIntra\")]\n",
    "\n",
    "fig=plt.figure()\n",
    "plt.scatter(Ring_comparisons[\"comparison\"], Ring_comparisons[\"p-value\"])\n",
    "plt.ylabel(\"p-value\")\n",
    "plt.ylim(-0.05, 0.17)\n",
    "\n",
    "plt.show()\n"
   ]
  },
  {
   "cell_type": "code",
   "execution_count": null,
   "metadata": {},
   "outputs": [],
   "source": [
    "# use function Permutation_BIPranksRingSegmGroups to restructure the Dataframes with the rankings and create comparison Dataframes \n",
    "\n",
    "Permutation_dict = BIP_ranks.Permutation_BIPranksRingSegmGroups(\n",
    "    result=\"psdAverage\",\n",
    "    difference=\"rank\",\n",
    "    filterSignal=\"band-pass\",\n",
    "    normalization=\"rawPsd\",\n",
    "    freqBand=\"beta\"\n",
    ")"
   ]
  },
  {
   "cell_type": "code",
   "execution_count": 11,
   "metadata": {},
   "outputs": [
    {
     "name": "stdout",
     "output_type": "stream",
     "text": [
      "pickle file loaded:  BIPpermutationDF_Postop_Postop_psdAverage_beta_rawPsd_band-pass.pickle \n",
      "loaded from:  c:\\Users\\jebe12\\Research\\Longterm_beta_project\\results\n",
      "pickle file loaded:  BIPpermutationDF_Postop_Fu3m_psdAverage_beta_rawPsd_band-pass.pickle \n",
      "loaded from:  c:\\Users\\jebe12\\Research\\Longterm_beta_project\\results\n",
      "pickle file loaded:  BIPpermutationDF_Postop_Fu12m_psdAverage_beta_rawPsd_band-pass.pickle \n",
      "loaded from:  c:\\Users\\jebe12\\Research\\Longterm_beta_project\\results\n",
      "pickle file loaded:  BIPpermutationDF_Postop_Fu18m_psdAverage_beta_rawPsd_band-pass.pickle \n",
      "loaded from:  c:\\Users\\jebe12\\Research\\Longterm_beta_project\\results\n",
      "pickle file loaded:  BIPpermutationDF_Fu3m_Postop_psdAverage_beta_rawPsd_band-pass.pickle \n",
      "loaded from:  c:\\Users\\jebe12\\Research\\Longterm_beta_project\\results\n",
      "pickle file loaded:  BIPpermutationDF_Fu3m_Fu3m_psdAverage_beta_rawPsd_band-pass.pickle \n",
      "loaded from:  c:\\Users\\jebe12\\Research\\Longterm_beta_project\\results\n",
      "pickle file loaded:  BIPpermutationDF_Fu3m_Fu12m_psdAverage_beta_rawPsd_band-pass.pickle \n",
      "loaded from:  c:\\Users\\jebe12\\Research\\Longterm_beta_project\\results\n",
      "pickle file loaded:  BIPpermutationDF_Fu3m_Fu18m_psdAverage_beta_rawPsd_band-pass.pickle \n",
      "loaded from:  c:\\Users\\jebe12\\Research\\Longterm_beta_project\\results\n",
      "pickle file loaded:  BIPpermutationDF_Fu12m_Postop_psdAverage_beta_rawPsd_band-pass.pickle \n",
      "loaded from:  c:\\Users\\jebe12\\Research\\Longterm_beta_project\\results\n",
      "pickle file loaded:  BIPpermutationDF_Fu12m_Fu3m_psdAverage_beta_rawPsd_band-pass.pickle \n",
      "loaded from:  c:\\Users\\jebe12\\Research\\Longterm_beta_project\\results\n",
      "pickle file loaded:  BIPpermutationDF_Fu12m_Fu12m_psdAverage_beta_rawPsd_band-pass.pickle \n",
      "loaded from:  c:\\Users\\jebe12\\Research\\Longterm_beta_project\\results\n",
      "pickle file loaded:  BIPpermutationDF_Fu12m_Fu18m_psdAverage_beta_rawPsd_band-pass.pickle \n",
      "loaded from:  c:\\Users\\jebe12\\Research\\Longterm_beta_project\\results\n",
      "pickle file loaded:  BIPpermutationDF_Fu18m_Postop_psdAverage_beta_rawPsd_band-pass.pickle \n",
      "loaded from:  c:\\Users\\jebe12\\Research\\Longterm_beta_project\\results\n",
      "pickle file loaded:  BIPpermutationDF_Fu18m_Fu3m_psdAverage_beta_rawPsd_band-pass.pickle \n",
      "loaded from:  c:\\Users\\jebe12\\Research\\Longterm_beta_project\\results\n",
      "pickle file loaded:  BIPpermutationDF_Fu18m_Fu12m_psdAverage_beta_rawPsd_band-pass.pickle \n",
      "loaded from:  c:\\Users\\jebe12\\Research\\Longterm_beta_project\\results\n",
      "pickle file loaded:  BIPpermutationDF_Fu18m_Fu18m_psdAverage_beta_rawPsd_band-pass.pickle \n",
      "loaded from:  c:\\Users\\jebe12\\Research\\Longterm_beta_project\\results\n"
     ]
    }
   ],
   "source": [
    "data = loadResults.load_BIPpermutationComparisonsPickle(\n",
    "    result=\"psdAverage\",\n",
    "    filterSignal=\"band-pass\",\n",
    "    normalization=\"rawPsd\",\n",
    "    freqBand=\"beta\"\n",
    ")"
   ]
  },
  {
   "cell_type": "code",
   "execution_count": 13,
   "metadata": {},
   "outputs": [
    {
     "data": {
      "text/html": [
       "<div>\n",
       "<style scoped>\n",
       "    .dataframe tbody tr th:only-of-type {\n",
       "        vertical-align: middle;\n",
       "    }\n",
       "\n",
       "    .dataframe tbody tr th {\n",
       "        vertical-align: top;\n",
       "    }\n",
       "\n",
       "    .dataframe thead th {\n",
       "        text-align: right;\n",
       "    }\n",
       "</style>\n",
       "<table border=\"1\" class=\"dataframe\">\n",
       "  <thead>\n",
       "    <tr style=\"text-align: right;\">\n",
       "      <th></th>\n",
       "      <th>recording_type_x</th>\n",
       "      <th>session_x</th>\n",
       "      <th>averagedPSD_x</th>\n",
       "      <th>rank_x</th>\n",
       "      <th>sub_hem_BIPchannel</th>\n",
       "      <th>recording_type_y</th>\n",
       "      <th>session_y</th>\n",
       "      <th>averagedPSD_y</th>\n",
       "      <th>rank_y</th>\n",
       "      <th>Difference_rank_x_y</th>\n",
       "      <th>Difference_psdAverage_x_y</th>\n",
       "    </tr>\n",
       "  </thead>\n",
       "  <tbody>\n",
       "    <tr>\n",
       "      <th>0</th>\n",
       "      <td>Ring</td>\n",
       "      <td>fu3m</td>\n",
       "      <td>0.298595</td>\n",
       "      <td>2.0</td>\n",
       "      <td>017_Right_BIP_12</td>\n",
       "      <td>Ring</td>\n",
       "      <td>fu12m</td>\n",
       "      <td>0.189567</td>\n",
       "      <td>3.0</td>\n",
       "      <td>1.0</td>\n",
       "      <td>0.109028</td>\n",
       "    </tr>\n",
       "    <tr>\n",
       "      <th>1</th>\n",
       "      <td>Ring</td>\n",
       "      <td>fu3m</td>\n",
       "      <td>0.131716</td>\n",
       "      <td>3.0</td>\n",
       "      <td>017_Right_BIP_01</td>\n",
       "      <td>Ring</td>\n",
       "      <td>fu12m</td>\n",
       "      <td>0.242426</td>\n",
       "      <td>2.0</td>\n",
       "      <td>1.0</td>\n",
       "      <td>0.110709</td>\n",
       "    </tr>\n",
       "    <tr>\n",
       "      <th>2</th>\n",
       "      <td>Ring</td>\n",
       "      <td>fu3m</td>\n",
       "      <td>0.299057</td>\n",
       "      <td>1.0</td>\n",
       "      <td>017_Right_BIP_23</td>\n",
       "      <td>Ring</td>\n",
       "      <td>fu12m</td>\n",
       "      <td>0.788483</td>\n",
       "      <td>1.0</td>\n",
       "      <td>0.0</td>\n",
       "      <td>0.489426</td>\n",
       "    </tr>\n",
       "    <tr>\n",
       "      <th>3</th>\n",
       "      <td>Ring</td>\n",
       "      <td>fu3m</td>\n",
       "      <td>0.095521</td>\n",
       "      <td>3.0</td>\n",
       "      <td>017_Left_BIP_12</td>\n",
       "      <td>Ring</td>\n",
       "      <td>fu12m</td>\n",
       "      <td>0.221342</td>\n",
       "      <td>2.0</td>\n",
       "      <td>1.0</td>\n",
       "      <td>0.125821</td>\n",
       "    </tr>\n",
       "    <tr>\n",
       "      <th>4</th>\n",
       "      <td>Ring</td>\n",
       "      <td>fu3m</td>\n",
       "      <td>0.114322</td>\n",
       "      <td>2.0</td>\n",
       "      <td>017_Left_BIP_01</td>\n",
       "      <td>Ring</td>\n",
       "      <td>fu12m</td>\n",
       "      <td>0.227817</td>\n",
       "      <td>1.0</td>\n",
       "      <td>1.0</td>\n",
       "      <td>0.113495</td>\n",
       "    </tr>\n",
       "  </tbody>\n",
       "</table>\n",
       "</div>"
      ],
      "text/plain": [
       "  recording_type_x session_x  averagedPSD_x  rank_x sub_hem_BIPchannel  \\\n",
       "0             Ring      fu3m       0.298595     2.0   017_Right_BIP_12   \n",
       "1             Ring      fu3m       0.131716     3.0   017_Right_BIP_01   \n",
       "2             Ring      fu3m       0.299057     1.0   017_Right_BIP_23   \n",
       "3             Ring      fu3m       0.095521     3.0    017_Left_BIP_12   \n",
       "4             Ring      fu3m       0.114322     2.0    017_Left_BIP_01   \n",
       "\n",
       "  recording_type_y session_y  averagedPSD_y  rank_y  Difference_rank_x_y  \\\n",
       "0             Ring     fu12m       0.189567     3.0                  1.0   \n",
       "1             Ring     fu12m       0.242426     2.0                  1.0   \n",
       "2             Ring     fu12m       0.788483     1.0                  0.0   \n",
       "3             Ring     fu12m       0.221342     2.0                  1.0   \n",
       "4             Ring     fu12m       0.227817     1.0                  1.0   \n",
       "\n",
       "   Difference_psdAverage_x_y  \n",
       "0                   0.109028  \n",
       "1                   0.110709  \n",
       "2                   0.489426  \n",
       "3                   0.125821  \n",
       "4                   0.113495  "
      ]
     },
     "execution_count": 13,
     "metadata": {},
     "output_type": "execute_result"
    }
   ],
   "source": [
    "postopFu3mRingData = data[\"Fu3m_Fu12m\"][\"Ring\"]\n",
    "postopFu3mRingData.head()"
   ]
  },
  {
   "attachments": {},
   "cell_type": "markdown",
   "metadata": {},
   "source": [
    "### 2.2 Plot the Heatmap of pvalues between the Permutation results of session comparisons"
   ]
  },
  {
   "cell_type": "code",
   "execution_count": 8,
   "metadata": {},
   "outputs": [],
   "source": [
    "result = loadResults.load_BIPpermutation_ranks_result(\n",
    "        data2permute=\"psdAverage\",\n",
    "        filterSignal=\"band-pass\",\n",
    "        normalization=\"rawPsd\",\n",
    "        freqBand=\"beta\"\n",
    "        )\n",
    "    "
   ]
  },
  {
   "cell_type": "code",
   "execution_count": 10,
   "metadata": {},
   "outputs": [
    {
     "data": {
      "text/html": [
       "<div>\n",
       "<style scoped>\n",
       "    .dataframe tbody tr th:only-of-type {\n",
       "        vertical-align: middle;\n",
       "    }\n",
       "\n",
       "    .dataframe tbody tr th {\n",
       "        vertical-align: top;\n",
       "    }\n",
       "\n",
       "    .dataframe thead th {\n",
       "        text-align: right;\n",
       "    }\n",
       "</style>\n",
       "<table border=\"1\" class=\"dataframe\">\n",
       "  <thead>\n",
       "    <tr style=\"text-align: right;\">\n",
       "      <th></th>\n",
       "      <th>comparison</th>\n",
       "      <th>channelGroup</th>\n",
       "      <th>MEAN_differenceOfRanks</th>\n",
       "      <th>distanceMEANreal_MEANrandom</th>\n",
       "      <th>p-value</th>\n",
       "    </tr>\n",
       "  </thead>\n",
       "  <tbody>\n",
       "    <tr>\n",
       "      <th>Postop_Postop_Ring</th>\n",
       "      <td>Postop_Postop</td>\n",
       "      <td>Ring</td>\n",
       "      <td>0.0</td>\n",
       "      <td>-5.560814</td>\n",
       "      <td>0.000000013425985</td>\n",
       "    </tr>\n",
       "    <tr>\n",
       "      <th>Postop_Postop_SegmInter</th>\n",
       "      <td>Postop_Postop</td>\n",
       "      <td>SegmInter</td>\n",
       "      <td>0.0</td>\n",
       "      <td>-5.698809</td>\n",
       "      <td>0.000000006032364</td>\n",
       "    </tr>\n",
       "    <tr>\n",
       "      <th>Postop_Postop_SegmIntra</th>\n",
       "      <td>Postop_Postop</td>\n",
       "      <td>SegmIntra</td>\n",
       "      <td>0.0</td>\n",
       "      <td>-9.935757</td>\n",
       "      <td>0.000000000000000</td>\n",
       "    </tr>\n",
       "    <tr>\n",
       "      <th>Postop_Fu3m_Ring</th>\n",
       "      <td>Postop_Fu3m</td>\n",
       "      <td>Ring</td>\n",
       "      <td>0.533333</td>\n",
       "      <td>-2.151105</td>\n",
       "      <td>0.015733955976777</td>\n",
       "    </tr>\n",
       "    <tr>\n",
       "      <th>Postop_Fu3m_SegmInter</th>\n",
       "      <td>Postop_Fu3m</td>\n",
       "      <td>SegmInter</td>\n",
       "      <td>0.4</td>\n",
       "      <td>-3.280348</td>\n",
       "      <td>0.000518396075470</td>\n",
       "    </tr>\n",
       "  </tbody>\n",
       "</table>\n",
       "</div>"
      ],
      "text/plain": [
       "                            comparison channelGroup MEAN_differenceOfRanks  \\\n",
       "Postop_Postop_Ring       Postop_Postop         Ring                    0.0   \n",
       "Postop_Postop_SegmInter  Postop_Postop    SegmInter                    0.0   \n",
       "Postop_Postop_SegmIntra  Postop_Postop    SegmIntra                    0.0   \n",
       "Postop_Fu3m_Ring           Postop_Fu3m         Ring               0.533333   \n",
       "Postop_Fu3m_SegmInter      Postop_Fu3m    SegmInter                    0.4   \n",
       "\n",
       "                        distanceMEANreal_MEANrandom            p-value  \n",
       "Postop_Postop_Ring                        -5.560814  0.000000013425985  \n",
       "Postop_Postop_SegmInter                   -5.698809  0.000000006032364  \n",
       "Postop_Postop_SegmIntra                   -9.935757  0.000000000000000  \n",
       "Postop_Fu3m_Ring                          -2.151105  0.015733955976777  \n",
       "Postop_Fu3m_SegmInter                     -3.280348  0.000518396075470  "
      ]
     },
     "execution_count": 10,
     "metadata": {},
     "output_type": "execute_result"
    }
   ],
   "source": [
    "result.head()"
   ]
  },
  {
   "cell_type": "code",
   "execution_count": 19,
   "metadata": {},
   "outputs": [
    {
     "data": {
      "application/vnd.plotly.v1+json": {
       "config": {
        "plotlyServerURL": "https://plot.ly"
       },
       "data": [
        {
         "coloraxis": "coloraxis",
         "hovertemplate": "session 1: %{x}<br>session 2: %{y}<br>p-value of difference real vs. random: %{z}<extra></extra>",
         "name": "0",
         "type": "heatmap",
         "x": [
          "postop",
          "fu3m",
          "fu12m",
          "fu18m"
         ],
         "xaxis": "x",
         "y": [
          "postop",
          "fu3m",
          "fu12m",
          "fu18m"
         ],
         "yaxis": "y",
         "z": [
          [
           1.2e-14,
           0.000013614208014,
           0.022257848107952,
           0.049224663111193
          ],
          [
           0.000015756950376,
           0,
           0.000013755900142,
           3.9443442e-8
          ],
          [
           0.031454114824219,
           0.000007932222641,
           2e-15,
           0.000005658451292
          ],
          [
           0.05759746081713,
           1.86002679e-7,
           0.00000871635818,
           7.432054e-9
          ]
         ]
        }
       ],
       "layout": {
        "coloraxis": {
         "colorbar": {
          "title": {
           "text": "p-value of difference real vs. random"
          }
         },
         "colorscale": [
          [
           0,
           "#0d0887"
          ],
          [
           0.1111111111111111,
           "#46039f"
          ],
          [
           0.2222222222222222,
           "#7201a8"
          ],
          [
           0.3333333333333333,
           "#9c179e"
          ],
          [
           0.4444444444444444,
           "#bd3786"
          ],
          [
           0.5555555555555556,
           "#d8576b"
          ],
          [
           0.6666666666666666,
           "#ed7953"
          ],
          [
           0.7777777777777778,
           "#fb9f3a"
          ],
          [
           0.8888888888888888,
           "#fdca26"
          ],
          [
           1,
           "#f0f921"
          ]
         ]
        },
        "template": {
         "data": {
          "bar": [
           {
            "error_x": {
             "color": "#2a3f5f"
            },
            "error_y": {
             "color": "#2a3f5f"
            },
            "marker": {
             "line": {
              "color": "#E5ECF6",
              "width": 0.5
             },
             "pattern": {
              "fillmode": "overlay",
              "size": 10,
              "solidity": 0.2
             }
            },
            "type": "bar"
           }
          ],
          "barpolar": [
           {
            "marker": {
             "line": {
              "color": "#E5ECF6",
              "width": 0.5
             },
             "pattern": {
              "fillmode": "overlay",
              "size": 10,
              "solidity": 0.2
             }
            },
            "type": "barpolar"
           }
          ],
          "carpet": [
           {
            "aaxis": {
             "endlinecolor": "#2a3f5f",
             "gridcolor": "white",
             "linecolor": "white",
             "minorgridcolor": "white",
             "startlinecolor": "#2a3f5f"
            },
            "baxis": {
             "endlinecolor": "#2a3f5f",
             "gridcolor": "white",
             "linecolor": "white",
             "minorgridcolor": "white",
             "startlinecolor": "#2a3f5f"
            },
            "type": "carpet"
           }
          ],
          "choropleth": [
           {
            "colorbar": {
             "outlinewidth": 0,
             "ticks": ""
            },
            "type": "choropleth"
           }
          ],
          "contour": [
           {
            "colorbar": {
             "outlinewidth": 0,
             "ticks": ""
            },
            "colorscale": [
             [
              0,
              "#0d0887"
             ],
             [
              0.1111111111111111,
              "#46039f"
             ],
             [
              0.2222222222222222,
              "#7201a8"
             ],
             [
              0.3333333333333333,
              "#9c179e"
             ],
             [
              0.4444444444444444,
              "#bd3786"
             ],
             [
              0.5555555555555556,
              "#d8576b"
             ],
             [
              0.6666666666666666,
              "#ed7953"
             ],
             [
              0.7777777777777778,
              "#fb9f3a"
             ],
             [
              0.8888888888888888,
              "#fdca26"
             ],
             [
              1,
              "#f0f921"
             ]
            ],
            "type": "contour"
           }
          ],
          "contourcarpet": [
           {
            "colorbar": {
             "outlinewidth": 0,
             "ticks": ""
            },
            "type": "contourcarpet"
           }
          ],
          "heatmap": [
           {
            "colorbar": {
             "outlinewidth": 0,
             "ticks": ""
            },
            "colorscale": [
             [
              0,
              "#0d0887"
             ],
             [
              0.1111111111111111,
              "#46039f"
             ],
             [
              0.2222222222222222,
              "#7201a8"
             ],
             [
              0.3333333333333333,
              "#9c179e"
             ],
             [
              0.4444444444444444,
              "#bd3786"
             ],
             [
              0.5555555555555556,
              "#d8576b"
             ],
             [
              0.6666666666666666,
              "#ed7953"
             ],
             [
              0.7777777777777778,
              "#fb9f3a"
             ],
             [
              0.8888888888888888,
              "#fdca26"
             ],
             [
              1,
              "#f0f921"
             ]
            ],
            "type": "heatmap"
           }
          ],
          "heatmapgl": [
           {
            "colorbar": {
             "outlinewidth": 0,
             "ticks": ""
            },
            "colorscale": [
             [
              0,
              "#0d0887"
             ],
             [
              0.1111111111111111,
              "#46039f"
             ],
             [
              0.2222222222222222,
              "#7201a8"
             ],
             [
              0.3333333333333333,
              "#9c179e"
             ],
             [
              0.4444444444444444,
              "#bd3786"
             ],
             [
              0.5555555555555556,
              "#d8576b"
             ],
             [
              0.6666666666666666,
              "#ed7953"
             ],
             [
              0.7777777777777778,
              "#fb9f3a"
             ],
             [
              0.8888888888888888,
              "#fdca26"
             ],
             [
              1,
              "#f0f921"
             ]
            ],
            "type": "heatmapgl"
           }
          ],
          "histogram": [
           {
            "marker": {
             "pattern": {
              "fillmode": "overlay",
              "size": 10,
              "solidity": 0.2
             }
            },
            "type": "histogram"
           }
          ],
          "histogram2d": [
           {
            "colorbar": {
             "outlinewidth": 0,
             "ticks": ""
            },
            "colorscale": [
             [
              0,
              "#0d0887"
             ],
             [
              0.1111111111111111,
              "#46039f"
             ],
             [
              0.2222222222222222,
              "#7201a8"
             ],
             [
              0.3333333333333333,
              "#9c179e"
             ],
             [
              0.4444444444444444,
              "#bd3786"
             ],
             [
              0.5555555555555556,
              "#d8576b"
             ],
             [
              0.6666666666666666,
              "#ed7953"
             ],
             [
              0.7777777777777778,
              "#fb9f3a"
             ],
             [
              0.8888888888888888,
              "#fdca26"
             ],
             [
              1,
              "#f0f921"
             ]
            ],
            "type": "histogram2d"
           }
          ],
          "histogram2dcontour": [
           {
            "colorbar": {
             "outlinewidth": 0,
             "ticks": ""
            },
            "colorscale": [
             [
              0,
              "#0d0887"
             ],
             [
              0.1111111111111111,
              "#46039f"
             ],
             [
              0.2222222222222222,
              "#7201a8"
             ],
             [
              0.3333333333333333,
              "#9c179e"
             ],
             [
              0.4444444444444444,
              "#bd3786"
             ],
             [
              0.5555555555555556,
              "#d8576b"
             ],
             [
              0.6666666666666666,
              "#ed7953"
             ],
             [
              0.7777777777777778,
              "#fb9f3a"
             ],
             [
              0.8888888888888888,
              "#fdca26"
             ],
             [
              1,
              "#f0f921"
             ]
            ],
            "type": "histogram2dcontour"
           }
          ],
          "mesh3d": [
           {
            "colorbar": {
             "outlinewidth": 0,
             "ticks": ""
            },
            "type": "mesh3d"
           }
          ],
          "parcoords": [
           {
            "line": {
             "colorbar": {
              "outlinewidth": 0,
              "ticks": ""
             }
            },
            "type": "parcoords"
           }
          ],
          "pie": [
           {
            "automargin": true,
            "type": "pie"
           }
          ],
          "scatter": [
           {
            "fillpattern": {
             "fillmode": "overlay",
             "size": 10,
             "solidity": 0.2
            },
            "type": "scatter"
           }
          ],
          "scatter3d": [
           {
            "line": {
             "colorbar": {
              "outlinewidth": 0,
              "ticks": ""
             }
            },
            "marker": {
             "colorbar": {
              "outlinewidth": 0,
              "ticks": ""
             }
            },
            "type": "scatter3d"
           }
          ],
          "scattercarpet": [
           {
            "marker": {
             "colorbar": {
              "outlinewidth": 0,
              "ticks": ""
             }
            },
            "type": "scattercarpet"
           }
          ],
          "scattergeo": [
           {
            "marker": {
             "colorbar": {
              "outlinewidth": 0,
              "ticks": ""
             }
            },
            "type": "scattergeo"
           }
          ],
          "scattergl": [
           {
            "marker": {
             "colorbar": {
              "outlinewidth": 0,
              "ticks": ""
             }
            },
            "type": "scattergl"
           }
          ],
          "scattermapbox": [
           {
            "marker": {
             "colorbar": {
              "outlinewidth": 0,
              "ticks": ""
             }
            },
            "type": "scattermapbox"
           }
          ],
          "scatterpolar": [
           {
            "marker": {
             "colorbar": {
              "outlinewidth": 0,
              "ticks": ""
             }
            },
            "type": "scatterpolar"
           }
          ],
          "scatterpolargl": [
           {
            "marker": {
             "colorbar": {
              "outlinewidth": 0,
              "ticks": ""
             }
            },
            "type": "scatterpolargl"
           }
          ],
          "scatterternary": [
           {
            "marker": {
             "colorbar": {
              "outlinewidth": 0,
              "ticks": ""
             }
            },
            "type": "scatterternary"
           }
          ],
          "surface": [
           {
            "colorbar": {
             "outlinewidth": 0,
             "ticks": ""
            },
            "colorscale": [
             [
              0,
              "#0d0887"
             ],
             [
              0.1111111111111111,
              "#46039f"
             ],
             [
              0.2222222222222222,
              "#7201a8"
             ],
             [
              0.3333333333333333,
              "#9c179e"
             ],
             [
              0.4444444444444444,
              "#bd3786"
             ],
             [
              0.5555555555555556,
              "#d8576b"
             ],
             [
              0.6666666666666666,
              "#ed7953"
             ],
             [
              0.7777777777777778,
              "#fb9f3a"
             ],
             [
              0.8888888888888888,
              "#fdca26"
             ],
             [
              1,
              "#f0f921"
             ]
            ],
            "type": "surface"
           }
          ],
          "table": [
           {
            "cells": {
             "fill": {
              "color": "#EBF0F8"
             },
             "line": {
              "color": "white"
             }
            },
            "header": {
             "fill": {
              "color": "#C8D4E3"
             },
             "line": {
              "color": "white"
             }
            },
            "type": "table"
           }
          ]
         },
         "layout": {
          "annotationdefaults": {
           "arrowcolor": "#2a3f5f",
           "arrowhead": 0,
           "arrowwidth": 1
          },
          "autotypenumbers": "strict",
          "coloraxis": {
           "colorbar": {
            "outlinewidth": 0,
            "ticks": ""
           }
          },
          "colorscale": {
           "diverging": [
            [
             0,
             "#8e0152"
            ],
            [
             0.1,
             "#c51b7d"
            ],
            [
             0.2,
             "#de77ae"
            ],
            [
             0.3,
             "#f1b6da"
            ],
            [
             0.4,
             "#fde0ef"
            ],
            [
             0.5,
             "#f7f7f7"
            ],
            [
             0.6,
             "#e6f5d0"
            ],
            [
             0.7,
             "#b8e186"
            ],
            [
             0.8,
             "#7fbc41"
            ],
            [
             0.9,
             "#4d9221"
            ],
            [
             1,
             "#276419"
            ]
           ],
           "sequential": [
            [
             0,
             "#0d0887"
            ],
            [
             0.1111111111111111,
             "#46039f"
            ],
            [
             0.2222222222222222,
             "#7201a8"
            ],
            [
             0.3333333333333333,
             "#9c179e"
            ],
            [
             0.4444444444444444,
             "#bd3786"
            ],
            [
             0.5555555555555556,
             "#d8576b"
            ],
            [
             0.6666666666666666,
             "#ed7953"
            ],
            [
             0.7777777777777778,
             "#fb9f3a"
            ],
            [
             0.8888888888888888,
             "#fdca26"
            ],
            [
             1,
             "#f0f921"
            ]
           ],
           "sequentialminus": [
            [
             0,
             "#0d0887"
            ],
            [
             0.1111111111111111,
             "#46039f"
            ],
            [
             0.2222222222222222,
             "#7201a8"
            ],
            [
             0.3333333333333333,
             "#9c179e"
            ],
            [
             0.4444444444444444,
             "#bd3786"
            ],
            [
             0.5555555555555556,
             "#d8576b"
            ],
            [
             0.6666666666666666,
             "#ed7953"
            ],
            [
             0.7777777777777778,
             "#fb9f3a"
            ],
            [
             0.8888888888888888,
             "#fdca26"
            ],
            [
             1,
             "#f0f921"
            ]
           ]
          },
          "colorway": [
           "#636efa",
           "#EF553B",
           "#00cc96",
           "#ab63fa",
           "#FFA15A",
           "#19d3f3",
           "#FF6692",
           "#B6E880",
           "#FF97FF",
           "#FECB52"
          ],
          "font": {
           "color": "#2a3f5f"
          },
          "geo": {
           "bgcolor": "white",
           "lakecolor": "white",
           "landcolor": "#E5ECF6",
           "showlakes": true,
           "showland": true,
           "subunitcolor": "white"
          },
          "hoverlabel": {
           "align": "left"
          },
          "hovermode": "closest",
          "mapbox": {
           "style": "light"
          },
          "paper_bgcolor": "white",
          "plot_bgcolor": "#E5ECF6",
          "polar": {
           "angularaxis": {
            "gridcolor": "white",
            "linecolor": "white",
            "ticks": ""
           },
           "bgcolor": "#E5ECF6",
           "radialaxis": {
            "gridcolor": "white",
            "linecolor": "white",
            "ticks": ""
           }
          },
          "scene": {
           "xaxis": {
            "backgroundcolor": "#E5ECF6",
            "gridcolor": "white",
            "gridwidth": 2,
            "linecolor": "white",
            "showbackground": true,
            "ticks": "",
            "zerolinecolor": "white"
           },
           "yaxis": {
            "backgroundcolor": "#E5ECF6",
            "gridcolor": "white",
            "gridwidth": 2,
            "linecolor": "white",
            "showbackground": true,
            "ticks": "",
            "zerolinecolor": "white"
           },
           "zaxis": {
            "backgroundcolor": "#E5ECF6",
            "gridcolor": "white",
            "gridwidth": 2,
            "linecolor": "white",
            "showbackground": true,
            "ticks": "",
            "zerolinecolor": "white"
           }
          },
          "shapedefaults": {
           "line": {
            "color": "#2a3f5f"
           }
          },
          "ternary": {
           "aaxis": {
            "gridcolor": "white",
            "linecolor": "white",
            "ticks": ""
           },
           "baxis": {
            "gridcolor": "white",
            "linecolor": "white",
            "ticks": ""
           },
           "bgcolor": "#E5ECF6",
           "caxis": {
            "gridcolor": "white",
            "linecolor": "white",
            "ticks": ""
           }
          },
          "title": {
           "x": 0.05
          },
          "xaxis": {
           "automargin": true,
           "gridcolor": "white",
           "linecolor": "white",
           "ticks": "",
           "title": {
            "standoff": 15
           },
           "zerolinecolor": "white",
           "zerolinewidth": 2
          },
          "yaxis": {
           "automargin": true,
           "gridcolor": "white",
           "linecolor": "white",
           "ticks": "",
           "title": {
            "standoff": 15
           },
           "zerolinecolor": "white",
           "zerolinewidth": 2
          }
         }
        },
        "title": {
         "text": "Ring channel group, p-values highBeta power ranks",
         "x": 0.5,
         "xanchor": "center",
         "y": 0.98,
         "yanchor": "top"
        },
        "xaxis": {
         "anchor": "y",
         "constrain": "domain",
         "domain": [
          0,
          1
         ],
         "scaleanchor": "y",
         "side": "top",
         "title": {
          "text": "session 1"
         }
        },
        "yaxis": {
         "anchor": "x",
         "autorange": "reversed",
         "constrain": "domain",
         "domain": [
          0,
          1
         ],
         "title": {
          "text": "session 2"
         }
        }
       }
      }
     },
     "metadata": {},
     "output_type": "display_data"
    },
    {
     "data": {
      "application/vnd.plotly.v1+json": {
       "config": {
        "plotlyServerURL": "https://plot.ly"
       },
       "data": [
        {
         "coloraxis": "coloraxis",
         "hovertemplate": "session 1: %{x}<br>session 2: %{y}<br>p-value of difference real vs. random: %{z}<extra></extra>",
         "name": "0",
         "type": "heatmap",
         "x": [
          "postop",
          "fu3m",
          "fu12m",
          "fu18m"
         ],
         "xaxis": "x",
         "y": [
          "postop",
          "fu3m",
          "fu12m",
          "fu18m"
         ],
         "yaxis": "y",
         "z": [
          [
           5e-15,
           0.000032672441473,
           0.000013149501053,
           0.178365272216677
          ],
          [
           0.000017123745422,
           0,
           2.7704067e-8,
           0.000268038751697
          ],
          [
           0.000011073685307,
           3.6825593e-8,
           0,
           0.000122484012023
          ],
          [
           0.193852733003529,
           0.000255063492383,
           0.000190888619101,
           4.832255e-9
          ]
         ]
        }
       ],
       "layout": {
        "coloraxis": {
         "colorbar": {
          "title": {
           "text": "p-value of difference real vs. random"
          }
         },
         "colorscale": [
          [
           0,
           "#0d0887"
          ],
          [
           0.1111111111111111,
           "#46039f"
          ],
          [
           0.2222222222222222,
           "#7201a8"
          ],
          [
           0.3333333333333333,
           "#9c179e"
          ],
          [
           0.4444444444444444,
           "#bd3786"
          ],
          [
           0.5555555555555556,
           "#d8576b"
          ],
          [
           0.6666666666666666,
           "#ed7953"
          ],
          [
           0.7777777777777778,
           "#fb9f3a"
          ],
          [
           0.8888888888888888,
           "#fdca26"
          ],
          [
           1,
           "#f0f921"
          ]
         ]
        },
        "template": {
         "data": {
          "bar": [
           {
            "error_x": {
             "color": "#2a3f5f"
            },
            "error_y": {
             "color": "#2a3f5f"
            },
            "marker": {
             "line": {
              "color": "#E5ECF6",
              "width": 0.5
             },
             "pattern": {
              "fillmode": "overlay",
              "size": 10,
              "solidity": 0.2
             }
            },
            "type": "bar"
           }
          ],
          "barpolar": [
           {
            "marker": {
             "line": {
              "color": "#E5ECF6",
              "width": 0.5
             },
             "pattern": {
              "fillmode": "overlay",
              "size": 10,
              "solidity": 0.2
             }
            },
            "type": "barpolar"
           }
          ],
          "carpet": [
           {
            "aaxis": {
             "endlinecolor": "#2a3f5f",
             "gridcolor": "white",
             "linecolor": "white",
             "minorgridcolor": "white",
             "startlinecolor": "#2a3f5f"
            },
            "baxis": {
             "endlinecolor": "#2a3f5f",
             "gridcolor": "white",
             "linecolor": "white",
             "minorgridcolor": "white",
             "startlinecolor": "#2a3f5f"
            },
            "type": "carpet"
           }
          ],
          "choropleth": [
           {
            "colorbar": {
             "outlinewidth": 0,
             "ticks": ""
            },
            "type": "choropleth"
           }
          ],
          "contour": [
           {
            "colorbar": {
             "outlinewidth": 0,
             "ticks": ""
            },
            "colorscale": [
             [
              0,
              "#0d0887"
             ],
             [
              0.1111111111111111,
              "#46039f"
             ],
             [
              0.2222222222222222,
              "#7201a8"
             ],
             [
              0.3333333333333333,
              "#9c179e"
             ],
             [
              0.4444444444444444,
              "#bd3786"
             ],
             [
              0.5555555555555556,
              "#d8576b"
             ],
             [
              0.6666666666666666,
              "#ed7953"
             ],
             [
              0.7777777777777778,
              "#fb9f3a"
             ],
             [
              0.8888888888888888,
              "#fdca26"
             ],
             [
              1,
              "#f0f921"
             ]
            ],
            "type": "contour"
           }
          ],
          "contourcarpet": [
           {
            "colorbar": {
             "outlinewidth": 0,
             "ticks": ""
            },
            "type": "contourcarpet"
           }
          ],
          "heatmap": [
           {
            "colorbar": {
             "outlinewidth": 0,
             "ticks": ""
            },
            "colorscale": [
             [
              0,
              "#0d0887"
             ],
             [
              0.1111111111111111,
              "#46039f"
             ],
             [
              0.2222222222222222,
              "#7201a8"
             ],
             [
              0.3333333333333333,
              "#9c179e"
             ],
             [
              0.4444444444444444,
              "#bd3786"
             ],
             [
              0.5555555555555556,
              "#d8576b"
             ],
             [
              0.6666666666666666,
              "#ed7953"
             ],
             [
              0.7777777777777778,
              "#fb9f3a"
             ],
             [
              0.8888888888888888,
              "#fdca26"
             ],
             [
              1,
              "#f0f921"
             ]
            ],
            "type": "heatmap"
           }
          ],
          "heatmapgl": [
           {
            "colorbar": {
             "outlinewidth": 0,
             "ticks": ""
            },
            "colorscale": [
             [
              0,
              "#0d0887"
             ],
             [
              0.1111111111111111,
              "#46039f"
             ],
             [
              0.2222222222222222,
              "#7201a8"
             ],
             [
              0.3333333333333333,
              "#9c179e"
             ],
             [
              0.4444444444444444,
              "#bd3786"
             ],
             [
              0.5555555555555556,
              "#d8576b"
             ],
             [
              0.6666666666666666,
              "#ed7953"
             ],
             [
              0.7777777777777778,
              "#fb9f3a"
             ],
             [
              0.8888888888888888,
              "#fdca26"
             ],
             [
              1,
              "#f0f921"
             ]
            ],
            "type": "heatmapgl"
           }
          ],
          "histogram": [
           {
            "marker": {
             "pattern": {
              "fillmode": "overlay",
              "size": 10,
              "solidity": 0.2
             }
            },
            "type": "histogram"
           }
          ],
          "histogram2d": [
           {
            "colorbar": {
             "outlinewidth": 0,
             "ticks": ""
            },
            "colorscale": [
             [
              0,
              "#0d0887"
             ],
             [
              0.1111111111111111,
              "#46039f"
             ],
             [
              0.2222222222222222,
              "#7201a8"
             ],
             [
              0.3333333333333333,
              "#9c179e"
             ],
             [
              0.4444444444444444,
              "#bd3786"
             ],
             [
              0.5555555555555556,
              "#d8576b"
             ],
             [
              0.6666666666666666,
              "#ed7953"
             ],
             [
              0.7777777777777778,
              "#fb9f3a"
             ],
             [
              0.8888888888888888,
              "#fdca26"
             ],
             [
              1,
              "#f0f921"
             ]
            ],
            "type": "histogram2d"
           }
          ],
          "histogram2dcontour": [
           {
            "colorbar": {
             "outlinewidth": 0,
             "ticks": ""
            },
            "colorscale": [
             [
              0,
              "#0d0887"
             ],
             [
              0.1111111111111111,
              "#46039f"
             ],
             [
              0.2222222222222222,
              "#7201a8"
             ],
             [
              0.3333333333333333,
              "#9c179e"
             ],
             [
              0.4444444444444444,
              "#bd3786"
             ],
             [
              0.5555555555555556,
              "#d8576b"
             ],
             [
              0.6666666666666666,
              "#ed7953"
             ],
             [
              0.7777777777777778,
              "#fb9f3a"
             ],
             [
              0.8888888888888888,
              "#fdca26"
             ],
             [
              1,
              "#f0f921"
             ]
            ],
            "type": "histogram2dcontour"
           }
          ],
          "mesh3d": [
           {
            "colorbar": {
             "outlinewidth": 0,
             "ticks": ""
            },
            "type": "mesh3d"
           }
          ],
          "parcoords": [
           {
            "line": {
             "colorbar": {
              "outlinewidth": 0,
              "ticks": ""
             }
            },
            "type": "parcoords"
           }
          ],
          "pie": [
           {
            "automargin": true,
            "type": "pie"
           }
          ],
          "scatter": [
           {
            "fillpattern": {
             "fillmode": "overlay",
             "size": 10,
             "solidity": 0.2
            },
            "type": "scatter"
           }
          ],
          "scatter3d": [
           {
            "line": {
             "colorbar": {
              "outlinewidth": 0,
              "ticks": ""
             }
            },
            "marker": {
             "colorbar": {
              "outlinewidth": 0,
              "ticks": ""
             }
            },
            "type": "scatter3d"
           }
          ],
          "scattercarpet": [
           {
            "marker": {
             "colorbar": {
              "outlinewidth": 0,
              "ticks": ""
             }
            },
            "type": "scattercarpet"
           }
          ],
          "scattergeo": [
           {
            "marker": {
             "colorbar": {
              "outlinewidth": 0,
              "ticks": ""
             }
            },
            "type": "scattergeo"
           }
          ],
          "scattergl": [
           {
            "marker": {
             "colorbar": {
              "outlinewidth": 0,
              "ticks": ""
             }
            },
            "type": "scattergl"
           }
          ],
          "scattermapbox": [
           {
            "marker": {
             "colorbar": {
              "outlinewidth": 0,
              "ticks": ""
             }
            },
            "type": "scattermapbox"
           }
          ],
          "scatterpolar": [
           {
            "marker": {
             "colorbar": {
              "outlinewidth": 0,
              "ticks": ""
             }
            },
            "type": "scatterpolar"
           }
          ],
          "scatterpolargl": [
           {
            "marker": {
             "colorbar": {
              "outlinewidth": 0,
              "ticks": ""
             }
            },
            "type": "scatterpolargl"
           }
          ],
          "scatterternary": [
           {
            "marker": {
             "colorbar": {
              "outlinewidth": 0,
              "ticks": ""
             }
            },
            "type": "scatterternary"
           }
          ],
          "surface": [
           {
            "colorbar": {
             "outlinewidth": 0,
             "ticks": ""
            },
            "colorscale": [
             [
              0,
              "#0d0887"
             ],
             [
              0.1111111111111111,
              "#46039f"
             ],
             [
              0.2222222222222222,
              "#7201a8"
             ],
             [
              0.3333333333333333,
              "#9c179e"
             ],
             [
              0.4444444444444444,
              "#bd3786"
             ],
             [
              0.5555555555555556,
              "#d8576b"
             ],
             [
              0.6666666666666666,
              "#ed7953"
             ],
             [
              0.7777777777777778,
              "#fb9f3a"
             ],
             [
              0.8888888888888888,
              "#fdca26"
             ],
             [
              1,
              "#f0f921"
             ]
            ],
            "type": "surface"
           }
          ],
          "table": [
           {
            "cells": {
             "fill": {
              "color": "#EBF0F8"
             },
             "line": {
              "color": "white"
             }
            },
            "header": {
             "fill": {
              "color": "#C8D4E3"
             },
             "line": {
              "color": "white"
             }
            },
            "type": "table"
           }
          ]
         },
         "layout": {
          "annotationdefaults": {
           "arrowcolor": "#2a3f5f",
           "arrowhead": 0,
           "arrowwidth": 1
          },
          "autotypenumbers": "strict",
          "coloraxis": {
           "colorbar": {
            "outlinewidth": 0,
            "ticks": ""
           }
          },
          "colorscale": {
           "diverging": [
            [
             0,
             "#8e0152"
            ],
            [
             0.1,
             "#c51b7d"
            ],
            [
             0.2,
             "#de77ae"
            ],
            [
             0.3,
             "#f1b6da"
            ],
            [
             0.4,
             "#fde0ef"
            ],
            [
             0.5,
             "#f7f7f7"
            ],
            [
             0.6,
             "#e6f5d0"
            ],
            [
             0.7,
             "#b8e186"
            ],
            [
             0.8,
             "#7fbc41"
            ],
            [
             0.9,
             "#4d9221"
            ],
            [
             1,
             "#276419"
            ]
           ],
           "sequential": [
            [
             0,
             "#0d0887"
            ],
            [
             0.1111111111111111,
             "#46039f"
            ],
            [
             0.2222222222222222,
             "#7201a8"
            ],
            [
             0.3333333333333333,
             "#9c179e"
            ],
            [
             0.4444444444444444,
             "#bd3786"
            ],
            [
             0.5555555555555556,
             "#d8576b"
            ],
            [
             0.6666666666666666,
             "#ed7953"
            ],
            [
             0.7777777777777778,
             "#fb9f3a"
            ],
            [
             0.8888888888888888,
             "#fdca26"
            ],
            [
             1,
             "#f0f921"
            ]
           ],
           "sequentialminus": [
            [
             0,
             "#0d0887"
            ],
            [
             0.1111111111111111,
             "#46039f"
            ],
            [
             0.2222222222222222,
             "#7201a8"
            ],
            [
             0.3333333333333333,
             "#9c179e"
            ],
            [
             0.4444444444444444,
             "#bd3786"
            ],
            [
             0.5555555555555556,
             "#d8576b"
            ],
            [
             0.6666666666666666,
             "#ed7953"
            ],
            [
             0.7777777777777778,
             "#fb9f3a"
            ],
            [
             0.8888888888888888,
             "#fdca26"
            ],
            [
             1,
             "#f0f921"
            ]
           ]
          },
          "colorway": [
           "#636efa",
           "#EF553B",
           "#00cc96",
           "#ab63fa",
           "#FFA15A",
           "#19d3f3",
           "#FF6692",
           "#B6E880",
           "#FF97FF",
           "#FECB52"
          ],
          "font": {
           "color": "#2a3f5f"
          },
          "geo": {
           "bgcolor": "white",
           "lakecolor": "white",
           "landcolor": "#E5ECF6",
           "showlakes": true,
           "showland": true,
           "subunitcolor": "white"
          },
          "hoverlabel": {
           "align": "left"
          },
          "hovermode": "closest",
          "mapbox": {
           "style": "light"
          },
          "paper_bgcolor": "white",
          "plot_bgcolor": "#E5ECF6",
          "polar": {
           "angularaxis": {
            "gridcolor": "white",
            "linecolor": "white",
            "ticks": ""
           },
           "bgcolor": "#E5ECF6",
           "radialaxis": {
            "gridcolor": "white",
            "linecolor": "white",
            "ticks": ""
           }
          },
          "scene": {
           "xaxis": {
            "backgroundcolor": "#E5ECF6",
            "gridcolor": "white",
            "gridwidth": 2,
            "linecolor": "white",
            "showbackground": true,
            "ticks": "",
            "zerolinecolor": "white"
           },
           "yaxis": {
            "backgroundcolor": "#E5ECF6",
            "gridcolor": "white",
            "gridwidth": 2,
            "linecolor": "white",
            "showbackground": true,
            "ticks": "",
            "zerolinecolor": "white"
           },
           "zaxis": {
            "backgroundcolor": "#E5ECF6",
            "gridcolor": "white",
            "gridwidth": 2,
            "linecolor": "white",
            "showbackground": true,
            "ticks": "",
            "zerolinecolor": "white"
           }
          },
          "shapedefaults": {
           "line": {
            "color": "#2a3f5f"
           }
          },
          "ternary": {
           "aaxis": {
            "gridcolor": "white",
            "linecolor": "white",
            "ticks": ""
           },
           "baxis": {
            "gridcolor": "white",
            "linecolor": "white",
            "ticks": ""
           },
           "bgcolor": "#E5ECF6",
           "caxis": {
            "gridcolor": "white",
            "linecolor": "white",
            "ticks": ""
           }
          },
          "title": {
           "x": 0.05
          },
          "xaxis": {
           "automargin": true,
           "gridcolor": "white",
           "linecolor": "white",
           "ticks": "",
           "title": {
            "standoff": 15
           },
           "zerolinecolor": "white",
           "zerolinewidth": 2
          },
          "yaxis": {
           "automargin": true,
           "gridcolor": "white",
           "linecolor": "white",
           "ticks": "",
           "title": {
            "standoff": 15
           },
           "zerolinecolor": "white",
           "zerolinewidth": 2
          }
         }
        },
        "title": {
         "text": "SegmInter channel group, p-values highBeta power ranks",
         "x": 0.5,
         "xanchor": "center",
         "y": 0.98,
         "yanchor": "top"
        },
        "xaxis": {
         "anchor": "y",
         "constrain": "domain",
         "domain": [
          0,
          1
         ],
         "scaleanchor": "y",
         "side": "top",
         "title": {
          "text": "session 1"
         }
        },
        "yaxis": {
         "anchor": "x",
         "autorange": "reversed",
         "constrain": "domain",
         "domain": [
          0,
          1
         ],
         "title": {
          "text": "session 2"
         }
        }
       }
      }
     },
     "metadata": {},
     "output_type": "display_data"
    },
    {
     "data": {
      "application/vnd.plotly.v1+json": {
       "config": {
        "plotlyServerURL": "https://plot.ly"
       },
       "data": [
        {
         "coloraxis": "coloraxis",
         "hovertemplate": "session 1: %{x}<br>session 2: %{y}<br>p-value of difference real vs. random: %{z}<extra></extra>",
         "name": "0",
         "type": "heatmap",
         "x": [
          "postop",
          "fu3m",
          "fu12m",
          "fu18m"
         ],
         "xaxis": "x",
         "y": [
          "postop",
          "fu3m",
          "fu12m",
          "fu18m"
         ],
         "yaxis": "y",
         "z": [
          [
           0,
           0.00359025134945,
           0.010668781973094,
           0.450660822958449
          ],
          [
           0.004502218247056,
           0,
           2.108e-12,
           5.08041796e-7
          ],
          [
           0.006866317618692,
           2.63e-13,
           0,
           3.8e-14
          ],
          [
           0.454786444316319,
           4.41727382e-7,
           2e-14,
           0
          ]
         ]
        }
       ],
       "layout": {
        "coloraxis": {
         "colorbar": {
          "title": {
           "text": "p-value of difference real vs. random"
          }
         },
         "colorscale": [
          [
           0,
           "#0d0887"
          ],
          [
           0.1111111111111111,
           "#46039f"
          ],
          [
           0.2222222222222222,
           "#7201a8"
          ],
          [
           0.3333333333333333,
           "#9c179e"
          ],
          [
           0.4444444444444444,
           "#bd3786"
          ],
          [
           0.5555555555555556,
           "#d8576b"
          ],
          [
           0.6666666666666666,
           "#ed7953"
          ],
          [
           0.7777777777777778,
           "#fb9f3a"
          ],
          [
           0.8888888888888888,
           "#fdca26"
          ],
          [
           1,
           "#f0f921"
          ]
         ]
        },
        "template": {
         "data": {
          "bar": [
           {
            "error_x": {
             "color": "#2a3f5f"
            },
            "error_y": {
             "color": "#2a3f5f"
            },
            "marker": {
             "line": {
              "color": "#E5ECF6",
              "width": 0.5
             },
             "pattern": {
              "fillmode": "overlay",
              "size": 10,
              "solidity": 0.2
             }
            },
            "type": "bar"
           }
          ],
          "barpolar": [
           {
            "marker": {
             "line": {
              "color": "#E5ECF6",
              "width": 0.5
             },
             "pattern": {
              "fillmode": "overlay",
              "size": 10,
              "solidity": 0.2
             }
            },
            "type": "barpolar"
           }
          ],
          "carpet": [
           {
            "aaxis": {
             "endlinecolor": "#2a3f5f",
             "gridcolor": "white",
             "linecolor": "white",
             "minorgridcolor": "white",
             "startlinecolor": "#2a3f5f"
            },
            "baxis": {
             "endlinecolor": "#2a3f5f",
             "gridcolor": "white",
             "linecolor": "white",
             "minorgridcolor": "white",
             "startlinecolor": "#2a3f5f"
            },
            "type": "carpet"
           }
          ],
          "choropleth": [
           {
            "colorbar": {
             "outlinewidth": 0,
             "ticks": ""
            },
            "type": "choropleth"
           }
          ],
          "contour": [
           {
            "colorbar": {
             "outlinewidth": 0,
             "ticks": ""
            },
            "colorscale": [
             [
              0,
              "#0d0887"
             ],
             [
              0.1111111111111111,
              "#46039f"
             ],
             [
              0.2222222222222222,
              "#7201a8"
             ],
             [
              0.3333333333333333,
              "#9c179e"
             ],
             [
              0.4444444444444444,
              "#bd3786"
             ],
             [
              0.5555555555555556,
              "#d8576b"
             ],
             [
              0.6666666666666666,
              "#ed7953"
             ],
             [
              0.7777777777777778,
              "#fb9f3a"
             ],
             [
              0.8888888888888888,
              "#fdca26"
             ],
             [
              1,
              "#f0f921"
             ]
            ],
            "type": "contour"
           }
          ],
          "contourcarpet": [
           {
            "colorbar": {
             "outlinewidth": 0,
             "ticks": ""
            },
            "type": "contourcarpet"
           }
          ],
          "heatmap": [
           {
            "colorbar": {
             "outlinewidth": 0,
             "ticks": ""
            },
            "colorscale": [
             [
              0,
              "#0d0887"
             ],
             [
              0.1111111111111111,
              "#46039f"
             ],
             [
              0.2222222222222222,
              "#7201a8"
             ],
             [
              0.3333333333333333,
              "#9c179e"
             ],
             [
              0.4444444444444444,
              "#bd3786"
             ],
             [
              0.5555555555555556,
              "#d8576b"
             ],
             [
              0.6666666666666666,
              "#ed7953"
             ],
             [
              0.7777777777777778,
              "#fb9f3a"
             ],
             [
              0.8888888888888888,
              "#fdca26"
             ],
             [
              1,
              "#f0f921"
             ]
            ],
            "type": "heatmap"
           }
          ],
          "heatmapgl": [
           {
            "colorbar": {
             "outlinewidth": 0,
             "ticks": ""
            },
            "colorscale": [
             [
              0,
              "#0d0887"
             ],
             [
              0.1111111111111111,
              "#46039f"
             ],
             [
              0.2222222222222222,
              "#7201a8"
             ],
             [
              0.3333333333333333,
              "#9c179e"
             ],
             [
              0.4444444444444444,
              "#bd3786"
             ],
             [
              0.5555555555555556,
              "#d8576b"
             ],
             [
              0.6666666666666666,
              "#ed7953"
             ],
             [
              0.7777777777777778,
              "#fb9f3a"
             ],
             [
              0.8888888888888888,
              "#fdca26"
             ],
             [
              1,
              "#f0f921"
             ]
            ],
            "type": "heatmapgl"
           }
          ],
          "histogram": [
           {
            "marker": {
             "pattern": {
              "fillmode": "overlay",
              "size": 10,
              "solidity": 0.2
             }
            },
            "type": "histogram"
           }
          ],
          "histogram2d": [
           {
            "colorbar": {
             "outlinewidth": 0,
             "ticks": ""
            },
            "colorscale": [
             [
              0,
              "#0d0887"
             ],
             [
              0.1111111111111111,
              "#46039f"
             ],
             [
              0.2222222222222222,
              "#7201a8"
             ],
             [
              0.3333333333333333,
              "#9c179e"
             ],
             [
              0.4444444444444444,
              "#bd3786"
             ],
             [
              0.5555555555555556,
              "#d8576b"
             ],
             [
              0.6666666666666666,
              "#ed7953"
             ],
             [
              0.7777777777777778,
              "#fb9f3a"
             ],
             [
              0.8888888888888888,
              "#fdca26"
             ],
             [
              1,
              "#f0f921"
             ]
            ],
            "type": "histogram2d"
           }
          ],
          "histogram2dcontour": [
           {
            "colorbar": {
             "outlinewidth": 0,
             "ticks": ""
            },
            "colorscale": [
             [
              0,
              "#0d0887"
             ],
             [
              0.1111111111111111,
              "#46039f"
             ],
             [
              0.2222222222222222,
              "#7201a8"
             ],
             [
              0.3333333333333333,
              "#9c179e"
             ],
             [
              0.4444444444444444,
              "#bd3786"
             ],
             [
              0.5555555555555556,
              "#d8576b"
             ],
             [
              0.6666666666666666,
              "#ed7953"
             ],
             [
              0.7777777777777778,
              "#fb9f3a"
             ],
             [
              0.8888888888888888,
              "#fdca26"
             ],
             [
              1,
              "#f0f921"
             ]
            ],
            "type": "histogram2dcontour"
           }
          ],
          "mesh3d": [
           {
            "colorbar": {
             "outlinewidth": 0,
             "ticks": ""
            },
            "type": "mesh3d"
           }
          ],
          "parcoords": [
           {
            "line": {
             "colorbar": {
              "outlinewidth": 0,
              "ticks": ""
             }
            },
            "type": "parcoords"
           }
          ],
          "pie": [
           {
            "automargin": true,
            "type": "pie"
           }
          ],
          "scatter": [
           {
            "fillpattern": {
             "fillmode": "overlay",
             "size": 10,
             "solidity": 0.2
            },
            "type": "scatter"
           }
          ],
          "scatter3d": [
           {
            "line": {
             "colorbar": {
              "outlinewidth": 0,
              "ticks": ""
             }
            },
            "marker": {
             "colorbar": {
              "outlinewidth": 0,
              "ticks": ""
             }
            },
            "type": "scatter3d"
           }
          ],
          "scattercarpet": [
           {
            "marker": {
             "colorbar": {
              "outlinewidth": 0,
              "ticks": ""
             }
            },
            "type": "scattercarpet"
           }
          ],
          "scattergeo": [
           {
            "marker": {
             "colorbar": {
              "outlinewidth": 0,
              "ticks": ""
             }
            },
            "type": "scattergeo"
           }
          ],
          "scattergl": [
           {
            "marker": {
             "colorbar": {
              "outlinewidth": 0,
              "ticks": ""
             }
            },
            "type": "scattergl"
           }
          ],
          "scattermapbox": [
           {
            "marker": {
             "colorbar": {
              "outlinewidth": 0,
              "ticks": ""
             }
            },
            "type": "scattermapbox"
           }
          ],
          "scatterpolar": [
           {
            "marker": {
             "colorbar": {
              "outlinewidth": 0,
              "ticks": ""
             }
            },
            "type": "scatterpolar"
           }
          ],
          "scatterpolargl": [
           {
            "marker": {
             "colorbar": {
              "outlinewidth": 0,
              "ticks": ""
             }
            },
            "type": "scatterpolargl"
           }
          ],
          "scatterternary": [
           {
            "marker": {
             "colorbar": {
              "outlinewidth": 0,
              "ticks": ""
             }
            },
            "type": "scatterternary"
           }
          ],
          "surface": [
           {
            "colorbar": {
             "outlinewidth": 0,
             "ticks": ""
            },
            "colorscale": [
             [
              0,
              "#0d0887"
             ],
             [
              0.1111111111111111,
              "#46039f"
             ],
             [
              0.2222222222222222,
              "#7201a8"
             ],
             [
              0.3333333333333333,
              "#9c179e"
             ],
             [
              0.4444444444444444,
              "#bd3786"
             ],
             [
              0.5555555555555556,
              "#d8576b"
             ],
             [
              0.6666666666666666,
              "#ed7953"
             ],
             [
              0.7777777777777778,
              "#fb9f3a"
             ],
             [
              0.8888888888888888,
              "#fdca26"
             ],
             [
              1,
              "#f0f921"
             ]
            ],
            "type": "surface"
           }
          ],
          "table": [
           {
            "cells": {
             "fill": {
              "color": "#EBF0F8"
             },
             "line": {
              "color": "white"
             }
            },
            "header": {
             "fill": {
              "color": "#C8D4E3"
             },
             "line": {
              "color": "white"
             }
            },
            "type": "table"
           }
          ]
         },
         "layout": {
          "annotationdefaults": {
           "arrowcolor": "#2a3f5f",
           "arrowhead": 0,
           "arrowwidth": 1
          },
          "autotypenumbers": "strict",
          "coloraxis": {
           "colorbar": {
            "outlinewidth": 0,
            "ticks": ""
           }
          },
          "colorscale": {
           "diverging": [
            [
             0,
             "#8e0152"
            ],
            [
             0.1,
             "#c51b7d"
            ],
            [
             0.2,
             "#de77ae"
            ],
            [
             0.3,
             "#f1b6da"
            ],
            [
             0.4,
             "#fde0ef"
            ],
            [
             0.5,
             "#f7f7f7"
            ],
            [
             0.6,
             "#e6f5d0"
            ],
            [
             0.7,
             "#b8e186"
            ],
            [
             0.8,
             "#7fbc41"
            ],
            [
             0.9,
             "#4d9221"
            ],
            [
             1,
             "#276419"
            ]
           ],
           "sequential": [
            [
             0,
             "#0d0887"
            ],
            [
             0.1111111111111111,
             "#46039f"
            ],
            [
             0.2222222222222222,
             "#7201a8"
            ],
            [
             0.3333333333333333,
             "#9c179e"
            ],
            [
             0.4444444444444444,
             "#bd3786"
            ],
            [
             0.5555555555555556,
             "#d8576b"
            ],
            [
             0.6666666666666666,
             "#ed7953"
            ],
            [
             0.7777777777777778,
             "#fb9f3a"
            ],
            [
             0.8888888888888888,
             "#fdca26"
            ],
            [
             1,
             "#f0f921"
            ]
           ],
           "sequentialminus": [
            [
             0,
             "#0d0887"
            ],
            [
             0.1111111111111111,
             "#46039f"
            ],
            [
             0.2222222222222222,
             "#7201a8"
            ],
            [
             0.3333333333333333,
             "#9c179e"
            ],
            [
             0.4444444444444444,
             "#bd3786"
            ],
            [
             0.5555555555555556,
             "#d8576b"
            ],
            [
             0.6666666666666666,
             "#ed7953"
            ],
            [
             0.7777777777777778,
             "#fb9f3a"
            ],
            [
             0.8888888888888888,
             "#fdca26"
            ],
            [
             1,
             "#f0f921"
            ]
           ]
          },
          "colorway": [
           "#636efa",
           "#EF553B",
           "#00cc96",
           "#ab63fa",
           "#FFA15A",
           "#19d3f3",
           "#FF6692",
           "#B6E880",
           "#FF97FF",
           "#FECB52"
          ],
          "font": {
           "color": "#2a3f5f"
          },
          "geo": {
           "bgcolor": "white",
           "lakecolor": "white",
           "landcolor": "#E5ECF6",
           "showlakes": true,
           "showland": true,
           "subunitcolor": "white"
          },
          "hoverlabel": {
           "align": "left"
          },
          "hovermode": "closest",
          "mapbox": {
           "style": "light"
          },
          "paper_bgcolor": "white",
          "plot_bgcolor": "#E5ECF6",
          "polar": {
           "angularaxis": {
            "gridcolor": "white",
            "linecolor": "white",
            "ticks": ""
           },
           "bgcolor": "#E5ECF6",
           "radialaxis": {
            "gridcolor": "white",
            "linecolor": "white",
            "ticks": ""
           }
          },
          "scene": {
           "xaxis": {
            "backgroundcolor": "#E5ECF6",
            "gridcolor": "white",
            "gridwidth": 2,
            "linecolor": "white",
            "showbackground": true,
            "ticks": "",
            "zerolinecolor": "white"
           },
           "yaxis": {
            "backgroundcolor": "#E5ECF6",
            "gridcolor": "white",
            "gridwidth": 2,
            "linecolor": "white",
            "showbackground": true,
            "ticks": "",
            "zerolinecolor": "white"
           },
           "zaxis": {
            "backgroundcolor": "#E5ECF6",
            "gridcolor": "white",
            "gridwidth": 2,
            "linecolor": "white",
            "showbackground": true,
            "ticks": "",
            "zerolinecolor": "white"
           }
          },
          "shapedefaults": {
           "line": {
            "color": "#2a3f5f"
           }
          },
          "ternary": {
           "aaxis": {
            "gridcolor": "white",
            "linecolor": "white",
            "ticks": ""
           },
           "baxis": {
            "gridcolor": "white",
            "linecolor": "white",
            "ticks": ""
           },
           "bgcolor": "#E5ECF6",
           "caxis": {
            "gridcolor": "white",
            "linecolor": "white",
            "ticks": ""
           }
          },
          "title": {
           "x": 0.05
          },
          "xaxis": {
           "automargin": true,
           "gridcolor": "white",
           "linecolor": "white",
           "ticks": "",
           "title": {
            "standoff": 15
           },
           "zerolinecolor": "white",
           "zerolinewidth": 2
          },
          "yaxis": {
           "automargin": true,
           "gridcolor": "white",
           "linecolor": "white",
           "ticks": "",
           "title": {
            "standoff": 15
           },
           "zerolinecolor": "white",
           "zerolinewidth": 2
          }
         }
        },
        "title": {
         "text": "SegmIntra channel group, p-values highBeta power ranks",
         "x": 0.5,
         "xanchor": "center",
         "y": 0.98,
         "yanchor": "top"
        },
        "xaxis": {
         "anchor": "y",
         "constrain": "domain",
         "domain": [
          0,
          1
         ],
         "scaleanchor": "y",
         "side": "top",
         "title": {
          "text": "session 1"
         }
        },
        "yaxis": {
         "anchor": "x",
         "autorange": "reversed",
         "constrain": "domain",
         "domain": [
          0,
          1
         ],
         "title": {
          "text": "session 2"
         }
        }
       }
      }
     },
     "metadata": {},
     "output_type": "display_data"
    }
   ],
   "source": [
    "heatmap_permutation_distances = Permute_ranks.heatmap_distances_to_permutated_mean(\n",
    "    data2permute=\"psdAverage\",\n",
    "    filterSignal=\"band-pass\",\n",
    "    normalization=\"rawPsd\",\n",
    "    freqBand=\"highBeta\"\n",
    ")"
   ]
  },
  {
   "cell_type": "code",
   "execution_count": 20,
   "metadata": {},
   "outputs": [],
   "source": [
    "permutation_results = loadResults.load_BIPpermutation_ranks_result(\n",
    "    data2permute=\"psdAverage\",\n",
    "    filterSignal=\"band-pass\",\n",
    "    normalization=\"rawPsd\",\n",
    "    freqBand=\"beta\"\n",
    ")"
   ]
  },
  {
   "cell_type": "code",
   "execution_count": 21,
   "metadata": {},
   "outputs": [
    {
     "data": {
      "text/html": [
       "<div>\n",
       "<style scoped>\n",
       "    .dataframe tbody tr th:only-of-type {\n",
       "        vertical-align: middle;\n",
       "    }\n",
       "\n",
       "    .dataframe tbody tr th {\n",
       "        vertical-align: top;\n",
       "    }\n",
       "\n",
       "    .dataframe thead th {\n",
       "        text-align: right;\n",
       "    }\n",
       "</style>\n",
       "<table border=\"1\" class=\"dataframe\">\n",
       "  <thead>\n",
       "    <tr style=\"text-align: right;\">\n",
       "      <th></th>\n",
       "      <th>comparison</th>\n",
       "      <th>channelGroup</th>\n",
       "      <th>MEAN_differenceOfRanks</th>\n",
       "      <th>distanceMEANreal_MEANrandom</th>\n",
       "      <th>p-value</th>\n",
       "    </tr>\n",
       "  </thead>\n",
       "  <tbody>\n",
       "    <tr>\n",
       "      <th>Postop_Postop_Ring</th>\n",
       "      <td>Postop_Postop</td>\n",
       "      <td>Ring</td>\n",
       "      <td>0.0</td>\n",
       "      <td>-5.560814</td>\n",
       "      <td>0.000000013425985</td>\n",
       "    </tr>\n",
       "    <tr>\n",
       "      <th>Postop_Postop_SegmInter</th>\n",
       "      <td>Postop_Postop</td>\n",
       "      <td>SegmInter</td>\n",
       "      <td>0.0</td>\n",
       "      <td>-5.698809</td>\n",
       "      <td>0.000000006032364</td>\n",
       "    </tr>\n",
       "    <tr>\n",
       "      <th>Postop_Postop_SegmIntra</th>\n",
       "      <td>Postop_Postop</td>\n",
       "      <td>SegmIntra</td>\n",
       "      <td>0.0</td>\n",
       "      <td>-9.935757</td>\n",
       "      <td>0.000000000000000</td>\n",
       "    </tr>\n",
       "    <tr>\n",
       "      <th>Postop_Fu3m_Ring</th>\n",
       "      <td>Postop_Fu3m</td>\n",
       "      <td>Ring</td>\n",
       "      <td>0.533333</td>\n",
       "      <td>-2.151105</td>\n",
       "      <td>0.015733955976777</td>\n",
       "    </tr>\n",
       "    <tr>\n",
       "      <th>Postop_Fu3m_SegmInter</th>\n",
       "      <td>Postop_Fu3m</td>\n",
       "      <td>SegmInter</td>\n",
       "      <td>0.4</td>\n",
       "      <td>-3.280348</td>\n",
       "      <td>0.000518396075470</td>\n",
       "    </tr>\n",
       "    <tr>\n",
       "      <th>Postop_Fu3m_SegmIntra</th>\n",
       "      <td>Postop_Fu3m</td>\n",
       "      <td>SegmIntra</td>\n",
       "      <td>1.566667</td>\n",
       "      <td>-2.082225</td>\n",
       "      <td>0.018660957367470</td>\n",
       "    </tr>\n",
       "    <tr>\n",
       "      <th>Postop_Fu12m_Ring</th>\n",
       "      <td>Postop_Fu12m</td>\n",
       "      <td>Ring</td>\n",
       "      <td>0.733333</td>\n",
       "      <td>-0.962442</td>\n",
       "      <td>0.167913805683052</td>\n",
       "    </tr>\n",
       "    <tr>\n",
       "      <th>Postop_Fu12m_SegmInter</th>\n",
       "      <td>Postop_Fu12m</td>\n",
       "      <td>SegmInter</td>\n",
       "      <td>0.266667</td>\n",
       "      <td>-4.103181</td>\n",
       "      <td>0.000020375403819</td>\n",
       "    </tr>\n",
       "    <tr>\n",
       "      <th>Postop_Fu12m_SegmIntra</th>\n",
       "      <td>Postop_Fu12m</td>\n",
       "      <td>SegmIntra</td>\n",
       "      <td>1.633333</td>\n",
       "      <td>-1.717616</td>\n",
       "      <td>0.042933320921330</td>\n",
       "    </tr>\n",
       "    <tr>\n",
       "      <th>Postop_Fu18m_Ring</th>\n",
       "      <td>Postop_Fu18m</td>\n",
       "      <td>Ring</td>\n",
       "      <td>0.666667</td>\n",
       "      <td>-0.885872</td>\n",
       "      <td>0.187843123108600</td>\n",
       "    </tr>\n",
       "    <tr>\n",
       "      <th>Postop_Fu18m_SegmInter</th>\n",
       "      <td>Postop_Fu18m</td>\n",
       "      <td>SegmInter</td>\n",
       "      <td>0.5</td>\n",
       "      <td>-1.587865</td>\n",
       "      <td>0.056158474127934</td>\n",
       "    </tr>\n",
       "    <tr>\n",
       "      <th>Postop_Fu18m_SegmIntra</th>\n",
       "      <td>Postop_Fu18m</td>\n",
       "      <td>SegmIntra</td>\n",
       "      <td>1.666667</td>\n",
       "      <td>-0.932465</td>\n",
       "      <td>0.175548246157532</td>\n",
       "    </tr>\n",
       "    <tr>\n",
       "      <th>Fu3m_Postop_Ring</th>\n",
       "      <td>Fu3m_Postop</td>\n",
       "      <td>Ring</td>\n",
       "      <td>0.533333</td>\n",
       "      <td>-2.249092</td>\n",
       "      <td>0.012253337410862</td>\n",
       "    </tr>\n",
       "    <tr>\n",
       "      <th>Fu3m_Postop_SegmInter</th>\n",
       "      <td>Fu3m_Postop</td>\n",
       "      <td>SegmInter</td>\n",
       "      <td>0.4</td>\n",
       "      <td>-3.050062</td>\n",
       "      <td>0.001143970329758</td>\n",
       "    </tr>\n",
       "    <tr>\n",
       "      <th>Fu3m_Postop_SegmIntra</th>\n",
       "      <td>Fu3m_Postop</td>\n",
       "      <td>SegmIntra</td>\n",
       "      <td>1.566667</td>\n",
       "      <td>-2.012214</td>\n",
       "      <td>0.022098717529222</td>\n",
       "    </tr>\n",
       "    <tr>\n",
       "      <th>Fu3m_Fu3m_Ring</th>\n",
       "      <td>Fu3m_Fu3m</td>\n",
       "      <td>Ring</td>\n",
       "      <td>0.0</td>\n",
       "      <td>-7.757401</td>\n",
       "      <td>0.000000000000004</td>\n",
       "    </tr>\n",
       "    <tr>\n",
       "      <th>Fu3m_Fu3m_SegmInter</th>\n",
       "      <td>Fu3m_Fu3m</td>\n",
       "      <td>SegmInter</td>\n",
       "      <td>0.0</td>\n",
       "      <td>-7.418881</td>\n",
       "      <td>0.000000000000059</td>\n",
       "    </tr>\n",
       "    <tr>\n",
       "      <th>Fu3m_Fu3m_SegmIntra</th>\n",
       "      <td>Fu3m_Fu3m</td>\n",
       "      <td>SegmIntra</td>\n",
       "      <td>0.0</td>\n",
       "      <td>-14.186956</td>\n",
       "      <td>0.000000000000000</td>\n",
       "    </tr>\n",
       "    <tr>\n",
       "      <th>Fu3m_Fu12m_Ring</th>\n",
       "      <td>Fu3m_Fu12m</td>\n",
       "      <td>Ring</td>\n",
       "      <td>0.333333</td>\n",
       "      <td>-4.84638</td>\n",
       "      <td>0.000000628672037</td>\n",
       "    </tr>\n",
       "    <tr>\n",
       "      <th>Fu3m_Fu12m_SegmInter</th>\n",
       "      <td>Fu3m_Fu12m</td>\n",
       "      <td>SegmInter</td>\n",
       "      <td>0.222222</td>\n",
       "      <td>-5.638226</td>\n",
       "      <td>0.000000008590525</td>\n",
       "    </tr>\n",
       "    <tr>\n",
       "      <th>Fu3m_Fu12m_SegmIntra</th>\n",
       "      <td>Fu3m_Fu12m</td>\n",
       "      <td>SegmIntra</td>\n",
       "      <td>1.111111</td>\n",
       "      <td>-6.054736</td>\n",
       "      <td>0.000000000703239</td>\n",
       "    </tr>\n",
       "    <tr>\n",
       "      <th>Fu3m_Fu18m_Ring</th>\n",
       "      <td>Fu3m_Fu18m</td>\n",
       "      <td>Ring</td>\n",
       "      <td>0.2</td>\n",
       "      <td>-4.290937</td>\n",
       "      <td>0.000008896042248</td>\n",
       "    </tr>\n",
       "    <tr>\n",
       "      <th>Fu3m_Fu18m_SegmInter</th>\n",
       "      <td>Fu3m_Fu18m</td>\n",
       "      <td>SegmInter</td>\n",
       "      <td>0.2</td>\n",
       "      <td>-4.409129</td>\n",
       "      <td>0.000005189358934</td>\n",
       "    </tr>\n",
       "    <tr>\n",
       "      <th>Fu3m_Fu18m_SegmIntra</th>\n",
       "      <td>Fu3m_Fu18m</td>\n",
       "      <td>SegmIntra</td>\n",
       "      <td>1.266667</td>\n",
       "      <td>-3.704755</td>\n",
       "      <td>0.000105797636393</td>\n",
       "    </tr>\n",
       "    <tr>\n",
       "      <th>Fu12m_Postop_Ring</th>\n",
       "      <td>Fu12m_Postop</td>\n",
       "      <td>Ring</td>\n",
       "      <td>0.733333</td>\n",
       "      <td>-0.981638</td>\n",
       "      <td>0.163139217649000</td>\n",
       "    </tr>\n",
       "    <tr>\n",
       "      <th>Fu12m_Postop_SegmInter</th>\n",
       "      <td>Fu12m_Postop</td>\n",
       "      <td>SegmInter</td>\n",
       "      <td>0.266667</td>\n",
       "      <td>-4.093781</td>\n",
       "      <td>0.000021219745924</td>\n",
       "    </tr>\n",
       "    <tr>\n",
       "      <th>Fu12m_Postop_SegmIntra</th>\n",
       "      <td>Fu12m_Postop</td>\n",
       "      <td>SegmIntra</td>\n",
       "      <td>1.633333</td>\n",
       "      <td>-1.642248</td>\n",
       "      <td>0.050269271619798</td>\n",
       "    </tr>\n",
       "    <tr>\n",
       "      <th>Fu12m_Fu3m_Ring</th>\n",
       "      <td>Fu12m_Fu3m</td>\n",
       "      <td>Ring</td>\n",
       "      <td>0.333333</td>\n",
       "      <td>-4.820307</td>\n",
       "      <td>0.000000716688777</td>\n",
       "    </tr>\n",
       "    <tr>\n",
       "      <th>Fu12m_Fu3m_SegmInter</th>\n",
       "      <td>Fu12m_Fu3m</td>\n",
       "      <td>SegmInter</td>\n",
       "      <td>0.222222</td>\n",
       "      <td>-5.602156</td>\n",
       "      <td>0.000000010585086</td>\n",
       "    </tr>\n",
       "    <tr>\n",
       "      <th>Fu12m_Fu3m_SegmIntra</th>\n",
       "      <td>Fu12m_Fu3m</td>\n",
       "      <td>SegmIntra</td>\n",
       "      <td>1.111111</td>\n",
       "      <td>-6.112121</td>\n",
       "      <td>0.000000000491577</td>\n",
       "    </tr>\n",
       "    <tr>\n",
       "      <th>Fu12m_Fu12m_Ring</th>\n",
       "      <td>Fu12m_Fu12m</td>\n",
       "      <td>Ring</td>\n",
       "      <td>0.0</td>\n",
       "      <td>-7.613044</td>\n",
       "      <td>0.000000000000013</td>\n",
       "    </tr>\n",
       "    <tr>\n",
       "      <th>Fu12m_Fu12m_SegmInter</th>\n",
       "      <td>Fu12m_Fu12m</td>\n",
       "      <td>SegmInter</td>\n",
       "      <td>0.0</td>\n",
       "      <td>-7.331147</td>\n",
       "      <td>0.000000000000114</td>\n",
       "    </tr>\n",
       "    <tr>\n",
       "      <th>Fu12m_Fu12m_SegmIntra</th>\n",
       "      <td>Fu12m_Fu12m</td>\n",
       "      <td>SegmIntra</td>\n",
       "      <td>0.0</td>\n",
       "      <td>-14.563285</td>\n",
       "      <td>0.000000000000000</td>\n",
       "    </tr>\n",
       "    <tr>\n",
       "      <th>Fu12m_Fu18m_Ring</th>\n",
       "      <td>Fu12m_Fu18m</td>\n",
       "      <td>Ring</td>\n",
       "      <td>0.2</td>\n",
       "      <td>-4.386856</td>\n",
       "      <td>0.000005750032675</td>\n",
       "    </tr>\n",
       "    <tr>\n",
       "      <th>Fu12m_Fu18m_SegmInter</th>\n",
       "      <td>Fu12m_Fu18m</td>\n",
       "      <td>SegmInter</td>\n",
       "      <td>0.266667</td>\n",
       "      <td>-3.902671</td>\n",
       "      <td>0.000047568573134</td>\n",
       "    </tr>\n",
       "    <tr>\n",
       "      <th>Fu12m_Fu18m_SegmIntra</th>\n",
       "      <td>Fu12m_Fu18m</td>\n",
       "      <td>SegmIntra</td>\n",
       "      <td>0.9</td>\n",
       "      <td>-5.499538</td>\n",
       "      <td>0.000000019039379</td>\n",
       "    </tr>\n",
       "    <tr>\n",
       "      <th>Fu18m_Postop_Ring</th>\n",
       "      <td>Fu18m_Postop</td>\n",
       "      <td>Ring</td>\n",
       "      <td>0.666667</td>\n",
       "      <td>-0.914324</td>\n",
       "      <td>0.180273277868547</td>\n",
       "    </tr>\n",
       "    <tr>\n",
       "      <th>Fu18m_Postop_SegmInter</th>\n",
       "      <td>Fu18m_Postop</td>\n",
       "      <td>SegmInter</td>\n",
       "      <td>0.5</td>\n",
       "      <td>-1.45252</td>\n",
       "      <td>0.073178526824360</td>\n",
       "    </tr>\n",
       "    <tr>\n",
       "      <th>Fu18m_Postop_SegmIntra</th>\n",
       "      <td>Fu18m_Postop</td>\n",
       "      <td>SegmIntra</td>\n",
       "      <td>1.666667</td>\n",
       "      <td>-0.898399</td>\n",
       "      <td>0.184486409660498</td>\n",
       "    </tr>\n",
       "    <tr>\n",
       "      <th>Fu18m_Fu3m_Ring</th>\n",
       "      <td>Fu18m_Fu3m</td>\n",
       "      <td>Ring</td>\n",
       "      <td>0.2</td>\n",
       "      <td>-4.50298</td>\n",
       "      <td>0.000003350363270</td>\n",
       "    </tr>\n",
       "    <tr>\n",
       "      <th>Fu18m_Fu3m_SegmInter</th>\n",
       "      <td>Fu18m_Fu3m</td>\n",
       "      <td>SegmInter</td>\n",
       "      <td>0.2</td>\n",
       "      <td>-4.327392</td>\n",
       "      <td>0.000007544275783</td>\n",
       "    </tr>\n",
       "    <tr>\n",
       "      <th>Fu18m_Fu3m_SegmIntra</th>\n",
       "      <td>Fu18m_Fu3m</td>\n",
       "      <td>SegmIntra</td>\n",
       "      <td>1.266667</td>\n",
       "      <td>-3.767962</td>\n",
       "      <td>0.000082292746825</td>\n",
       "    </tr>\n",
       "    <tr>\n",
       "      <th>Fu18m_Fu12m_Ring</th>\n",
       "      <td>Fu18m_Fu12m</td>\n",
       "      <td>Ring</td>\n",
       "      <td>0.2</td>\n",
       "      <td>-4.383981</td>\n",
       "      <td>0.000005826495561</td>\n",
       "    </tr>\n",
       "    <tr>\n",
       "      <th>Fu18m_Fu12m_SegmInter</th>\n",
       "      <td>Fu18m_Fu12m</td>\n",
       "      <td>SegmInter</td>\n",
       "      <td>0.266667</td>\n",
       "      <td>-4.171207</td>\n",
       "      <td>0.000015149490833</td>\n",
       "    </tr>\n",
       "    <tr>\n",
       "      <th>Fu18m_Fu12m_SegmIntra</th>\n",
       "      <td>Fu18m_Fu12m</td>\n",
       "      <td>SegmIntra</td>\n",
       "      <td>0.9</td>\n",
       "      <td>-5.705277</td>\n",
       "      <td>0.000000005807685</td>\n",
       "    </tr>\n",
       "    <tr>\n",
       "      <th>Fu18m_Fu18m_Ring</th>\n",
       "      <td>Fu18m_Fu18m</td>\n",
       "      <td>Ring</td>\n",
       "      <td>0.0</td>\n",
       "      <td>-5.660443</td>\n",
       "      <td>0.000000007549122</td>\n",
       "    </tr>\n",
       "    <tr>\n",
       "      <th>Fu18m_Fu18m_SegmInter</th>\n",
       "      <td>Fu18m_Fu18m</td>\n",
       "      <td>SegmInter</td>\n",
       "      <td>0.0</td>\n",
       "      <td>-5.47732</td>\n",
       "      <td>0.000000021590827</td>\n",
       "    </tr>\n",
       "    <tr>\n",
       "      <th>Fu18m_Fu18m_SegmIntra</th>\n",
       "      <td>Fu18m_Fu18m</td>\n",
       "      <td>SegmIntra</td>\n",
       "      <td>0.0</td>\n",
       "      <td>-10.637355</td>\n",
       "      <td>0.000000000000000</td>\n",
       "    </tr>\n",
       "  </tbody>\n",
       "</table>\n",
       "</div>"
      ],
      "text/plain": [
       "                            comparison channelGroup MEAN_differenceOfRanks  \\\n",
       "Postop_Postop_Ring       Postop_Postop         Ring                    0.0   \n",
       "Postop_Postop_SegmInter  Postop_Postop    SegmInter                    0.0   \n",
       "Postop_Postop_SegmIntra  Postop_Postop    SegmIntra                    0.0   \n",
       "Postop_Fu3m_Ring           Postop_Fu3m         Ring               0.533333   \n",
       "Postop_Fu3m_SegmInter      Postop_Fu3m    SegmInter                    0.4   \n",
       "Postop_Fu3m_SegmIntra      Postop_Fu3m    SegmIntra               1.566667   \n",
       "Postop_Fu12m_Ring         Postop_Fu12m         Ring               0.733333   \n",
       "Postop_Fu12m_SegmInter    Postop_Fu12m    SegmInter               0.266667   \n",
       "Postop_Fu12m_SegmIntra    Postop_Fu12m    SegmIntra               1.633333   \n",
       "Postop_Fu18m_Ring         Postop_Fu18m         Ring               0.666667   \n",
       "Postop_Fu18m_SegmInter    Postop_Fu18m    SegmInter                    0.5   \n",
       "Postop_Fu18m_SegmIntra    Postop_Fu18m    SegmIntra               1.666667   \n",
       "Fu3m_Postop_Ring           Fu3m_Postop         Ring               0.533333   \n",
       "Fu3m_Postop_SegmInter      Fu3m_Postop    SegmInter                    0.4   \n",
       "Fu3m_Postop_SegmIntra      Fu3m_Postop    SegmIntra               1.566667   \n",
       "Fu3m_Fu3m_Ring               Fu3m_Fu3m         Ring                    0.0   \n",
       "Fu3m_Fu3m_SegmInter          Fu3m_Fu3m    SegmInter                    0.0   \n",
       "Fu3m_Fu3m_SegmIntra          Fu3m_Fu3m    SegmIntra                    0.0   \n",
       "Fu3m_Fu12m_Ring             Fu3m_Fu12m         Ring               0.333333   \n",
       "Fu3m_Fu12m_SegmInter        Fu3m_Fu12m    SegmInter               0.222222   \n",
       "Fu3m_Fu12m_SegmIntra        Fu3m_Fu12m    SegmIntra               1.111111   \n",
       "Fu3m_Fu18m_Ring             Fu3m_Fu18m         Ring                    0.2   \n",
       "Fu3m_Fu18m_SegmInter        Fu3m_Fu18m    SegmInter                    0.2   \n",
       "Fu3m_Fu18m_SegmIntra        Fu3m_Fu18m    SegmIntra               1.266667   \n",
       "Fu12m_Postop_Ring         Fu12m_Postop         Ring               0.733333   \n",
       "Fu12m_Postop_SegmInter    Fu12m_Postop    SegmInter               0.266667   \n",
       "Fu12m_Postop_SegmIntra    Fu12m_Postop    SegmIntra               1.633333   \n",
       "Fu12m_Fu3m_Ring             Fu12m_Fu3m         Ring               0.333333   \n",
       "Fu12m_Fu3m_SegmInter        Fu12m_Fu3m    SegmInter               0.222222   \n",
       "Fu12m_Fu3m_SegmIntra        Fu12m_Fu3m    SegmIntra               1.111111   \n",
       "Fu12m_Fu12m_Ring           Fu12m_Fu12m         Ring                    0.0   \n",
       "Fu12m_Fu12m_SegmInter      Fu12m_Fu12m    SegmInter                    0.0   \n",
       "Fu12m_Fu12m_SegmIntra      Fu12m_Fu12m    SegmIntra                    0.0   \n",
       "Fu12m_Fu18m_Ring           Fu12m_Fu18m         Ring                    0.2   \n",
       "Fu12m_Fu18m_SegmInter      Fu12m_Fu18m    SegmInter               0.266667   \n",
       "Fu12m_Fu18m_SegmIntra      Fu12m_Fu18m    SegmIntra                    0.9   \n",
       "Fu18m_Postop_Ring         Fu18m_Postop         Ring               0.666667   \n",
       "Fu18m_Postop_SegmInter    Fu18m_Postop    SegmInter                    0.5   \n",
       "Fu18m_Postop_SegmIntra    Fu18m_Postop    SegmIntra               1.666667   \n",
       "Fu18m_Fu3m_Ring             Fu18m_Fu3m         Ring                    0.2   \n",
       "Fu18m_Fu3m_SegmInter        Fu18m_Fu3m    SegmInter                    0.2   \n",
       "Fu18m_Fu3m_SegmIntra        Fu18m_Fu3m    SegmIntra               1.266667   \n",
       "Fu18m_Fu12m_Ring           Fu18m_Fu12m         Ring                    0.2   \n",
       "Fu18m_Fu12m_SegmInter      Fu18m_Fu12m    SegmInter               0.266667   \n",
       "Fu18m_Fu12m_SegmIntra      Fu18m_Fu12m    SegmIntra                    0.9   \n",
       "Fu18m_Fu18m_Ring           Fu18m_Fu18m         Ring                    0.0   \n",
       "Fu18m_Fu18m_SegmInter      Fu18m_Fu18m    SegmInter                    0.0   \n",
       "Fu18m_Fu18m_SegmIntra      Fu18m_Fu18m    SegmIntra                    0.0   \n",
       "\n",
       "                        distanceMEANreal_MEANrandom            p-value  \n",
       "Postop_Postop_Ring                        -5.560814  0.000000013425985  \n",
       "Postop_Postop_SegmInter                   -5.698809  0.000000006032364  \n",
       "Postop_Postop_SegmIntra                   -9.935757  0.000000000000000  \n",
       "Postop_Fu3m_Ring                          -2.151105  0.015733955976777  \n",
       "Postop_Fu3m_SegmInter                     -3.280348  0.000518396075470  \n",
       "Postop_Fu3m_SegmIntra                     -2.082225  0.018660957367470  \n",
       "Postop_Fu12m_Ring                         -0.962442  0.167913805683052  \n",
       "Postop_Fu12m_SegmInter                    -4.103181  0.000020375403819  \n",
       "Postop_Fu12m_SegmIntra                    -1.717616  0.042933320921330  \n",
       "Postop_Fu18m_Ring                         -0.885872  0.187843123108600  \n",
       "Postop_Fu18m_SegmInter                    -1.587865  0.056158474127934  \n",
       "Postop_Fu18m_SegmIntra                    -0.932465  0.175548246157532  \n",
       "Fu3m_Postop_Ring                          -2.249092  0.012253337410862  \n",
       "Fu3m_Postop_SegmInter                     -3.050062  0.001143970329758  \n",
       "Fu3m_Postop_SegmIntra                     -2.012214  0.022098717529222  \n",
       "Fu3m_Fu3m_Ring                            -7.757401  0.000000000000004  \n",
       "Fu3m_Fu3m_SegmInter                       -7.418881  0.000000000000059  \n",
       "Fu3m_Fu3m_SegmIntra                      -14.186956  0.000000000000000  \n",
       "Fu3m_Fu12m_Ring                            -4.84638  0.000000628672037  \n",
       "Fu3m_Fu12m_SegmInter                      -5.638226  0.000000008590525  \n",
       "Fu3m_Fu12m_SegmIntra                      -6.054736  0.000000000703239  \n",
       "Fu3m_Fu18m_Ring                           -4.290937  0.000008896042248  \n",
       "Fu3m_Fu18m_SegmInter                      -4.409129  0.000005189358934  \n",
       "Fu3m_Fu18m_SegmIntra                      -3.704755  0.000105797636393  \n",
       "Fu12m_Postop_Ring                         -0.981638  0.163139217649000  \n",
       "Fu12m_Postop_SegmInter                    -4.093781  0.000021219745924  \n",
       "Fu12m_Postop_SegmIntra                    -1.642248  0.050269271619798  \n",
       "Fu12m_Fu3m_Ring                           -4.820307  0.000000716688777  \n",
       "Fu12m_Fu3m_SegmInter                      -5.602156  0.000000010585086  \n",
       "Fu12m_Fu3m_SegmIntra                      -6.112121  0.000000000491577  \n",
       "Fu12m_Fu12m_Ring                          -7.613044  0.000000000000013  \n",
       "Fu12m_Fu12m_SegmInter                     -7.331147  0.000000000000114  \n",
       "Fu12m_Fu12m_SegmIntra                    -14.563285  0.000000000000000  \n",
       "Fu12m_Fu18m_Ring                          -4.386856  0.000005750032675  \n",
       "Fu12m_Fu18m_SegmInter                     -3.902671  0.000047568573134  \n",
       "Fu12m_Fu18m_SegmIntra                     -5.499538  0.000000019039379  \n",
       "Fu18m_Postop_Ring                         -0.914324  0.180273277868547  \n",
       "Fu18m_Postop_SegmInter                     -1.45252  0.073178526824360  \n",
       "Fu18m_Postop_SegmIntra                    -0.898399  0.184486409660498  \n",
       "Fu18m_Fu3m_Ring                            -4.50298  0.000003350363270  \n",
       "Fu18m_Fu3m_SegmInter                      -4.327392  0.000007544275783  \n",
       "Fu18m_Fu3m_SegmIntra                      -3.767962  0.000082292746825  \n",
       "Fu18m_Fu12m_Ring                          -4.383981  0.000005826495561  \n",
       "Fu18m_Fu12m_SegmInter                     -4.171207  0.000015149490833  \n",
       "Fu18m_Fu12m_SegmIntra                     -5.705277  0.000000005807685  \n",
       "Fu18m_Fu18m_Ring                          -5.660443  0.000000007549122  \n",
       "Fu18m_Fu18m_SegmInter                      -5.47732  0.000000021590827  \n",
       "Fu18m_Fu18m_SegmIntra                    -10.637355  0.000000000000000  "
      ]
     },
     "execution_count": 21,
     "metadata": {},
     "output_type": "execute_result"
    }
   ],
   "source": [
    "permutation_results"
   ]
  },
  {
   "attachments": {},
   "cell_type": "markdown",
   "metadata": {},
   "source": [
    "## 3. Spearman correlation of monopolar beta power ranks along electrodes"
   ]
  },
  {
   "cell_type": "code",
   "execution_count": 17,
   "metadata": {},
   "outputs": [
    {
     "name": "stdout",
     "output_type": "stream",
     "text": [
      "pickle file loaded:  GroupMonopolar_weightedPsdCoordinateDistance_relToRank1_beta_rawPsd_band-pass.pickle \n",
      "loaded from:  c:\\Users\\jebe12\\Research\\Longterm_beta_project\\results\n"
     ]
    },
    {
     "data": {
      "application/vnd.plotly.v1+json": {
       "config": {
        "plotlyServerURL": "https://plot.ly"
       },
       "data": [
        {
         "coloraxis": "coloraxis",
         "hovertemplate": "session 1: %{x}<br>session 2: %{y}<br>spearman correlation median: %{z}<extra></extra>",
         "name": "0",
         "texttemplate": "%{z}",
         "type": "heatmap",
         "x": [
          "postop",
          "fu3m",
          "fu12m",
          "fu18m"
         ],
         "xaxis": "x",
         "y": [
          "postop",
          "fu3m",
          "fu12m",
          "fu18m"
         ],
         "yaxis": "y",
         "z": [
          [
           1,
           0.7261904761904763,
           0.8214285714285716,
           0.8095238095238096
          ],
          [
           0.7261904761904763,
           1,
           0.9404761904761906,
           0.9166666666666667
          ],
          [
           0.8214285714285716,
           0.9404761904761906,
           1,
           0.9047619047619048
          ],
          [
           0.8095238095238096,
           0.9166666666666667,
           0.9047619047619048,
           1
          ]
         ]
        }
       ],
       "layout": {
        "coloraxis": {
         "colorbar": {
          "title": {
           "text": "spearman correlation median"
          }
         },
         "colorscale": [
          [
           0,
           "#0d0887"
          ],
          [
           0.1111111111111111,
           "#46039f"
          ],
          [
           0.2222222222222222,
           "#7201a8"
          ],
          [
           0.3333333333333333,
           "#9c179e"
          ],
          [
           0.4444444444444444,
           "#bd3786"
          ],
          [
           0.5555555555555556,
           "#d8576b"
          ],
          [
           0.6666666666666666,
           "#ed7953"
          ],
          [
           0.7777777777777778,
           "#fb9f3a"
          ],
          [
           0.8888888888888888,
           "#fdca26"
          ],
          [
           1,
           "#f0f921"
          ]
         ]
        },
        "template": {
         "data": {
          "bar": [
           {
            "error_x": {
             "color": "#2a3f5f"
            },
            "error_y": {
             "color": "#2a3f5f"
            },
            "marker": {
             "line": {
              "color": "#E5ECF6",
              "width": 0.5
             },
             "pattern": {
              "fillmode": "overlay",
              "size": 10,
              "solidity": 0.2
             }
            },
            "type": "bar"
           }
          ],
          "barpolar": [
           {
            "marker": {
             "line": {
              "color": "#E5ECF6",
              "width": 0.5
             },
             "pattern": {
              "fillmode": "overlay",
              "size": 10,
              "solidity": 0.2
             }
            },
            "type": "barpolar"
           }
          ],
          "carpet": [
           {
            "aaxis": {
             "endlinecolor": "#2a3f5f",
             "gridcolor": "white",
             "linecolor": "white",
             "minorgridcolor": "white",
             "startlinecolor": "#2a3f5f"
            },
            "baxis": {
             "endlinecolor": "#2a3f5f",
             "gridcolor": "white",
             "linecolor": "white",
             "minorgridcolor": "white",
             "startlinecolor": "#2a3f5f"
            },
            "type": "carpet"
           }
          ],
          "choropleth": [
           {
            "colorbar": {
             "outlinewidth": 0,
             "ticks": ""
            },
            "type": "choropleth"
           }
          ],
          "contour": [
           {
            "colorbar": {
             "outlinewidth": 0,
             "ticks": ""
            },
            "colorscale": [
             [
              0,
              "#0d0887"
             ],
             [
              0.1111111111111111,
              "#46039f"
             ],
             [
              0.2222222222222222,
              "#7201a8"
             ],
             [
              0.3333333333333333,
              "#9c179e"
             ],
             [
              0.4444444444444444,
              "#bd3786"
             ],
             [
              0.5555555555555556,
              "#d8576b"
             ],
             [
              0.6666666666666666,
              "#ed7953"
             ],
             [
              0.7777777777777778,
              "#fb9f3a"
             ],
             [
              0.8888888888888888,
              "#fdca26"
             ],
             [
              1,
              "#f0f921"
             ]
            ],
            "type": "contour"
           }
          ],
          "contourcarpet": [
           {
            "colorbar": {
             "outlinewidth": 0,
             "ticks": ""
            },
            "type": "contourcarpet"
           }
          ],
          "heatmap": [
           {
            "colorbar": {
             "outlinewidth": 0,
             "ticks": ""
            },
            "colorscale": [
             [
              0,
              "#0d0887"
             ],
             [
              0.1111111111111111,
              "#46039f"
             ],
             [
              0.2222222222222222,
              "#7201a8"
             ],
             [
              0.3333333333333333,
              "#9c179e"
             ],
             [
              0.4444444444444444,
              "#bd3786"
             ],
             [
              0.5555555555555556,
              "#d8576b"
             ],
             [
              0.6666666666666666,
              "#ed7953"
             ],
             [
              0.7777777777777778,
              "#fb9f3a"
             ],
             [
              0.8888888888888888,
              "#fdca26"
             ],
             [
              1,
              "#f0f921"
             ]
            ],
            "type": "heatmap"
           }
          ],
          "heatmapgl": [
           {
            "colorbar": {
             "outlinewidth": 0,
             "ticks": ""
            },
            "colorscale": [
             [
              0,
              "#0d0887"
             ],
             [
              0.1111111111111111,
              "#46039f"
             ],
             [
              0.2222222222222222,
              "#7201a8"
             ],
             [
              0.3333333333333333,
              "#9c179e"
             ],
             [
              0.4444444444444444,
              "#bd3786"
             ],
             [
              0.5555555555555556,
              "#d8576b"
             ],
             [
              0.6666666666666666,
              "#ed7953"
             ],
             [
              0.7777777777777778,
              "#fb9f3a"
             ],
             [
              0.8888888888888888,
              "#fdca26"
             ],
             [
              1,
              "#f0f921"
             ]
            ],
            "type": "heatmapgl"
           }
          ],
          "histogram": [
           {
            "marker": {
             "pattern": {
              "fillmode": "overlay",
              "size": 10,
              "solidity": 0.2
             }
            },
            "type": "histogram"
           }
          ],
          "histogram2d": [
           {
            "colorbar": {
             "outlinewidth": 0,
             "ticks": ""
            },
            "colorscale": [
             [
              0,
              "#0d0887"
             ],
             [
              0.1111111111111111,
              "#46039f"
             ],
             [
              0.2222222222222222,
              "#7201a8"
             ],
             [
              0.3333333333333333,
              "#9c179e"
             ],
             [
              0.4444444444444444,
              "#bd3786"
             ],
             [
              0.5555555555555556,
              "#d8576b"
             ],
             [
              0.6666666666666666,
              "#ed7953"
             ],
             [
              0.7777777777777778,
              "#fb9f3a"
             ],
             [
              0.8888888888888888,
              "#fdca26"
             ],
             [
              1,
              "#f0f921"
             ]
            ],
            "type": "histogram2d"
           }
          ],
          "histogram2dcontour": [
           {
            "colorbar": {
             "outlinewidth": 0,
             "ticks": ""
            },
            "colorscale": [
             [
              0,
              "#0d0887"
             ],
             [
              0.1111111111111111,
              "#46039f"
             ],
             [
              0.2222222222222222,
              "#7201a8"
             ],
             [
              0.3333333333333333,
              "#9c179e"
             ],
             [
              0.4444444444444444,
              "#bd3786"
             ],
             [
              0.5555555555555556,
              "#d8576b"
             ],
             [
              0.6666666666666666,
              "#ed7953"
             ],
             [
              0.7777777777777778,
              "#fb9f3a"
             ],
             [
              0.8888888888888888,
              "#fdca26"
             ],
             [
              1,
              "#f0f921"
             ]
            ],
            "type": "histogram2dcontour"
           }
          ],
          "mesh3d": [
           {
            "colorbar": {
             "outlinewidth": 0,
             "ticks": ""
            },
            "type": "mesh3d"
           }
          ],
          "parcoords": [
           {
            "line": {
             "colorbar": {
              "outlinewidth": 0,
              "ticks": ""
             }
            },
            "type": "parcoords"
           }
          ],
          "pie": [
           {
            "automargin": true,
            "type": "pie"
           }
          ],
          "scatter": [
           {
            "fillpattern": {
             "fillmode": "overlay",
             "size": 10,
             "solidity": 0.2
            },
            "type": "scatter"
           }
          ],
          "scatter3d": [
           {
            "line": {
             "colorbar": {
              "outlinewidth": 0,
              "ticks": ""
             }
            },
            "marker": {
             "colorbar": {
              "outlinewidth": 0,
              "ticks": ""
             }
            },
            "type": "scatter3d"
           }
          ],
          "scattercarpet": [
           {
            "marker": {
             "colorbar": {
              "outlinewidth": 0,
              "ticks": ""
             }
            },
            "type": "scattercarpet"
           }
          ],
          "scattergeo": [
           {
            "marker": {
             "colorbar": {
              "outlinewidth": 0,
              "ticks": ""
             }
            },
            "type": "scattergeo"
           }
          ],
          "scattergl": [
           {
            "marker": {
             "colorbar": {
              "outlinewidth": 0,
              "ticks": ""
             }
            },
            "type": "scattergl"
           }
          ],
          "scattermapbox": [
           {
            "marker": {
             "colorbar": {
              "outlinewidth": 0,
              "ticks": ""
             }
            },
            "type": "scattermapbox"
           }
          ],
          "scatterpolar": [
           {
            "marker": {
             "colorbar": {
              "outlinewidth": 0,
              "ticks": ""
             }
            },
            "type": "scatterpolar"
           }
          ],
          "scatterpolargl": [
           {
            "marker": {
             "colorbar": {
              "outlinewidth": 0,
              "ticks": ""
             }
            },
            "type": "scatterpolargl"
           }
          ],
          "scatterternary": [
           {
            "marker": {
             "colorbar": {
              "outlinewidth": 0,
              "ticks": ""
             }
            },
            "type": "scatterternary"
           }
          ],
          "surface": [
           {
            "colorbar": {
             "outlinewidth": 0,
             "ticks": ""
            },
            "colorscale": [
             [
              0,
              "#0d0887"
             ],
             [
              0.1111111111111111,
              "#46039f"
             ],
             [
              0.2222222222222222,
              "#7201a8"
             ],
             [
              0.3333333333333333,
              "#9c179e"
             ],
             [
              0.4444444444444444,
              "#bd3786"
             ],
             [
              0.5555555555555556,
              "#d8576b"
             ],
             [
              0.6666666666666666,
              "#ed7953"
             ],
             [
              0.7777777777777778,
              "#fb9f3a"
             ],
             [
              0.8888888888888888,
              "#fdca26"
             ],
             [
              1,
              "#f0f921"
             ]
            ],
            "type": "surface"
           }
          ],
          "table": [
           {
            "cells": {
             "fill": {
              "color": "#EBF0F8"
             },
             "line": {
              "color": "white"
             }
            },
            "header": {
             "fill": {
              "color": "#C8D4E3"
             },
             "line": {
              "color": "white"
             }
            },
            "type": "table"
           }
          ]
         },
         "layout": {
          "annotationdefaults": {
           "arrowcolor": "#2a3f5f",
           "arrowhead": 0,
           "arrowwidth": 1
          },
          "autotypenumbers": "strict",
          "coloraxis": {
           "colorbar": {
            "outlinewidth": 0,
            "ticks": ""
           }
          },
          "colorscale": {
           "diverging": [
            [
             0,
             "#8e0152"
            ],
            [
             0.1,
             "#c51b7d"
            ],
            [
             0.2,
             "#de77ae"
            ],
            [
             0.3,
             "#f1b6da"
            ],
            [
             0.4,
             "#fde0ef"
            ],
            [
             0.5,
             "#f7f7f7"
            ],
            [
             0.6,
             "#e6f5d0"
            ],
            [
             0.7,
             "#b8e186"
            ],
            [
             0.8,
             "#7fbc41"
            ],
            [
             0.9,
             "#4d9221"
            ],
            [
             1,
             "#276419"
            ]
           ],
           "sequential": [
            [
             0,
             "#0d0887"
            ],
            [
             0.1111111111111111,
             "#46039f"
            ],
            [
             0.2222222222222222,
             "#7201a8"
            ],
            [
             0.3333333333333333,
             "#9c179e"
            ],
            [
             0.4444444444444444,
             "#bd3786"
            ],
            [
             0.5555555555555556,
             "#d8576b"
            ],
            [
             0.6666666666666666,
             "#ed7953"
            ],
            [
             0.7777777777777778,
             "#fb9f3a"
            ],
            [
             0.8888888888888888,
             "#fdca26"
            ],
            [
             1,
             "#f0f921"
            ]
           ],
           "sequentialminus": [
            [
             0,
             "#0d0887"
            ],
            [
             0.1111111111111111,
             "#46039f"
            ],
            [
             0.2222222222222222,
             "#7201a8"
            ],
            [
             0.3333333333333333,
             "#9c179e"
            ],
            [
             0.4444444444444444,
             "#bd3786"
            ],
            [
             0.5555555555555556,
             "#d8576b"
            ],
            [
             0.6666666666666666,
             "#ed7953"
            ],
            [
             0.7777777777777778,
             "#fb9f3a"
            ],
            [
             0.8888888888888888,
             "#fdca26"
            ],
            [
             1,
             "#f0f921"
            ]
           ]
          },
          "colorway": [
           "#636efa",
           "#EF553B",
           "#00cc96",
           "#ab63fa",
           "#FFA15A",
           "#19d3f3",
           "#FF6692",
           "#B6E880",
           "#FF97FF",
           "#FECB52"
          ],
          "font": {
           "color": "#2a3f5f"
          },
          "geo": {
           "bgcolor": "white",
           "lakecolor": "white",
           "landcolor": "#E5ECF6",
           "showlakes": true,
           "showland": true,
           "subunitcolor": "white"
          },
          "hoverlabel": {
           "align": "left"
          },
          "hovermode": "closest",
          "mapbox": {
           "style": "light"
          },
          "paper_bgcolor": "white",
          "plot_bgcolor": "#E5ECF6",
          "polar": {
           "angularaxis": {
            "gridcolor": "white",
            "linecolor": "white",
            "ticks": ""
           },
           "bgcolor": "#E5ECF6",
           "radialaxis": {
            "gridcolor": "white",
            "linecolor": "white",
            "ticks": ""
           }
          },
          "scene": {
           "xaxis": {
            "backgroundcolor": "#E5ECF6",
            "gridcolor": "white",
            "gridwidth": 2,
            "linecolor": "white",
            "showbackground": true,
            "ticks": "",
            "zerolinecolor": "white"
           },
           "yaxis": {
            "backgroundcolor": "#E5ECF6",
            "gridcolor": "white",
            "gridwidth": 2,
            "linecolor": "white",
            "showbackground": true,
            "ticks": "",
            "zerolinecolor": "white"
           },
           "zaxis": {
            "backgroundcolor": "#E5ECF6",
            "gridcolor": "white",
            "gridwidth": 2,
            "linecolor": "white",
            "showbackground": true,
            "ticks": "",
            "zerolinecolor": "white"
           }
          },
          "shapedefaults": {
           "line": {
            "color": "#2a3f5f"
           }
          },
          "ternary": {
           "aaxis": {
            "gridcolor": "white",
            "linecolor": "white",
            "ticks": ""
           },
           "baxis": {
            "gridcolor": "white",
            "linecolor": "white",
            "ticks": ""
           },
           "bgcolor": "#E5ECF6",
           "caxis": {
            "gridcolor": "white",
            "linecolor": "white",
            "ticks": ""
           }
          },
          "title": {
           "x": 0.05
          },
          "xaxis": {
           "automargin": true,
           "gridcolor": "white",
           "linecolor": "white",
           "ticks": "",
           "title": {
            "standoff": 15
           },
           "zerolinecolor": "white",
           "zerolinewidth": 2
          },
          "yaxis": {
           "automargin": true,
           "gridcolor": "white",
           "linecolor": "white",
           "ticks": "",
           "title": {
            "standoff": 15
           },
           "zerolinecolor": "white",
           "zerolinewidth": 2
          }
         }
        },
        "title": {
         "text": "Correlation per electrode of beta relPsd",
         "x": 0.5,
         "xanchor": "center",
         "y": 0.98,
         "yanchor": "top"
        },
        "xaxis": {
         "anchor": "y",
         "constrain": "domain",
         "domain": [
          0,
          1
         ],
         "scaleanchor": "y",
         "side": "top",
         "title": {
          "text": "session 1"
         }
        },
        "yaxis": {
         "anchor": "x",
         "autorange": "reversed",
         "constrain": "domain",
         "domain": [
          0,
          1
         ],
         "title": {
          "text": "session 2"
         }
        }
       }
      }
     },
     "metadata": {},
     "output_type": "display_data"
    }
   ],
   "source": [
    "# automatized method to plot heatmap of spearman correlation between sessions\n",
    "monopol_spearman_correl = groupMonopol.monopol_psd_correlations_sessions(\n",
    "    freqBand=\"beta\",\n",
    "    ranks_or_relPsd=\"relPsd\",\n",
    "    mean_or_median=\"median\"\n",
    ")\n"
   ]
  },
  {
   "cell_type": "code",
   "execution_count": null,
   "metadata": {},
   "outputs": [],
   "source": [
    "monopol_spearman_correl[\"spearman_m_df\"]"
   ]
  },
  {
   "cell_type": "code",
   "execution_count": 9,
   "metadata": {},
   "outputs": [
    {
     "name": "stdout",
     "output_type": "stream",
     "text": [
      "pickle file loaded:  GroupMonopolar_weightedPsdCoordinateDistance_relToRank1_beta_rawPsd_band-pass.pickle \n",
      "loaded from:  c:\\Users\\jebe12\\Research\\Longterm_beta_project\\results\n"
     ]
    }
   ],
   "source": [
    "# load the monolopar beta psd for for each electrode at different timepoints\n",
    "data_weightedByCoordinates = loadResults.load_GroupMonoRef_weightedPsdCoordinateDistance_pickle(\n",
    "    freqBand=\"beta\",\n",
    "    normalization=\"rawPsd\",\n",
    "    filterSignal=\"band-pass\"\n",
    "\n",
    ")"
   ]
  },
  {
   "cell_type": "code",
   "execution_count": 10,
   "metadata": {},
   "outputs": [
    {
     "data": {
      "text/html": [
       "<div>\n",
       "<style scoped>\n",
       "    .dataframe tbody tr th:only-of-type {\n",
       "        vertical-align: middle;\n",
       "    }\n",
       "\n",
       "    .dataframe tbody tr th {\n",
       "        vertical-align: top;\n",
       "    }\n",
       "\n",
       "    .dataframe thead th {\n",
       "        text-align: right;\n",
       "    }\n",
       "</style>\n",
       "<table border=\"1\" class=\"dataframe\">\n",
       "  <thead>\n",
       "    <tr style=\"text-align: right;\">\n",
       "      <th></th>\n",
       "      <th>contact</th>\n",
       "      <th>coord_z</th>\n",
       "      <th>coord_xy</th>\n",
       "      <th>subject_hemisphere</th>\n",
       "      <th>session</th>\n",
       "      <th>averaged_monopolar_PSD_beta</th>\n",
       "      <th>rank</th>\n",
       "      <th>relativePSD_to_beta_Rank1</th>\n",
       "    </tr>\n",
       "  </thead>\n",
       "  <tbody>\n",
       "    <tr>\n",
       "      <th>0</th>\n",
       "      <td>0</td>\n",
       "      <td>0.0+0.0j</td>\n",
       "      <td>0.00+0.00j</td>\n",
       "      <td>017_Right</td>\n",
       "      <td>fu3m</td>\n",
       "      <td>0.206574</td>\n",
       "      <td>10.0</td>\n",
       "      <td>0.783786</td>\n",
       "    </tr>\n",
       "    <tr>\n",
       "      <th>1</th>\n",
       "      <td>1</td>\n",
       "      <td>2.0+0.0j</td>\n",
       "      <td>0.00+0.00j</td>\n",
       "      <td>017_Right</td>\n",
       "      <td>fu3m</td>\n",
       "      <td>0.242470</td>\n",
       "      <td>7.0</td>\n",
       "      <td>0.919984</td>\n",
       "    </tr>\n",
       "    <tr>\n",
       "      <th>2</th>\n",
       "      <td>2</td>\n",
       "      <td>4.0+0.0j</td>\n",
       "      <td>0.00+0.00j</td>\n",
       "      <td>017_Right</td>\n",
       "      <td>fu3m</td>\n",
       "      <td>0.254409</td>\n",
       "      <td>4.0</td>\n",
       "      <td>0.965286</td>\n",
       "    </tr>\n",
       "    <tr>\n",
       "      <th>3</th>\n",
       "      <td>3</td>\n",
       "      <td>6.0+0.0j</td>\n",
       "      <td>0.00+0.00j</td>\n",
       "      <td>017_Right</td>\n",
       "      <td>fu3m</td>\n",
       "      <td>0.263559</td>\n",
       "      <td>1.0</td>\n",
       "      <td>1.000000</td>\n",
       "    </tr>\n",
       "    <tr>\n",
       "      <th>4</th>\n",
       "      <td>1A</td>\n",
       "      <td>2.0+0.0j</td>\n",
       "      <td>0.65+0.00j</td>\n",
       "      <td>017_Right</td>\n",
       "      <td>fu3m</td>\n",
       "      <td>0.242557</td>\n",
       "      <td>6.0</td>\n",
       "      <td>0.920316</td>\n",
       "    </tr>\n",
       "  </tbody>\n",
       "</table>\n",
       "</div>"
      ],
      "text/plain": [
       "  contact   coord_z    coord_xy subject_hemisphere session  \\\n",
       "0       0  0.0+0.0j  0.00+0.00j          017_Right    fu3m   \n",
       "1       1  2.0+0.0j  0.00+0.00j          017_Right    fu3m   \n",
       "2       2  4.0+0.0j  0.00+0.00j          017_Right    fu3m   \n",
       "3       3  6.0+0.0j  0.00+0.00j          017_Right    fu3m   \n",
       "4      1A  2.0+0.0j  0.65+0.00j          017_Right    fu3m   \n",
       "\n",
       "   averaged_monopolar_PSD_beta  rank  relativePSD_to_beta_Rank1  \n",
       "0                     0.206574  10.0                   0.783786  \n",
       "1                     0.242470   7.0                   0.919984  \n",
       "2                     0.254409   4.0                   0.965286  \n",
       "3                     0.263559   1.0                   1.000000  \n",
       "4                     0.242557   6.0                   0.920316  "
      ]
     },
     "execution_count": 10,
     "metadata": {},
     "output_type": "execute_result"
    }
   ],
   "source": [
    "data_weightedByCoordinates.head()"
   ]
  },
  {
   "cell_type": "code",
   "execution_count": 11,
   "metadata": {},
   "outputs": [],
   "source": [
    "freqBand=\"beta\"\n",
    "normalization=\"rawPsd\"\n",
    "filterSignal=\"band-pass\"\n",
    "\n",
    "sessions = [\"postop\", \"fu3m\", \"fu12m\", \"fu18m\"]\n",
    "contacts = [\"0\", \"1A\", \"1B\", \"1C\", \"2A\", \"2B\", \"2C\", \"3\"]\n",
    "\n",
    "weightedByCoordinate_Dataframe = pd.DataFrame() # concat all Dataframes from all sub, hem, sessions\n",
    "\n",
    "\n",
    "# first check, which STNs and sessions exist in data \n",
    "sub_hem_keys = list(data_weightedByCoordinates.subject_hemisphere.unique())\n",
    "\n",
    "################## CHOOSE ONLY 8 CONTACTS AND RANK AGAIN ##################\n",
    "for STN in sub_hem_keys:\n",
    "\n",
    "    # select only one STN\n",
    "    STN_data = data_weightedByCoordinates[data_weightedByCoordinates.subject_hemisphere == STN]\n",
    "\n",
    "\n",
    "    for ses in sessions:\n",
    "\n",
    "        # first check, if session exists in STN data\n",
    "        if ses not in STN_data.session.values:\n",
    "            continue\n",
    "\n",
    "        \n",
    "        # get the dataframe per session\n",
    "        STN_session_data = STN_data[STN_data.session == ses]\n",
    "\n",
    "        # choose only directional contacts and Ring contacts 0, 3 and rank again only the chosen contacts\n",
    "        STN_session_data = STN_session_data[STN_session_data[\"contact\"].isin(contacts)]\n",
    "        STN_session_data[\"Rank8contacts\"] = STN_session_data[\"averaged_monopolar_PSD_beta\"].rank(ascending=False) # ranks 1-8\n",
    "        STN_session_data_copy = STN_session_data.copy()\n",
    "        STN_session_data_copy.drop([\"rank\"], axis=1, inplace=True)\n",
    "\n",
    "        # calculate the relative PSD to the highest PSD of the 8 remaining contacts\n",
    "        beta_rank_1 = STN_session_data_copy[STN_session_data_copy[\"Rank8contacts\"] == 1.0] # taking the row containing 1.0 in rank\n",
    "        beta_rank_1 = beta_rank_1[f\"averaged_monopolar_PSD_{freqBand}\"].values[0] # just taking psdAverage of rank 1.0\n",
    "\n",
    "        STN_session_data_copy[f\"relativePSD_to_{freqBand}_Rank1from8\"] = STN_session_data_copy.apply(lambda row: row[f\"averaged_monopolar_PSD_{freqBand}\"] / beta_rank_1, axis=1) # in each row add to new value psd/beta_rank1\n",
    "        STN_session_data_copy.drop([f\"relativePSD_to_{freqBand}_Rank1\"], axis=1, inplace=True)\n",
    "        # session_weightedByCoordinates_copy[\"subject_hemisphere_monoChannel\"] = session_weightedByCoordinates_copy[[\"subject_hemisphere\", \"monopolarChannels\"]].agg(\"_\".join, axis=1)\n",
    "        \n",
    "\n",
    "        weightedByCoordinate_Dataframe = pd.concat([weightedByCoordinate_Dataframe, STN_session_data_copy], ignore_index=True)"
   ]
  },
  {
   "cell_type": "code",
   "execution_count": 12,
   "metadata": {},
   "outputs": [
    {
     "data": {
      "text/html": [
       "<div>\n",
       "<style scoped>\n",
       "    .dataframe tbody tr th:only-of-type {\n",
       "        vertical-align: middle;\n",
       "    }\n",
       "\n",
       "    .dataframe tbody tr th {\n",
       "        vertical-align: top;\n",
       "    }\n",
       "\n",
       "    .dataframe thead th {\n",
       "        text-align: right;\n",
       "    }\n",
       "</style>\n",
       "<table border=\"1\" class=\"dataframe\">\n",
       "  <thead>\n",
       "    <tr style=\"text-align: right;\">\n",
       "      <th></th>\n",
       "      <th>contact</th>\n",
       "      <th>coord_z</th>\n",
       "      <th>coord_xy</th>\n",
       "      <th>subject_hemisphere</th>\n",
       "      <th>session</th>\n",
       "      <th>averaged_monopolar_PSD_beta</th>\n",
       "      <th>Rank8contacts</th>\n",
       "      <th>relativePSD_to_beta_Rank1from8</th>\n",
       "    </tr>\n",
       "  </thead>\n",
       "  <tbody>\n",
       "    <tr>\n",
       "      <th>0</th>\n",
       "      <td>0</td>\n",
       "      <td>0.0+0.0j</td>\n",
       "      <td>0.000000+0.000000j</td>\n",
       "      <td>017_Right</td>\n",
       "      <td>fu3m</td>\n",
       "      <td>0.206574</td>\n",
       "      <td>8.0</td>\n",
       "      <td>0.783786</td>\n",
       "    </tr>\n",
       "    <tr>\n",
       "      <th>1</th>\n",
       "      <td>3</td>\n",
       "      <td>6.0+0.0j</td>\n",
       "      <td>0.000000+0.000000j</td>\n",
       "      <td>017_Right</td>\n",
       "      <td>fu3m</td>\n",
       "      <td>0.263559</td>\n",
       "      <td>1.0</td>\n",
       "      <td>1.000000</td>\n",
       "    </tr>\n",
       "    <tr>\n",
       "      <th>2</th>\n",
       "      <td>1A</td>\n",
       "      <td>2.0+0.0j</td>\n",
       "      <td>0.650000+0.000000j</td>\n",
       "      <td>017_Right</td>\n",
       "      <td>fu3m</td>\n",
       "      <td>0.242557</td>\n",
       "      <td>5.0</td>\n",
       "      <td>0.920316</td>\n",
       "    </tr>\n",
       "    <tr>\n",
       "      <th>3</th>\n",
       "      <td>1B</td>\n",
       "      <td>2.0+0.0j</td>\n",
       "      <td>-0.325000+0.562917j</td>\n",
       "      <td>017_Right</td>\n",
       "      <td>fu3m</td>\n",
       "      <td>0.235433</td>\n",
       "      <td>7.0</td>\n",
       "      <td>0.893283</td>\n",
       "    </tr>\n",
       "    <tr>\n",
       "      <th>4</th>\n",
       "      <td>1C</td>\n",
       "      <td>2.0+0.0j</td>\n",
       "      <td>-0.325000-0.562917j</td>\n",
       "      <td>017_Right</td>\n",
       "      <td>fu3m</td>\n",
       "      <td>0.238925</td>\n",
       "      <td>6.0</td>\n",
       "      <td>0.906535</td>\n",
       "    </tr>\n",
       "  </tbody>\n",
       "</table>\n",
       "</div>"
      ],
      "text/plain": [
       "  contact   coord_z            coord_xy subject_hemisphere session  \\\n",
       "0       0  0.0+0.0j  0.000000+0.000000j          017_Right    fu3m   \n",
       "1       3  6.0+0.0j  0.000000+0.000000j          017_Right    fu3m   \n",
       "2      1A  2.0+0.0j  0.650000+0.000000j          017_Right    fu3m   \n",
       "3      1B  2.0+0.0j -0.325000+0.562917j          017_Right    fu3m   \n",
       "4      1C  2.0+0.0j -0.325000-0.562917j          017_Right    fu3m   \n",
       "\n",
       "   averaged_monopolar_PSD_beta  Rank8contacts  relativePSD_to_beta_Rank1from8  \n",
       "0                     0.206574            8.0                        0.783786  \n",
       "1                     0.263559            1.0                        1.000000  \n",
       "2                     0.242557            5.0                        0.920316  \n",
       "3                     0.235433            7.0                        0.893283  \n",
       "4                     0.238925            6.0                        0.906535  "
      ]
     },
     "execution_count": 12,
     "metadata": {},
     "output_type": "execute_result"
    }
   ],
   "source": [
    "weightedByCoordinate_Dataframe.head()"
   ]
  },
  {
   "cell_type": "code",
   "execution_count": 13,
   "metadata": {},
   "outputs": [],
   "source": [
    "# get all possible pairs of sessions \n",
    "sessions = [\"postop\", \"fu3m\", \"fu12m\", \"fu18m\"]\n",
    "# pairs = list(combinations(sessions, 2))\n",
    "pairs = list(itertools.product(sessions, sessions))\n",
    "\n",
    "\n",
    "# pairs[0][1]\n",
    "\n",
    "sub_hem_keys = list(weightedByCoordinate_Dataframe.subject_hemisphere.unique()) # n=13 subjects\n",
    "\n",
    "# divide Dataframe into 4 session dataframes\n",
    "# postop_df = weightedByCoordinate_Dataframe.loc[(weightedByCoordinate_Dataframe.session == \"postop\")]\n",
    "# fu3m_df = weightedByCoordinate_Dataframe.loc[(weightedByCoordinate_Dataframe.session == \"fu3m\")]\n",
    "# fu12m_df = weightedByCoordinate_Dataframe.loc[(weightedByCoordinate_Dataframe.session == \"fu12m\")]\n",
    "# fu18m_df = weightedByCoordinate_Dataframe.loc[(weightedByCoordinate_Dataframe.session == \"fu18m\")]\n",
    "\n",
    "# from the list of all existing sub_hem STNs, get only the STNs with existing sessions 1 + 2 \n",
    "session_pair_STNs = {}\n",
    "\n",
    "# find session pairs to correlate: check for each pair if subject exists\n",
    "for p, pair in enumerate(pairs):\n",
    "\n",
    "    # define session 1 and session 2 to correlate\n",
    "    session_1 = pair[0]\n",
    "    session_2 = pair[1]\n",
    "\n",
    "    session_1_df = weightedByCoordinate_Dataframe.loc[(weightedByCoordinate_Dataframe.session == session_1)]\n",
    "    session_2_df = weightedByCoordinate_Dataframe.loc[(weightedByCoordinate_Dataframe.session == session_2)]\n",
    "\n",
    "    for STN in sub_hem_keys:\n",
    "\n",
    "        # only run, if sub_hem STN exists in both session Dataframes\n",
    "        if STN not in session_1_df.subject_hemisphere.values:\n",
    "            continue\n",
    "\n",
    "        elif STN not in session_2_df.subject_hemisphere.values:\n",
    "            continue\n",
    "        \n",
    "        # get the rows with the current STN of both sessions: 1 and 2\n",
    "        STN_session_1 = session_1_df.loc[(session_1_df.subject_hemisphere == STN)]\n",
    "        STN_session_2 = session_2_df.loc[(session_2_df.subject_hemisphere == STN)]\n",
    "\n",
    "        # correlate the ranks of session 1 and session 2 of each STN \n",
    "        spearman_correlation = stats.spearmanr(STN_session_1.relativePSD_to_beta_Rank1from8.values, STN_session_2.relativePSD_to_beta_Rank1from8.values)\n",
    "\n",
    "\n",
    "        session_pair_STNs[f\"{session_1}_{session_2}_{STN}\"] = [session_1, session_2, STN, spearman_correlation.statistic, spearman_correlation.pvalue]"
   ]
  },
  {
   "cell_type": "code",
   "execution_count": 14,
   "metadata": {},
   "outputs": [],
   "source": [
    "results_DF = pd.DataFrame(session_pair_STNs)\n",
    "results_DF.rename(index={0: \"session_1\", 1: \"session_2\", 2: \"subject_hemisphere\", 3: \"spearman_r\", 4: \"pval\"}, inplace=True)\n",
    "results_DF = results_DF.transpose()"
   ]
  },
  {
   "cell_type": "code",
   "execution_count": 15,
   "metadata": {},
   "outputs": [
    {
     "data": {
      "text/html": [
       "<div>\n",
       "<style scoped>\n",
       "    .dataframe tbody tr th:only-of-type {\n",
       "        vertical-align: middle;\n",
       "    }\n",
       "\n",
       "    .dataframe tbody tr th {\n",
       "        vertical-align: top;\n",
       "    }\n",
       "\n",
       "    .dataframe thead th {\n",
       "        text-align: right;\n",
       "    }\n",
       "</style>\n",
       "<table border=\"1\" class=\"dataframe\">\n",
       "  <thead>\n",
       "    <tr style=\"text-align: right;\">\n",
       "      <th></th>\n",
       "      <th>session_1</th>\n",
       "      <th>session_2</th>\n",
       "      <th>subject_hemisphere</th>\n",
       "      <th>spearman_r</th>\n",
       "      <th>pval</th>\n",
       "    </tr>\n",
       "  </thead>\n",
       "  <tbody>\n",
       "    <tr>\n",
       "      <th>postop_postop_024_Right</th>\n",
       "      <td>postop</td>\n",
       "      <td>postop</td>\n",
       "      <td>024_Right</td>\n",
       "      <td>1.0</td>\n",
       "      <td>0.0</td>\n",
       "    </tr>\n",
       "    <tr>\n",
       "      <th>postop_postop_024_Left</th>\n",
       "      <td>postop</td>\n",
       "      <td>postop</td>\n",
       "      <td>024_Left</td>\n",
       "      <td>1.0</td>\n",
       "      <td>0.0</td>\n",
       "    </tr>\n",
       "    <tr>\n",
       "      <th>postop_postop_025_Right</th>\n",
       "      <td>postop</td>\n",
       "      <td>postop</td>\n",
       "      <td>025_Right</td>\n",
       "      <td>1.0</td>\n",
       "      <td>0.0</td>\n",
       "    </tr>\n",
       "    <tr>\n",
       "      <th>postop_postop_025_Left</th>\n",
       "      <td>postop</td>\n",
       "      <td>postop</td>\n",
       "      <td>025_Left</td>\n",
       "      <td>1.0</td>\n",
       "      <td>0.0</td>\n",
       "    </tr>\n",
       "    <tr>\n",
       "      <th>postop_postop_026_Right</th>\n",
       "      <td>postop</td>\n",
       "      <td>postop</td>\n",
       "      <td>026_Right</td>\n",
       "      <td>1.0</td>\n",
       "      <td>0.0</td>\n",
       "    </tr>\n",
       "  </tbody>\n",
       "</table>\n",
       "</div>"
      ],
      "text/plain": [
       "                        session_1 session_2 subject_hemisphere spearman_r pval\n",
       "postop_postop_024_Right    postop    postop          024_Right        1.0  0.0\n",
       "postop_postop_024_Left     postop    postop           024_Left        1.0  0.0\n",
       "postop_postop_025_Right    postop    postop          025_Right        1.0  0.0\n",
       "postop_postop_025_Left     postop    postop           025_Left        1.0  0.0\n",
       "postop_postop_026_Right    postop    postop          026_Right        1.0  0.0"
      ]
     },
     "execution_count": 15,
     "metadata": {},
     "output_type": "execute_result"
    }
   ],
   "source": [
    "results_DF.head()"
   ]
  },
  {
   "cell_type": "code",
   "execution_count": 16,
   "metadata": {},
   "outputs": [],
   "source": [
    "# plot a heat map: x values = session 1 and y values = session 2; color map = r spearman values\n",
    "\n",
    "spearman_mean = {}\n",
    "\n",
    "# calculate the MEAN of each session pair\n",
    "for p, pair in enumerate(pairs):\n",
    "\n",
    "    # define session 1 and session 2 to correlate\n",
    "    session_1 = pair[0]\n",
    "    session_2 = pair[1]\n",
    "\n",
    "    pairs_df = results_DF.loc[(results_DF.session_1 == session_1)]\n",
    "    pairs_df = pairs_df.loc[(pairs_df.session_2 == session_2)]\n",
    "\n",
    "    mean_spearmanr = pairs_df.spearman_r.mean() # take the absolute values\n",
    "    mean_pval = pairs_df.pval.mean()\n",
    "\n",
    "    spearman_mean[f\"{session_1}_{session_2}_spearman_mean\"] = [session_1, session_2, mean_spearmanr, mean_pval]\n",
    "\n",
    "spearman_df = pd.DataFrame(spearman_mean)\n",
    "spearman_df.rename(index={0: \"session_1\", 1: \"session_2\", 2: \"mean_spearmanr\", 3: \"mean_pval\"}, inplace=True)\n",
    "spearman_df = spearman_df.transpose()\n",
    "\n",
    "mean_spearmanr = spearman_df.mean_spearmanr.values.astype(float)"
   ]
  },
  {
   "cell_type": "code",
   "execution_count": 17,
   "metadata": {},
   "outputs": [
    {
     "data": {
      "text/html": [
       "<div>\n",
       "<style scoped>\n",
       "    .dataframe tbody tr th:only-of-type {\n",
       "        vertical-align: middle;\n",
       "    }\n",
       "\n",
       "    .dataframe tbody tr th {\n",
       "        vertical-align: top;\n",
       "    }\n",
       "\n",
       "    .dataframe thead th {\n",
       "        text-align: right;\n",
       "    }\n",
       "</style>\n",
       "<table border=\"1\" class=\"dataframe\">\n",
       "  <thead>\n",
       "    <tr style=\"text-align: right;\">\n",
       "      <th></th>\n",
       "      <th>session_1</th>\n",
       "      <th>session_2</th>\n",
       "      <th>mean_spearmanr</th>\n",
       "      <th>mean_pval</th>\n",
       "    </tr>\n",
       "  </thead>\n",
       "  <tbody>\n",
       "    <tr>\n",
       "      <th>postop_postop_spearman_mean</th>\n",
       "      <td>postop</td>\n",
       "      <td>postop</td>\n",
       "      <td>1.0</td>\n",
       "      <td>0.0</td>\n",
       "    </tr>\n",
       "    <tr>\n",
       "      <th>postop_fu3m_spearman_mean</th>\n",
       "      <td>postop</td>\n",
       "      <td>fu3m</td>\n",
       "      <td>0.575893</td>\n",
       "      <td>0.252464</td>\n",
       "    </tr>\n",
       "    <tr>\n",
       "      <th>postop_fu12m_spearman_mean</th>\n",
       "      <td>postop</td>\n",
       "      <td>fu12m</td>\n",
       "      <td>0.640873</td>\n",
       "      <td>0.125557</td>\n",
       "    </tr>\n",
       "    <tr>\n",
       "      <th>postop_fu18m_spearman_mean</th>\n",
       "      <td>postop</td>\n",
       "      <td>fu18m</td>\n",
       "      <td>0.797619</td>\n",
       "      <td>0.020716</td>\n",
       "    </tr>\n",
       "    <tr>\n",
       "      <th>fu3m_postop_spearman_mean</th>\n",
       "      <td>fu3m</td>\n",
       "      <td>postop</td>\n",
       "      <td>0.575893</td>\n",
       "      <td>0.252464</td>\n",
       "    </tr>\n",
       "    <tr>\n",
       "      <th>fu3m_fu3m_spearman_mean</th>\n",
       "      <td>fu3m</td>\n",
       "      <td>fu3m</td>\n",
       "      <td>1.0</td>\n",
       "      <td>0.0</td>\n",
       "    </tr>\n",
       "    <tr>\n",
       "      <th>fu3m_fu12m_spearman_mean</th>\n",
       "      <td>fu3m</td>\n",
       "      <td>fu12m</td>\n",
       "      <td>0.771164</td>\n",
       "      <td>0.093812</td>\n",
       "    </tr>\n",
       "    <tr>\n",
       "      <th>fu3m_fu18m_spearman_mean</th>\n",
       "      <td>fu3m</td>\n",
       "      <td>fu18m</td>\n",
       "      <td>0.797619</td>\n",
       "      <td>0.095895</td>\n",
       "    </tr>\n",
       "    <tr>\n",
       "      <th>fu12m_postop_spearman_mean</th>\n",
       "      <td>fu12m</td>\n",
       "      <td>postop</td>\n",
       "      <td>0.640873</td>\n",
       "      <td>0.125557</td>\n",
       "    </tr>\n",
       "    <tr>\n",
       "      <th>fu12m_fu3m_spearman_mean</th>\n",
       "      <td>fu12m</td>\n",
       "      <td>fu3m</td>\n",
       "      <td>0.771164</td>\n",
       "      <td>0.093812</td>\n",
       "    </tr>\n",
       "    <tr>\n",
       "      <th>fu12m_fu12m_spearman_mean</th>\n",
       "      <td>fu12m</td>\n",
       "      <td>fu12m</td>\n",
       "      <td>1.0</td>\n",
       "      <td>0.0</td>\n",
       "    </tr>\n",
       "    <tr>\n",
       "      <th>fu12m_fu18m_spearman_mean</th>\n",
       "      <td>fu12m</td>\n",
       "      <td>fu18m</td>\n",
       "      <td>0.797619</td>\n",
       "      <td>0.056891</td>\n",
       "    </tr>\n",
       "    <tr>\n",
       "      <th>fu18m_postop_spearman_mean</th>\n",
       "      <td>fu18m</td>\n",
       "      <td>postop</td>\n",
       "      <td>0.797619</td>\n",
       "      <td>0.020716</td>\n",
       "    </tr>\n",
       "    <tr>\n",
       "      <th>fu18m_fu3m_spearman_mean</th>\n",
       "      <td>fu18m</td>\n",
       "      <td>fu3m</td>\n",
       "      <td>0.797619</td>\n",
       "      <td>0.095895</td>\n",
       "    </tr>\n",
       "    <tr>\n",
       "      <th>fu18m_fu12m_spearman_mean</th>\n",
       "      <td>fu18m</td>\n",
       "      <td>fu12m</td>\n",
       "      <td>0.797619</td>\n",
       "      <td>0.056891</td>\n",
       "    </tr>\n",
       "    <tr>\n",
       "      <th>fu18m_fu18m_spearman_mean</th>\n",
       "      <td>fu18m</td>\n",
       "      <td>fu18m</td>\n",
       "      <td>1.0</td>\n",
       "      <td>0.0</td>\n",
       "    </tr>\n",
       "  </tbody>\n",
       "</table>\n",
       "</div>"
      ],
      "text/plain": [
       "                            session_1 session_2 mean_spearmanr mean_pval\n",
       "postop_postop_spearman_mean    postop    postop            1.0       0.0\n",
       "postop_fu3m_spearman_mean      postop      fu3m       0.575893  0.252464\n",
       "postop_fu12m_spearman_mean     postop     fu12m       0.640873  0.125557\n",
       "postop_fu18m_spearman_mean     postop     fu18m       0.797619  0.020716\n",
       "fu3m_postop_spearman_mean        fu3m    postop       0.575893  0.252464\n",
       "fu3m_fu3m_spearman_mean          fu3m      fu3m            1.0       0.0\n",
       "fu3m_fu12m_spearman_mean         fu3m     fu12m       0.771164  0.093812\n",
       "fu3m_fu18m_spearman_mean         fu3m     fu18m       0.797619  0.095895\n",
       "fu12m_postop_spearman_mean      fu12m    postop       0.640873  0.125557\n",
       "fu12m_fu3m_spearman_mean        fu12m      fu3m       0.771164  0.093812\n",
       "fu12m_fu12m_spearman_mean       fu12m     fu12m            1.0       0.0\n",
       "fu12m_fu18m_spearman_mean       fu12m     fu18m       0.797619  0.056891\n",
       "fu18m_postop_spearman_mean      fu18m    postop       0.797619  0.020716\n",
       "fu18m_fu3m_spearman_mean        fu18m      fu3m       0.797619  0.095895\n",
       "fu18m_fu12m_spearman_mean       fu18m     fu12m       0.797619  0.056891\n",
       "fu18m_fu18m_spearman_mean       fu18m     fu18m            1.0       0.0"
      ]
     },
     "execution_count": 17,
     "metadata": {},
     "output_type": "execute_result"
    }
   ],
   "source": [
    "spearman_df"
   ]
  },
  {
   "cell_type": "code",
   "execution_count": 18,
   "metadata": {},
   "outputs": [
    {
     "data": {
      "text/plain": [
       "<matplotlib.image.AxesImage at 0x1f6ab57afb0>"
      ]
     },
     "execution_count": 18,
     "metadata": {},
     "output_type": "execute_result"
    },
    {
     "data": {
      "image/png": "[encoded data removed]",
      "text/plain": [
       "<Figure size 640x480 with 1 Axes>"
      ]
     },
     "metadata": {},
     "output_type": "display_data"
    }
   ],
   "source": [
    "mean_spearmanr = spearman_df.mean_spearmanr.values.astype(float)\n",
    "\n",
    "plt.imshow(mean_spearmanr.reshape(4,4))"
   ]
  },
  {
   "cell_type": "code",
   "execution_count": 19,
   "metadata": {},
   "outputs": [
    {
     "data": {
      "text/plain": [
       "array([[1.        , 0.57589286, 0.64087302, 0.79761905],\n",
       "       [0.57589286, 1.        , 0.77116402, 0.79761905],\n",
       "       [0.64087302, 0.77116402, 1.        , 0.79761905],\n",
       "       [0.79761905, 0.79761905, 0.79761905, 1.        ]])"
      ]
     },
     "execution_count": 19,
     "metadata": {},
     "output_type": "execute_result"
    }
   ],
   "source": [
    "mean_spearmanr.reshape(4,4)"
   ]
  },
  {
   "cell_type": "code",
   "execution_count": 20,
   "metadata": {},
   "outputs": [
    {
     "data": {
      "text/html": [
       "<div>\n",
       "<style scoped>\n",
       "    .dataframe tbody tr th:only-of-type {\n",
       "        vertical-align: middle;\n",
       "    }\n",
       "\n",
       "    .dataframe tbody tr th {\n",
       "        vertical-align: top;\n",
       "    }\n",
       "\n",
       "    .dataframe thead th {\n",
       "        text-align: right;\n",
       "    }\n",
       "</style>\n",
       "<table border=\"1\" class=\"dataframe\">\n",
       "  <thead>\n",
       "    <tr style=\"text-align: right;\">\n",
       "      <th></th>\n",
       "      <th>session_1</th>\n",
       "      <th>session_2</th>\n",
       "      <th>mean_spearmanr</th>\n",
       "    </tr>\n",
       "  </thead>\n",
       "  <tbody>\n",
       "    <tr>\n",
       "      <th>postop_postop_spearman_mean</th>\n",
       "      <td>postop</td>\n",
       "      <td>postop</td>\n",
       "      <td>1.0</td>\n",
       "    </tr>\n",
       "    <tr>\n",
       "      <th>postop_fu3m_spearman_mean</th>\n",
       "      <td>postop</td>\n",
       "      <td>fu3m</td>\n",
       "      <td>0.575893</td>\n",
       "    </tr>\n",
       "    <tr>\n",
       "      <th>postop_fu12m_spearman_mean</th>\n",
       "      <td>postop</td>\n",
       "      <td>fu12m</td>\n",
       "      <td>0.640873</td>\n",
       "    </tr>\n",
       "    <tr>\n",
       "      <th>postop_fu18m_spearman_mean</th>\n",
       "      <td>postop</td>\n",
       "      <td>fu18m</td>\n",
       "      <td>0.797619</td>\n",
       "    </tr>\n",
       "    <tr>\n",
       "      <th>fu3m_postop_spearman_mean</th>\n",
       "      <td>fu3m</td>\n",
       "      <td>postop</td>\n",
       "      <td>0.575893</td>\n",
       "    </tr>\n",
       "    <tr>\n",
       "      <th>fu3m_fu3m_spearman_mean</th>\n",
       "      <td>fu3m</td>\n",
       "      <td>fu3m</td>\n",
       "      <td>1.0</td>\n",
       "    </tr>\n",
       "    <tr>\n",
       "      <th>fu3m_fu12m_spearman_mean</th>\n",
       "      <td>fu3m</td>\n",
       "      <td>fu12m</td>\n",
       "      <td>0.771164</td>\n",
       "    </tr>\n",
       "    <tr>\n",
       "      <th>fu3m_fu18m_spearman_mean</th>\n",
       "      <td>fu3m</td>\n",
       "      <td>fu18m</td>\n",
       "      <td>0.797619</td>\n",
       "    </tr>\n",
       "    <tr>\n",
       "      <th>fu12m_postop_spearman_mean</th>\n",
       "      <td>fu12m</td>\n",
       "      <td>postop</td>\n",
       "      <td>0.640873</td>\n",
       "    </tr>\n",
       "    <tr>\n",
       "      <th>fu12m_fu3m_spearman_mean</th>\n",
       "      <td>fu12m</td>\n",
       "      <td>fu3m</td>\n",
       "      <td>0.771164</td>\n",
       "    </tr>\n",
       "    <tr>\n",
       "      <th>fu12m_fu12m_spearman_mean</th>\n",
       "      <td>fu12m</td>\n",
       "      <td>fu12m</td>\n",
       "      <td>1.0</td>\n",
       "    </tr>\n",
       "    <tr>\n",
       "      <th>fu12m_fu18m_spearman_mean</th>\n",
       "      <td>fu12m</td>\n",
       "      <td>fu18m</td>\n",
       "      <td>0.797619</td>\n",
       "    </tr>\n",
       "    <tr>\n",
       "      <th>fu18m_postop_spearman_mean</th>\n",
       "      <td>fu18m</td>\n",
       "      <td>postop</td>\n",
       "      <td>0.797619</td>\n",
       "    </tr>\n",
       "    <tr>\n",
       "      <th>fu18m_fu3m_spearman_mean</th>\n",
       "      <td>fu18m</td>\n",
       "      <td>fu3m</td>\n",
       "      <td>0.797619</td>\n",
       "    </tr>\n",
       "    <tr>\n",
       "      <th>fu18m_fu12m_spearman_mean</th>\n",
       "      <td>fu18m</td>\n",
       "      <td>fu12m</td>\n",
       "      <td>0.797619</td>\n",
       "    </tr>\n",
       "    <tr>\n",
       "      <th>fu18m_fu18m_spearman_mean</th>\n",
       "      <td>fu18m</td>\n",
       "      <td>fu18m</td>\n",
       "      <td>1.0</td>\n",
       "    </tr>\n",
       "  </tbody>\n",
       "</table>\n",
       "</div>"
      ],
      "text/plain": [
       "                            session_1 session_2 mean_spearmanr\n",
       "postop_postop_spearman_mean    postop    postop            1.0\n",
       "postop_fu3m_spearman_mean      postop      fu3m       0.575893\n",
       "postop_fu12m_spearman_mean     postop     fu12m       0.640873\n",
       "postop_fu18m_spearman_mean     postop     fu18m       0.797619\n",
       "fu3m_postop_spearman_mean        fu3m    postop       0.575893\n",
       "fu3m_fu3m_spearman_mean          fu3m      fu3m            1.0\n",
       "fu3m_fu12m_spearman_mean         fu3m     fu12m       0.771164\n",
       "fu3m_fu18m_spearman_mean         fu3m     fu18m       0.797619\n",
       "fu12m_postop_spearman_mean      fu12m    postop       0.640873\n",
       "fu12m_fu3m_spearman_mean        fu12m      fu3m       0.771164\n",
       "fu12m_fu12m_spearman_mean       fu12m     fu12m            1.0\n",
       "fu12m_fu18m_spearman_mean       fu12m     fu18m       0.797619\n",
       "fu18m_postop_spearman_mean      fu18m    postop       0.797619\n",
       "fu18m_fu3m_spearman_mean        fu18m      fu3m       0.797619\n",
       "fu18m_fu12m_spearman_mean       fu18m     fu12m       0.797619\n",
       "fu18m_fu18m_spearman_mean       fu18m     fu18m            1.0"
      ]
     },
     "execution_count": 20,
     "metadata": {},
     "output_type": "execute_result"
    }
   ],
   "source": [
    "spearman_heatmap = spearman_df.loc[:, [\"session_1\", \"session_2\", \"mean_spearmanr\"]]\n",
    "spearman_heatmap"
   ]
  },
  {
   "cell_type": "code",
   "execution_count": 23,
   "metadata": {},
   "outputs": [],
   "source": [
    "column_mean = spearman_heatmap.pop(\"mean_spearmanr\")\n",
    "spearman_heatmap.insert(0, \"mean_spearmanr\", column_mean)"
   ]
  },
  {
   "cell_type": "code",
   "execution_count": 24,
   "metadata": {},
   "outputs": [
    {
     "data": {
      "text/html": [
       "<div>\n",
       "<style scoped>\n",
       "    .dataframe tbody tr th:only-of-type {\n",
       "        vertical-align: middle;\n",
       "    }\n",
       "\n",
       "    .dataframe tbody tr th {\n",
       "        vertical-align: top;\n",
       "    }\n",
       "\n",
       "    .dataframe thead th {\n",
       "        text-align: right;\n",
       "    }\n",
       "</style>\n",
       "<table border=\"1\" class=\"dataframe\">\n",
       "  <thead>\n",
       "    <tr style=\"text-align: right;\">\n",
       "      <th></th>\n",
       "      <th>mean_spearmanr</th>\n",
       "      <th>session_1</th>\n",
       "      <th>session_2</th>\n",
       "    </tr>\n",
       "  </thead>\n",
       "  <tbody>\n",
       "    <tr>\n",
       "      <th>postop_postop_spearman_mean</th>\n",
       "      <td>1.0</td>\n",
       "      <td>postop</td>\n",
       "      <td>postop</td>\n",
       "    </tr>\n",
       "    <tr>\n",
       "      <th>postop_fu3m_spearman_mean</th>\n",
       "      <td>0.575893</td>\n",
       "      <td>postop</td>\n",
       "      <td>fu3m</td>\n",
       "    </tr>\n",
       "    <tr>\n",
       "      <th>postop_fu12m_spearman_mean</th>\n",
       "      <td>0.640873</td>\n",
       "      <td>postop</td>\n",
       "      <td>fu12m</td>\n",
       "    </tr>\n",
       "    <tr>\n",
       "      <th>postop_fu18m_spearman_mean</th>\n",
       "      <td>0.797619</td>\n",
       "      <td>postop</td>\n",
       "      <td>fu18m</td>\n",
       "    </tr>\n",
       "    <tr>\n",
       "      <th>fu3m_postop_spearman_mean</th>\n",
       "      <td>0.575893</td>\n",
       "      <td>fu3m</td>\n",
       "      <td>postop</td>\n",
       "    </tr>\n",
       "    <tr>\n",
       "      <th>fu3m_fu3m_spearman_mean</th>\n",
       "      <td>1.0</td>\n",
       "      <td>fu3m</td>\n",
       "      <td>fu3m</td>\n",
       "    </tr>\n",
       "    <tr>\n",
       "      <th>fu3m_fu12m_spearman_mean</th>\n",
       "      <td>0.771164</td>\n",
       "      <td>fu3m</td>\n",
       "      <td>fu12m</td>\n",
       "    </tr>\n",
       "    <tr>\n",
       "      <th>fu3m_fu18m_spearman_mean</th>\n",
       "      <td>0.797619</td>\n",
       "      <td>fu3m</td>\n",
       "      <td>fu18m</td>\n",
       "    </tr>\n",
       "    <tr>\n",
       "      <th>fu12m_postop_spearman_mean</th>\n",
       "      <td>0.640873</td>\n",
       "      <td>fu12m</td>\n",
       "      <td>postop</td>\n",
       "    </tr>\n",
       "    <tr>\n",
       "      <th>fu12m_fu3m_spearman_mean</th>\n",
       "      <td>0.771164</td>\n",
       "      <td>fu12m</td>\n",
       "      <td>fu3m</td>\n",
       "    </tr>\n",
       "    <tr>\n",
       "      <th>fu12m_fu12m_spearman_mean</th>\n",
       "      <td>1.0</td>\n",
       "      <td>fu12m</td>\n",
       "      <td>fu12m</td>\n",
       "    </tr>\n",
       "    <tr>\n",
       "      <th>fu12m_fu18m_spearman_mean</th>\n",
       "      <td>0.797619</td>\n",
       "      <td>fu12m</td>\n",
       "      <td>fu18m</td>\n",
       "    </tr>\n",
       "    <tr>\n",
       "      <th>fu18m_postop_spearman_mean</th>\n",
       "      <td>0.797619</td>\n",
       "      <td>fu18m</td>\n",
       "      <td>postop</td>\n",
       "    </tr>\n",
       "    <tr>\n",
       "      <th>fu18m_fu3m_spearman_mean</th>\n",
       "      <td>0.797619</td>\n",
       "      <td>fu18m</td>\n",
       "      <td>fu3m</td>\n",
       "    </tr>\n",
       "    <tr>\n",
       "      <th>fu18m_fu12m_spearman_mean</th>\n",
       "      <td>0.797619</td>\n",
       "      <td>fu18m</td>\n",
       "      <td>fu12m</td>\n",
       "    </tr>\n",
       "    <tr>\n",
       "      <th>fu18m_fu18m_spearman_mean</th>\n",
       "      <td>1.0</td>\n",
       "      <td>fu18m</td>\n",
       "      <td>fu18m</td>\n",
       "    </tr>\n",
       "  </tbody>\n",
       "</table>\n",
       "</div>"
      ],
      "text/plain": [
       "                            mean_spearmanr session_1 session_2\n",
       "postop_postop_spearman_mean            1.0    postop    postop\n",
       "postop_fu3m_spearman_mean         0.575893    postop      fu3m\n",
       "postop_fu12m_spearman_mean        0.640873    postop     fu12m\n",
       "postop_fu18m_spearman_mean        0.797619    postop     fu18m\n",
       "fu3m_postop_spearman_mean         0.575893      fu3m    postop\n",
       "fu3m_fu3m_spearman_mean                1.0      fu3m      fu3m\n",
       "fu3m_fu12m_spearman_mean          0.771164      fu3m     fu12m\n",
       "fu3m_fu18m_spearman_mean          0.797619      fu3m     fu18m\n",
       "fu12m_postop_spearman_mean        0.640873     fu12m    postop\n",
       "fu12m_fu3m_spearman_mean          0.771164     fu12m      fu3m\n",
       "fu12m_fu12m_spearman_mean              1.0     fu12m     fu12m\n",
       "fu12m_fu18m_spearman_mean         0.797619     fu12m     fu18m\n",
       "fu18m_postop_spearman_mean        0.797619     fu18m    postop\n",
       "fu18m_fu3m_spearman_mean          0.797619     fu18m      fu3m\n",
       "fu18m_fu12m_spearman_mean         0.797619     fu18m     fu12m\n",
       "fu18m_fu18m_spearman_mean              1.0     fu18m     fu18m"
      ]
     },
     "execution_count": 24,
     "metadata": {},
     "output_type": "execute_result"
    }
   ],
   "source": [
    "spearman_heatmap"
   ]
  },
  {
   "cell_type": "code",
   "execution_count": 25,
   "metadata": {},
   "outputs": [
    {
     "data": {
      "application/vnd.plotly.v1+json": {
       "config": {
        "plotlyServerURL": "https://plot.ly"
       },
       "data": [
        {
         "coloraxis": "coloraxis",
         "hovertemplate": "session 1: %{x}<br>session 2: %{y}<br>Mean of spearman correlation: %{z}<extra></extra>",
         "name": "0",
         "type": "heatmap",
         "x": [
          "postop",
          "fu3m",
          "fu12m",
          "fu18m"
         ],
         "xaxis": "x",
         "y": [
          "postop",
          "fu3m",
          "fu12m",
          "fu18m"
         ],
         "yaxis": "y",
         "z": [
          [
           1,
           0.5758928571428572,
           0.6408730158730159,
           0.7976190476190478
          ],
          [
           0.5758928571428572,
           1,
           0.7711640211640214,
           0.7976190476190477
          ],
          [
           0.6408730158730159,
           0.7711640211640214,
           1,
           0.7976190476190477
          ],
          [
           0.7976190476190478,
           0.7976190476190477,
           0.7976190476190477,
           1
          ]
         ]
        }
       ],
       "layout": {
        "coloraxis": {
         "colorbar": {
          "title": {
           "text": "Mean of spearman correlation"
          }
         },
         "colorscale": [
          [
           0,
           "#0d0887"
          ],
          [
           0.1111111111111111,
           "#46039f"
          ],
          [
           0.2222222222222222,
           "#7201a8"
          ],
          [
           0.3333333333333333,
           "#9c179e"
          ],
          [
           0.4444444444444444,
           "#bd3786"
          ],
          [
           0.5555555555555556,
           "#d8576b"
          ],
          [
           0.6666666666666666,
           "#ed7953"
          ],
          [
           0.7777777777777778,
           "#fb9f3a"
          ],
          [
           0.8888888888888888,
           "#fdca26"
          ],
          [
           1,
           "#f0f921"
          ]
         ]
        },
        "margin": {
         "t": 60
        },
        "template": {
         "data": {
          "bar": [
           {
            "error_x": {
             "color": "#2a3f5f"
            },
            "error_y": {
             "color": "#2a3f5f"
            },
            "marker": {
             "line": {
              "color": "#E5ECF6",
              "width": 0.5
             },
             "pattern": {
              "fillmode": "overlay",
              "size": 10,
              "solidity": 0.2
             }
            },
            "type": "bar"
           }
          ],
          "barpolar": [
           {
            "marker": {
             "line": {
              "color": "#E5ECF6",
              "width": 0.5
             },
             "pattern": {
              "fillmode": "overlay",
              "size": 10,
              "solidity": 0.2
             }
            },
            "type": "barpolar"
           }
          ],
          "carpet": [
           {
            "aaxis": {
             "endlinecolor": "#2a3f5f",
             "gridcolor": "white",
             "linecolor": "white",
             "minorgridcolor": "white",
             "startlinecolor": "#2a3f5f"
            },
            "baxis": {
             "endlinecolor": "#2a3f5f",
             "gridcolor": "white",
             "linecolor": "white",
             "minorgridcolor": "white",
             "startlinecolor": "#2a3f5f"
            },
            "type": "carpet"
           }
          ],
          "choropleth": [
           {
            "colorbar": {
             "outlinewidth": 0,
             "ticks": ""
            },
            "type": "choropleth"
           }
          ],
          "contour": [
           {
            "colorbar": {
             "outlinewidth": 0,
             "ticks": ""
            },
            "colorscale": [
             [
              0,
              "#0d0887"
             ],
             [
              0.1111111111111111,
              "#46039f"
             ],
             [
              0.2222222222222222,
              "#7201a8"
             ],
             [
              0.3333333333333333,
              "#9c179e"
             ],
             [
              0.4444444444444444,
              "#bd3786"
             ],
             [
              0.5555555555555556,
              "#d8576b"
             ],
             [
              0.6666666666666666,
              "#ed7953"
             ],
             [
              0.7777777777777778,
              "#fb9f3a"
             ],
             [
              0.8888888888888888,
              "#fdca26"
             ],
             [
              1,
              "#f0f921"
             ]
            ],
            "type": "contour"
           }
          ],
          "contourcarpet": [
           {
            "colorbar": {
             "outlinewidth": 0,
             "ticks": ""
            },
            "type": "contourcarpet"
           }
          ],
          "heatmap": [
           {
            "colorbar": {
             "outlinewidth": 0,
             "ticks": ""
            },
            "colorscale": [
             [
              0,
              "#0d0887"
             ],
             [
              0.1111111111111111,
              "#46039f"
             ],
             [
              0.2222222222222222,
              "#7201a8"
             ],
             [
              0.3333333333333333,
              "#9c179e"
             ],
             [
              0.4444444444444444,
              "#bd3786"
             ],
             [
              0.5555555555555556,
              "#d8576b"
             ],
             [
              0.6666666666666666,
              "#ed7953"
             ],
             [
              0.7777777777777778,
              "#fb9f3a"
             ],
             [
              0.8888888888888888,
              "#fdca26"
             ],
             [
              1,
              "#f0f921"
             ]
            ],
            "type": "heatmap"
           }
          ],
          "heatmapgl": [
           {
            "colorbar": {
             "outlinewidth": 0,
             "ticks": ""
            },
            "colorscale": [
             [
              0,
              "#0d0887"
             ],
             [
              0.1111111111111111,
              "#46039f"
             ],
             [
              0.2222222222222222,
              "#7201a8"
             ],
             [
              0.3333333333333333,
              "#9c179e"
             ],
             [
              0.4444444444444444,
              "#bd3786"
             ],
             [
              0.5555555555555556,
              "#d8576b"
             ],
             [
              0.6666666666666666,
              "#ed7953"
             ],
             [
              0.7777777777777778,
              "#fb9f3a"
             ],
             [
              0.8888888888888888,
              "#fdca26"
             ],
             [
              1,
              "#f0f921"
             ]
            ],
            "type": "heatmapgl"
           }
          ],
          "histogram": [
           {
            "marker": {
             "pattern": {
              "fillmode": "overlay",
              "size": 10,
              "solidity": 0.2
             }
            },
            "type": "histogram"
           }
          ],
          "histogram2d": [
           {
            "colorbar": {
             "outlinewidth": 0,
             "ticks": ""
            },
            "colorscale": [
             [
              0,
              "#0d0887"
             ],
             [
              0.1111111111111111,
              "#46039f"
             ],
             [
              0.2222222222222222,
              "#7201a8"
             ],
             [
              0.3333333333333333,
              "#9c179e"
             ],
             [
              0.4444444444444444,
              "#bd3786"
             ],
             [
              0.5555555555555556,
              "#d8576b"
             ],
             [
              0.6666666666666666,
              "#ed7953"
             ],
             [
              0.7777777777777778,
              "#fb9f3a"
             ],
             [
              0.8888888888888888,
              "#fdca26"
             ],
             [
              1,
              "#f0f921"
             ]
            ],
            "type": "histogram2d"
           }
          ],
          "histogram2dcontour": [
           {
            "colorbar": {
             "outlinewidth": 0,
             "ticks": ""
            },
            "colorscale": [
             [
              0,
              "#0d0887"
             ],
             [
              0.1111111111111111,
              "#46039f"
             ],
             [
              0.2222222222222222,
              "#7201a8"
             ],
             [
              0.3333333333333333,
              "#9c179e"
             ],
             [
              0.4444444444444444,
              "#bd3786"
             ],
             [
              0.5555555555555556,
              "#d8576b"
             ],
             [
              0.6666666666666666,
              "#ed7953"
             ],
             [
              0.7777777777777778,
              "#fb9f3a"
             ],
             [
              0.8888888888888888,
              "#fdca26"
             ],
             [
              1,
              "#f0f921"
             ]
            ],
            "type": "histogram2dcontour"
           }
          ],
          "mesh3d": [
           {
            "colorbar": {
             "outlinewidth": 0,
             "ticks": ""
            },
            "type": "mesh3d"
           }
          ],
          "parcoords": [
           {
            "line": {
             "colorbar": {
              "outlinewidth": 0,
              "ticks": ""
             }
            },
            "type": "parcoords"
           }
          ],
          "pie": [
           {
            "automargin": true,
            "type": "pie"
           }
          ],
          "scatter": [
           {
            "fillpattern": {
             "fillmode": "overlay",
             "size": 10,
             "solidity": 0.2
            },
            "type": "scatter"
           }
          ],
          "scatter3d": [
           {
            "line": {
             "colorbar": {
              "outlinewidth": 0,
              "ticks": ""
             }
            },
            "marker": {
             "colorbar": {
              "outlinewidth": 0,
              "ticks": ""
             }
            },
            "type": "scatter3d"
           }
          ],
          "scattercarpet": [
           {
            "marker": {
             "colorbar": {
              "outlinewidth": 0,
              "ticks": ""
             }
            },
            "type": "scattercarpet"
           }
          ],
          "scattergeo": [
           {
            "marker": {
             "colorbar": {
              "outlinewidth": 0,
              "ticks": ""
             }
            },
            "type": "scattergeo"
           }
          ],
          "scattergl": [
           {
            "marker": {
             "colorbar": {
              "outlinewidth": 0,
              "ticks": ""
             }
            },
            "type": "scattergl"
           }
          ],
          "scattermapbox": [
           {
            "marker": {
             "colorbar": {
              "outlinewidth": 0,
              "ticks": ""
             }
            },
            "type": "scattermapbox"
           }
          ],
          "scatterpolar": [
           {
            "marker": {
             "colorbar": {
              "outlinewidth": 0,
              "ticks": ""
             }
            },
            "type": "scatterpolar"
           }
          ],
          "scatterpolargl": [
           {
            "marker": {
             "colorbar": {
              "outlinewidth": 0,
              "ticks": ""
             }
            },
            "type": "scatterpolargl"
           }
          ],
          "scatterternary": [
           {
            "marker": {
             "colorbar": {
              "outlinewidth": 0,
              "ticks": ""
             }
            },
            "type": "scatterternary"
           }
          ],
          "surface": [
           {
            "colorbar": {
             "outlinewidth": 0,
             "ticks": ""
            },
            "colorscale": [
             [
              0,
              "#0d0887"
             ],
             [
              0.1111111111111111,
              "#46039f"
             ],
             [
              0.2222222222222222,
              "#7201a8"
             ],
             [
              0.3333333333333333,
              "#9c179e"
             ],
             [
              0.4444444444444444,
              "#bd3786"
             ],
             [
              0.5555555555555556,
              "#d8576b"
             ],
             [
              0.6666666666666666,
              "#ed7953"
             ],
             [
              0.7777777777777778,
              "#fb9f3a"
             ],
             [
              0.8888888888888888,
              "#fdca26"
             ],
             [
              1,
              "#f0f921"
             ]
            ],
            "type": "surface"
           }
          ],
          "table": [
           {
            "cells": {
             "fill": {
              "color": "#EBF0F8"
             },
             "line": {
              "color": "white"
             }
            },
            "header": {
             "fill": {
              "color": "#C8D4E3"
             },
             "line": {
              "color": "white"
             }
            },
            "type": "table"
           }
          ]
         },
         "layout": {
          "annotationdefaults": {
           "arrowcolor": "#2a3f5f",
           "arrowhead": 0,
           "arrowwidth": 1
          },
          "autotypenumbers": "strict",
          "coloraxis": {
           "colorbar": {
            "outlinewidth": 0,
            "ticks": ""
           }
          },
          "colorscale": {
           "diverging": [
            [
             0,
             "#8e0152"
            ],
            [
             0.1,
             "#c51b7d"
            ],
            [
             0.2,
             "#de77ae"
            ],
            [
             0.3,
             "#f1b6da"
            ],
            [
             0.4,
             "#fde0ef"
            ],
            [
             0.5,
             "#f7f7f7"
            ],
            [
             0.6,
             "#e6f5d0"
            ],
            [
             0.7,
             "#b8e186"
            ],
            [
             0.8,
             "#7fbc41"
            ],
            [
             0.9,
             "#4d9221"
            ],
            [
             1,
             "#276419"
            ]
           ],
           "sequential": [
            [
             0,
             "#0d0887"
            ],
            [
             0.1111111111111111,
             "#46039f"
            ],
            [
             0.2222222222222222,
             "#7201a8"
            ],
            [
             0.3333333333333333,
             "#9c179e"
            ],
            [
             0.4444444444444444,
             "#bd3786"
            ],
            [
             0.5555555555555556,
             "#d8576b"
            ],
            [
             0.6666666666666666,
             "#ed7953"
            ],
            [
             0.7777777777777778,
             "#fb9f3a"
            ],
            [
             0.8888888888888888,
             "#fdca26"
            ],
            [
             1,
             "#f0f921"
            ]
           ],
           "sequentialminus": [
            [
             0,
             "#0d0887"
            ],
            [
             0.1111111111111111,
             "#46039f"
            ],
            [
             0.2222222222222222,
             "#7201a8"
            ],
            [
             0.3333333333333333,
             "#9c179e"
            ],
            [
             0.4444444444444444,
             "#bd3786"
            ],
            [
             0.5555555555555556,
             "#d8576b"
            ],
            [
             0.6666666666666666,
             "#ed7953"
            ],
            [
             0.7777777777777778,
             "#fb9f3a"
            ],
            [
             0.8888888888888888,
             "#fdca26"
            ],
            [
             1,
             "#f0f921"
            ]
           ]
          },
          "colorway": [
           "#636efa",
           "#EF553B",
           "#00cc96",
           "#ab63fa",
           "#FFA15A",
           "#19d3f3",
           "#FF6692",
           "#B6E880",
           "#FF97FF",
           "#FECB52"
          ],
          "font": {
           "color": "#2a3f5f"
          },
          "geo": {
           "bgcolor": "white",
           "lakecolor": "white",
           "landcolor": "#E5ECF6",
           "showlakes": true,
           "showland": true,
           "subunitcolor": "white"
          },
          "hoverlabel": {
           "align": "left"
          },
          "hovermode": "closest",
          "mapbox": {
           "style": "light"
          },
          "paper_bgcolor": "white",
          "plot_bgcolor": "#E5ECF6",
          "polar": {
           "angularaxis": {
            "gridcolor": "white",
            "linecolor": "white",
            "ticks": ""
           },
           "bgcolor": "#E5ECF6",
           "radialaxis": {
            "gridcolor": "white",
            "linecolor": "white",
            "ticks": ""
           }
          },
          "scene": {
           "xaxis": {
            "backgroundcolor": "#E5ECF6",
            "gridcolor": "white",
            "gridwidth": 2,
            "linecolor": "white",
            "showbackground": true,
            "ticks": "",
            "zerolinecolor": "white"
           },
           "yaxis": {
            "backgroundcolor": "#E5ECF6",
            "gridcolor": "white",
            "gridwidth": 2,
            "linecolor": "white",
            "showbackground": true,
            "ticks": "",
            "zerolinecolor": "white"
           },
           "zaxis": {
            "backgroundcolor": "#E5ECF6",
            "gridcolor": "white",
            "gridwidth": 2,
            "linecolor": "white",
            "showbackground": true,
            "ticks": "",
            "zerolinecolor": "white"
           }
          },
          "shapedefaults": {
           "line": {
            "color": "#2a3f5f"
           }
          },
          "ternary": {
           "aaxis": {
            "gridcolor": "white",
            "linecolor": "white",
            "ticks": ""
           },
           "baxis": {
            "gridcolor": "white",
            "linecolor": "white",
            "ticks": ""
           },
           "bgcolor": "#E5ECF6",
           "caxis": {
            "gridcolor": "white",
            "linecolor": "white",
            "ticks": ""
           }
          },
          "title": {
           "x": 0.05
          },
          "xaxis": {
           "automargin": true,
           "gridcolor": "white",
           "linecolor": "white",
           "ticks": "",
           "title": {
            "standoff": 15
           },
           "zerolinecolor": "white",
           "zerolinewidth": 2
          },
          "yaxis": {
           "automargin": true,
           "gridcolor": "white",
           "linecolor": "white",
           "ticks": "",
           "title": {
            "standoff": 15
           },
           "zerolinecolor": "white",
           "zerolinewidth": 2
          }
         }
        },
        "xaxis": {
         "anchor": "y",
         "constrain": "domain",
         "domain": [
          0,
          1
         ],
         "scaleanchor": "y",
         "side": "top",
         "title": {
          "text": "session 1"
         }
        },
        "yaxis": {
         "anchor": "x",
         "autorange": "reversed",
         "constrain": "domain",
         "domain": [
          0,
          1
         ],
         "title": {
          "text": "session 2"
         }
        }
       }
      }
     },
     "metadata": {},
     "output_type": "display_data"
    }
   ],
   "source": [
    "import plotly.express as px\n",
    "\n",
    "# data=[[0.575893, 0.640873, 0.797619], [None, 0.771164, 0.797619], [None, None, 0.797619]] # no absolute \n",
    "# data = [[0.590774, 0.740079, 0.797619], [1, 0.810847, 0.797619], [0.810847, 1, 0.85]] # Mean of absolute values, 1 manually added for correlation fu3m-fu3m and fu12m-fu12m\n",
    "data = mean_spearmanr.reshape(4,4)\n",
    "\n",
    "fig = px.imshow(data,\n",
    "                labels=dict(x=\"session 1\", y=\"session 2\", color=\"Mean of spearman correlation\"),\n",
    "                x=['postop', 'fu3m', 'fu12m', 'fu18m'],\n",
    "                y=['postop', 'fu3m', 'fu12m', 'fu18m'],\n",
    "               )\n",
    "fig.update_xaxes(side=\"top\")\n",
    "fig.show()"
   ]
  },
  {
   "cell_type": "code",
   "execution_count": null,
   "metadata": {},
   "outputs": [],
   "source": [
    "figures_path = find_folders.get_local_path(folder=\"GroupFigures\")\n",
    "\n",
    "filename = os.path.join(figures_path, \"Monopol_session_correlations_heatmap_beta_relPsd_mean\")\n",
    "\n",
    "fig.write_image(filename, format=\"png\")"
   ]
  },
  {
   "attachments": {},
   "cell_type": "markdown",
   "metadata": {},
   "source": [
    "## 4. Quantify the change of levels and directions of monopolar beta ranks"
   ]
  },
  {
   "cell_type": "code",
   "execution_count": 9,
   "metadata": {},
   "outputs": [
    {
     "name": "stdout",
     "output_type": "stream",
     "text": [
      "pickle file loaded:  GroupMonopolar_weightedPsdCoordinateDistance_relToRank1_beta_rawPsd_band-pass.pickle \n",
      "loaded from:  c:\\Users\\jebe12\\Research\\Longterm_beta_project\\results\n"
     ]
    }
   ],
   "source": [
    "# load the monolopar beta psd for for each electrode at different timepoints\n",
    "data_weightedByCoordinates = loadResults.load_GroupMonoRef_weightedPsdCoordinateDistance_pickle(\n",
    "    freqBand=\"beta\",\n",
    "    normalization=\"rawPsd\",\n",
    "    filterSignal=\"band-pass\"\n",
    "\n",
    ")"
   ]
  },
  {
   "cell_type": "code",
   "execution_count": 10,
   "metadata": {},
   "outputs": [
    {
     "data": {
      "text/html": [
       "<div>\n",
       "<style scoped>\n",
       "    .dataframe tbody tr th:only-of-type {\n",
       "        vertical-align: middle;\n",
       "    }\n",
       "\n",
       "    .dataframe tbody tr th {\n",
       "        vertical-align: top;\n",
       "    }\n",
       "\n",
       "    .dataframe thead th {\n",
       "        text-align: right;\n",
       "    }\n",
       "</style>\n",
       "<table border=\"1\" class=\"dataframe\">\n",
       "  <thead>\n",
       "    <tr style=\"text-align: right;\">\n",
       "      <th></th>\n",
       "      <th>contact</th>\n",
       "      <th>coord_z</th>\n",
       "      <th>coord_xy</th>\n",
       "      <th>subject_hemisphere</th>\n",
       "      <th>session</th>\n",
       "      <th>averaged_monopolar_PSD_beta</th>\n",
       "      <th>rank</th>\n",
       "      <th>relativePSD_to_beta_Rank1</th>\n",
       "    </tr>\n",
       "  </thead>\n",
       "  <tbody>\n",
       "    <tr>\n",
       "      <th>0</th>\n",
       "      <td>0</td>\n",
       "      <td>0.0+0.0j</td>\n",
       "      <td>0.00+0.00j</td>\n",
       "      <td>017_Right</td>\n",
       "      <td>fu3m</td>\n",
       "      <td>0.206574</td>\n",
       "      <td>10.0</td>\n",
       "      <td>0.783786</td>\n",
       "    </tr>\n",
       "    <tr>\n",
       "      <th>1</th>\n",
       "      <td>1</td>\n",
       "      <td>2.0+0.0j</td>\n",
       "      <td>0.00+0.00j</td>\n",
       "      <td>017_Right</td>\n",
       "      <td>fu3m</td>\n",
       "      <td>0.242470</td>\n",
       "      <td>7.0</td>\n",
       "      <td>0.919984</td>\n",
       "    </tr>\n",
       "    <tr>\n",
       "      <th>2</th>\n",
       "      <td>2</td>\n",
       "      <td>4.0+0.0j</td>\n",
       "      <td>0.00+0.00j</td>\n",
       "      <td>017_Right</td>\n",
       "      <td>fu3m</td>\n",
       "      <td>0.254409</td>\n",
       "      <td>4.0</td>\n",
       "      <td>0.965286</td>\n",
       "    </tr>\n",
       "    <tr>\n",
       "      <th>3</th>\n",
       "      <td>3</td>\n",
       "      <td>6.0+0.0j</td>\n",
       "      <td>0.00+0.00j</td>\n",
       "      <td>017_Right</td>\n",
       "      <td>fu3m</td>\n",
       "      <td>0.263559</td>\n",
       "      <td>1.0</td>\n",
       "      <td>1.000000</td>\n",
       "    </tr>\n",
       "    <tr>\n",
       "      <th>4</th>\n",
       "      <td>1A</td>\n",
       "      <td>2.0+0.0j</td>\n",
       "      <td>0.65+0.00j</td>\n",
       "      <td>017_Right</td>\n",
       "      <td>fu3m</td>\n",
       "      <td>0.242557</td>\n",
       "      <td>6.0</td>\n",
       "      <td>0.920316</td>\n",
       "    </tr>\n",
       "  </tbody>\n",
       "</table>\n",
       "</div>"
      ],
      "text/plain": [
       "  contact   coord_z    coord_xy subject_hemisphere session  \\\n",
       "0       0  0.0+0.0j  0.00+0.00j          017_Right    fu3m   \n",
       "1       1  2.0+0.0j  0.00+0.00j          017_Right    fu3m   \n",
       "2       2  4.0+0.0j  0.00+0.00j          017_Right    fu3m   \n",
       "3       3  6.0+0.0j  0.00+0.00j          017_Right    fu3m   \n",
       "4      1A  2.0+0.0j  0.65+0.00j          017_Right    fu3m   \n",
       "\n",
       "   averaged_monopolar_PSD_beta  rank  relativePSD_to_beta_Rank1  \n",
       "0                     0.206574  10.0                   0.783786  \n",
       "1                     0.242470   7.0                   0.919984  \n",
       "2                     0.254409   4.0                   0.965286  \n",
       "3                     0.263559   1.0                   1.000000  \n",
       "4                     0.242557   6.0                   0.920316  "
      ]
     },
     "execution_count": 10,
     "metadata": {},
     "output_type": "execute_result"
    }
   ],
   "source": [
    "data_weightedByCoordinates.head()"
   ]
  },
  {
   "cell_type": "code",
   "execution_count": 11,
   "metadata": {},
   "outputs": [],
   "source": [
    "freqBand=\"beta\"\n",
    "normalization=\"rawPsd\"\n",
    "filterSignal=\"band-pass\"\n",
    "\n",
    "sessions = [\"postop\", \"fu3m\", \"fu12m\", \"fu18m\"]\n",
    "contacts = [\"0\", \"1A\", \"1B\", \"1C\", \"2A\", \"2B\", \"2C\", \"3\"]\n",
    "\n",
    "weightedByCoordinate_Dataframe = pd.DataFrame() # concat all Dataframes from all sub, hem, sessions\n",
    "\n",
    "\n",
    "# first check, which STNs and sessions exist in data \n",
    "sub_hem_keys = list(data_weightedByCoordinates.subject_hemisphere.unique())\n",
    "\n",
    "################## CHOOSE ONLY 8 CONTACTS AND RANK AGAIN ##################\n",
    "for STN in sub_hem_keys:\n",
    "\n",
    "    # select only one STN\n",
    "    STN_data = data_weightedByCoordinates[data_weightedByCoordinates.subject_hemisphere == STN]\n",
    "\n",
    "\n",
    "    for ses in sessions:\n",
    "\n",
    "        # first check, if session exists in STN data\n",
    "        if ses not in STN_data.session.values:\n",
    "            continue\n",
    "\n",
    "        \n",
    "        # get the dataframe per session\n",
    "        STN_session_data = STN_data[STN_data.session == ses]\n",
    "\n",
    "        # choose only directional contacts and Ring contacts 0, 3 and rank again only the chosen contacts\n",
    "        STN_session_data = STN_session_data[STN_session_data[\"contact\"].isin(contacts)]\n",
    "        STN_session_data[\"Rank8contacts\"] = STN_session_data[\"averaged_monopolar_PSD_beta\"].rank(ascending=False) # ranks 1-8\n",
    "        STN_session_data_copy = STN_session_data.copy()\n",
    "        STN_session_data_copy.drop([\"rank\"], axis=1, inplace=True)\n",
    "\n",
    "        # calculate the relative PSD to the highest PSD of the 8 remaining contacts\n",
    "        beta_rank_1 = STN_session_data_copy[STN_session_data_copy[\"Rank8contacts\"] == 1.0] # taking the row containing 1.0 in rank\n",
    "        beta_rank_1 = beta_rank_1[f\"averaged_monopolar_PSD_{freqBand}\"].values[0] # just taking psdAverage of rank 1.0\n",
    "\n",
    "        STN_session_data_copy[f\"relativePSD_to_{freqBand}_Rank1from8\"] = STN_session_data_copy.apply(lambda row: row[f\"averaged_monopolar_PSD_{freqBand}\"] / beta_rank_1, axis=1) # in each row add to new value psd/beta_rank1\n",
    "        STN_session_data_copy.drop([f\"relativePSD_to_{freqBand}_Rank1\"], axis=1, inplace=True)\n",
    "        # session_weightedByCoordinates_copy[\"subject_hemisphere_monoChannel\"] = session_weightedByCoordinates_copy[[\"subject_hemisphere\", \"monopolarChannels\"]].agg(\"_\".join, axis=1)\n",
    "        \n",
    "\n",
    "        weightedByCoordinate_Dataframe = pd.concat([weightedByCoordinate_Dataframe, STN_session_data_copy], ignore_index=True)"
   ]
  },
  {
   "cell_type": "code",
   "execution_count": 12,
   "metadata": {},
   "outputs": [
    {
     "data": {
      "text/html": [
       "<div>\n",
       "<style scoped>\n",
       "    .dataframe tbody tr th:only-of-type {\n",
       "        vertical-align: middle;\n",
       "    }\n",
       "\n",
       "    .dataframe tbody tr th {\n",
       "        vertical-align: top;\n",
       "    }\n",
       "\n",
       "    .dataframe thead th {\n",
       "        text-align: right;\n",
       "    }\n",
       "</style>\n",
       "<table border=\"1\" class=\"dataframe\">\n",
       "  <thead>\n",
       "    <tr style=\"text-align: right;\">\n",
       "      <th></th>\n",
       "      <th>contact</th>\n",
       "      <th>coord_z</th>\n",
       "      <th>coord_xy</th>\n",
       "      <th>subject_hemisphere</th>\n",
       "      <th>session</th>\n",
       "      <th>averaged_monopolar_PSD_beta</th>\n",
       "      <th>Rank8contacts</th>\n",
       "      <th>relativePSD_to_beta_Rank1from8</th>\n",
       "    </tr>\n",
       "  </thead>\n",
       "  <tbody>\n",
       "    <tr>\n",
       "      <th>0</th>\n",
       "      <td>0</td>\n",
       "      <td>0.0+0.0j</td>\n",
       "      <td>0.000000+0.000000j</td>\n",
       "      <td>017_Right</td>\n",
       "      <td>fu3m</td>\n",
       "      <td>0.206574</td>\n",
       "      <td>8.0</td>\n",
       "      <td>0.783786</td>\n",
       "    </tr>\n",
       "    <tr>\n",
       "      <th>1</th>\n",
       "      <td>3</td>\n",
       "      <td>6.0+0.0j</td>\n",
       "      <td>0.000000+0.000000j</td>\n",
       "      <td>017_Right</td>\n",
       "      <td>fu3m</td>\n",
       "      <td>0.263559</td>\n",
       "      <td>1.0</td>\n",
       "      <td>1.000000</td>\n",
       "    </tr>\n",
       "    <tr>\n",
       "      <th>2</th>\n",
       "      <td>1A</td>\n",
       "      <td>2.0+0.0j</td>\n",
       "      <td>0.650000+0.000000j</td>\n",
       "      <td>017_Right</td>\n",
       "      <td>fu3m</td>\n",
       "      <td>0.242557</td>\n",
       "      <td>5.0</td>\n",
       "      <td>0.920316</td>\n",
       "    </tr>\n",
       "    <tr>\n",
       "      <th>3</th>\n",
       "      <td>1B</td>\n",
       "      <td>2.0+0.0j</td>\n",
       "      <td>-0.325000+0.562917j</td>\n",
       "      <td>017_Right</td>\n",
       "      <td>fu3m</td>\n",
       "      <td>0.235433</td>\n",
       "      <td>7.0</td>\n",
       "      <td>0.893283</td>\n",
       "    </tr>\n",
       "    <tr>\n",
       "      <th>4</th>\n",
       "      <td>1C</td>\n",
       "      <td>2.0+0.0j</td>\n",
       "      <td>-0.325000-0.562917j</td>\n",
       "      <td>017_Right</td>\n",
       "      <td>fu3m</td>\n",
       "      <td>0.238925</td>\n",
       "      <td>6.0</td>\n",
       "      <td>0.906535</td>\n",
       "    </tr>\n",
       "  </tbody>\n",
       "</table>\n",
       "</div>"
      ],
      "text/plain": [
       "  contact   coord_z            coord_xy subject_hemisphere session  \\\n",
       "0       0  0.0+0.0j  0.000000+0.000000j          017_Right    fu3m   \n",
       "1       3  6.0+0.0j  0.000000+0.000000j          017_Right    fu3m   \n",
       "2      1A  2.0+0.0j  0.650000+0.000000j          017_Right    fu3m   \n",
       "3      1B  2.0+0.0j -0.325000+0.562917j          017_Right    fu3m   \n",
       "4      1C  2.0+0.0j -0.325000-0.562917j          017_Right    fu3m   \n",
       "\n",
       "   averaged_monopolar_PSD_beta  Rank8contacts  relativePSD_to_beta_Rank1from8  \n",
       "0                     0.206574            8.0                        0.783786  \n",
       "1                     0.263559            1.0                        1.000000  \n",
       "2                     0.242557            5.0                        0.920316  \n",
       "3                     0.235433            7.0                        0.893283  \n",
       "4                     0.238925            6.0                        0.906535  "
      ]
     },
     "execution_count": 12,
     "metadata": {},
     "output_type": "execute_result"
    }
   ],
   "source": [
    "weightedByCoordinate_Dataframe.head()"
   ]
  },
  {
   "cell_type": "code",
   "execution_count": 31,
   "metadata": {},
   "outputs": [],
   "source": [
    "ranks_1_to_8 = [1, 2, 3, 4, 5, 6, 7, 8]\n",
    "\n",
    "comparisons = [\"0_0\", \"0_3\", \"0_12\", \"0_18\", \n",
    "                \"3_0\", \"3_3\", \"3_12\", \"3_18\", \n",
    "                \"12_0\", \"12_3\", \"12_12\", \"12_18\",\n",
    "                \"18_0\", \"18_3\", \"18_12\", \"18_18\"]\n",
    "\n",
    "# list of STNs\n",
    "stn_list = list(weightedByCoordinate_Dataframe.subject_hemisphere.unique())\n",
    "\n",
    "# replace all session names by integers\n",
    "weightedByCoordinate_Dataframe = weightedByCoordinate_Dataframe.replace(to_replace=[\"postop\", \"fu3m\", \"fu12m\", \"fu18m\"], value=[0, 3, 12, 18])\n",
    "\n",
    "# Type of ranks should be integers \n",
    "weightedByCoordinate_Dataframe[\"Rank8contacts\"] = weightedByCoordinate_Dataframe[\"Rank8contacts\"].astype(int)\n",
    "\n",
    "# new column with level of contact\n",
    "weightedByCoordinate_Dataframe_copy = weightedByCoordinate_Dataframe.copy()\n",
    "weightedByCoordinate_Dataframe_copy = weightedByCoordinate_Dataframe_copy.assign(contact_level=weightedByCoordinate_Dataframe_copy[\"contact\"]).rename(columns={\"contact_level\": \"contact_level\"})\n",
    "weightedByCoordinate_Dataframe_copy[\"contact_level\"] = weightedByCoordinate_Dataframe_copy[\"contact_level\"].replace(to_replace=[\"0\", \"3\"], value=[0, 3])\n",
    "weightedByCoordinate_Dataframe_copy[\"contact_level\"] = weightedByCoordinate_Dataframe_copy[\"contact_level\"].replace(to_replace=[\"1A\", \"1B\", \"1C\"], value=[1, 1, 1])\n",
    "weightedByCoordinate_Dataframe_copy[\"contact_level\"] = weightedByCoordinate_Dataframe_copy[\"contact_level\"].replace(to_replace=[\"2A\", \"2B\", \"2C\"], value=[2, 2, 2])\n",
    "\n",
    "level_difference_dict = {}\n",
    "\n",
    "for comp in comparisons:\n",
    "\n",
    "    comp_split = comp.split(\"_\")\n",
    "    session_1 = int(comp_split[0]) # first session as integer\n",
    "    session_2 = int(comp_split[1])\n",
    "\n",
    "    for stn in stn_list:\n",
    "\n",
    "        # check for each STN, which ones have both sessions\n",
    "        stn_dataframe = weightedByCoordinate_Dataframe_copy.loc[weightedByCoordinate_Dataframe_copy.subject_hemisphere == stn]\n",
    "\n",
    "        if session_1 not in stn_dataframe.session.values:\n",
    "            continue\n",
    "\n",
    "        elif session_2 not in stn_dataframe.session.values:\n",
    "            continue\n",
    "\n",
    "        stn_session_1 = stn_dataframe.loc[stn_dataframe.session == session_1]\n",
    "        stn_session_2 = stn_dataframe.loc[stn_dataframe.session == session_2]\n",
    "\n",
    "        # go through each rank and calculate the difference of level between two sessions\n",
    "        for rank in ranks_1_to_8:\n",
    "\n",
    "            rank_session_1 = stn_session_1.loc[stn_session_1.Rank8contacts == rank] # row of one rank of session 1\n",
    "            rank_contact_level_session_1 = rank_session_1.contact_level.values[0] # level of rank as integer\n",
    "\n",
    "            rank_session_2 = stn_session_2.loc[stn_session_2.Rank8contacts == rank] # row of one rank of session 2\n",
    "            rank_contact_level_session_2 = rank_session_2.contact_level.values[0] # level of rank as integer\n",
    "\n",
    "            level_difference_rank = abs(rank_contact_level_session_1 - rank_contact_level_session_2) # difference of level as absolute number\n",
    "            \n",
    "            \n",
    "\n",
    "\n",
    "\n",
    "\n",
    "    \n",
    "\n"
   ]
  },
  {
   "cell_type": "code",
   "execution_count": 32,
   "metadata": {},
   "outputs": [
    {
     "data": {
      "text/plain": [
       "0"
      ]
     },
     "execution_count": 32,
     "metadata": {},
     "output_type": "execute_result"
    }
   ],
   "source": [
    "level_difference_rank"
   ]
  },
  {
   "cell_type": "code",
   "execution_count": 27,
   "metadata": {},
   "outputs": [
    {
     "data": {
      "text/html": [
       "<div>\n",
       "<style scoped>\n",
       "    .dataframe tbody tr th:only-of-type {\n",
       "        vertical-align: middle;\n",
       "    }\n",
       "\n",
       "    .dataframe tbody tr th {\n",
       "        vertical-align: top;\n",
       "    }\n",
       "\n",
       "    .dataframe thead th {\n",
       "        text-align: right;\n",
       "    }\n",
       "</style>\n",
       "<table border=\"1\" class=\"dataframe\">\n",
       "  <thead>\n",
       "    <tr style=\"text-align: right;\">\n",
       "      <th></th>\n",
       "      <th>contact</th>\n",
       "      <th>coord_z</th>\n",
       "      <th>coord_xy</th>\n",
       "      <th>subject_hemisphere</th>\n",
       "      <th>session</th>\n",
       "      <th>averaged_monopolar_PSD_beta</th>\n",
       "      <th>Rank8contacts</th>\n",
       "      <th>relativePSD_to_beta_Rank1from8</th>\n",
       "      <th>contact_level</th>\n",
       "    </tr>\n",
       "  </thead>\n",
       "  <tbody>\n",
       "    <tr>\n",
       "      <th>536</th>\n",
       "      <td>0</td>\n",
       "      <td>0.0+0.0j</td>\n",
       "      <td>0.000000+0.000000j</td>\n",
       "      <td>033_Left</td>\n",
       "      <td>18</td>\n",
       "      <td>0.777490</td>\n",
       "      <td>8</td>\n",
       "      <td>0.756794</td>\n",
       "      <td>0</td>\n",
       "    </tr>\n",
       "    <tr>\n",
       "      <th>537</th>\n",
       "      <td>3</td>\n",
       "      <td>6.0+0.0j</td>\n",
       "      <td>0.000000+0.000000j</td>\n",
       "      <td>033_Left</td>\n",
       "      <td>18</td>\n",
       "      <td>0.881220</td>\n",
       "      <td>4</td>\n",
       "      <td>0.857763</td>\n",
       "      <td>3</td>\n",
       "    </tr>\n",
       "    <tr>\n",
       "      <th>538</th>\n",
       "      <td>1A</td>\n",
       "      <td>2.0+0.0j</td>\n",
       "      <td>0.650000+0.000000j</td>\n",
       "      <td>033_Left</td>\n",
       "      <td>18</td>\n",
       "      <td>0.870028</td>\n",
       "      <td>6</td>\n",
       "      <td>0.846869</td>\n",
       "      <td>1</td>\n",
       "    </tr>\n",
       "    <tr>\n",
       "      <th>539</th>\n",
       "      <td>1B</td>\n",
       "      <td>2.0+0.0j</td>\n",
       "      <td>-0.325000+0.562917j</td>\n",
       "      <td>033_Left</td>\n",
       "      <td>18</td>\n",
       "      <td>0.870604</td>\n",
       "      <td>5</td>\n",
       "      <td>0.847430</td>\n",
       "      <td>1</td>\n",
       "    </tr>\n",
       "    <tr>\n",
       "      <th>540</th>\n",
       "      <td>1C</td>\n",
       "      <td>2.0+0.0j</td>\n",
       "      <td>-0.325000-0.562917j</td>\n",
       "      <td>033_Left</td>\n",
       "      <td>18</td>\n",
       "      <td>0.834022</td>\n",
       "      <td>7</td>\n",
       "      <td>0.811822</td>\n",
       "      <td>1</td>\n",
       "    </tr>\n",
       "    <tr>\n",
       "      <th>541</th>\n",
       "      <td>2A</td>\n",
       "      <td>4.0+0.0j</td>\n",
       "      <td>0.650000+0.000000j</td>\n",
       "      <td>033_Left</td>\n",
       "      <td>18</td>\n",
       "      <td>1.027346</td>\n",
       "      <td>1</td>\n",
       "      <td>1.000000</td>\n",
       "      <td>2</td>\n",
       "    </tr>\n",
       "    <tr>\n",
       "      <th>542</th>\n",
       "      <td>2B</td>\n",
       "      <td>4.0+0.0j</td>\n",
       "      <td>-0.325000+0.562917j</td>\n",
       "      <td>033_Left</td>\n",
       "      <td>18</td>\n",
       "      <td>1.012729</td>\n",
       "      <td>2</td>\n",
       "      <td>0.985772</td>\n",
       "      <td>2</td>\n",
       "    </tr>\n",
       "    <tr>\n",
       "      <th>543</th>\n",
       "      <td>2C</td>\n",
       "      <td>4.0+0.0j</td>\n",
       "      <td>-0.325000-0.562917j</td>\n",
       "      <td>033_Left</td>\n",
       "      <td>18</td>\n",
       "      <td>0.988632</td>\n",
       "      <td>3</td>\n",
       "      <td>0.962316</td>\n",
       "      <td>2</td>\n",
       "    </tr>\n",
       "  </tbody>\n",
       "</table>\n",
       "</div>"
      ],
      "text/plain": [
       "    contact   coord_z            coord_xy subject_hemisphere  session  \\\n",
       "536       0  0.0+0.0j  0.000000+0.000000j           033_Left       18   \n",
       "537       3  6.0+0.0j  0.000000+0.000000j           033_Left       18   \n",
       "538      1A  2.0+0.0j  0.650000+0.000000j           033_Left       18   \n",
       "539      1B  2.0+0.0j -0.325000+0.562917j           033_Left       18   \n",
       "540      1C  2.0+0.0j -0.325000-0.562917j           033_Left       18   \n",
       "541      2A  4.0+0.0j  0.650000+0.000000j           033_Left       18   \n",
       "542      2B  4.0+0.0j -0.325000+0.562917j           033_Left       18   \n",
       "543      2C  4.0+0.0j -0.325000-0.562917j           033_Left       18   \n",
       "\n",
       "     averaged_monopolar_PSD_beta  Rank8contacts  \\\n",
       "536                     0.777490              8   \n",
       "537                     0.881220              4   \n",
       "538                     0.870028              6   \n",
       "539                     0.870604              5   \n",
       "540                     0.834022              7   \n",
       "541                     1.027346              1   \n",
       "542                     1.012729              2   \n",
       "543                     0.988632              3   \n",
       "\n",
       "     relativePSD_to_beta_Rank1from8  contact_level  \n",
       "536                        0.756794              0  \n",
       "537                        0.857763              3  \n",
       "538                        0.846869              1  \n",
       "539                        0.847430              1  \n",
       "540                        0.811822              1  \n",
       "541                        1.000000              2  \n",
       "542                        0.985772              2  \n",
       "543                        0.962316              2  "
      ]
     },
     "execution_count": 27,
     "metadata": {},
     "output_type": "execute_result"
    }
   ],
   "source": [
    "stn_session_1"
   ]
  },
  {
   "cell_type": "code",
   "execution_count": 26,
   "metadata": {},
   "outputs": [
    {
     "data": {
      "text/plain": [
       "numpy.int32"
      ]
     },
     "execution_count": 26,
     "metadata": {},
     "output_type": "execute_result"
    }
   ],
   "source": [
    "type(weightedByCoordinate_Dataframe_copy.Rank8contacts.values[0])"
   ]
  },
  {
   "cell_type": "code",
   "execution_count": 15,
   "metadata": {},
   "outputs": [
    {
     "data": {
      "text/html": [
       "<div>\n",
       "<style scoped>\n",
       "    .dataframe tbody tr th:only-of-type {\n",
       "        vertical-align: middle;\n",
       "    }\n",
       "\n",
       "    .dataframe tbody tr th {\n",
       "        vertical-align: top;\n",
       "    }\n",
       "\n",
       "    .dataframe thead th {\n",
       "        text-align: right;\n",
       "    }\n",
       "</style>\n",
       "<table border=\"1\" class=\"dataframe\">\n",
       "  <thead>\n",
       "    <tr style=\"text-align: right;\">\n",
       "      <th></th>\n",
       "      <th>contact</th>\n",
       "      <th>coord_z</th>\n",
       "      <th>coord_xy</th>\n",
       "      <th>subject_hemisphere</th>\n",
       "      <th>session</th>\n",
       "      <th>averaged_monopolar_PSD_beta</th>\n",
       "      <th>Rank8contacts</th>\n",
       "      <th>relativePSD_to_beta_Rank1from8</th>\n",
       "      <th>contact_level</th>\n",
       "    </tr>\n",
       "  </thead>\n",
       "  <tbody>\n",
       "    <tr>\n",
       "      <th>0</th>\n",
       "      <td>0</td>\n",
       "      <td>0.0+0.0j</td>\n",
       "      <td>0.000000+0.000000j</td>\n",
       "      <td>017_Right</td>\n",
       "      <td>3</td>\n",
       "      <td>0.206574</td>\n",
       "      <td>8.0</td>\n",
       "      <td>0.783786</td>\n",
       "      <td>0</td>\n",
       "    </tr>\n",
       "    <tr>\n",
       "      <th>1</th>\n",
       "      <td>3</td>\n",
       "      <td>6.0+0.0j</td>\n",
       "      <td>0.000000+0.000000j</td>\n",
       "      <td>017_Right</td>\n",
       "      <td>3</td>\n",
       "      <td>0.263559</td>\n",
       "      <td>1.0</td>\n",
       "      <td>1.000000</td>\n",
       "      <td>3</td>\n",
       "    </tr>\n",
       "    <tr>\n",
       "      <th>2</th>\n",
       "      <td>1A</td>\n",
       "      <td>2.0+0.0j</td>\n",
       "      <td>0.650000+0.000000j</td>\n",
       "      <td>017_Right</td>\n",
       "      <td>3</td>\n",
       "      <td>0.242557</td>\n",
       "      <td>5.0</td>\n",
       "      <td>0.920316</td>\n",
       "      <td>1</td>\n",
       "    </tr>\n",
       "    <tr>\n",
       "      <th>3</th>\n",
       "      <td>1B</td>\n",
       "      <td>2.0+0.0j</td>\n",
       "      <td>-0.325000+0.562917j</td>\n",
       "      <td>017_Right</td>\n",
       "      <td>3</td>\n",
       "      <td>0.235433</td>\n",
       "      <td>7.0</td>\n",
       "      <td>0.893283</td>\n",
       "      <td>1</td>\n",
       "    </tr>\n",
       "    <tr>\n",
       "      <th>4</th>\n",
       "      <td>1C</td>\n",
       "      <td>2.0+0.0j</td>\n",
       "      <td>-0.325000-0.562917j</td>\n",
       "      <td>017_Right</td>\n",
       "      <td>3</td>\n",
       "      <td>0.238925</td>\n",
       "      <td>6.0</td>\n",
       "      <td>0.906535</td>\n",
       "      <td>1</td>\n",
       "    </tr>\n",
       "  </tbody>\n",
       "</table>\n",
       "</div>"
      ],
      "text/plain": [
       "  contact   coord_z            coord_xy subject_hemisphere  session  \\\n",
       "0       0  0.0+0.0j  0.000000+0.000000j          017_Right        3   \n",
       "1       3  6.0+0.0j  0.000000+0.000000j          017_Right        3   \n",
       "2      1A  2.0+0.0j  0.650000+0.000000j          017_Right        3   \n",
       "3      1B  2.0+0.0j -0.325000+0.562917j          017_Right        3   \n",
       "4      1C  2.0+0.0j -0.325000-0.562917j          017_Right        3   \n",
       "\n",
       "   averaged_monopolar_PSD_beta  Rank8contacts  relativePSD_to_beta_Rank1from8  \\\n",
       "0                     0.206574            8.0                        0.783786   \n",
       "1                     0.263559            1.0                        1.000000   \n",
       "2                     0.242557            5.0                        0.920316   \n",
       "3                     0.235433            7.0                        0.893283   \n",
       "4                     0.238925            6.0                        0.906535   \n",
       "\n",
       "   contact_level  \n",
       "0              0  \n",
       "1              3  \n",
       "2              1  \n",
       "3              1  \n",
       "4              1  "
      ]
     },
     "execution_count": 15,
     "metadata": {},
     "output_type": "execute_result"
    }
   ],
   "source": [
    "weightedByCoordinate_Dataframe_copy.head()"
   ]
  },
  {
   "cell_type": "code",
   "execution_count": null,
   "metadata": {},
   "outputs": [],
   "source": []
  }
 ],
 "metadata": {
  "kernelspec": {
   "display_name": "bssu",
   "language": "python",
   "name": "python3"
  },
  "language_info": {
   "codemirror_mode": {
    "name": "ipython",
    "version": 3
   },
   "file_extension": ".py",
   "mimetype": "text/x-python",
   "name": "python",
   "nbconvert_exporter": "python",
   "pygments_lexer": "ipython3",
   "version": "3.10.10"
  },
  "orig_nbformat": 4
 },
 "nbformat": 4,
 "nbformat_minor": 2
}
