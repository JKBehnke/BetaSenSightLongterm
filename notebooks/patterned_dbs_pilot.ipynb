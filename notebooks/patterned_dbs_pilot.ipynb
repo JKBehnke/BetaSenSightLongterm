{
 "cells": [
  {
   "attachments": {},
   "cell_type": "markdown",
   "metadata": {},
   "source": [
    "# Patterned DBS Pilot"
   ]
  },
  {
   "cell_type": "code",
   "execution_count": 6,
   "metadata": {},
   "outputs": [],
   "source": [
    "import plotly\n",
    "import plotly.graph_objs as go\n",
    "\n",
    "# Importing Python and external packages\n",
    "\n",
    "\n",
    "import os\n",
    "import sys\n",
    "import importlib\n",
    "from importlib import reload \n",
    "from dataclasses import dataclass, field, fields\n",
    "from itertools import compress\n",
    "import pandas as pd\n",
    "import numpy as np\n",
    "import matplotlib.pyplot as plt\n",
    "from cycler import cycler\n",
    "\n",
    "import scipy\n",
    "from scipy import stats\n",
    "from scipy import signal\n",
    "from scipy.signal import spectrogram, hann, butter, filtfilt, freqz\n",
    "\n",
    "import seaborn as sns\n",
    "import pingouin as pg\n",
    "from itertools import combinations\n",
    "from statannotations.Annotator import Annotator\n",
    "\n",
    "import openpyxl\n",
    "from openpyxl import Workbook, load_workbook\n",
    "# import xlrd\n",
    "import pickle\n",
    "import json\n",
    "import csv\n",
    "import h5py\n",
    "import fooof\n",
    "from fooof.plts.spectra import plot_spectrum\n",
    "\n",
    "#mne\n",
    "from pathlib import Path\n",
    "import mne_bids\n",
    "from mne_bids import (\n",
    "    BIDSPath,\n",
    "    inspect_dataset,\n",
    "    mark_channels)\n",
    "import mne\n",
    "from mne.time_frequency import tfr_morlet \n",
    "\n"
   ]
  },
  {
   "cell_type": "code",
   "execution_count": 7,
   "metadata": {},
   "outputs": [
    {
     "name": "stdout",
     "output_type": "stream",
     "text": [
      "Excel file loaded:  patient_metadata.xlsx \n",
      "loaded from:  /Users/jenniferbehnke/Dropbox/work/ResearchProjects/Monopolar_power_estimation/data\n"
     ]
    },
    {
     "data": {
      "text/plain": [
       "<module 'src.bssu.monopolar.monoRef_Strelow' from '/Users/jenniferbehnke/code/BetaSenSightLongterm/BetaSenSightLongterm/src/bssu/monopolar/monoRef_Strelow.py'>"
      ]
     },
     "execution_count": 7,
     "metadata": {},
     "output_type": "execute_result"
    }
   ],
   "source": [
    "jennifer_user_path = os.getcwd()\n",
    "while jennifer_user_path[-14:] != 'jenniferbehnke':\n",
    "    jennifer_user_path = os.path.dirname(jennifer_user_path)\n",
    "\n",
    "# directory to this Repository\n",
    "project_path = os.path.join(jennifer_user_path, 'code', 'BetaSenSightLongterm', 'BetaSenSightLongterm')\n",
    "sys.path.append(project_path)\n",
    "\n",
    "os.chdir(project_path)\n",
    "\n",
    "import src.bssu.utils.find_folders as find_folders\n",
    "importlib.reload(find_folders)\n",
    "\n",
    "# import PyPerceive\n",
    "\n",
    "project_path = find_folders.chdir_repository(\"Py_Perceive\")\n",
    "\n",
    "from PerceiveImport.classes import (\n",
    "    main_class, modality_class, metadata_class,\n",
    "    session_class, condition_class, task_class,\n",
    "    contact_class, run_class\n",
    ")\n",
    "\n",
    "import PerceiveImport.methods.load_rawfile as load_rawfile\n",
    "import PerceiveImport.methods.find_folders as PyPerceive_find_folders\n",
    "import PerceiveImport.methods.metadata_helpers as metaHelpers\n",
    "\n",
    "# import meet\n",
    "\n",
    "project_path = find_folders.chdir_repository(\"meet\")\n",
    "\n",
    "import meet as meet\n",
    "\n",
    "# import all functions from BetaSenSightLongterm\n",
    "project_path = find_folders.chdir_repository(\"BetaSenSightLongterm\")\n",
    "\n",
    "# tfr, processing\n",
    "import src.bssu.tfr.BSSuPsd as BSSuPsd\n",
    "import src.bssu.tfr.FastFourierPSD as FFpsd\n",
    "\n",
    "# bipolar Channel Analysis\n",
    "import src.bssu.bipolar.power_spectra_plots as power_spectra_plots\n",
    "import src.bssu.bipolar.PeakFrequencies_PSD as PeakFrequency_psd\n",
    "import src.bssu.bipolar.BIP_channelGroups as BIP_channelGroups\n",
    "import src.bssu.bipolar.BIP_perChannelAnalysis as BIP_perChannel\n",
    "\n",
    "\n",
    "# monopolar Referencing\n",
    "import src.bssu.monopolar.MonoRef_JLB as MonoRefJLB\n",
    "import src.bssu.monopolar.GroupMonopolarPSD as groupMonopol\n",
    "import src.bssu.monopolar.monoRef_weightPsdAverageByCoordinateDistance as MonoRefWeightedCoordinateDistance\n",
    "import src.bssu.monopolar.externalized_lfp as externalized\n",
    "import src.bssu.monopolar.monopol_method_comparison as monopol_comparison\n",
    "import src.bssu.monopolar.bssu_contacts_maximal_beta as bssu_contacts\n",
    "import src.bssu.monopolar.monoRef_Strelow as detec_strelow\n",
    "\n",
    "# Ranking Order\n",
    "import src.bssu.ranking.HighestRankedChannelPSD as highestRank\n",
    "import src.bssu.ranking.monopolPSDaverage_withinSubject as PSDaverageMonopol\n",
    "import src.bssu.ranking.BIPchannelGroups_ranks as BIP_ranks\n",
    "import src.bssu.ranking.Permutation_rankings as Permute_ranks\n",
    "\n",
    "\n",
    "# Clinical stimulation parameters\n",
    "import src.bssu.stimulation.activeStimulationContacts as activeStimContacts\n",
    "\n",
    "# utility functions\n",
    "import src.bssu.utils.loadResults as loadResults\n",
    "import src.bssu.utils.find_folders as find_folders\n",
    "import src.bssu.utils.writeGroupDataframes as writeGroupDF\n",
    "import src.bssu.utils.load_data_files as load_data\n",
    "import src.bssu.utils.monopol_comparison_helpers as mono_comp_helpers\n",
    "\n",
    "# import Classes\n",
    "from src.bssu.classes import (metadataAnalysis_class, mainAnalysis_class, sessionAnalysis_class, \n",
    "                              channelAnalysis_class, featureAnalysis_class, frequencyBand_class)\n",
    "\n",
    "# import mni coordinates\n",
    "import src.bssu.mni.load_rotated_coordinates as load_mni\n",
    "\n",
    "\n",
    "importlib.reload(BSSuPsd)\n",
    "importlib.reload(MonoRefJLB)\n",
    "importlib.reload(loadResults)\n",
    "importlib.reload(highestRank)\n",
    "importlib.reload(groupMonopol)\n",
    "importlib.reload(PSDaverageMonopol)\n",
    "importlib.reload(FFpsd)\n",
    "importlib.reload(find_folders)\n",
    "importlib.reload(metadataAnalysis_class)\n",
    "importlib.reload(mainAnalysis_class)\n",
    "importlib.reload(sessionAnalysis_class)\n",
    "importlib.reload(channelAnalysis_class)\n",
    "importlib.reload(featureAnalysis_class)\n",
    "importlib.reload(frequencyBand_class)\n",
    "importlib.reload(PeakFrequency_psd)\n",
    "importlib.reload(power_spectra_plots)\n",
    "importlib.reload(BIP_channelGroups)\n",
    "importlib.reload(BIP_ranks)\n",
    "importlib.reload(activeStimContacts)\n",
    "importlib.reload(Permute_ranks)\n",
    "importlib.reload(BIP_perChannel)\n",
    "importlib.reload(load_mni)\n",
    "importlib.reload(writeGroupDF)\n",
    "importlib.reload(MonoRefWeightedCoordinateDistance)\n",
    "importlib.reload(load_data)\n",
    "importlib.reload(externalized)\n",
    "importlib.reload(monopol_comparison)\n",
    "importlib.reload(bssu_contacts)\n",
    "importlib.reload(mono_comp_helpers)\n",
    "importlib.reload(detec_strelow)"
   ]
  },
  {
   "cell_type": "code",
   "execution_count": 4,
   "metadata": {},
   "outputs": [],
   "source": [
    "# load if you want to see complete Dataframes\n",
    "pd.set_option(\"display.max_rows\", None)"
   ]
  },
  {
   "cell_type": "code",
   "execution_count": 5,
   "metadata": {},
   "outputs": [],
   "source": [
    "%matplotlib widget"
   ]
  },
  {
   "attachments": {},
   "cell_type": "markdown",
   "metadata": {},
   "source": [
    "Find folder to patterned Stim project"
   ]
  },
  {
   "cell_type": "code",
   "execution_count": 15,
   "metadata": {},
   "outputs": [
    {
     "data": {
      "text/plain": [
       "'/Users/jenniferbehnke/Dropbox/work/ResearchProjects/Patterned_stimulation_project/data/sub-075'"
      ]
     },
     "execution_count": 15,
     "metadata": {},
     "output_type": "execute_result"
    }
   ],
   "source": [
    "folder_path = find_folders.get_patterned_dbs_project_path(folder=\"sub_data\", sub=\"075\")\n",
    "folder_path"
   ]
  },
  {
   "cell_type": "code",
   "execution_count": null,
   "metadata": {},
   "outputs": [],
   "source": [
    "hemisphere = \"Right\"\n",
    "incl_contact = {}\n",
    "if hemisphere == \"Right\":\n",
    "    incl_contact[\"Right\"] = [\"RingR\", \"SegmIntraR\", \"SegmInterR\"]\n",
    "\n",
    "elif hemisphere == \"Left\":\n",
    "    incl_contact[\"Left\"] = [\"RingL\", \"SegmIntraL\", \"SegmInterL\"]\n"
   ]
  },
  {
   "cell_type": "code",
   "execution_count": 8,
   "metadata": {},
   "outputs": [
    {
     "name": "stdout",
     "output_type": "stream",
     "text": [
      "add run 1\n",
      "add run 2\n"
     ]
    }
   ],
   "source": [
    "mainclass_sub = main_class.PerceiveData(\n",
    "    sub = \"075\", \n",
    "    incl_modalities= [\"streaming\"],\n",
    "    incl_session = [\"fu3m\"],\n",
    "    incl_condition = [\"m0s1\"],\n",
    "    incl_task = [\"rest\"],\n",
    "    import_json = True,\n",
    "    # warn_for_metaNaNs = True,\n",
    "    # allow_NaNs_in_metadata = True,\n",
    ")"
   ]
  },
  {
   "cell_type": "code",
   "execution_count": 9,
   "metadata": {},
   "outputs": [],
   "source": [
    "sub075_JSON = mainclass_sub.streaming.fu3m.m0s1.rest.run2.json"
   ]
  },
  {
   "cell_type": "code",
   "execution_count": 10,
   "metadata": {},
   "outputs": [
    {
     "name": "stdout",
     "output_type": "stream",
     "text": [
      "Creating RawArray with float64 data, n_channels=1, n_times=30437\n",
      "    Range : 0 ... 30436 =      0.000 ...   121.744 secs\n",
      "Ready.\n"
     ]
    }
   ],
   "source": [
    "# BrainSenseTimeDomain length: 24\n",
    "# BrainSenseTimeDomain[0] keys: \"TimeDomainData\", \"Channel\", \"Gain\"\n",
    "\n",
    "TimeDomainData = sub075_JSON[\"BrainSenseTimeDomain\"][0][\"TimeDomainData\"]\n",
    "channel = sub075_JSON[\"BrainSenseTimeDomain\"][0][\"Channel\"] # 'ZERO_TWO_RIGHT'\n",
    "\n",
    "units = [\"µVolt\"]\n",
    "scale = np.array([1e-6 if u == \"µVolt\" else 1 for u in units])\n",
    "\n",
    "info = mne.create_info(ch_names=[channel], sfreq=250, ch_types=\"dbs\")\n",
    "raw = mne.io.RawArray(TimeDomainData * np.expand_dims(scale, axis=1), info)\n",
    "\n"
   ]
  },
  {
   "cell_type": "code",
   "execution_count": 22,
   "metadata": {},
   "outputs": [],
   "source": [
    "dataframe = raw.to_data_frame()"
   ]
  },
  {
   "cell_type": "code",
   "execution_count": 23,
   "metadata": {},
   "outputs": [
    {
     "data": {
      "text/html": [
       "<div>\n",
       "<style scoped>\n",
       "    .dataframe tbody tr th:only-of-type {\n",
       "        vertical-align: middle;\n",
       "    }\n",
       "\n",
       "    .dataframe tbody tr th {\n",
       "        vertical-align: top;\n",
       "    }\n",
       "\n",
       "    .dataframe thead th {\n",
       "        text-align: right;\n",
       "    }\n",
       "</style>\n",
       "<table border=\"1\" class=\"dataframe\">\n",
       "  <thead>\n",
       "    <tr style=\"text-align: right;\">\n",
       "      <th></th>\n",
       "      <th>time</th>\n",
       "      <th>ZERO_TWO_LEFT</th>\n",
       "    </tr>\n",
       "  </thead>\n",
       "  <tbody>\n",
       "    <tr>\n",
       "      <th>0</th>\n",
       "      <td>0.000</td>\n",
       "      <td>14.118020</td>\n",
       "    </tr>\n",
       "    <tr>\n",
       "      <th>1</th>\n",
       "      <td>0.004</td>\n",
       "      <td>9.677675</td>\n",
       "    </tr>\n",
       "    <tr>\n",
       "      <th>2</th>\n",
       "      <td>0.008</td>\n",
       "      <td>0.341565</td>\n",
       "    </tr>\n",
       "    <tr>\n",
       "      <th>3</th>\n",
       "      <td>0.012</td>\n",
       "      <td>-10.930080</td>\n",
       "    </tr>\n",
       "    <tr>\n",
       "      <th>4</th>\n",
       "      <td>0.016</td>\n",
       "      <td>-14.459585</td>\n",
       "    </tr>\n",
       "  </tbody>\n",
       "</table>\n",
       "</div>"
      ],
      "text/plain": [
       "    time  ZERO_TWO_LEFT\n",
       "0  0.000      14.118020\n",
       "1  0.004       9.677675\n",
       "2  0.008       0.341565\n",
       "3  0.012     -10.930080\n",
       "4  0.016     -14.459585"
      ]
     },
     "execution_count": 23,
     "metadata": {},
     "output_type": "execute_result"
    }
   ],
   "source": [
    "dataframe.head()"
   ]
  },
  {
   "cell_type": "code",
   "execution_count": null,
   "metadata": {},
   "outputs": [],
   "source": []
  }
 ],
 "metadata": {
  "kernelspec": {
   "display_name": "bssu",
   "language": "python",
   "name": "python3"
  },
  "language_info": {
   "codemirror_mode": {
    "name": "ipython",
    "version": 3
   },
   "file_extension": ".py",
   "mimetype": "text/x-python",
   "name": "python",
   "nbconvert_exporter": "python",
   "pygments_lexer": "ipython3",
   "version": "3.11.3"
  },
  "orig_nbformat": 4
 },
 "nbformat": 4,
 "nbformat_minor": 2
}
