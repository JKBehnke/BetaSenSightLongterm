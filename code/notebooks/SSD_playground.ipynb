{
 "cells": [
  {
   "attachments": {},
   "cell_type": "markdown",
   "metadata": {},
   "source": [
    "# SSD "
   ]
  },
  {
   "attachments": {},
   "cell_type": "markdown",
   "metadata": {},
   "source": [
    "## 0. Loading packages"
   ]
  },
  {
   "cell_type": "code",
   "execution_count": 1,
   "metadata": {},
   "outputs": [],
   "source": [
    "# Importing Python and external packages\n",
    "\n",
    "\n",
    "import os\n",
    "import sys\n",
    "import importlib\n",
    "from importlib import reload \n",
    "from dataclasses import dataclass, field, fields\n",
    "from itertools import compress\n",
    "import pandas as pd\n",
    "import numpy as np\n",
    "import matplotlib.pyplot as plt\n",
    "from cycler import cycler\n",
    "\n",
    "import scipy\n",
    "import scipy.io as sio\n",
    "from scipy import signal\n",
    "from scipy.signal import spectrogram, hann, butter, filtfilt, freqz\n",
    "\n",
    "import seaborn as sns\n",
    "import pingouin as pg\n",
    "from itertools import combinations\n",
    "from statannotations.Annotator import Annotator\n",
    "\n",
    "import openpyxl\n",
    "from openpyxl import Workbook, load_workbook\n",
    "import xlrd\n",
    "import pickle\n",
    "import json\n",
    "import csv\n",
    "\n",
    "#mne\n",
    "import mne_bids\n",
    "import mne\n",
    "from mne.time_frequency import tfr_morlet \n",
    "\n",
    "\n",
    "# TODO: add README file: \n",
    "# pip install pingouin\n",
    "# pip install statannotations\n",
    "         \n"
   ]
  },
  {
   "attachments": {},
   "cell_type": "markdown",
   "metadata": {},
   "source": [
    "Set Path to load PyPerceive"
   ]
  },
  {
   "cell_type": "code",
   "execution_count": 2,
   "metadata": {},
   "outputs": [
    {
     "data": {
      "text/plain": [
       "'c:\\\\Users\\\\jebe12\\\\Research\\\\PyPerceive_Project\\\\Code\\\\PyPerceive\\\\code'"
      ]
     },
     "execution_count": 2,
     "metadata": {},
     "output_type": "execute_result"
    }
   ],
   "source": [
    "#######################     USE THIS DIRECTORY FOR IMPORTING PYPERCEIVE REPO  #######################\n",
    "\n",
    "# create a path to the BetaSenSightLongterm folder \n",
    "# and a path to the code folder within the BetaSenSightLongterm Repo\n",
    "BetaSenSightLongterm_path = os.getcwd()\n",
    "while BetaSenSightLongterm_path[-8:] != 'Research':\n",
    "    BetaSenSightLongterm_path = os.path.dirname(BetaSenSightLongterm_path)\n",
    "\n",
    "# directory to PyPerceive code folder\n",
    "PyPerceive_path = os.path.join(BetaSenSightLongterm_path,'PyPerceive_Project', 'Code', 'PyPerceive', 'code')\n",
    "sys.path.append(PyPerceive_path)\n",
    "\n",
    "# # change directory to PyPerceive code path within BetaSenSightLongterm Repo\n",
    "os.chdir(PyPerceive_path)\n",
    "os.getcwd()"
   ]
  },
  {
   "attachments": {},
   "cell_type": "markdown",
   "metadata": {},
   "source": [
    "Load PyPerceive"
   ]
  },
  {
   "cell_type": "code",
   "execution_count": 3,
   "metadata": {},
   "outputs": [
    {
     "data": {
      "text/plain": [
       "<module 'PerceiveImport.methods.metadata_helpers' from 'c:\\\\Users\\\\jebe12\\\\Research\\\\PyPerceive_Project\\\\Code\\\\PyPerceive\\\\code\\\\PerceiveImport\\\\methods\\\\metadata_helpers.py'>"
      ]
     },
     "execution_count": 3,
     "metadata": {},
     "output_type": "execute_result"
    }
   ],
   "source": [
    "from PerceiveImport.classes import (\n",
    "    main_class, modality_class, metadata_class,\n",
    "    session_class, condition_class, task_class,\n",
    "    contact_class, run_class\n",
    ")\n",
    "import PerceiveImport.methods.load_rawfile as load_rawfile\n",
    "import PerceiveImport.methods.find_folders as find_folders\n",
    "import PerceiveImport.methods.metadata_helpers as metaHelpers\n",
    "\n",
    "\n",
    "importlib.reload(main_class)\n",
    "importlib.reload(session_class)\n",
    "importlib.reload(task_class)\n",
    "importlib.reload(condition_class)\n",
    "importlib.reload(contact_class)\n",
    "importlib.reload(metadata_class)\n",
    "importlib.reload(modality_class)\n",
    "importlib.reload(load_rawfile)\n",
    "importlib.reload(find_folders)\n",
    "importlib.reload(run_class)\n",
    "importlib.reload(metaHelpers)"
   ]
  },
  {
   "attachments": {},
   "cell_type": "markdown",
   "metadata": {},
   "source": [
    "Set Path back to BetaSenSightLongterm Repo"
   ]
  },
  {
   "cell_type": "code",
   "execution_count": 4,
   "metadata": {},
   "outputs": [
    {
     "data": {
      "text/plain": [
       "'c:\\\\Users\\\\jebe12\\\\Research\\\\Longterm_beta_project\\\\Code\\\\BetaSenSightLongterm\\\\code'"
      ]
     },
     "execution_count": 4,
     "metadata": {},
     "output_type": "execute_result"
    }
   ],
   "source": [
    "#######################     USE THIS DIRECTORY FOR WORKING WITH FOLDERS INSIDE OF CODE FOLDER OF BETASENSIGHTLONGTERM REPO  #######################\n",
    "\n",
    "\n",
    "# create a path to the BetaSenSightLongterm folder \n",
    "# and a path to the code folder within the BetaSenSightLongterm Repo\n",
    "current_path = os.getcwd()\n",
    "while current_path[-8:] != 'Research':\n",
    "    current_path = os.path.dirname(current_path)\n",
    "\n",
    "# directory to code folder\n",
    "code_path = os.path.join(current_path, 'Longterm_beta_project','Code', 'BetaSenSightLongterm', 'code')\n",
    "sys.path.append(code_path)\n",
    "\n",
    "# # change directory to code path within BetaSenSightLongterm Repo\n",
    "os.chdir(code_path)\n",
    "os.getcwd()"
   ]
  },
  {
   "attachments": {},
   "cell_type": "markdown",
   "metadata": {},
   "source": [
    "Load analysis functions"
   ]
  },
  {
   "cell_type": "code",
   "execution_count": 5,
   "metadata": {},
   "outputs": [
    {
     "data": {
      "text/plain": [
       "<module 'analysis.utils.writeGroupDataframes' from 'c:\\\\Users\\\\jebe12\\\\Research\\\\Longterm_beta_project\\\\Code\\\\BetaSenSightLongterm\\\\code\\\\analysis\\\\utils\\\\writeGroupDataframes.py'>"
      ]
     },
     "execution_count": 5,
     "metadata": {},
     "output_type": "execute_result"
    }
   ],
   "source": [
    "\n",
    "# Processing\n",
    "import analysis.BSSu_processing.BSSuPsd as BSSuPsd\n",
    "import analysis.BSSu_processing.FastFourierPSD as FFpsd\n",
    "\n",
    "# bipolar Channel Analysis\n",
    "import analysis.BSSu_BIPanalyis.PowerSpectra_withinChannels_Plot as PowerSpectraChannels\n",
    "import analysis.BSSu_BIPanalyis.PeakFrequencies_PSD as PeakFrequency_psd\n",
    "import analysis.BSSu_BIPanalyis.BIP_channelGroups as BIP_channelGroups\n",
    "import analysis.BSSu_BIPanalyis.BIP_perChannelAnalysis as BIP_perChannel\n",
    "\n",
    "\n",
    "# monopolar Referencing\n",
    "import analysis.BSSu_monopolarReferencing.MonoRef_JLB as MonoRefJLB\n",
    "import analysis.BSSu_monopolarReferencing.GroupMonopolarPSD as groupMonopol\n",
    "\n",
    "# Ranking Order\n",
    "import analysis.BSSu_RankingOrder.HighestRankedChannelPSD as highestRank\n",
    "import analysis.BSSu_RankingOrder.monopolPSDaverage_withinSubject as PSDaverageMonopol\n",
    "import analysis.BSSu_RankingOrder.BIPchannelGroups_ranks as BIP_ranks\n",
    "import analysis.BSSu_RankingOrder.Permutation_rankings as Permute_ranks\n",
    "\n",
    "\n",
    "# Clinical stimulation parameters\n",
    "import analysis.ClinicalStimulation.activeStimulationContacts as activeStimContacts\n",
    "\n",
    "# utility functions\n",
    "import analysis.utils.loadResults as loadResults\n",
    "import analysis.utils.find_folders as find_folders\n",
    "import analysis.utils.writeGroupDataframes as writeGroupDF\n",
    "\n",
    "# import Classes\n",
    "from analysis.classes import (metadataAnalysis_class, mainAnalysis_class, sessionAnalysis_class, \n",
    "                              channelAnalysis_class, featureAnalysis_class, frequencyBand_class)\n",
    "\n",
    "# import mni coordinates\n",
    "import analysis.MNI_coordinates.load_rotated_coordinates as load_mni\n",
    "\n",
    "\n",
    "importlib.reload(BSSuPsd)\n",
    "importlib.reload(MonoRefJLB)\n",
    "importlib.reload(loadResults)\n",
    "importlib.reload(highestRank)\n",
    "importlib.reload(groupMonopol)\n",
    "importlib.reload(PSDaverageMonopol)\n",
    "importlib.reload(FFpsd)\n",
    "importlib.reload(find_folders)\n",
    "importlib.reload(metadataAnalysis_class)\n",
    "importlib.reload(mainAnalysis_class)\n",
    "importlib.reload(sessionAnalysis_class)\n",
    "importlib.reload(channelAnalysis_class)\n",
    "importlib.reload(featureAnalysis_class)\n",
    "importlib.reload(frequencyBand_class)\n",
    "importlib.reload(PeakFrequency_psd)\n",
    "importlib.reload(PowerSpectraChannels)\n",
    "importlib.reload(BIP_channelGroups)\n",
    "importlib.reload(BIP_ranks)\n",
    "importlib.reload(activeStimContacts)\n",
    "importlib.reload(Permute_ranks)\n",
    "importlib.reload(BIP_perChannel)\n",
    "importlib.reload(load_mni)\n",
    "importlib.reload(writeGroupDF)\n"
   ]
  },
  {
   "cell_type": "code",
   "execution_count": 6,
   "metadata": {},
   "outputs": [
    {
     "name": "stderr",
     "output_type": "stream",
     "text": [
      "c:\\Users\\jebe12\\anaconda3\\envs\\pyPerceive_dev\\lib\\site-packages\\outdated\\utils.py:14: OutdatedCheckFailedWarning: Failed to check for latest version of package.\n",
      "Set the environment variable OUTDATED_RAISE_EXCEPTION=1 for a full traceback.\n",
      "Set the environment variable OUTDATED_IGNORE=1 to disable these warnings.\n",
      "  return warn(\n"
     ]
    }
   ],
   "source": [
    "# load if you want to see complete Dataframes\n",
    "pd.set_option(\"display.max_rows\", None)"
   ]
  },
  {
   "attachments": {},
   "cell_type": "markdown",
   "metadata": {},
   "source": [
    "## 1. Load Example PyPerceive loaded BSSu (Time Domain)"
   ]
  },
  {
   "cell_type": "code",
   "execution_count": 7,
   "metadata": {},
   "outputs": [
    {
     "name": "stdout",
     "output_type": "stream",
     "text": [
      "\n",
      "\t### WARNING: NaNs in Metadata Table sub-029 ###\n",
      "NaNs in: sub029_ses-2021121307400597_run-BrainSense20211213081800.mat\n",
      "NaNs in: sub029_ses-2021121307400597_run-BrainSense20211213085200.mat\n",
      "NaNs in: sub029_ses-2021121307400597_run-BrainSense20211213091300.mat\n",
      "NaNs in: sub029_ses-2021121307400597_run-BrainSense20211213093000.mat\n",
      "NaNs in: sub029_ses-2021121307400597_run-BrainSense20211213094800.mat\n",
      "NaNs in: sub029_ses-2021121310283697_run-BrainSense20211213103800.mat\n",
      "NaNs in: sub029_ses-2021121310283697_run-BrainSense20211213105100.mat\n",
      "NaNs in: sub029_ses-2021121310283697_run-BrainSense20211213111500.mat\n",
      "NaNs in: sub029_ses-2021121310283697_run-BrainSense20211213113400.mat\n",
      "NaNs in: sub029_ses-2021121310283697_run-BrainSense20211213115400.mat\n",
      "NaNs in: sub-20210924PStn_ses-2021092907581699_run-BrainSense20210929080700.mat\n",
      "NaNs in: sub-20210924PStn_ses-2021092907581699_run-BrainSense20210929081000.mat\n",
      "NaNs in: sub-20210924PStn_ses-2021092907581699_run-BrainSense20210929081300.mat\n",
      "NaNs in: sub-029_ses-2021121301251797_run-BSTD20211213013800.mat\n",
      "NaNs in: sub-029_ses-2021121301251797_run-BSTD20211213014800.mat\n",
      "NaNs in: sub-029_ses-2021121301251797_run-BSTD20211213020100.mat\n",
      "NaNs in: sub-029_ses-2021121301251797_run-BSTD20211213021400.mat\n",
      "NaNs in: sub-029_ses-2021121301251797_run-BSTD20211213022500.mat\n",
      "NaNs in: sub-029_ses-1956012911000097_run-BSTD20211213025900.mat\n",
      "NaNs in: sub-029_ses-1956012911000097_run-BSTD20211213031500.mat\n",
      "NaNs in: sub-029_ses-1956012911000097_run-BSTD20211213032600.mat\n",
      "NaNs in: sub-029_ses-1956012911000097_run-BSTD20211213033800.mat\n",
      "NaNs in: sub-029_ses-1956012911000097_run-BSTD20211213035200.mat\n",
      "NaNs in: sub-20210924PStn_ses-2022093006595687_run-BrainSense20220930072300.mat\n",
      "NaNs in: sub-20210924PStn_ses-2022093006595687_run-BrainSense20220930073000.mat\n",
      "NaNs in: sub-20210924PStn_ses-2022093006595687_run-BrainSense20220930074500.mat\n",
      "NaNs in: sub-20210924PStn_ses-2022093006595687_run-BrainSense20220930074900.mat\n",
      "NaNs in: sub-20210924PStn_ses-2022093006595687_run-BrainSense20220930080000.mat\n",
      "NaNs in: sub-20210924PStn_ses-2022093006595687_run-BrainSense20220930080200.mat\n",
      "NaNs in: sub-20210924PStn_ses-2022100411352887_run-BrainSense20221004115500.mat\n",
      "NaNs in: sub-20210924PStn_ses-2022100411352887_run-BrainSense20221004121800.mat\n",
      "NaNs in: sub-20210924PStn_ses-2022100411352887_run-BrainSense20221004122500.mat\n",
      "NaNs in: sub-20210924PStn_ses-2022100411352887_run-BrainSense20221004123100.mat\n",
      "NaNs in: sub-20210924PStn_ses-2022100411352887_run-BrainSense20221004123200.mat\n",
      "NaNs in: sub-20210924PStn_ses-2022100411352887_run-BrainSense20221004123500.mat\n",
      "NaNs in: sub-20210924PStn_ses-2022100411352887_run-BrainSense20221004123900.mat\n",
      "NaNs in: sub-20210924PStn_ses-2022100412424987_run-BrainSense20221004010000.mat\n",
      "NaNs in: sub-20210924PStn_ses-2022100412424987_run-BrainSense20221004011400.mat\n",
      "NaNs in: sub-20210924PStn_ses-2022100412424987_run-BrainSense20221004011800.mat\n",
      "NaNs in: sub-20210924PStn_ses-2022100412424987_run-BrainSense20221004012200.mat\n",
      "NaNs in: sub-20210924PStn_ses-2022100412424987_run-BrainSense20221004012400.mat\n",
      "NaNs in: sub-20210924PStn_ses-2022100412424987_run-BrainSense20221004012600.mat\n",
      "NaNs in: sub-20210924PStn_ses-2022100412424987_run-BrainSense20221004013100.mat\n",
      "NaNs in: sub-20210924PStn_ses-2022100412424987_run-BrainSense20221004125900.mat\n",
      "NaNs in: sub-20210924PStn_ses-2023020808345883_run-BrainSense20230208091500.mat\n",
      "NaNs in: sub-20210924PStn_ses-2023020808345883_run-BrainSense20230208092200.mat\n",
      "NaNs in: sub-20210924PStn_ses-2023020808345883_run-BrainSense20230208101100.mat\n",
      "NaNs in: sub-20210924PStn_ses-2023020808345883_run-BrainSense20230208102200.mat\n",
      "NaNs in: sub-20210924PStn_ses-2023020808345883_run-IS20230208091000.mat\n",
      "NaNs in: sub-20210924PStn_ses-2023020811255682_run-BrainSense20230208114500.mat\n",
      "NaNs in: sub-20210924PStn_ses-2023020811255682_run-BrainSense20230208115300.mat\n",
      "NaNs in: sub-20210924PStn_ses-2023020811255682_run-BrainSense20230208120800.mat\n",
      "NaNs in: sub-20210924PStn_ses-2023020811255682_run-BrainSense20230208121200.mat\n",
      "NaNs in: sub-20210924PStn_ses-2023020811255682_run-IS20230208114100.mat\n",
      "Creating RawArray with float64 data, n_channels=6, n_times=5288\n",
      "    Range : 0 ... 5287 =      0.000 ...    21.148 secs\n",
      "Ready.\n",
      "Creating RawArray with float64 data, n_channels=3, n_times=5313\n",
      "    Range : 0 ... 5312 =      0.000 ...    21.248 secs\n",
      "Ready.\n",
      "Creating RawArray with float64 data, n_channels=6, n_times=5288\n",
      "    Range : 0 ... 5287 =      0.000 ...    21.148 secs\n",
      "Ready.\n",
      "Creating RawArray with float64 data, n_channels=6, n_times=5288\n",
      "    Range : 0 ... 5287 =      0.000 ...    21.148 secs\n",
      "Ready.\n",
      "Creating RawArray with float64 data, n_channels=3, n_times=5313\n",
      "    Range : 0 ... 5312 =      0.000 ...    21.248 secs\n",
      "Ready.\n",
      "Creating RawArray with float64 data, n_channels=6, n_times=5288\n",
      "    Range : 0 ... 5287 =      0.000 ...    21.148 secs\n",
      "Ready.\n",
      "Creating RawArray with float64 data, n_channels=6, n_times=5288\n",
      "    Range : 0 ... 5287 =      0.000 ...    21.148 secs\n",
      "Ready.\n",
      "Creating RawArray with float64 data, n_channels=3, n_times=5312\n",
      "    Range : 0 ... 5311 =      0.000 ...    21.244 secs\n",
      "Ready.\n",
      "Creating RawArray with float64 data, n_channels=6, n_times=5288\n",
      "    Range : 0 ... 5287 =      0.000 ...    21.148 secs\n",
      "Ready.\n",
      "Creating RawArray with float64 data, n_channels=6, n_times=5288\n",
      "    Range : 0 ... 5287 =      0.000 ...    21.148 secs\n",
      "Ready.\n",
      "Creating RawArray with float64 data, n_channels=3, n_times=5312\n",
      "    Range : 0 ... 5311 =      0.000 ...    21.244 secs\n",
      "Ready.\n",
      "Creating RawArray with float64 data, n_channels=6, n_times=5288\n",
      "    Range : 0 ... 5287 =      0.000 ...    21.148 secs\n",
      "Ready.\n",
      "Creating RawArray with float64 data, n_channels=6, n_times=5288\n",
      "    Range : 0 ... 5287 =      0.000 ...    21.148 secs\n",
      "Ready.\n",
      "Creating RawArray with float64 data, n_channels=3, n_times=5312\n",
      "    Range : 0 ... 5311 =      0.000 ...    21.244 secs\n",
      "Ready.\n",
      "Creating RawArray with float64 data, n_channels=6, n_times=5288\n",
      "    Range : 0 ... 5287 =      0.000 ...    21.148 secs\n",
      "Ready.\n",
      "Creating RawArray with float64 data, n_channels=6, n_times=5288\n",
      "    Range : 0 ... 5287 =      0.000 ...    21.148 secs\n",
      "Ready.\n",
      "Creating RawArray with float64 data, n_channels=3, n_times=5188\n",
      "    Range : 0 ... 5187 =      0.000 ...    20.748 secs\n",
      "Ready.\n",
      "Creating RawArray with float64 data, n_channels=6, n_times=5288\n",
      "    Range : 0 ... 5287 =      0.000 ...    21.148 secs\n",
      "Ready.\n",
      "Creating RawArray with float64 data, n_channels=6, n_times=5288\n",
      "    Range : 0 ... 5287 =      0.000 ...    21.148 secs\n",
      "Ready.\n",
      "Creating RawArray with float64 data, n_channels=3, n_times=5312\n",
      "    Range : 0 ... 5311 =      0.000 ...    21.244 secs\n",
      "Ready.\n",
      "Creating RawArray with float64 data, n_channels=6, n_times=5288\n",
      "    Range : 0 ... 5287 =      0.000 ...    21.148 secs\n",
      "Ready.\n",
      "Creating RawArray with float64 data, n_channels=6, n_times=5288\n",
      "    Range : 0 ... 5287 =      0.000 ...    21.148 secs\n",
      "Ready.\n",
      "Creating RawArray with float64 data, n_channels=3, n_times=5188\n",
      "    Range : 0 ... 5187 =      0.000 ...    20.748 secs\n",
      "Ready.\n",
      "Creating RawArray with float64 data, n_channels=6, n_times=5288\n",
      "    Range : 0 ... 5287 =      0.000 ...    21.148 secs\n",
      "Ready.\n"
     ]
    }
   ],
   "source": [
    "example_data = main_class.PerceiveData(\n",
    "    sub = \"029\", \n",
    "    incl_modalities=[\"survey\"],\n",
    "    incl_session = [ \"postop\", \"fu3m\", \"fu12m\", \"fu18m\"],\n",
    "    incl_condition = [\"m0s0\"],\n",
    "    incl_contact=[\"RingR\", \"SegmInterR\", \"SegmIntraR\", \"RingL\", \"SegmInterL\", \"SegmIntraL\"],\n",
    "    incl_task = [\"rest\"]\n",
    ")\n"
   ]
  },
  {
   "cell_type": "code",
   "execution_count": 9,
   "metadata": {},
   "outputs": [
    {
     "ename": "AttributeError",
     "evalue": "'sessionClass' object has no attribute 'm0S0'",
     "output_type": "error",
     "traceback": [
      "\u001b[1;31m---------------------------------------------------------------------------\u001b[0m",
      "\u001b[1;31mAttributeError\u001b[0m                            Traceback (most recent call last)",
      "\u001b[1;32mc:\\Users\\jebe12\\Research\\Longterm_beta_project\\Code\\BetaSenSightLongterm\\code\\notebooks\\SSD_playground.ipynb Cell 15\u001b[0m in \u001b[0;36m<cell line: 1>\u001b[1;34m()\u001b[0m\n\u001b[1;32m----> <a href='vscode-notebook-cell:/c%3A/Users/jebe12/Research/Longterm_beta_project/Code/BetaSenSightLongterm/code/notebooks/SSD_playground.ipynb#X20sZmlsZQ%3D%3D?line=0'>1</a>\u001b[0m example_data\u001b[39m.\u001b[39;49msurvey\u001b[39m.\u001b[39;49mfu12m\u001b[39m.\u001b[39;49mm0S0\n",
      "\u001b[1;31mAttributeError\u001b[0m: 'sessionClass' object has no attribute 'm0S0'"
     ]
    }
   ],
   "source": [
    "example_data.survey.fu12m"
   ]
  },
  {
   "cell_type": "code",
   "execution_count": null,
   "metadata": {},
   "outputs": [],
   "source": []
  }
 ],
 "metadata": {
  "kernelspec": {
   "display_name": "pyPerceive_dev",
   "language": "python",
   "name": "python3"
  },
  "language_info": {
   "codemirror_mode": {
    "name": "ipython",
    "version": 3
   },
   "file_extension": ".py",
   "mimetype": "text/x-python",
   "name": "python",
   "nbconvert_exporter": "python",
   "pygments_lexer": "ipython3",
   "version": "3.10.6"
  },
  "orig_nbformat": 4
 },
 "nbformat": 4,
 "nbformat_minor": 2
}
